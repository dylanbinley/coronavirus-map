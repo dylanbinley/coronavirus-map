{
 "cells": [
  {
   "cell_type": "code",
   "execution_count": 1,
   "metadata": {
    "execution": {
     "iopub.execute_input": "2021-01-13T03:28:14.383806Z",
     "iopub.status.busy": "2021-01-13T03:28:14.383565Z",
     "iopub.status.idle": "2021-01-13T03:28:14.902538Z",
     "shell.execute_reply": "2021-01-13T03:28:14.901948Z",
     "shell.execute_reply.started": "2021-01-13T03:28:14.383779Z"
    }
   },
   "outputs": [],
   "source": [
    "import json\n",
    "import os\n",
    "import pandas as pd\n",
    "\n",
    "from sklearn.linear_model import LogisticRegression\n",
    "from sklearn.metrics import confusion_matrix, ConfusionMatrixDisplay\n",
    "\n",
    "import training_scripts.domain.sampler as sampler"
   ]
  },
  {
   "cell_type": "code",
   "execution_count": 2,
   "metadata": {
    "execution": {
     "iopub.execute_input": "2021-01-13T03:28:14.904138Z",
     "iopub.status.busy": "2021-01-13T03:28:14.903850Z",
     "iopub.status.idle": "2021-01-13T03:28:14.909168Z",
     "shell.execute_reply": "2021-01-13T03:28:14.908471Z",
     "shell.execute_reply.started": "2021-01-13T03:28:14.904099Z"
    }
   },
   "outputs": [],
   "source": [
    "def load_data(directory):\n",
    "    data_dicts = []\n",
    "    for file in os.listdir(directory):\n",
    "        with open(os.path.join(directory, file), 'r') as f:\n",
    "            data_dict = json.load(f)\n",
    "        data_dicts.append(data_dict)\n",
    "    return data_dicts"
   ]
  },
  {
   "cell_type": "code",
   "execution_count": 3,
   "metadata": {
    "execution": {
     "iopub.execute_input": "2021-01-13T03:28:14.911332Z",
     "iopub.status.busy": "2021-01-13T03:28:14.911150Z",
     "iopub.status.idle": "2021-01-13T03:28:14.915058Z",
     "shell.execute_reply": "2021-01-13T03:28:14.914470Z",
     "shell.execute_reply.started": "2021-01-13T03:28:14.911311Z"
    }
   },
   "outputs": [],
   "source": [
    "def build_dataframe(data_dicts):\n",
    "    return pd.json_normalize(data_dicts)\n",
    "\n",
    "\n",
    "def reformat_dataframe(df, columns_to_keep):\n",
    "    df = df.rename(columns_to_keep, axis=1)\n",
    "    df = df[list(columns_to_keep.values())]\n",
    "    return df"
   ]
  },
  {
   "cell_type": "code",
   "execution_count": 4,
   "metadata": {
    "execution": {
     "iopub.execute_input": "2021-01-13T03:28:14.916913Z",
     "iopub.status.busy": "2021-01-13T03:28:14.916711Z",
     "iopub.status.idle": "2021-01-13T03:28:14.922277Z",
     "shell.execute_reply": "2021-01-13T03:28:14.921544Z",
     "shell.execute_reply.started": "2021-01-13T03:28:14.916890Z"
    }
   },
   "outputs": [],
   "source": [
    "def drop_unlabeled_data(df, column):\n",
    "    return df.dropna(subset=[column])\n",
    "\n",
    "\n",
    "def balance_data(df, column):\n",
    "    df_grouped = df.groupby(column)\n",
    "    sample_size = df_grouped.size().min()\n",
    "\n",
    "    def sample(df):\n",
    "        return df.sample(sample_size).reset_index(drop=True)\n",
    "\n",
    "    df_grouped_sampled = df_grouped.apply(sample)\n",
    "    df_sampled = pd.DataFrame(df_grouped_sampled)\n",
    "    df_sampled = df_sampled.droplevel(level=0)\n",
    "    return df_sampled"
   ]
  },
  {
   "cell_type": "code",
   "execution_count": 5,
   "metadata": {
    "execution": {
     "iopub.execute_input": "2021-01-13T03:28:14.923631Z",
     "iopub.status.busy": "2021-01-13T03:28:14.923397Z",
     "iopub.status.idle": "2021-01-13T03:28:14.929143Z",
     "shell.execute_reply": "2021-01-13T03:28:14.928193Z",
     "shell.execute_reply.started": "2021-01-13T03:28:14.923603Z"
    }
   },
   "outputs": [],
   "source": [
    "def count_keywords(df, columns, keywords):\n",
    "    for keyword in keywords:\n",
    "\n",
    "        def count_keyword(string):\n",
    "            return sum(\n",
    "                keyword in word\n",
    "                for word in string.lower().split())\n",
    "\n",
    "        df[keyword] = df[columns].applymap(count_keyword).sum(axis=1)\n",
    "    return df"
   ]
  },
  {
   "cell_type": "code",
   "execution_count": 6,
   "metadata": {
    "execution": {
     "iopub.execute_input": "2021-01-13T03:28:14.930426Z",
     "iopub.status.busy": "2021-01-13T03:28:14.930214Z",
     "iopub.status.idle": "2021-01-13T03:28:14.933992Z",
     "shell.execute_reply": "2021-01-13T03:28:14.933120Z",
     "shell.execute_reply.started": "2021-01-13T03:28:14.930399Z"
    }
   },
   "outputs": [],
   "source": [
    "def fit_model(x, y):\n",
    "    model = LogisticRegression()\n",
    "    model.fit(x, y)\n",
    "    return model"
   ]
  },
  {
   "cell_type": "code",
   "execution_count": 7,
   "metadata": {
    "execution": {
     "iopub.execute_input": "2021-01-13T03:28:14.935576Z",
     "iopub.status.busy": "2021-01-13T03:28:14.935312Z",
     "iopub.status.idle": "2021-01-13T03:28:14.939717Z",
     "shell.execute_reply": "2021-01-13T03:28:14.938952Z",
     "shell.execute_reply.started": "2021-01-13T03:28:14.935545Z"
    }
   },
   "outputs": [],
   "source": [
    "def plot_confusion_matrix(model, x, y):\n",
    "    matrix = confusion_matrix(y, model.predict(x), normalize='true')\n",
    "    display = ConfusionMatrixDisplay(matrix, ['Not COVID', 'COVID'])\n",
    "    display.plot()"
   ]
  },
  {
   "cell_type": "code",
   "execution_count": 8,
   "metadata": {
    "execution": {
     "iopub.execute_input": "2021-01-13T03:28:14.941248Z",
     "iopub.status.busy": "2021-01-13T03:28:14.941018Z",
     "iopub.status.idle": "2021-01-13T03:28:17.027419Z",
     "shell.execute_reply": "2021-01-13T03:28:17.026933Z",
     "shell.execute_reply.started": "2021-01-13T03:28:14.941220Z"
    }
   },
   "outputs": [
    {
     "data": {
      "image/png": "[encoded data removed]",
      "text/plain": [
       "<Figure size 432x288 with 2 Axes>"
      ]
     },
     "metadata": {
      "needs_background": "light"
     },
     "output_type": "display_data"
    }
   ],
   "source": [
    "directory = '../data/news_articles/balanced_dataset/'\n",
    "data = load_data(directory)\n",
    "\n",
    "df = build_dataframe(data)\n",
    "\n",
    "columns_to_keep = {\n",
    "    'LABEL.WANT_ON_MAP': 'label',\n",
    "    'ARTICLE.TEXT': 'text',\n",
    "    'ARTICLE.TITLE': 'title'}\n",
    "df = reformat_dataframe(df, columns_to_keep)\n",
    "\n",
    "column = 'label'\n",
    "df = drop_unlabeled_data(df, column)\n",
    "df = balance_data(df, column)\n",
    "\n",
    "columns = [\n",
    "    'text',\n",
    "    'title']\n",
    "keywords = [\n",
    "    'covid',\n",
    "    'corona',\n",
    "    'pandem',\n",
    "    'epidem',\n",
    "    'mask',\n",
    "    'quarant']\n",
    "df = count_keywords(df, columns, keywords)\n",
    "\n",
    "model = fit_model(df[keywords], df[column].astype(bool))\n",
    "\n",
    "plot_confusion_matrix(model, df[keywords], df[column].astype(bool))"
   ]
  },
  {
   "cell_type": "code",
   "execution_count": null,
   "metadata": {},
   "outputs": [],
   "source": []
  }
 ],
 "metadata": {
  "kernelspec": {
   "display_name": "Python 3",
   "language": "python",
   "name": "python3"
  },
  "language_info": {
   "codemirror_mode": {
    "name": "ipython",
    "version": 3
   },
   "file_extension": ".py",
   "mimetype": "text/x-python",
   "name": "python",
   "nbconvert_exporter": "python",
   "pygments_lexer": "ipython3",
   "version": "3.7.3"
  }
 },
 "nbformat": 4,
 "nbformat_minor": 4
}

{
 "cells": [
  {
   "cell_type": "code",
   "execution_count": 1,
   "metadata": {
    "execution": {
     "iopub.execute_input": "2021-01-13T13:04:06.256706Z",
     "iopub.status.busy": "2021-01-13T13:04:06.256405Z",
     "iopub.status.idle": "2021-01-13T13:04:06.780733Z",
     "shell.execute_reply": "2021-01-13T13:04:06.780110Z",
     "shell.execute_reply.started": "2021-01-13T13:04:06.256674Z"
    }
   },
   "outputs": [],
   "source": [
    "import json\n",
    "import os\n",
    "import pandas as pd\n",
    "\n",
    "from sklearn.linear_model import LogisticRegression\n",
    "from sklearn.metrics import confusion_matrix, ConfusionMatrixDisplay"
   ]
  },
  {
   "cell_type": "code",
   "execution_count": 2,
   "metadata": {
    "execution": {
     "iopub.execute_input": "2021-01-13T13:04:06.782253Z",
     "iopub.status.busy": "2021-01-13T13:04:06.782067Z",
     "iopub.status.idle": "2021-01-13T13:04:06.787409Z",
     "shell.execute_reply": "2021-01-13T13:04:06.786632Z",
     "shell.execute_reply.started": "2021-01-13T13:04:06.782229Z"
    }
   },
   "outputs": [],
   "source": [
    "def load_data(directory):\n",
    "    data_dicts = []\n",
    "    for file in os.listdir(directory):\n",
    "        with open(os.path.join(directory, file), 'r') as f:\n",
    "            data_dict = json.load(f)\n",
    "        data_dicts.append(data_dict)\n",
    "    return data_dicts"
   ]
  },
  {
   "cell_type": "code",
   "execution_count": 3,
   "metadata": {
    "execution": {
     "iopub.execute_input": "2021-01-13T13:04:06.790188Z",
     "iopub.status.busy": "2021-01-13T13:04:06.789914Z",
     "iopub.status.idle": "2021-01-13T13:04:06.794464Z",
     "shell.execute_reply": "2021-01-13T13:04:06.793792Z",
     "shell.execute_reply.started": "2021-01-13T13:04:06.790161Z"
    }
   },
   "outputs": [],
   "source": [
    "def build_dataframe(data_dicts):\n",
    "    return pd.json_normalize(data_dicts)\n",
    "\n",
    "\n",
    "def reformat_dataframe(df, columns_to_keep):\n",
    "    df = df.rename(columns_to_keep, axis=1)\n",
    "    df = df[list(columns_to_keep.values())]\n",
    "    return df"
   ]
  },
  {
   "cell_type": "code",
   "execution_count": 4,
   "metadata": {
    "execution": {
     "iopub.execute_input": "2021-01-13T13:04:06.796977Z",
     "iopub.status.busy": "2021-01-13T13:04:06.796572Z",
     "iopub.status.idle": "2021-01-13T13:04:06.802349Z",
     "shell.execute_reply": "2021-01-13T13:04:06.801728Z",
     "shell.execute_reply.started": "2021-01-13T13:04:06.796894Z"
    }
   },
   "outputs": [],
   "source": [
    "def drop_unlabeled_data(df, column):\n",
    "    return df.dropna(subset=[column])\n",
    "\n",
    "\n",
    "def balance_data(df, column):\n",
    "    df_grouped = df.groupby(column)\n",
    "    sample_size = df_grouped.size().min()\n",
    "\n",
    "    def sample(df):\n",
    "        return df.sample(sample_size).reset_index(drop=True)\n",
    "\n",
    "    df_grouped_sampled = df_grouped.apply(sample)\n",
    "    df_sampled = pd.DataFrame(df_grouped_sampled)\n",
    "    df_sampled = df_sampled.droplevel(level=0)\n",
    "    return df_sampled"
   ]
  },
  {
   "cell_type": "code",
   "execution_count": 5,
   "metadata": {
    "execution": {
     "iopub.execute_input": "2021-01-13T13:04:06.803792Z",
     "iopub.status.busy": "2021-01-13T13:04:06.803532Z",
     "iopub.status.idle": "2021-01-13T13:04:06.809055Z",
     "shell.execute_reply": "2021-01-13T13:04:06.808201Z",
     "shell.execute_reply.started": "2021-01-13T13:04:06.803766Z"
    }
   },
   "outputs": [],
   "source": [
    "def count_keywords(df, columns, keywords):\n",
    "    for keyword in keywords:\n",
    "\n",
    "        def count_keyword(string):\n",
    "            return sum(\n",
    "                keyword in word\n",
    "                for word in string.lower().split())\n",
    "\n",
    "        df[keyword] = df[columns].applymap(count_keyword).sum(axis=1)\n",
    "    return df"
   ]
  },
  {
   "cell_type": "code",
   "execution_count": 6,
   "metadata": {
    "execution": {
     "iopub.execute_input": "2021-01-13T13:04:06.810710Z",
     "iopub.status.busy": "2021-01-13T13:04:06.810386Z",
     "iopub.status.idle": "2021-01-13T13:04:06.814955Z",
     "shell.execute_reply": "2021-01-13T13:04:06.814121Z",
     "shell.execute_reply.started": "2021-01-13T13:04:06.810683Z"
    }
   },
   "outputs": [],
   "source": [
    "def fit_model(x, y):\n",
    "    model = LogisticRegression()\n",
    "    model.fit(x, y)\n",
    "    return model"
   ]
  },
  {
   "cell_type": "code",
   "execution_count": 7,
   "metadata": {
    "execution": {
     "iopub.execute_input": "2021-01-13T13:04:06.816296Z",
     "iopub.status.busy": "2021-01-13T13:04:06.816000Z",
     "iopub.status.idle": "2021-01-13T13:04:06.820232Z",
     "shell.execute_reply": "2021-01-13T13:04:06.819387Z",
     "shell.execute_reply.started": "2021-01-13T13:04:06.816270Z"
    }
   },
   "outputs": [],
   "source": [
    "def plot_confusion_matrix(model, x, y, labels):\n",
    "    matrix = confusion_matrix(y, model.predict(x), normalize='true')\n",
    "    display = ConfusionMatrixDisplay(matrix, labels)\n",
    "    display.plot()"
   ]
  },
  {
   "cell_type": "code",
   "execution_count": 8,
   "metadata": {
    "execution": {
     "iopub.execute_input": "2021-01-13T13:04:06.821786Z",
     "iopub.status.busy": "2021-01-13T13:04:06.821573Z",
     "iopub.status.idle": "2021-01-13T13:04:08.923372Z",
     "shell.execute_reply": "2021-01-13T13:04:08.922448Z",
     "shell.execute_reply.started": "2021-01-13T13:04:06.821761Z"
    }
   },
   "outputs": [
    {
     "data": {
      "image/png": "[encoded data removed]",
      "text/plain": [
       "<Figure size 432x288 with 2 Axes>"
      ]
     },
     "metadata": {
      "needs_background": "light"
     },
     "output_type": "display_data"
    }
   ],
   "source": [
    "directory = '../data/news_articles/balanced_dataset/'\n",
    "data = load_data(directory)\n",
    "\n",
    "df = build_dataframe(data)\n",
    "\n",
    "columns_to_keep = {\n",
    "    'LABEL.WANT_ON_MAP': 'label',\n",
    "    'ARTICLE.TEXT': 'text',\n",
    "    'ARTICLE.TITLE': 'title'}\n",
    "df = reformat_dataframe(df, columns_to_keep)\n",
    "\n",
    "column = 'label'\n",
    "df = drop_unlabeled_data(df, column)\n",
    "df = balance_data(df, column)\n",
    "\n",
    "columns = [\n",
    "    'text',\n",
    "    'title']\n",
    "keywords = [\n",
    "    'covid',\n",
    "    'corona',\n",
    "    'pandem',\n",
    "    'epidem',\n",
    "    'mask',\n",
    "    'quarant']\n",
    "df = count_keywords(df, columns, keywords)\n",
    "\n",
    "model = fit_model(df[keywords], df[column].astype(bool))\n",
    "\n",
    "labels = [\n",
    "    'Not COVID',\n",
    "    'COVID']\n",
    "plot_confusion_matrix(model, df[keywords], df[column].astype(bool), labels)"
   ]
  },
  {
   "cell_type": "code",
   "execution_count": null,
   "metadata": {},
   "outputs": [],
   "source": []
  }
 ],
 "metadata": {
  "kernelspec": {
   "display_name": "Python 3",
   "language": "python",
   "name": "python3"
  },
  "language_info": {
   "codemirror_mode": {
    "name": "ipython",
    "version": 3
   },
   "file_extension": ".py",
   "mimetype": "text/x-python",
   "name": "python",
   "nbconvert_exporter": "python",
   "pygments_lexer": "ipython3",
   "version": "3.7.3"
  }
 },
 "nbformat": 4,
 "nbformat_minor": 4
}

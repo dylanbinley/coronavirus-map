{
 "cells": [
  {
   "cell_type": "code",
   "execution_count": 1,
   "metadata": {
    "tags": []
   },
   "outputs": [],
   "source": [
    "import json\n",
    "import os\n",
    "import pandas as pd\n",
    "\n",
    "from sklearn.linear_model import LogisticRegression\n",
    "from sklearn.metrics import confusion_matrix, ConfusionMatrixDisplay\n",
    "\n",
    "import training_scripts.domain.sampler as sampler"
   ]
  },
  {
   "cell_type": "code",
   "execution_count": 2,
   "metadata": {
    "tags": []
   },
   "outputs": [],
   "source": [
    "def load_data(directory):\n",
    "    data_dicts = []\n",
    "    for file in os.listdir(directory):\n",
    "        with open(os.path.join(directory, file), 'r') as f:\n",
    "            data_dict = json.load(f)\n",
    "        data_dicts.append(data_dict)\n",
    "    return data_dicts"
   ]
  },
  {
   "cell_type": "code",
   "execution_count": 3,
   "metadata": {
    "tags": []
   },
   "outputs": [],
   "source": [
    "def build_dataframe(data_dicts):\n",
    "    return pd.json_normalize(data_dicts)\n",
    "\n",
    "\n",
    "def reformat_dataframe(df, columns_to_keep):\n",
    "    df = df.rename(columns_to_keep, axis=1)\n",
    "    df = df[list(columns_to_keep.values())]\n",
    "    return df"
   ]
  },
  {
   "cell_type": "code",
   "execution_count": 201,
   "metadata": {
    "tags": []
   },
   "outputs": [],
   "source": [
    "def drop_unlabeled_data(df, column):\n",
    "    return df.dropna(subset=[column])\n",
    "\n",
    "\n",
    "def balance_data(df, column):\n",
    "    df_grouped = df.groupby(column)\n",
    "    sample_size =  \n",
    "\n",
    "    def sample(df):\n",
    "        return df.sample(sample_size).reset_index(drop=True)\n",
    "\n",
    "    df_grouped_sampled = df_grouped.apply(sample)\n",
    "    df_sampled = pd.DataFrame(df_grouped_sampled)\n",
    "    df_sampled = df_sampled.droplevel(level=0)\n",
    "    return df_sampled"
   ]
  },
  {
   "cell_type": "code",
   "execution_count": 5,
   "metadata": {
    "tags": []
   },
   "outputs": [],
   "source": [
    "def count_keywords(df, columns, keywords):\n",
    "    for keyword in keywords:\n",
    "\n",
    "        def count_keyword(string):\n",
    "            return sum(\n",
    "                keyword in word\n",
    "                for word in string.lower().split())\n",
    "\n",
    "        df[keyword] = df[columns].applymap(count_keyword).sum(axis=1)\n",
    "    return df"
   ]
  },
  {
   "cell_type": "code",
   "execution_count": 6,
   "metadata": {
    "tags": []
   },
   "outputs": [],
   "source": [
    "def fit_model(x, y):\n",
    "    model = LogisticRegression()\n",
    "    model.fit(x, y)\n",
    "    return model"
   ]
  },
  {
   "cell_type": "code",
   "execution_count": 7,
   "metadata": {
    "tags": []
   },
   "outputs": [],
   "source": [
    "def plot_confusion_matrix(model, x, y):\n",
    "    matrix = confusion_matrix(y, model.predict(x), normalize='true')\n",
    "    display = ConfusionMatrixDisplay(matrix, ['Not COVID', 'COVID'])\n",
    "    display.plot()"
   ]
  },
  {
   "cell_type": "code",
   "execution_count": 258,
   "metadata": {
    "tags": []
   },
   "outputs": [
    {
     "name": "stderr",
     "output_type": "stream",
     "text": [
      "/home/dbinley/.local/lib/python3.8/site-packages/sklearn/utils/validation.py:70: FutureWarning: Pass display_labels=['Not COVID', 'COVID'] as keyword args. From version 1.0 (renaming of 0.25) passing these as positional arguments will result in an error\n",
      "  warnings.warn(f\"Pass {args_msg} as keyword args. From version \"\n"
     ]
    },
    {
     "data": {
      "image/png": "[encoded data removed]",
      "text/plain": [
       "<Figure size 432x288 with 2 Axes>"
      ]
     },
     "metadata": {
      "needs_background": "light"
     },
     "output_type": "display_data"
    }
   ],
   "source": [
    "directory = '../data/news_articles/balanced_dataset/'\n",
    "data = load_data(directory)\n",
    "\n",
    "df = build_dataframe(data)\n",
    "\n",
    "columns_to_keep = {\n",
    "    'LABEL.WANT_ON_MAP': 'label',\n",
    "    'ARTICLE.TEXT': 'text',\n",
    "    'ARTICLE.TITLE': 'title'}\n",
    "df = reformat_dataframe(df, columns_to_keep)\n",
    "\n",
    "column = 'label'\n",
    "df = drop_unlabeled_data(df, column)\n",
    "\n",
    "columns = [\n",
    "    'text',\n",
    "    'title']\n",
    "keywords = [\n",
    "    'covid',\n",
    "    'corona',\n",
    "    'pandem',\n",
    "    'epidem',\n",
    "    'mask',\n",
    "    'quarant']\n",
    "df = count_keywords(df, columns, keywords)\n",
    "\n",
    "#balanced = balance_data(df, column)\n",
    "balanced = sample_data(df,column)\n",
    "model = fit_model(balanced[keywords], balanced[column].astype(bool))\n",
    "\n",
    "plot_confusion_matrix(model, df[keywords], df[column].astype(bool))"
   ]
  },
  {
   "cell_type": "code",
   "execution_count": 91,
   "metadata": {},
   "outputs": [],
   "source": [
    "from sklearn.ensemble import RandomForestClassifier\n",
    "def fit_forest(x,y):\n",
    "     # create regressor object\n",
    "    model = RandomForestClassifier(n_estimators=50, random_state=0)\n",
    "    model.fit(x, y)\n",
    "    # fit the regressor with x and y data\n",
    "    return model \n",
    "    "
   ]
  },
  {
   "cell_type": "code",
   "execution_count": 95,
   "metadata": {},
   "outputs": [
    {
     "name": "stderr",
     "output_type": "stream",
     "text": [
      "/home/dbinley/.local/lib/python3.8/site-packages/sklearn/utils/validation.py:70: FutureWarning: Pass display_labels=['Not COVID', 'COVID'] as keyword args. From version 1.0 (renaming of 0.25) passing these as positional arguments will result in an error\n",
      "  warnings.warn(f\"Pass {args_msg} as keyword args. From version \"\n"
     ]
    },
    {
     "data": {
      "image/png": "[encoded data removed]",
      "text/plain": [
       "<Figure size 432x288 with 2 Axes>"
      ]
     },
     "metadata": {
      "needs_background": "light"
     },
     "output_type": "display_data"
    }
   ],
   "source": [
    "directory = '../data/news_articles/balanced_dataset/'\n",
    "data = load_data(directory)\n",
    "\n",
    "df = build_dataframe(data)\n",
    "\n",
    "columns_to_keep = {\n",
    "    'LABEL.WANT_ON_MAP': 'label',\n",
    "    'ARTICLE.TEXT': 'text',\n",
    "    'ARTICLE.TITLE': 'title'}\n",
    "df = reformat_dataframe(df, columns_to_keep)\n",
    "\n",
    "column = 'label'\n",
    "df = drop_unlabeled_data(df, column)\n",
    "df = balance_data(df, column)\n",
    "\n",
    "columns = [\n",
    "    'text',\n",
    "    'title']\n",
    "keywords = [\n",
    "    'covid',\n",
    "    'corona',\n",
    "    'pandem',\n",
    "    'epidem',\n",
    "    'mask',\n",
    "    'quarant']\n",
    "df = count_keywords(df, columns, keywords)\n",
    "\n",
    "model = fit_forest(df[keywords], df[column].astype(bool))\n",
    "\n",
    "plot_confusion_matrix(model, df[keywords], df[column].astype(bool))"
   ]
  },
  {
   "cell_type": "code",
   "execution_count": 259,
   "metadata": {},
   "outputs": [
    {
     "name": "stderr",
     "output_type": "stream",
     "text": [
      "/home/dbinley/.local/lib/python3.8/site-packages/sklearn/utils/validation.py:70: FutureWarning: Pass display_labels=['Not COVID', 'COVID'] as keyword args. From version 1.0 (renaming of 0.25) passing these as positional arguments will result in an error\n",
      "  warnings.warn(f\"Pass {args_msg} as keyword args. From version \"\n"
     ]
    },
    {
     "data": {
      "image/png": "[encoded data removed]",
      "text/plain": [
       "<Figure size 432x288 with 2 Axes>"
      ]
     },
     "metadata": {
      "needs_background": "light"
     },
     "output_type": "display_data"
    }
   ],
   "source": [
    "\n",
    "import joblib\n",
    "knn = model \n",
    "# Save the model as a pickle in a file\n",
    "joblib.dump(knn, 'logistic_regression.pkl')\n",
    "  \n",
    "# Load the model from the file\n",
    "knn_from_joblib = joblib.load('logistic_regression.pkl') \n",
    "  \n",
    "# Use the loaded model to make predictions\n",
    "plot_confusion_matrix(model, df[keywords], df[column].astype(bool))"
   ]
  },
  {
   "cell_type": "code",
   "execution_count": 98,
   "metadata": {},
   "outputs": [
    {
     "data": {
      "text/plain": [
       "array([False, False, False, False, False, False, False, False, False,\n",
       "       False, False, False, False, False, False, False, False, False,\n",
       "       False, False, False, False, False, False, False, False, False,\n",
       "       False, False, False, False, False, False, False, False, False,\n",
       "       False, False, False, False, False, False, False, False, False,\n",
       "       False, False, False, False, False, False, False,  True,  True,\n",
       "        True,  True,  True,  True,  True,  True,  True,  True,  True,\n",
       "        True,  True,  True,  True,  True,  True,  True,  True,  True,\n",
       "        True,  True,  True,  True,  True,  True,  True,  True,  True,\n",
       "        True,  True,  True,  True,  True,  True,  True,  True,  True,\n",
       "        True,  True,  True,  True,  True,  True,  True,  True,  True,\n",
       "        True,  True,  True,  True,  True])"
      ]
     },
     "execution_count": 98,
     "metadata": {},
     "output_type": "execute_result"
    }
   ],
   "source": [
    "model.predict(df[keywords])"
   ]
  },
  {
   "cell_type": "code",
   "execution_count": 203,
   "metadata": {},
   "outputs": [],
   "source": [
    "from typing import List\n",
    "def find_coronavirus_stories(data_dicts: List[dict]) -> List[dict]:\n",
    "#    coronavirus_data_dicts = []\n",
    "#    for data_dict in data_dicts:\n",
    "#        title = data_dict.get('ARTICLE', {}).get('TITLE', '')\n",
    "#        if _string_contains_covid(title):\n",
    "#            coronavirus_data_dicts.append(data_dict)\n",
    "#    return coronavirus_data_dicts\n",
    "\n",
    "    df = build_dataframe(data)\n",
    "\n",
    "    columns_to_keep = {\n",
    "        #'LABEL.WANT_ON_MAP': 'label',\n",
    "        'ARTICLE.TEXT': 'text',\n",
    "        'ARTICLE.TITLE': 'title'}\n",
    "    df = reformat_dataframe(df, columns_to_keep)\n",
    "\n",
    "    #column = 'text'\n",
    "    df = drop_unlabeled_data(df, 'title')\n",
    "    df = drop_unlabeled_data(df, 'text')\n",
    "\n",
    "    columns = [\n",
    "        'text',\n",
    "        'title']\n",
    "    keywords = [\n",
    "        'covid',\n",
    "        'corona',\n",
    "        'pandem',\n",
    "        'epidem',\n",
    "        'mask',\n",
    "        'quarant']\n",
    "    df = count_keywords(df, columns, keywords)\n",
    "\n",
    "\n",
    "    df['predicted'] = model.predict(df[keywords]);\n",
    "\n",
    "    final_df = df[df['predicted'] == True]\n",
    "    final_df = final_df.drop(['predicted'], axis = 1)\n",
    "\n",
    "    return final_df.to_dict('records')\n",
    "\n",
    "def build_dataframe(data_dicts):\n",
    "    return pd.json_normalize(data_dicts)\n",
    "\n",
    "\n",
    "def reformat_dataframe(df, columns_to_keep):\n",
    "    df = df.rename(columns_to_keep, axis=1)\n",
    "    df = df[list(columns_to_keep.values())]\n",
    "    return df\n",
    "\n",
    "def drop_unlabeled_data(df, column):\n",
    "    return df.dropna(subset=[column])\n",
    "\n",
    "\n",
    "def balance_data(df, column):\n",
    "    df_grouped = df.groupby(column)\n",
    "    sample_size = df_grouped.size().min()\n",
    "\n",
    "    def sample(df):\n",
    "        return df.sample(sample_size).reset_index(drop=True)\n",
    "\n",
    "    df_grouped_sampled = df_grouped.apply(sample)\n",
    "    df_sampled = pd.DataFrame(df_grouped_sampled)\n",
    "    df_sampled = df_sampled.droplevel(level=0)\n",
    "    return df_sampled\n",
    "\n",
    "def count_keywords(df, columns, keywords):\n",
    "    for keyword in keywords:\n",
    "\n",
    "        def count_keyword(string):\n",
    "            return sum(\n",
    "                keyword in word\n",
    "                for word in string.lower().split())\n",
    "\n",
    "        df[keyword] = df[columns].applymap(count_keyword).sum(axis=1)\n",
    "    return df\n",
    "#x= find_coronavirus_stories(df.to_dict('records'))"
   ]
  },
  {
   "cell_type": "code",
   "execution_count": null,
   "metadata": {},
   "outputs": [],
   "source": [
    "df = build_dataframe(data)\n",
    "\n",
    "columns_to_keep = {\n",
    "    #'LABEL.WANT_ON_MAP': 'label',\n",
    "    'ARTICLE.TEXT': 'text',\n",
    "    'ARTICLE.TITLE': 'title'}\n",
    "df = reformat_dataframe(df, columns_to_keep)\n",
    "\n",
    "#column = 'text'\n",
    "df = drop_unlabeled_data(df, 'title')"
   ]
  },
  {
   "cell_type": "code",
   "execution_count": 144,
   "metadata": {},
   "outputs": [
    {
     "name": "stdout",
     "output_type": "stream",
     "text": [
      "Count Vectorizer\n",
      "\n",
      "   blue  bright  sky  sun\n",
      "0     1       0    1    0\n",
      "1     0       1    0    1\n",
      "\n",
      "TD-IDF Vectorizer\n",
      "\n",
      "       blue    bright       sky       sun\n",
      "0  0.707107  0.000000  0.707107  0.000000\n",
      "1  0.000000  0.707107  0.000000  0.707107\n"
     ]
    }
   ],
   "source": [
    "# TfidfVectorizer \n",
    "# CountVectorizer\n",
    "from sklearn.feature_extraction.text import TfidfVectorizer,CountVectorizer\n",
    "import pandas as pd\n",
    "# set of documents\n",
    "train = ['The sky is blue.','The sun is bright.']\n",
    "test = ['The sun in the sky is bright', 'We can see the shining sun, the bright sun.']\n",
    "# instantiate the vectorizer object\n",
    "countvectorizer = CountVectorizer(analyzer= 'word', stop_words='english')\n",
    "tfidfvectorizer = TfidfVectorizer(analyzer='word',stop_words= 'english')\n",
    "# convert th documents into a matrix\n",
    "count_wm = countvectorizer.fit_transform(train)\n",
    "tfidf_wm = tfidfvectorizer.fit_transform(train)\n",
    "#retrieve the terms found in the corpora\n",
    "# if we take same parameters on both Classes(CountVectorizer and TfidfVectorizer) , it will give same output of get_feature_names() methods)\n",
    "#count_tokens = tfidfvectorizer.get_feature_names() # no difference\n",
    "count_tokens = countvectorizer.get_feature_names()\n",
    "tfidf_tokens = tfidfvectorizer.get_feature_names()\n",
    "df_countvect = pd.DataFrame(data = count_wm.toarray(),columns = count_tokens)\n",
    "df_tfidfvect = pd.DataFrame(data = tfidf_wm.toarray(),columns = tfidf_tokens)\n",
    "print(\"Count Vectorizer\\n\")\n",
    "print(df_countvect)\n",
    "print(\"\\nTD-IDF Vectorizer\\n\")\n",
    "print(df_tfidfvect)\n"
   ]
  },
  {
   "cell_type": "code",
   "execution_count": 175,
   "metadata": {},
   "outputs": [],
   "source": [
    "def vectorize(df):\n",
    "    train = df['text'] \n",
    "    # instantiate the vectorizer object\n",
    "    tfidfvectorizer = TfidfVectorizer(analyzer='word',stop_words= 'english')\n",
    "    # convert th documents into a matrix\n",
    "    tfidf_wm = tfidfvectorizer.fit_transform(train)\n",
    "    tfidf_tokens = tfidfvectorizer.get_feature_names()\n",
    "    df_tfidfvect = pd.DataFrame(data = tfidf_wm.toarray(),columns = tfidf_tokens)\n",
    "    return df_tfidfvect"
   ]
  },
  {
   "cell_type": "code",
   "execution_count": 262,
   "metadata": {},
   "outputs": [
    {
     "name": "stdout",
     "output_type": "stream",
     "text": [
      "(1732, 34930)\n",
      "(34, 34930)\n",
      "\n",
      "(184, 34930)\n",
      "(9, 34930)\n"
     ]
    },
    {
     "name": "stderr",
     "output_type": "stream",
     "text": [
      "/home/dbinley/.local/lib/python3.8/site-packages/sklearn/utils/validation.py:70: FutureWarning: Pass display_labels=['Not COVID', 'COVID'] as keyword args. From version 1.0 (renaming of 0.25) passing these as positional arguments will result in an error\n",
      "  warnings.warn(f\"Pass {args_msg} as keyword args. From version \"\n"
     ]
    },
    {
     "data": {
      "image/png": "[encoded data removed]",
      "text/plain": [
       "<Figure size 432x288 with 2 Axes>"
      ]
     },
     "metadata": {
      "needs_background": "light"
     },
     "output_type": "display_data"
    }
   ],
   "source": [
    "def balance_data(df, column):\n",
    "    df_grouped = df.groupby(column)\n",
    "    sample_size = df_grouped.size().min()\n",
    "\n",
    "    def sample(df):\n",
    "        return df.sample(sample_size).reset_index(drop=True)\n",
    "\n",
    "    df_grouped_sampled = df_grouped.apply(sample)\n",
    "    df_sampled = pd.DataFrame(df_grouped_sampled)\n",
    "    df_sampled = df_sampled.droplevel(level=0)\n",
    "    return df_sampled\n",
    "def sample_data(df, column):\n",
    "#     true = df[df[column] == True].sample(frac = .5)\n",
    "#     false = df[df[column] == False].sample(frac = .1)\n",
    "#     return pd.concat(\n",
    "#         [\n",
    "#             true,\n",
    "#             false \n",
    "#         ]\n",
    "#     )\n",
    "    return df.sample(frac=.25)\n",
    "directory = '../data/news_articles/balanced_dataset/'\n",
    "data = load_data(directory)\n",
    "\n",
    "df = build_dataframe(data)\n",
    "\n",
    "columns_to_keep = {\n",
    "    'LABEL.WANT_ON_MAP': 'LABELLLLLL',\n",
    "    'ARTICLE.TEXT': 'text',\n",
    "    'ARTICLE.TITLE': 'title'}\n",
    "df = reformat_dataframe(df, columns_to_keep)\n",
    "\n",
    "column = 'LABELLLLLL'\n",
    "df = drop_unlabeled_data(df, column)\n",
    "\n",
    "columns = [\n",
    "    'LABELLLLLL',\n",
    "    'text',\n",
    "    'title']\n",
    "#df = count_keywords(df, columns, keywords)\n",
    "df[column].value_counts()\n",
    "df.head()\n",
    "df = pd.concat(\n",
    "    [\n",
    "        df,\n",
    "        vectorize(df)\n",
    "    ], axis=1\n",
    ")\n",
    "print(df.shape)\n",
    "df =df.dropna()\n",
    "print(df[df[column] == True].shape)\n",
    "print()\n",
    "\n",
    "balanced = sample_data(df,column)\n",
    "print(balanced.shape)\n",
    "print(balanced[balanced[column] == True].shape)\n",
    "model = fit_forest(balanced.drop(columns , axis = 1), balanced[column].astype(bool))\n",
    "\n",
    "plot_confusion_matrix(model, df.drop(columns, axis = 1), df[column].astype(bool))"
   ]
  },
  {
   "cell_type": "code",
   "execution_count": null,
   "metadata": {},
   "outputs": [],
   "source": []
  }
 ],
 "metadata": {
  "kernelspec": {
   "display_name": "Python 3",
   "language": "python",
   "name": "python3"
  },
  "language_info": {
   "codemirror_mode": {
    "name": "ipython",
    "version": 3
   },
   "file_extension": ".py",
   "mimetype": "text/x-python",
   "name": "python",
   "nbconvert_exporter": "python",
   "pygments_lexer": "ipython3",
   "version": "3.8.5"
  }
 },
 "nbformat": 4,
 "nbformat_minor": 4
}

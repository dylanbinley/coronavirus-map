{
 "cells": [
  {
   "cell_type": "code",
   "execution_count": 1,
   "metadata": {
    "execution": {
     "iopub.execute_input": "2021-01-11T03:01:09.820531Z",
     "iopub.status.busy": "2021-01-11T03:01:09.820295Z",
     "iopub.status.idle": "2021-01-11T03:01:10.184746Z",
     "shell.execute_reply": "2021-01-11T03:01:10.183956Z",
     "shell.execute_reply.started": "2021-01-11T03:01:09.820505Z"
    }
   },
   "outputs": [],
   "source": [
    "import json\n",
    "import os\n",
    "\n",
    "from sklearn.metrics import accuracy_score, confusion_matrix, ConfusionMatrixDisplay\n",
    "\n",
    "from coronavirus_map.domain.classifier import _string_contains_covid"
   ]
  },
  {
   "cell_type": "code",
   "execution_count": 2,
   "metadata": {
    "execution": {
     "iopub.execute_input": "2021-01-11T03:01:10.186578Z",
     "iopub.status.busy": "2021-01-11T03:01:10.186254Z",
     "iopub.status.idle": "2021-01-11T03:01:10.464217Z",
     "shell.execute_reply": "2021-01-11T03:01:10.463675Z",
     "shell.execute_reply.started": "2021-01-11T03:01:10.186545Z"
    }
   },
   "outputs": [],
   "source": [
    "# open all json\n",
    "\n",
    "data_dicts = []\n",
    "\n",
    "directory = '../data/news_articles/balanced_dataset/'\n",
    "for file in os.listdir(directory):\n",
    "\n",
    "    with open(os.path.join(directory, file), 'r') as f:\n",
    "        data_dict = json.load(f)\n",
    "\n",
    "    data_dicts.append(data_dict)"
   ]
  },
  {
   "cell_type": "code",
   "execution_count": 3,
   "metadata": {
    "execution": {
     "iopub.execute_input": "2021-01-11T03:01:10.465995Z",
     "iopub.status.busy": "2021-01-11T03:01:10.465812Z",
     "iopub.status.idle": "2021-01-11T03:01:10.470170Z",
     "shell.execute_reply": "2021-01-11T03:01:10.469606Z",
     "shell.execute_reply.started": "2021-01-11T03:01:10.465974Z"
    }
   },
   "outputs": [],
   "source": [
    "# filter data without hand labels\n",
    "\n",
    "labeled_data_dicts = []\n",
    "\n",
    "for data_dict in data_dicts:\n",
    "\n",
    "    label_data = data_dict.get('LABEL')  # returns None if not key 'LABEL'\n",
    "\n",
    "    if label_data is None:\n",
    "        continue\n",
    "\n",
    "    labeled_data_dicts.append(data_dict)"
   ]
  },
  {
   "cell_type": "code",
   "execution_count": 4,
   "metadata": {
    "execution": {
     "iopub.execute_input": "2021-01-11T03:01:10.471679Z",
     "iopub.status.busy": "2021-01-11T03:01:10.471432Z",
     "iopub.status.idle": "2021-01-11T03:01:10.478935Z",
     "shell.execute_reply": "2021-01-11T03:01:10.478341Z",
     "shell.execute_reply.started": "2021-01-11T03:01:10.471654Z"
    }
   },
   "outputs": [],
   "source": [
    "# build lists of true, predicted labels\n",
    "\n",
    "true_labels = []\n",
    "\n",
    "predicted_labels = []\n",
    "\n",
    "for data_dict in labeled_data_dicts:\n",
    "\n",
    "    label_data = data_dict.get('LABEL')\n",
    "\n",
    "    true_label = label_data.get('WANT_ON_MAP')\n",
    "\n",
    "    if true_label is None:\n",
    "        continue\n",
    "\n",
    "    true_labels.append(true_label)\n",
    "\n",
    "    article_data = data_dict.get('ARTICLE', {})\n",
    "\n",
    "    article_headline = article_data.get('TITLE', '')\n",
    "\n",
    "    predicted_labels.append(_string_contains_covid(article_headline))"
   ]
  },
  {
   "cell_type": "code",
   "execution_count": 5,
   "metadata": {
    "execution": {
     "iopub.execute_input": "2021-01-11T03:01:10.480271Z",
     "iopub.status.busy": "2021-01-11T03:01:10.479842Z",
     "iopub.status.idle": "2021-01-11T03:01:10.486518Z",
     "shell.execute_reply": "2021-01-11T03:01:10.485688Z",
     "shell.execute_reply.started": "2021-01-11T03:01:10.480242Z"
    }
   },
   "outputs": [
    {
     "name": "stdout",
     "output_type": "stream",
     "text": [
      "Classifier accuracy score: 0.979\n"
     ]
    }
   ],
   "source": [
    "# check the accuracy -- looks really good!\n",
    "\n",
    "score = accuracy_score(true_labels, predicted_labels)\n",
    "print('Classifier accuracy score:', round(score, 3))"
   ]
  },
  {
   "cell_type": "code",
   "execution_count": 6,
   "metadata": {
    "execution": {
     "iopub.execute_input": "2021-01-11T03:01:10.488020Z",
     "iopub.status.busy": "2021-01-11T03:01:10.487724Z",
     "iopub.status.idle": "2021-01-11T03:01:10.825048Z",
     "shell.execute_reply": "2021-01-11T03:01:10.824453Z",
     "shell.execute_reply.started": "2021-01-11T03:01:10.487995Z"
    }
   },
   "outputs": [
    {
     "data": {
      "image/png": "[encoded data removed]",
      "text/plain": [
       "<Figure size 432x288 with 2 Axes>"
      ]
     },
     "metadata": {
      "needs_background": "light"
     },
     "output_type": "display_data"
    }
   ],
   "source": [
    "# display true positive, false positive, true negative, false negative rates -- really bad!\n",
    "\n",
    "matrix = confusion_matrix(true_labels, predicted_labels)\n",
    "display = ConfusionMatrixDisplay(matrix, ['Not COVID', 'COVID'])\n",
    "display.plot();"
   ]
  },
  {
   "cell_type": "code",
   "execution_count": null,
   "metadata": {},
   "outputs": [],
   "source": []
  }
 ],
 "metadata": {
  "kernelspec": {
   "display_name": "Python 3",
   "language": "python",
   "name": "python3"
  },
  "language_info": {
   "codemirror_mode": {
    "name": "ipython",
    "version": 3
   },
   "file_extension": ".py",
   "mimetype": "text/x-python",
   "name": "python",
   "nbconvert_exporter": "python",
   "pygments_lexer": "ipython3",
   "version": "3.7.3"
  }
 },
 "nbformat": 4,
 "nbformat_minor": 4
}

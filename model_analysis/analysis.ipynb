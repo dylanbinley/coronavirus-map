{
 "cells": [
  {
   "cell_type": "code",
   "execution_count": 336,
   "metadata": {
    "tags": []
   },
   "outputs": [],
   "source": [
    "import json\n",
    "import os\n",
    "import math\n",
    "import numpy as np\n",
    "import joblib\n",
    "import pickle\n",
    "\n",
    "import pandas as pd\n",
    "import matplotlib.pyplot as plt\n",
    "import plotly.graph_objects as go\n",
    "\n",
    "from sklearn.linear_model import LogisticRegression\n",
    "from sklearn.tree import DecisionTreeClassifier\n",
    "from sklearn.ensemble import RandomForestClassifier, GradientBoostingClassifier\n",
    "\n",
    "from sklearn.model_selection import train_test_split\n",
    "from sklearn.feature_extraction.text import TfidfVectorizer\n",
    "from sklearn.metrics import confusion_matrix, ConfusionMatrixDisplay, plot_confusion_matrix"
   ]
  },
  {
   "cell_type": "markdown",
   "metadata": {},
   "source": [
    "### Setup\n",
    "#### Create two dataframes:\n",
    "1. **df_init**: all covid stories\n",
    "2. **df_balanced**: balanced sample of df_init used for testing/training ML models"
   ]
  },
  {
   "cell_type": "code",
   "execution_count": 337,
   "metadata": {
    "tags": []
   },
   "outputs": [],
   "source": [
    "def load_data(directory):\n",
    "    data_dicts = []\n",
    "    for file in os.listdir(directory):\n",
    "        with open(os.path.join(directory, file), 'r') as f:\n",
    "            data_dict = json.load(f)\n",
    "        data_dicts.append(data_dict)\n",
    "    return data_dicts"
   ]
  },
  {
   "cell_type": "code",
   "execution_count": 338,
   "metadata": {
    "tags": []
   },
   "outputs": [],
   "source": [
    "def build_dataframe(data_dicts):\n",
    "    return pd.json_normalize(data_dicts)\n",
    "\n",
    "def reformat_dataframe(df, columns_to_keep):\n",
    "    df = df.rename(columns_to_keep, axis=1)\n",
    "    df = df[list(columns_to_keep.values())]\n",
    "    return df"
   ]
  },
  {
   "cell_type": "code",
   "execution_count": 339,
   "metadata": {
    "tags": []
   },
   "outputs": [],
   "source": [
    "def drop_unlabeled_data(df, column):\n",
    "    return df[(df[column] == True) | (df[column] == False)]\n",
    "def balance_data(df, column):\n",
    "    df_grouped = df.groupby(column)\n",
    "    sample_size = df_grouped.size().min()\n",
    "\n",
    "    def sample(df):\n",
    "#         return df.sample(sample_size).reset_index(drop=True)\n",
    "        return df.sample(sample_size)\n",
    "\n",
    "    df_grouped_sampled = df_grouped.apply(sample)\n",
    "    df_sampled = pd.DataFrame(df_grouped_sampled)\n",
    "    df_sampled = df_sampled.droplevel(level=0)\n",
    "  \n",
    "    return df_sampled\n",
    "#     return df_sampled.reset_index(drop=True)"
   ]
  },
  {
   "cell_type": "code",
   "execution_count": 340,
   "metadata": {},
   "outputs": [],
   "source": [
    "def print_useful_info(df,column=\"_label\", name= \"\"):\n",
    "    print(f\"# stories {name}\\t: {df.shape[0]} ({100*(df[df[column] == True].shape[0]/df.shape[0]):.2f}% COVID)\")"
   ]
  },
  {
   "cell_type": "code",
   "execution_count": 341,
   "metadata": {},
   "outputs": [
    {
     "name": "stdout",
     "output_type": "stream",
     "text": [
      "data loaded\n",
      "# stories all data\t: 1589 (10.70% COVID)\n",
      "# stories balanced data\t: 340 (50.00% COVID)\n"
     ]
    }
   ],
   "source": [
    "directory = '../data/news_articles/balanced_dataset/'\n",
    "columns_to_keep = {\n",
    "    'LABEL.WANT_ON_MAP': '_label',\n",
    "    'ARTICLE.TEXT': 'text',\n",
    "    'ARTICLE.TITLE': 'title'}\n",
    "label = '_label' # put '_' in front so that it does not conflict with columns for tfidf vectors later on\n",
    "content_columns = ['text','title']\n",
    "\n",
    "data = load_data(directory)\n",
    "\n",
    "df_init = build_dataframe(data)\n",
    "df_init = reformat_dataframe(df_init, columns_to_keep)\n",
    "df_init = drop_unlabeled_data(df_init, label)\n",
    "df_init[label] = df_init[label].astype(bool)\n",
    "\n",
    "df_balanced = balance_data(df_init, label)\n",
    "    \n",
    "print(\"data loaded\")\n",
    "print_useful_info(df_init, name='all data')\n",
    "print_useful_info(df_balanced, name='balanced data')"
   ]
  },
  {
   "cell_type": "markdown",
   "metadata": {},
   "source": [
    "### Rule Based Model"
   ]
  },
  {
   "cell_type": "code",
   "execution_count": 342,
   "metadata": {},
   "outputs": [],
   "source": [
    "def predict_with_rules(df, keyword_string, title_col='title',content_col='text'):\n",
    "    return df[title_col].str.contains(pat=keyword_string, case=False,regex = True) | (df[content_col].str.lower().str.count(keyword_string) > 5)\n",
    "\n",
    "def plot_cf_matrix(labels,predicted, title= \"\", normalize=None):\n",
    "    ax= plt.subplot()\n",
    "    matrix = confusion_matrix(labels, predicted, normalize=normalize)\n",
    "    display = ConfusionMatrixDisplay(matrix, display_labels=['Not COVID','COVID'])\n",
    "    display.plot(cmap='Blues',ax=ax)\n",
    "    ax.set_title(title)"
   ]
  },
  {
   "cell_type": "code",
   "execution_count": 343,
   "metadata": {},
   "outputs": [
    {
     "data": {
      "image/png": "[encoded data removed]",
      "text/plain": [
       "<Figure size 432x288 with 2 Axes>"
      ]
     },
     "metadata": {
      "needs_background": "light"
     },
     "output_type": "display_data"
    }
   ],
   "source": [
    "keyword_string = 'covid|corona|pandem|epidem|mask|quarant|vaccine|lockdown'\n",
    "predicted = predict_with_rules(df_init[content_columns], keyword_string)\n",
    "labels = df_init[label]\n",
    "\n",
    "plot_cf_matrix(labels, predicted, title=\"Rule Based Model\", normalize='true')"
   ]
  },
  {
   "cell_type": "markdown",
   "metadata": {},
   "source": [
    "### Keyword model "
   ]
  },
  {
   "cell_type": "code",
   "execution_count": 344,
   "metadata": {
    "tags": []
   },
   "outputs": [],
   "source": [
    "def count_keywords(df, columns, keywords):\n",
    "    for keyword in keywords:\n",
    "\n",
    "        def count_keyword(string):\n",
    "            return sum(\n",
    "                keyword in word\n",
    "                for word in string.lower().split())\n",
    "\n",
    "        df[keyword] = df[columns].applymap(count_keyword).sum(axis=1)\n",
    "    return df\n",
    "\n",
    "def train_classifiers(classifiers, x,y, debug=False):\n",
    "    for cls in classifiers:\n",
    "        if debug: print(type(cls).__name__ + \"... \",end=\"\")\n",
    "        cls.fit(x,y)\n",
    "        if debug: print(\"done\")"
   ]
  },
  {
   "cell_type": "code",
   "execution_count": 345,
   "metadata": {
    "tags": []
   },
   "outputs": [],
   "source": [
    "def plot_confusion_matrices(classifiers, x,y,title=\"\",normalize=None, nrows = 1):\n",
    "    ncols = math.ceil(len(classifiers)/nrows)\n",
    "    fig, axes = plt.subplots(nrows=nrows, ncols = ncols, figsize=(ncols*5,nrows*3.7))\n",
    "    for cls, ax in zip(classifiers, axes.flatten()):\n",
    "        plot_confusion_matrix(cls,\n",
    "                      x, \n",
    "                      y,\n",
    "                      ax=ax, \n",
    "                      cmap='Blues',\n",
    "                      normalize = normalize,\n",
    "                     display_labels=['Not COVID','COVID'])\n",
    "        ax.title.set_text(type(cls).__name__)\n",
    "    fig.suptitle(title, fontsize='xx-large',ha='left')\n",
    "    plt.tight_layout()  \n",
    "    plt.show()"
   ]
  },
  {
   "cell_type": "code",
   "execution_count": 346,
   "metadata": {},
   "outputs": [],
   "source": [
    "article_keywords = [\n",
    "        'covid',\n",
    "        'corona',\n",
    "        'pandem',\n",
    "        'epidem',\n",
    "        'mask',\n",
    "        'quarant',\n",
    "        'vaccine',\n",
    "        ]\n",
    "classifiers = [\n",
    "    LogisticRegression(),\n",
    "    DecisionTreeClassifier(),\n",
    "    RandomForestClassifier(),\n",
    "    GradientBoostingClassifier(),\n",
    "]"
   ]
  },
  {
   "cell_type": "code",
   "execution_count": 347,
   "metadata": {},
   "outputs": [
    {
     "data": {
      "image/png": "[encoded data removed]",
      "text/plain": [
       "<Figure size 1440x266.4 with 8 Axes>"
      ]
     },
     "metadata": {
      "needs_background": "light"
     },
     "output_type": "display_data"
    },
    {
     "data": {
      "image/png": "[encoded data removed]",
      "text/plain": [
       "<Figure size 1440x266.4 with 8 Axes>"
      ]
     },
     "metadata": {
      "needs_background": "light"
     },
     "output_type": "display_data"
    }
   ],
   "source": [
    "df = count_keywords(df_balanced, content_columns, article_keywords)\n",
    "X = df[article_keywords]\n",
    "y = df[label]\n",
    "X_train, X_test, y_train, y_test = train_test_split(X, y, test_size=0.2)\n",
    "\n",
    "train_classifiers(classifiers,X_train, y_train)\n",
    "\n",
    "plot_confusion_matrices(classifiers, X_train, y_train,title=\"TRAIN\", normalize='true')\n",
    "plot_confusion_matrices(classifiers, X_test, y_test,title=\"TEST\", normalize='true')"
   ]
  },
  {
   "cell_type": "markdown",
   "metadata": {},
   "source": [
    "### TF IDF VECTORIZE"
   ]
  },
  {
   "cell_type": "code",
   "execution_count": 348,
   "metadata": {},
   "outputs": [],
   "source": [
    "def vectorize(df,tfidfvectorizer):\n",
    "    train = df['text'] \n",
    "    # instantiate the vectorizer object\n",
    "    # convert th documents into a matrix\n",
    "    tfidf_wm = tfidfvectorizer.fit_transform(train)\n",
    "    tfidf_tokens = tfidfvectorizer.get_feature_names()\n",
    "    df_tfidfvect = pd.DataFrame(data = tfidf_wm.toarray(),columns =tfidf_tokens)\n",
    "    return df_tfidfvect"
   ]
  },
  {
   "cell_type": "code",
   "execution_count": 349,
   "metadata": {},
   "outputs": [
    {
     "data": {
      "image/png": "[encoded data removed]",
      "text/plain": [
       "<Figure size 1440x266.4 with 8 Axes>"
      ]
     },
     "metadata": {
      "needs_background": "light"
     },
     "output_type": "display_data"
    },
    {
     "data": {
      "image/png": "[encoded data removed]",
      "text/plain": [
       "<Figure size 1440x266.4 with 8 Axes>"
      ]
     },
     "metadata": {
      "needs_background": "light"
     },
     "output_type": "display_data"
    }
   ],
   "source": [
    "tfidfvectorizer = TfidfVectorizer(analyzer='word',stop_words= 'english')\n",
    "\n",
    "X = tfidfvectorizer.fit_transform(df_balanced['text'])\n",
    "y = df_balanced[label]\n",
    "X_train, X_test, y_train, y_test = train_test_split(X, y, test_size=0.2)\n",
    "\n",
    "train_classifiers(classifiers,X_train, y_train)\n",
    "\n",
    "plot_confusion_matrices(classifiers, X_train, y_train,title=\"TRAIN\", normalize='true')\n",
    "plot_confusion_matrices(classifiers, X_test, y_test,title=\"TEST\", normalize='true')"
   ]
  },
  {
   "cell_type": "code",
   "execution_count": 350,
   "metadata": {},
   "outputs": [
    {
     "name": "stdout",
     "output_type": "stream",
     "text": [
      "# stories \t: 272 (51.47% COVID)\n",
      "# stories \t: 68 (44.12% COVID)\n"
     ]
    }
   ],
   "source": [
    "print_useful_info(pd.DataFrame(y_train))\n",
    "print_useful_info(pd.DataFrame(y_test))"
   ]
  },
  {
   "cell_type": "markdown",
   "metadata": {},
   "source": [
    "### Threshold analysis\n",
    "##### Increase threshold to limit false positives, since 90% of stories scraped are not COVID related\n",
    "##### Best threshold must also not create too many new false negatives \n",
    "\n",
    "##### Conduct analysis on df_init (all daat) since this data has mostly non-covid stories"
   ]
  },
  {
   "cell_type": "code",
   "execution_count": 351,
   "metadata": {},
   "outputs": [],
   "source": [
    "\n",
    "import plotly.graph_objects as go\n",
    "def plot_change(classifier, X, y, threshold_range):\n",
    "    prob_of_success = classifier.predict_proba(X)[:,1]\n",
    "    correct = []\n",
    "    false_positives = []\n",
    "    false_negatives = []\n",
    "    total_positives = y[y].shape[0]\n",
    "    total_negatives = y[~y].shape[0]\n",
    "    for threshold in threshold_range:\n",
    "        predictions  = prob_of_success > threshold \n",
    "        on_map = predictions[predictions].shape[0]\n",
    "        false_p = predictions[predictions & (~y)].shape[0]\n",
    "        false_n = predictions[(~predictions) & y].shape[0]\n",
    "#         true_p = predictions[predictions & y].shape[0]\n",
    "#         total_positives_simulated = false_p*90 + true_p*10\n",
    "#         false_positives.append((false_p*90)/(total_positives_simulated)*100)\n",
    "        false_positives.append((false_p)/(on_map)*100)\n",
    "        false_negatives.append((false_n)/(total_positives+false_n)*100)\n",
    "    x =threshold_range \n",
    "    fig = go.Figure(data=[\n",
    "                        go.Scatter(x=x, y=false_negatives, name= \"False Negative: % of actual covid stories missed\"),\n",
    "                        go.Scatter(x=x, y=false_positives, name= \"False Positive: % stories on map false\"),\n",
    "                        go.Scatter(x=x, y=100-np.array(false_negatives), name= \"% covid stories identified\"),\n",
    "                         ])\n",
    "    fig.update_xaxes(\n",
    "        tickangle = 90,\n",
    "        title_text = \"Threshold\",\n",
    "        title_standoff = 25)\n",
    "    fig.update_yaxes(\n",
    "        title_text = \"Percent\",\n",
    "        title_standoff = 25)\n",
    "    fig.update_layout(title_text=type(classifier).__name__)\n",
    "    fig.show()"
   ]
  },
  {
   "cell_type": "code",
   "execution_count": 352,
   "metadata": {},
   "outputs": [
    {
     "name": "stdout",
     "output_type": "stream",
     "text": [
      "# stories \t: 300 (10.00% COVID)\n"
     ]
    }
   ],
   "source": [
    "tfidf_tokens = tfidfvectorizer.get_feature_names()\n",
    "test= pd.DataFrame(data = X_test.toarray(),columns =tfidf_tokens)\n",
    "test[label] = y_test.values\n",
    "\n",
    "test_true = test[test[label]==True]\n",
    "df_false = df_init[df_init[label]==False]\n",
    "\n",
    "n_rows_to_sample = test_true.shape[0]*9\n",
    "df_sample = df_false.sample(n=n_rows_to_sample)\n",
    "\n",
    "X_sample = tfidfvectorizer.transform(df_sample['text'])\n",
    "tfidf_tokens = tfidfvectorizer.get_feature_names()\n",
    "df_sample_tfidf = pd.DataFrame(data = X_sample.toarray(),columns =tfidf_tokens)\n",
    "df_sample_tfidf[label] = False\n",
    "\n",
    "final_df = pd.concat([test_true,df_sample_tfidf],axis=0)\n",
    "print_useful_info(final_df)"
   ]
  },
  {
   "cell_type": "code",
   "execution_count": 355,
   "metadata": {},
   "outputs": [
    {
     "data": {
      "application/vnd.plotly.v1+json": {
       "config": {
        "plotlyServerURL": "https://plot.ly"
       },
       "data": [
        {
         "name": "False Negative: % of actual covid stories missed",
         "type": "scatter",
         "x": [
          0.15,
          0.16,
          0.17,
          0.18000000000000002,
          0.19000000000000003,
          0.20000000000000004,
          0.21000000000000005,
          0.22000000000000006,
          0.23000000000000007,
          0.24000000000000007,
          0.2500000000000001,
          0.2600000000000001,
          0.27000000000000013,
          0.28000000000000014,
          0.29000000000000015,
          0.30000000000000016,
          0.31000000000000016,
          0.3200000000000002,
          0.3300000000000002,
          0.3400000000000002,
          0.3500000000000002,
          0.3600000000000002,
          0.3700000000000002,
          0.3800000000000002,
          0.39000000000000024,
          0.40000000000000024,
          0.41000000000000025,
          0.42000000000000026,
          0.43000000000000027,
          0.4400000000000003,
          0.4500000000000003,
          0.4600000000000003,
          0.4700000000000003,
          0.4800000000000003,
          0.4900000000000003,
          0.5000000000000003,
          0.5100000000000003,
          0.5200000000000004,
          0.5300000000000004,
          0.5400000000000004,
          0.5500000000000004,
          0.5600000000000004,
          0.5700000000000004,
          0.5800000000000004,
          0.5900000000000004,
          0.6000000000000004,
          0.6100000000000004,
          0.6200000000000004,
          0.6300000000000004,
          0.6400000000000005,
          0.6500000000000005,
          0.6600000000000005,
          0.6700000000000005,
          0.6800000000000005,
          0.6900000000000005,
          0.7000000000000005,
          0.7100000000000005,
          0.7200000000000005,
          0.7300000000000005,
          0.7400000000000005,
          0.7500000000000006,
          0.7600000000000006,
          0.7700000000000006,
          0.7800000000000006,
          0.7900000000000006,
          0.8000000000000006,
          0.8100000000000006,
          0.8200000000000006,
          0.8300000000000006,
          0.8400000000000006
         ],
         "y": [
          0,
          0,
          0,
          0,
          0,
          0,
          0,
          0,
          0,
          0,
          0,
          0,
          0,
          3.225806451612903,
          3.225806451612903,
          3.225806451612903,
          3.225806451612903,
          3.225806451612903,
          3.225806451612903,
          3.225806451612903,
          3.225806451612903,
          3.225806451612903,
          3.225806451612903,
          3.225806451612903,
          3.225806451612903,
          3.225806451612903,
          6.25,
          6.25,
          6.25,
          6.25,
          6.25,
          6.25,
          6.25,
          6.25,
          9.090909090909092,
          9.090909090909092,
          9.090909090909092,
          9.090909090909092,
          9.090909090909092,
          9.090909090909092,
          9.090909090909092,
          11.76470588235294,
          14.285714285714285,
          16.666666666666664,
          16.666666666666664,
          16.666666666666664,
          21.052631578947366,
          23.076923076923077,
          25,
          25,
          25,
          30.23255813953488,
          31.818181818181817,
          34.78260869565217,
          34.78260869565217,
          38.775510204081634,
          40,
          40,
          41.17647058823529,
          41.17647058823529,
          42.30769230769231,
          44.44444444444444,
          44.44444444444444,
          44.44444444444444,
          44.44444444444444,
          45.45454545454545,
          46.42857142857143,
          46.42857142857143,
          47.368421052631575,
          48.275862068965516
         ]
        },
        {
         "name": "False Positive: % stories on map false",
         "type": "scatter",
         "x": [
          0.15,
          0.16,
          0.17,
          0.18000000000000002,
          0.19000000000000003,
          0.20000000000000004,
          0.21000000000000005,
          0.22000000000000006,
          0.23000000000000007,
          0.24000000000000007,
          0.2500000000000001,
          0.2600000000000001,
          0.27000000000000013,
          0.28000000000000014,
          0.29000000000000015,
          0.30000000000000016,
          0.31000000000000016,
          0.3200000000000002,
          0.3300000000000002,
          0.3400000000000002,
          0.3500000000000002,
          0.3600000000000002,
          0.3700000000000002,
          0.3800000000000002,
          0.39000000000000024,
          0.40000000000000024,
          0.41000000000000025,
          0.42000000000000026,
          0.43000000000000027,
          0.4400000000000003,
          0.4500000000000003,
          0.4600000000000003,
          0.4700000000000003,
          0.4800000000000003,
          0.4900000000000003,
          0.5000000000000003,
          0.5100000000000003,
          0.5200000000000004,
          0.5300000000000004,
          0.5400000000000004,
          0.5500000000000004,
          0.5600000000000004,
          0.5700000000000004,
          0.5800000000000004,
          0.5900000000000004,
          0.6000000000000004,
          0.6100000000000004,
          0.6200000000000004,
          0.6300000000000004,
          0.6400000000000005,
          0.6500000000000005,
          0.6600000000000005,
          0.6700000000000005,
          0.6800000000000005,
          0.6900000000000005,
          0.7000000000000005,
          0.7100000000000005,
          0.7200000000000005,
          0.7300000000000005,
          0.7400000000000005,
          0.7500000000000006,
          0.7600000000000006,
          0.7700000000000006,
          0.7800000000000006,
          0.7900000000000006,
          0.8000000000000006,
          0.8100000000000006,
          0.8200000000000006,
          0.8300000000000006,
          0.8400000000000006
         ],
         "y": [
          90,
          90,
          90,
          89.96655518394648,
          89.93288590604027,
          89.76109215017065,
          89.61937716262976,
          89.47368421052632,
          89.39929328621908,
          89.28571428571429,
          89.20863309352518,
          89.13043478260869,
          88.97058823529412,
          89.13857677902621,
          89.09774436090225,
          88.93129770992367,
          88.715953307393,
          88.30645161290323,
          87.86610878661088,
          87.39130434782608,
          86.87782805429865,
          86.0576923076923,
          85.12820512820512,
          84.23913043478261,
          82.73809523809523,
          80.66666666666666,
          78.94736842105263,
          75.22123893805309,
          70.2127659574468,
          66.66666666666666,
          59.42028985507246,
          54.09836065573771,
          46.15384615384615,
          44,
          42.5531914893617,
          40,
          35.714285714285715,
          34.146341463414636,
          32.5,
          25,
          25,
          25.71428571428571,
          21.875,
          20,
          17.24137931034483,
          11.11111111111111,
          12,
          12.5,
          13.043478260869565,
          13.043478260869565,
          13.043478260869565,
          15,
          15.789473684210526,
          17.647058823529413,
          12.5,
          15.384615384615385,
          16.666666666666664,
          16.666666666666664,
          18.181818181818183,
          10,
          11.11111111111111,
          14.285714285714285,
          14.285714285714285,
          14.285714285714285,
          0,
          0,
          0,
          0,
          0,
          0
         ]
        },
        {
         "name": "% covid stories identified",
         "type": "scatter",
         "x": [
          0.15,
          0.16,
          0.17,
          0.18000000000000002,
          0.19000000000000003,
          0.20000000000000004,
          0.21000000000000005,
          0.22000000000000006,
          0.23000000000000007,
          0.24000000000000007,
          0.2500000000000001,
          0.2600000000000001,
          0.27000000000000013,
          0.28000000000000014,
          0.29000000000000015,
          0.30000000000000016,
          0.31000000000000016,
          0.3200000000000002,
          0.3300000000000002,
          0.3400000000000002,
          0.3500000000000002,
          0.3600000000000002,
          0.3700000000000002,
          0.3800000000000002,
          0.39000000000000024,
          0.40000000000000024,
          0.41000000000000025,
          0.42000000000000026,
          0.43000000000000027,
          0.4400000000000003,
          0.4500000000000003,
          0.4600000000000003,
          0.4700000000000003,
          0.4800000000000003,
          0.4900000000000003,
          0.5000000000000003,
          0.5100000000000003,
          0.5200000000000004,
          0.5300000000000004,
          0.5400000000000004,
          0.5500000000000004,
          0.5600000000000004,
          0.5700000000000004,
          0.5800000000000004,
          0.5900000000000004,
          0.6000000000000004,
          0.6100000000000004,
          0.6200000000000004,
          0.6300000000000004,
          0.6400000000000005,
          0.6500000000000005,
          0.6600000000000005,
          0.6700000000000005,
          0.6800000000000005,
          0.6900000000000005,
          0.7000000000000005,
          0.7100000000000005,
          0.7200000000000005,
          0.7300000000000005,
          0.7400000000000005,
          0.7500000000000006,
          0.7600000000000006,
          0.7700000000000006,
          0.7800000000000006,
          0.7900000000000006,
          0.8000000000000006,
          0.8100000000000006,
          0.8200000000000006,
          0.8300000000000006,
          0.8400000000000006
         ],
         "y": [
          100,
          100,
          100,
          100,
          100,
          100,
          100,
          100,
          100,
          100,
          100,
          100,
          100,
          96.7741935483871,
          96.7741935483871,
          96.7741935483871,
          96.7741935483871,
          96.7741935483871,
          96.7741935483871,
          96.7741935483871,
          96.7741935483871,
          96.7741935483871,
          96.7741935483871,
          96.7741935483871,
          96.7741935483871,
          96.7741935483871,
          93.75,
          93.75,
          93.75,
          93.75,
          93.75,
          93.75,
          93.75,
          93.75,
          90.9090909090909,
          90.9090909090909,
          90.9090909090909,
          90.9090909090909,
          90.9090909090909,
          90.9090909090909,
          90.9090909090909,
          88.23529411764706,
          85.71428571428572,
          83.33333333333334,
          83.33333333333334,
          83.33333333333334,
          78.94736842105263,
          76.92307692307692,
          75,
          75,
          75,
          69.76744186046511,
          68.18181818181819,
          65.21739130434783,
          65.21739130434783,
          61.224489795918366,
          60,
          60,
          58.82352941176471,
          58.82352941176471,
          57.69230769230769,
          55.55555555555556,
          55.55555555555556,
          55.55555555555556,
          55.55555555555556,
          54.54545454545455,
          53.57142857142857,
          53.57142857142857,
          52.631578947368425,
          51.724137931034484
         ]
        }
       ],
       "layout": {
        "autosize": true,
        "template": {
         "data": {
          "bar": [
           {
            "error_x": {
             "color": "#2a3f5f"
            },
            "error_y": {
             "color": "#2a3f5f"
            },
            "marker": {
             "line": {
              "color": "#E5ECF6",
              "width": 0.5
             }
            },
            "type": "bar"
           }
          ],
          "barpolar": [
           {
            "marker": {
             "line": {
              "color": "#E5ECF6",
              "width": 0.5
             }
            },
            "type": "barpolar"
           }
          ],
          "carpet": [
           {
            "aaxis": {
             "endlinecolor": "#2a3f5f",
             "gridcolor": "white",
             "linecolor": "white",
             "minorgridcolor": "white",
             "startlinecolor": "#2a3f5f"
            },
            "baxis": {
             "endlinecolor": "#2a3f5f",
             "gridcolor": "white",
             "linecolor": "white",
             "minorgridcolor": "white",
             "startlinecolor": "#2a3f5f"
            },
            "type": "carpet"
           }
          ],
          "choropleth": [
           {
            "colorbar": {
             "outlinewidth": 0,
             "ticks": ""
            },
            "type": "choropleth"
           }
          ],
          "contour": [
           {
            "colorbar": {
             "outlinewidth": 0,
             "ticks": ""
            },
            "colorscale": [
             [
              0,
              "#0d0887"
             ],
             [
              0.1111111111111111,
              "#46039f"
             ],
             [
              0.2222222222222222,
              "#7201a8"
             ],
             [
              0.3333333333333333,
              "#9c179e"
             ],
             [
              0.4444444444444444,
              "#bd3786"
             ],
             [
              0.5555555555555556,
              "#d8576b"
             ],
             [
              0.6666666666666666,
              "#ed7953"
             ],
             [
              0.7777777777777778,
              "#fb9f3a"
             ],
             [
              0.8888888888888888,
              "#fdca26"
             ],
             [
              1,
              "#f0f921"
             ]
            ],
            "type": "contour"
           }
          ],
          "contourcarpet": [
           {
            "colorbar": {
             "outlinewidth": 0,
             "ticks": ""
            },
            "type": "contourcarpet"
           }
          ],
          "heatmap": [
           {
            "colorbar": {
             "outlinewidth": 0,
             "ticks": ""
            },
            "colorscale": [
             [
              0,
              "#0d0887"
             ],
             [
              0.1111111111111111,
              "#46039f"
             ],
             [
              0.2222222222222222,
              "#7201a8"
             ],
             [
              0.3333333333333333,
              "#9c179e"
             ],
             [
              0.4444444444444444,
              "#bd3786"
             ],
             [
              0.5555555555555556,
              "#d8576b"
             ],
             [
              0.6666666666666666,
              "#ed7953"
             ],
             [
              0.7777777777777778,
              "#fb9f3a"
             ],
             [
              0.8888888888888888,
              "#fdca26"
             ],
             [
              1,
              "#f0f921"
             ]
            ],
            "type": "heatmap"
           }
          ],
          "heatmapgl": [
           {
            "colorbar": {
             "outlinewidth": 0,
             "ticks": ""
            },
            "colorscale": [
             [
              0,
              "#0d0887"
             ],
             [
              0.1111111111111111,
              "#46039f"
             ],
             [
              0.2222222222222222,
              "#7201a8"
             ],
             [
              0.3333333333333333,
              "#9c179e"
             ],
             [
              0.4444444444444444,
              "#bd3786"
             ],
             [
              0.5555555555555556,
              "#d8576b"
             ],
             [
              0.6666666666666666,
              "#ed7953"
             ],
             [
              0.7777777777777778,
              "#fb9f3a"
             ],
             [
              0.8888888888888888,
              "#fdca26"
             ],
             [
              1,
              "#f0f921"
             ]
            ],
            "type": "heatmapgl"
           }
          ],
          "histogram": [
           {
            "marker": {
             "colorbar": {
              "outlinewidth": 0,
              "ticks": ""
             }
            },
            "type": "histogram"
           }
          ],
          "histogram2d": [
           {
            "colorbar": {
             "outlinewidth": 0,
             "ticks": ""
            },
            "colorscale": [
             [
              0,
              "#0d0887"
             ],
             [
              0.1111111111111111,
              "#46039f"
             ],
             [
              0.2222222222222222,
              "#7201a8"
             ],
             [
              0.3333333333333333,
              "#9c179e"
             ],
             [
              0.4444444444444444,
              "#bd3786"
             ],
             [
              0.5555555555555556,
              "#d8576b"
             ],
             [
              0.6666666666666666,
              "#ed7953"
             ],
             [
              0.7777777777777778,
              "#fb9f3a"
             ],
             [
              0.8888888888888888,
              "#fdca26"
             ],
             [
              1,
              "#f0f921"
             ]
            ],
            "type": "histogram2d"
           }
          ],
          "histogram2dcontour": [
           {
            "colorbar": {
             "outlinewidth": 0,
             "ticks": ""
            },
            "colorscale": [
             [
              0,
              "#0d0887"
             ],
             [
              0.1111111111111111,
              "#46039f"
             ],
             [
              0.2222222222222222,
              "#7201a8"
             ],
             [
              0.3333333333333333,
              "#9c179e"
             ],
             [
              0.4444444444444444,
              "#bd3786"
             ],
             [
              0.5555555555555556,
              "#d8576b"
             ],
             [
              0.6666666666666666,
              "#ed7953"
             ],
             [
              0.7777777777777778,
              "#fb9f3a"
             ],
             [
              0.8888888888888888,
              "#fdca26"
             ],
             [
              1,
              "#f0f921"
             ]
            ],
            "type": "histogram2dcontour"
           }
          ],
          "mesh3d": [
           {
            "colorbar": {
             "outlinewidth": 0,
             "ticks": ""
            },
            "type": "mesh3d"
           }
          ],
          "parcoords": [
           {
            "line": {
             "colorbar": {
              "outlinewidth": 0,
              "ticks": ""
             }
            },
            "type": "parcoords"
           }
          ],
          "pie": [
           {
            "automargin": true,
            "type": "pie"
           }
          ],
          "scatter": [
           {
            "marker": {
             "colorbar": {
              "outlinewidth": 0,
              "ticks": ""
             }
            },
            "type": "scatter"
           }
          ],
          "scatter3d": [
           {
            "line": {
             "colorbar": {
              "outlinewidth": 0,
              "ticks": ""
             }
            },
            "marker": {
             "colorbar": {
              "outlinewidth": 0,
              "ticks": ""
             }
            },
            "type": "scatter3d"
           }
          ],
          "scattercarpet": [
           {
            "marker": {
             "colorbar": {
              "outlinewidth": 0,
              "ticks": ""
             }
            },
            "type": "scattercarpet"
           }
          ],
          "scattergeo": [
           {
            "marker": {
             "colorbar": {
              "outlinewidth": 0,
              "ticks": ""
             }
            },
            "type": "scattergeo"
           }
          ],
          "scattergl": [
           {
            "marker": {
             "colorbar": {
              "outlinewidth": 0,
              "ticks": ""
             }
            },
            "type": "scattergl"
           }
          ],
          "scattermapbox": [
           {
            "marker": {
             "colorbar": {
              "outlinewidth": 0,
              "ticks": ""
             }
            },
            "type": "scattermapbox"
           }
          ],
          "scatterpolar": [
           {
            "marker": {
             "colorbar": {
              "outlinewidth": 0,
              "ticks": ""
             }
            },
            "type": "scatterpolar"
           }
          ],
          "scatterpolargl": [
           {
            "marker": {
             "colorbar": {
              "outlinewidth": 0,
              "ticks": ""
             }
            },
            "type": "scatterpolargl"
           }
          ],
          "scatterternary": [
           {
            "marker": {
             "colorbar": {
              "outlinewidth": 0,
              "ticks": ""
             }
            },
            "type": "scatterternary"
           }
          ],
          "surface": [
           {
            "colorbar": {
             "outlinewidth": 0,
             "ticks": ""
            },
            "colorscale": [
             [
              0,
              "#0d0887"
             ],
             [
              0.1111111111111111,
              "#46039f"
             ],
             [
              0.2222222222222222,
              "#7201a8"
             ],
             [
              0.3333333333333333,
              "#9c179e"
             ],
             [
              0.4444444444444444,
              "#bd3786"
             ],
             [
              0.5555555555555556,
              "#d8576b"
             ],
             [
              0.6666666666666666,
              "#ed7953"
             ],
             [
              0.7777777777777778,
              "#fb9f3a"
             ],
             [
              0.8888888888888888,
              "#fdca26"
             ],
             [
              1,
              "#f0f921"
             ]
            ],
            "type": "surface"
           }
          ],
          "table": [
           {
            "cells": {
             "fill": {
              "color": "#EBF0F8"
             },
             "line": {
              "color": "white"
             }
            },
            "header": {
             "fill": {
              "color": "#C8D4E3"
             },
             "line": {
              "color": "white"
             }
            },
            "type": "table"
           }
          ]
         },
         "layout": {
          "annotationdefaults": {
           "arrowcolor": "#2a3f5f",
           "arrowhead": 0,
           "arrowwidth": 1
          },
          "autotypenumbers": "strict",
          "coloraxis": {
           "colorbar": {
            "outlinewidth": 0,
            "ticks": ""
           }
          },
          "colorscale": {
           "diverging": [
            [
             0,
             "#8e0152"
            ],
            [
             0.1,
             "#c51b7d"
            ],
            [
             0.2,
             "#de77ae"
            ],
            [
             0.3,
             "#f1b6da"
            ],
            [
             0.4,
             "#fde0ef"
            ],
            [
             0.5,
             "#f7f7f7"
            ],
            [
             0.6,
             "#e6f5d0"
            ],
            [
             0.7,
             "#b8e186"
            ],
            [
             0.8,
             "#7fbc41"
            ],
            [
             0.9,
             "#4d9221"
            ],
            [
             1,
             "#276419"
            ]
           ],
           "sequential": [
            [
             0,
             "#0d0887"
            ],
            [
             0.1111111111111111,
             "#46039f"
            ],
            [
             0.2222222222222222,
             "#7201a8"
            ],
            [
             0.3333333333333333,
             "#9c179e"
            ],
            [
             0.4444444444444444,
             "#bd3786"
            ],
            [
             0.5555555555555556,
             "#d8576b"
            ],
            [
             0.6666666666666666,
             "#ed7953"
            ],
            [
             0.7777777777777778,
             "#fb9f3a"
            ],
            [
             0.8888888888888888,
             "#fdca26"
            ],
            [
             1,
             "#f0f921"
            ]
           ],
           "sequentialminus": [
            [
             0,
             "#0d0887"
            ],
            [
             0.1111111111111111,
             "#46039f"
            ],
            [
             0.2222222222222222,
             "#7201a8"
            ],
            [
             0.3333333333333333,
             "#9c179e"
            ],
            [
             0.4444444444444444,
             "#bd3786"
            ],
            [
             0.5555555555555556,
             "#d8576b"
            ],
            [
             0.6666666666666666,
             "#ed7953"
            ],
            [
             0.7777777777777778,
             "#fb9f3a"
            ],
            [
             0.8888888888888888,
             "#fdca26"
            ],
            [
             1,
             "#f0f921"
            ]
           ]
          },
          "colorway": [
           "#636efa",
           "#EF553B",
           "#00cc96",
           "#ab63fa",
           "#FFA15A",
           "#19d3f3",
           "#FF6692",
           "#B6E880",
           "#FF97FF",
           "#FECB52"
          ],
          "font": {
           "color": "#2a3f5f"
          },
          "geo": {
           "bgcolor": "white",
           "lakecolor": "white",
           "landcolor": "#E5ECF6",
           "showlakes": true,
           "showland": true,
           "subunitcolor": "white"
          },
          "hoverlabel": {
           "align": "left"
          },
          "hovermode": "closest",
          "mapbox": {
           "style": "light"
          },
          "paper_bgcolor": "white",
          "plot_bgcolor": "#E5ECF6",
          "polar": {
           "angularaxis": {
            "gridcolor": "white",
            "linecolor": "white",
            "ticks": ""
           },
           "bgcolor": "#E5ECF6",
           "radialaxis": {
            "gridcolor": "white",
            "linecolor": "white",
            "ticks": ""
           }
          },
          "scene": {
           "xaxis": {
            "backgroundcolor": "#E5ECF6",
            "gridcolor": "white",
            "gridwidth": 2,
            "linecolor": "white",
            "showbackground": true,
            "ticks": "",
            "zerolinecolor": "white"
           },
           "yaxis": {
            "backgroundcolor": "#E5ECF6",
            "gridcolor": "white",
            "gridwidth": 2,
            "linecolor": "white",
            "showbackground": true,
            "ticks": "",
            "zerolinecolor": "white"
           },
           "zaxis": {
            "backgroundcolor": "#E5ECF6",
            "gridcolor": "white",
            "gridwidth": 2,
            "linecolor": "white",
            "showbackground": true,
            "ticks": "",
            "zerolinecolor": "white"
           }
          },
          "shapedefaults": {
           "line": {
            "color": "#2a3f5f"
           }
          },
          "ternary": {
           "aaxis": {
            "gridcolor": "white",
            "linecolor": "white",
            "ticks": ""
           },
           "baxis": {
            "gridcolor": "white",
            "linecolor": "white",
            "ticks": ""
           },
           "bgcolor": "#E5ECF6",
           "caxis": {
            "gridcolor": "white",
            "linecolor": "white",
            "ticks": ""
           }
          },
          "title": {
           "x": 0.05
          },
          "xaxis": {
           "automargin": true,
           "gridcolor": "white",
           "linecolor": "white",
           "ticks": "",
           "title": {
            "standoff": 15
           },
           "zerolinecolor": "white",
           "zerolinewidth": 2
          },
          "yaxis": {
           "automargin": true,
           "gridcolor": "white",
           "linecolor": "white",
           "ticks": "",
           "title": {
            "standoff": 15
           },
           "zerolinecolor": "white",
           "zerolinewidth": 2
          }
         }
        },
        "title": {
         "text": "LogisticRegression"
        },
        "xaxis": {
         "autorange": true,
         "range": [
          0.15,
          0.8400000000000006
         ],
         "tickangle": 90,
         "title": {
          "standoff": 25,
          "text": "Threshold"
         },
         "type": "linear"
        },
        "yaxis": {
         "autorange": true,
         "range": [
          -5.555555555555555,
          105.55555555555556
         ],
         "title": {
          "standoff": 25,
          "text": "Percent"
         },
         "type": "linear"
        }
       }
      },
      "image/png": "[encoded data removed]",
      "text/html": [
       "<div>                            <div id=\"85e8e603-3302-4a5c-9c8c-da2de68ff464\" class=\"plotly-graph-div\" style=\"height:525px; width:100%;\"></div>            <script type=\"text/javascript\">                require([\"plotly\"], function(Plotly) {                    window.PLOTLYENV=window.PLOTLYENV || {};                                    if (document.getElementById(\"85e8e603-3302-4a5c-9c8c-da2de68ff464\")) {                    Plotly.newPlot(                        \"85e8e603-3302-4a5c-9c8c-da2de68ff464\",                        [{\"name\": \"False Negative: % of actual covid stories missed\", \"type\": \"scatter\", \"x\": [0.15, 0.16, 0.17, 0.18000000000000002, 0.19000000000000003, 0.20000000000000004, 0.21000000000000005, 0.22000000000000006, 0.23000000000000007, 0.24000000000000007, 0.2500000000000001, 0.2600000000000001, 0.27000000000000013, 0.28000000000000014, 0.29000000000000015, 0.30000000000000016, 0.31000000000000016, 0.3200000000000002, 0.3300000000000002, 0.3400000000000002, 0.3500000000000002, 0.3600000000000002, 0.3700000000000002, 0.3800000000000002, 0.39000000000000024, 0.40000000000000024, 0.41000000000000025, 0.42000000000000026, 0.43000000000000027, 0.4400000000000003, 0.4500000000000003, 0.4600000000000003, 0.4700000000000003, 0.4800000000000003, 0.4900000000000003, 0.5000000000000003, 0.5100000000000003, 0.5200000000000004, 0.5300000000000004, 0.5400000000000004, 0.5500000000000004, 0.5600000000000004, 0.5700000000000004, 0.5800000000000004, 0.5900000000000004, 0.6000000000000004, 0.6100000000000004, 0.6200000000000004, 0.6300000000000004, 0.6400000000000005, 0.6500000000000005, 0.6600000000000005, 0.6700000000000005, 0.6800000000000005, 0.6900000000000005, 0.7000000000000005, 0.7100000000000005, 0.7200000000000005, 0.7300000000000005, 0.7400000000000005, 0.7500000000000006, 0.7600000000000006, 0.7700000000000006, 0.7800000000000006, 0.7900000000000006, 0.8000000000000006, 0.8100000000000006, 0.8200000000000006, 0.8300000000000006, 0.8400000000000006], \"y\": [0.0, 0.0, 0.0, 0.0, 0.0, 0.0, 0.0, 0.0, 0.0, 0.0, 0.0, 0.0, 0.0, 3.225806451612903, 3.225806451612903, 3.225806451612903, 3.225806451612903, 3.225806451612903, 3.225806451612903, 3.225806451612903, 3.225806451612903, 3.225806451612903, 3.225806451612903, 3.225806451612903, 3.225806451612903, 3.225806451612903, 6.25, 6.25, 6.25, 6.25, 6.25, 6.25, 6.25, 6.25, 9.090909090909092, 9.090909090909092, 9.090909090909092, 9.090909090909092, 9.090909090909092, 9.090909090909092, 9.090909090909092, 11.76470588235294, 14.285714285714285, 16.666666666666664, 16.666666666666664, 16.666666666666664, 21.052631578947366, 23.076923076923077, 25.0, 25.0, 25.0, 30.23255813953488, 31.818181818181817, 34.78260869565217, 34.78260869565217, 38.775510204081634, 40.0, 40.0, 41.17647058823529, 41.17647058823529, 42.30769230769231, 44.44444444444444, 44.44444444444444, 44.44444444444444, 44.44444444444444, 45.45454545454545, 46.42857142857143, 46.42857142857143, 47.368421052631575, 48.275862068965516]}, {\"name\": \"False Positive: % stories on map false\", \"type\": \"scatter\", \"x\": [0.15, 0.16, 0.17, 0.18000000000000002, 0.19000000000000003, 0.20000000000000004, 0.21000000000000005, 0.22000000000000006, 0.23000000000000007, 0.24000000000000007, 0.2500000000000001, 0.2600000000000001, 0.27000000000000013, 0.28000000000000014, 0.29000000000000015, 0.30000000000000016, 0.31000000000000016, 0.3200000000000002, 0.3300000000000002, 0.3400000000000002, 0.3500000000000002, 0.3600000000000002, 0.3700000000000002, 0.3800000000000002, 0.39000000000000024, 0.40000000000000024, 0.41000000000000025, 0.42000000000000026, 0.43000000000000027, 0.4400000000000003, 0.4500000000000003, 0.4600000000000003, 0.4700000000000003, 0.4800000000000003, 0.4900000000000003, 0.5000000000000003, 0.5100000000000003, 0.5200000000000004, 0.5300000000000004, 0.5400000000000004, 0.5500000000000004, 0.5600000000000004, 0.5700000000000004, 0.5800000000000004, 0.5900000000000004, 0.6000000000000004, 0.6100000000000004, 0.6200000000000004, 0.6300000000000004, 0.6400000000000005, 0.6500000000000005, 0.6600000000000005, 0.6700000000000005, 0.6800000000000005, 0.6900000000000005, 0.7000000000000005, 0.7100000000000005, 0.7200000000000005, 0.7300000000000005, 0.7400000000000005, 0.7500000000000006, 0.7600000000000006, 0.7700000000000006, 0.7800000000000006, 0.7900000000000006, 0.8000000000000006, 0.8100000000000006, 0.8200000000000006, 0.8300000000000006, 0.8400000000000006], \"y\": [90.0, 90.0, 90.0, 89.96655518394648, 89.93288590604027, 89.76109215017065, 89.61937716262976, 89.47368421052632, 89.39929328621908, 89.28571428571429, 89.20863309352518, 89.13043478260869, 88.97058823529412, 89.13857677902621, 89.09774436090225, 88.93129770992367, 88.715953307393, 88.30645161290323, 87.86610878661088, 87.39130434782608, 86.87782805429865, 86.0576923076923, 85.12820512820512, 84.23913043478261, 82.73809523809523, 80.66666666666666, 78.94736842105263, 75.22123893805309, 70.2127659574468, 66.66666666666666, 59.42028985507246, 54.09836065573771, 46.15384615384615, 44.0, 42.5531914893617, 40.0, 35.714285714285715, 34.146341463414636, 32.5, 25.0, 25.0, 25.71428571428571, 21.875, 20.0, 17.24137931034483, 11.11111111111111, 12.0, 12.5, 13.043478260869565, 13.043478260869565, 13.043478260869565, 15.0, 15.789473684210526, 17.647058823529413, 12.5, 15.384615384615385, 16.666666666666664, 16.666666666666664, 18.181818181818183, 10.0, 11.11111111111111, 14.285714285714285, 14.285714285714285, 14.285714285714285, 0.0, 0.0, 0.0, 0.0, 0.0, 0.0]}, {\"name\": \"% covid stories identified\", \"type\": \"scatter\", \"x\": [0.15, 0.16, 0.17, 0.18000000000000002, 0.19000000000000003, 0.20000000000000004, 0.21000000000000005, 0.22000000000000006, 0.23000000000000007, 0.24000000000000007, 0.2500000000000001, 0.2600000000000001, 0.27000000000000013, 0.28000000000000014, 0.29000000000000015, 0.30000000000000016, 0.31000000000000016, 0.3200000000000002, 0.3300000000000002, 0.3400000000000002, 0.3500000000000002, 0.3600000000000002, 0.3700000000000002, 0.3800000000000002, 0.39000000000000024, 0.40000000000000024, 0.41000000000000025, 0.42000000000000026, 0.43000000000000027, 0.4400000000000003, 0.4500000000000003, 0.4600000000000003, 0.4700000000000003, 0.4800000000000003, 0.4900000000000003, 0.5000000000000003, 0.5100000000000003, 0.5200000000000004, 0.5300000000000004, 0.5400000000000004, 0.5500000000000004, 0.5600000000000004, 0.5700000000000004, 0.5800000000000004, 0.5900000000000004, 0.6000000000000004, 0.6100000000000004, 0.6200000000000004, 0.6300000000000004, 0.6400000000000005, 0.6500000000000005, 0.6600000000000005, 0.6700000000000005, 0.6800000000000005, 0.6900000000000005, 0.7000000000000005, 0.7100000000000005, 0.7200000000000005, 0.7300000000000005, 0.7400000000000005, 0.7500000000000006, 0.7600000000000006, 0.7700000000000006, 0.7800000000000006, 0.7900000000000006, 0.8000000000000006, 0.8100000000000006, 0.8200000000000006, 0.8300000000000006, 0.8400000000000006], \"y\": [100.0, 100.0, 100.0, 100.0, 100.0, 100.0, 100.0, 100.0, 100.0, 100.0, 100.0, 100.0, 100.0, 96.7741935483871, 96.7741935483871, 96.7741935483871, 96.7741935483871, 96.7741935483871, 96.7741935483871, 96.7741935483871, 96.7741935483871, 96.7741935483871, 96.7741935483871, 96.7741935483871, 96.7741935483871, 96.7741935483871, 93.75, 93.75, 93.75, 93.75, 93.75, 93.75, 93.75, 93.75, 90.9090909090909, 90.9090909090909, 90.9090909090909, 90.9090909090909, 90.9090909090909, 90.9090909090909, 90.9090909090909, 88.23529411764706, 85.71428571428572, 83.33333333333334, 83.33333333333334, 83.33333333333334, 78.94736842105263, 76.92307692307692, 75.0, 75.0, 75.0, 69.76744186046511, 68.18181818181819, 65.21739130434783, 65.21739130434783, 61.224489795918366, 60.0, 60.0, 58.82352941176471, 58.82352941176471, 57.69230769230769, 55.55555555555556, 55.55555555555556, 55.55555555555556, 55.55555555555556, 54.54545454545455, 53.57142857142857, 53.57142857142857, 52.631578947368425, 51.724137931034484]}],                        {\"template\": {\"data\": {\"bar\": [{\"error_x\": {\"color\": \"#2a3f5f\"}, \"error_y\": {\"color\": \"#2a3f5f\"}, \"marker\": {\"line\": {\"color\": \"#E5ECF6\", \"width\": 0.5}}, \"type\": \"bar\"}], \"barpolar\": [{\"marker\": {\"line\": {\"color\": \"#E5ECF6\", \"width\": 0.5}}, \"type\": \"barpolar\"}], \"carpet\": [{\"aaxis\": {\"endlinecolor\": \"#2a3f5f\", \"gridcolor\": \"white\", \"linecolor\": \"white\", \"minorgridcolor\": \"white\", \"startlinecolor\": \"#2a3f5f\"}, \"baxis\": {\"endlinecolor\": \"#2a3f5f\", \"gridcolor\": \"white\", \"linecolor\": \"white\", \"minorgridcolor\": \"white\", \"startlinecolor\": \"#2a3f5f\"}, \"type\": \"carpet\"}], \"choropleth\": [{\"colorbar\": {\"outlinewidth\": 0, \"ticks\": \"\"}, \"type\": \"choropleth\"}], \"contour\": [{\"colorbar\": {\"outlinewidth\": 0, \"ticks\": \"\"}, \"colorscale\": [[0.0, \"#0d0887\"], [0.1111111111111111, \"#46039f\"], [0.2222222222222222, \"#7201a8\"], [0.3333333333333333, \"#9c179e\"], [0.4444444444444444, \"#bd3786\"], [0.5555555555555556, \"#d8576b\"], [0.6666666666666666, \"#ed7953\"], [0.7777777777777778, \"#fb9f3a\"], [0.8888888888888888, \"#fdca26\"], [1.0, \"#f0f921\"]], \"type\": \"contour\"}], \"contourcarpet\": [{\"colorbar\": {\"outlinewidth\": 0, \"ticks\": \"\"}, \"type\": \"contourcarpet\"}], \"heatmap\": [{\"colorbar\": {\"outlinewidth\": 0, \"ticks\": \"\"}, \"colorscale\": [[0.0, \"#0d0887\"], [0.1111111111111111, \"#46039f\"], [0.2222222222222222, \"#7201a8\"], [0.3333333333333333, \"#9c179e\"], [0.4444444444444444, \"#bd3786\"], [0.5555555555555556, \"#d8576b\"], [0.6666666666666666, \"#ed7953\"], [0.7777777777777778, \"#fb9f3a\"], [0.8888888888888888, \"#fdca26\"], [1.0, \"#f0f921\"]], \"type\": \"heatmap\"}], \"heatmapgl\": [{\"colorbar\": {\"outlinewidth\": 0, \"ticks\": \"\"}, \"colorscale\": [[0.0, \"#0d0887\"], [0.1111111111111111, \"#46039f\"], [0.2222222222222222, \"#7201a8\"], [0.3333333333333333, \"#9c179e\"], [0.4444444444444444, \"#bd3786\"], [0.5555555555555556, \"#d8576b\"], [0.6666666666666666, \"#ed7953\"], [0.7777777777777778, \"#fb9f3a\"], [0.8888888888888888, \"#fdca26\"], [1.0, \"#f0f921\"]], \"type\": \"heatmapgl\"}], \"histogram\": [{\"marker\": {\"colorbar\": {\"outlinewidth\": 0, \"ticks\": \"\"}}, \"type\": \"histogram\"}], \"histogram2d\": [{\"colorbar\": {\"outlinewidth\": 0, \"ticks\": \"\"}, \"colorscale\": [[0.0, \"#0d0887\"], [0.1111111111111111, \"#46039f\"], [0.2222222222222222, \"#7201a8\"], [0.3333333333333333, \"#9c179e\"], [0.4444444444444444, \"#bd3786\"], [0.5555555555555556, \"#d8576b\"], [0.6666666666666666, \"#ed7953\"], [0.7777777777777778, \"#fb9f3a\"], [0.8888888888888888, \"#fdca26\"], [1.0, \"#f0f921\"]], \"type\": \"histogram2d\"}], \"histogram2dcontour\": [{\"colorbar\": {\"outlinewidth\": 0, \"ticks\": \"\"}, \"colorscale\": [[0.0, \"#0d0887\"], [0.1111111111111111, \"#46039f\"], [0.2222222222222222, \"#7201a8\"], [0.3333333333333333, \"#9c179e\"], [0.4444444444444444, \"#bd3786\"], [0.5555555555555556, \"#d8576b\"], [0.6666666666666666, \"#ed7953\"], [0.7777777777777778, \"#fb9f3a\"], [0.8888888888888888, \"#fdca26\"], [1.0, \"#f0f921\"]], \"type\": \"histogram2dcontour\"}], \"mesh3d\": [{\"colorbar\": {\"outlinewidth\": 0, \"ticks\": \"\"}, \"type\": \"mesh3d\"}], \"parcoords\": [{\"line\": {\"colorbar\": {\"outlinewidth\": 0, \"ticks\": \"\"}}, \"type\": \"parcoords\"}], \"pie\": [{\"automargin\": true, \"type\": \"pie\"}], \"scatter\": [{\"marker\": {\"colorbar\": {\"outlinewidth\": 0, \"ticks\": \"\"}}, \"type\": \"scatter\"}], \"scatter3d\": [{\"line\": {\"colorbar\": {\"outlinewidth\": 0, \"ticks\": \"\"}}, \"marker\": {\"colorbar\": {\"outlinewidth\": 0, \"ticks\": \"\"}}, \"type\": \"scatter3d\"}], \"scattercarpet\": [{\"marker\": {\"colorbar\": {\"outlinewidth\": 0, \"ticks\": \"\"}}, \"type\": \"scattercarpet\"}], \"scattergeo\": [{\"marker\": {\"colorbar\": {\"outlinewidth\": 0, \"ticks\": \"\"}}, \"type\": \"scattergeo\"}], \"scattergl\": [{\"marker\": {\"colorbar\": {\"outlinewidth\": 0, \"ticks\": \"\"}}, \"type\": \"scattergl\"}], \"scattermapbox\": [{\"marker\": {\"colorbar\": {\"outlinewidth\": 0, \"ticks\": \"\"}}, \"type\": \"scattermapbox\"}], \"scatterpolar\": [{\"marker\": {\"colorbar\": {\"outlinewidth\": 0, \"ticks\": \"\"}}, \"type\": \"scatterpolar\"}], \"scatterpolargl\": [{\"marker\": {\"colorbar\": {\"outlinewidth\": 0, \"ticks\": \"\"}}, \"type\": \"scatterpolargl\"}], \"scatterternary\": [{\"marker\": {\"colorbar\": {\"outlinewidth\": 0, \"ticks\": \"\"}}, \"type\": \"scatterternary\"}], \"surface\": [{\"colorbar\": {\"outlinewidth\": 0, \"ticks\": \"\"}, \"colorscale\": [[0.0, \"#0d0887\"], [0.1111111111111111, \"#46039f\"], [0.2222222222222222, \"#7201a8\"], [0.3333333333333333, \"#9c179e\"], [0.4444444444444444, \"#bd3786\"], [0.5555555555555556, \"#d8576b\"], [0.6666666666666666, \"#ed7953\"], [0.7777777777777778, \"#fb9f3a\"], [0.8888888888888888, \"#fdca26\"], [1.0, \"#f0f921\"]], \"type\": \"surface\"}], \"table\": [{\"cells\": {\"fill\": {\"color\": \"#EBF0F8\"}, \"line\": {\"color\": \"white\"}}, \"header\": {\"fill\": {\"color\": \"#C8D4E3\"}, \"line\": {\"color\": \"white\"}}, \"type\": \"table\"}]}, \"layout\": {\"annotationdefaults\": {\"arrowcolor\": \"#2a3f5f\", \"arrowhead\": 0, \"arrowwidth\": 1}, \"autotypenumbers\": \"strict\", \"coloraxis\": {\"colorbar\": {\"outlinewidth\": 0, \"ticks\": \"\"}}, \"colorscale\": {\"diverging\": [[0, \"#8e0152\"], [0.1, \"#c51b7d\"], [0.2, \"#de77ae\"], [0.3, \"#f1b6da\"], [0.4, \"#fde0ef\"], [0.5, \"#f7f7f7\"], [0.6, \"#e6f5d0\"], [0.7, \"#b8e186\"], [0.8, \"#7fbc41\"], [0.9, \"#4d9221\"], [1, \"#276419\"]], \"sequential\": [[0.0, \"#0d0887\"], [0.1111111111111111, \"#46039f\"], [0.2222222222222222, \"#7201a8\"], [0.3333333333333333, \"#9c179e\"], [0.4444444444444444, \"#bd3786\"], [0.5555555555555556, \"#d8576b\"], [0.6666666666666666, \"#ed7953\"], [0.7777777777777778, \"#fb9f3a\"], [0.8888888888888888, \"#fdca26\"], [1.0, \"#f0f921\"]], \"sequentialminus\": [[0.0, \"#0d0887\"], [0.1111111111111111, \"#46039f\"], [0.2222222222222222, \"#7201a8\"], [0.3333333333333333, \"#9c179e\"], [0.4444444444444444, \"#bd3786\"], [0.5555555555555556, \"#d8576b\"], [0.6666666666666666, \"#ed7953\"], [0.7777777777777778, \"#fb9f3a\"], [0.8888888888888888, \"#fdca26\"], [1.0, \"#f0f921\"]]}, \"colorway\": [\"#636efa\", \"#EF553B\", \"#00cc96\", \"#ab63fa\", \"#FFA15A\", \"#19d3f3\", \"#FF6692\", \"#B6E880\", \"#FF97FF\", \"#FECB52\"], \"font\": {\"color\": \"#2a3f5f\"}, \"geo\": {\"bgcolor\": \"white\", \"lakecolor\": \"white\", \"landcolor\": \"#E5ECF6\", \"showlakes\": true, \"showland\": true, \"subunitcolor\": \"white\"}, \"hoverlabel\": {\"align\": \"left\"}, \"hovermode\": \"closest\", \"mapbox\": {\"style\": \"light\"}, \"paper_bgcolor\": \"white\", \"plot_bgcolor\": \"#E5ECF6\", \"polar\": {\"angularaxis\": {\"gridcolor\": \"white\", \"linecolor\": \"white\", \"ticks\": \"\"}, \"bgcolor\": \"#E5ECF6\", \"radialaxis\": {\"gridcolor\": \"white\", \"linecolor\": \"white\", \"ticks\": \"\"}}, \"scene\": {\"xaxis\": {\"backgroundcolor\": \"#E5ECF6\", \"gridcolor\": \"white\", \"gridwidth\": 2, \"linecolor\": \"white\", \"showbackground\": true, \"ticks\": \"\", \"zerolinecolor\": \"white\"}, \"yaxis\": {\"backgroundcolor\": \"#E5ECF6\", \"gridcolor\": \"white\", \"gridwidth\": 2, \"linecolor\": \"white\", \"showbackground\": true, \"ticks\": \"\", \"zerolinecolor\": \"white\"}, \"zaxis\": {\"backgroundcolor\": \"#E5ECF6\", \"gridcolor\": \"white\", \"gridwidth\": 2, \"linecolor\": \"white\", \"showbackground\": true, \"ticks\": \"\", \"zerolinecolor\": \"white\"}}, \"shapedefaults\": {\"line\": {\"color\": \"#2a3f5f\"}}, \"ternary\": {\"aaxis\": {\"gridcolor\": \"white\", \"linecolor\": \"white\", \"ticks\": \"\"}, \"baxis\": {\"gridcolor\": \"white\", \"linecolor\": \"white\", \"ticks\": \"\"}, \"bgcolor\": \"#E5ECF6\", \"caxis\": {\"gridcolor\": \"white\", \"linecolor\": \"white\", \"ticks\": \"\"}}, \"title\": {\"x\": 0.05}, \"xaxis\": {\"automargin\": true, \"gridcolor\": \"white\", \"linecolor\": \"white\", \"ticks\": \"\", \"title\": {\"standoff\": 15}, \"zerolinecolor\": \"white\", \"zerolinewidth\": 2}, \"yaxis\": {\"automargin\": true, \"gridcolor\": \"white\", \"linecolor\": \"white\", \"ticks\": \"\", \"title\": {\"standoff\": 15}, \"zerolinecolor\": \"white\", \"zerolinewidth\": 2}}}, \"title\": {\"text\": \"LogisticRegression\"}, \"xaxis\": {\"tickangle\": 90, \"title\": {\"standoff\": 25, \"text\": \"Threshold\"}}, \"yaxis\": {\"title\": {\"standoff\": 25, \"text\": \"Percent\"}}},                        {\"responsive\": true}                    ).then(function(){\n",
       "                            \n",
       "var gd = document.getElementById('85e8e603-3302-4a5c-9c8c-da2de68ff464');\n",
       "var x = new MutationObserver(function (mutations, observer) {{\n",
       "        var display = window.getComputedStyle(gd).display;\n",
       "        if (!display || display === 'none') {{\n",
       "            console.log([gd, 'removed!']);\n",
       "            Plotly.purge(gd);\n",
       "            observer.disconnect();\n",
       "        }}\n",
       "}});\n",
       "\n",
       "// Listen for the removal of the full notebook cells\n",
       "var notebookContainer = gd.closest('#notebook-container');\n",
       "if (notebookContainer) {{\n",
       "    x.observe(notebookContainer, {childList: true});\n",
       "}}\n",
       "\n",
       "// Listen for the clearing of the current output cell\n",
       "var outputEl = gd.closest('.output');\n",
       "if (outputEl) {{\n",
       "    x.observe(outputEl, {childList: true});\n",
       "}}\n",
       "\n",
       "                        })                };                });            </script>        </div>"
      ]
     },
     "metadata": {},
     "output_type": "display_data"
    },
    {
     "data": {
      "application/vnd.plotly.v1+json": {
       "config": {
        "plotlyServerURL": "https://plot.ly"
       },
       "data": [
        {
         "name": "False Negative: % of actual covid stories missed",
         "type": "scatter",
         "x": [
          0.15,
          0.16,
          0.17,
          0.18000000000000002,
          0.19000000000000003,
          0.20000000000000004,
          0.21000000000000005,
          0.22000000000000006,
          0.23000000000000007,
          0.24000000000000007,
          0.2500000000000001,
          0.2600000000000001,
          0.27000000000000013,
          0.28000000000000014,
          0.29000000000000015,
          0.30000000000000016,
          0.31000000000000016,
          0.3200000000000002,
          0.3300000000000002,
          0.3400000000000002,
          0.3500000000000002,
          0.3600000000000002,
          0.3700000000000002,
          0.3800000000000002,
          0.39000000000000024,
          0.40000000000000024,
          0.41000000000000025,
          0.42000000000000026,
          0.43000000000000027,
          0.4400000000000003,
          0.4500000000000003,
          0.4600000000000003,
          0.4700000000000003,
          0.4800000000000003,
          0.4900000000000003,
          0.5000000000000003,
          0.5100000000000003,
          0.5200000000000004,
          0.5300000000000004,
          0.5400000000000004,
          0.5500000000000004,
          0.5600000000000004,
          0.5700000000000004,
          0.5800000000000004,
          0.5900000000000004,
          0.6000000000000004,
          0.6100000000000004,
          0.6200000000000004,
          0.6300000000000004,
          0.6400000000000005,
          0.6500000000000005,
          0.6600000000000005,
          0.6700000000000005,
          0.6800000000000005,
          0.6900000000000005,
          0.7000000000000005,
          0.7100000000000005,
          0.7200000000000005,
          0.7300000000000005,
          0.7400000000000005,
          0.7500000000000006,
          0.7600000000000006,
          0.7700000000000006,
          0.7800000000000006,
          0.7900000000000006,
          0.8000000000000006,
          0.8100000000000006,
          0.8200000000000006,
          0.8300000000000006,
          0.8400000000000006
         ],
         "y": [
          0,
          0,
          0,
          0,
          3.225806451612903,
          3.225806451612903,
          3.225806451612903,
          3.225806451612903,
          3.225806451612903,
          3.225806451612903,
          3.225806451612903,
          3.225806451612903,
          3.225806451612903,
          3.225806451612903,
          3.225806451612903,
          3.225806451612903,
          3.225806451612903,
          6.25,
          6.25,
          6.25,
          6.25,
          6.25,
          6.25,
          6.25,
          6.25,
          6.25,
          6.25,
          9.090909090909092,
          9.090909090909092,
          9.090909090909092,
          9.090909090909092,
          9.090909090909092,
          9.090909090909092,
          9.090909090909092,
          11.76470588235294,
          11.76470588235294,
          11.76470588235294,
          14.285714285714285,
          14.285714285714285,
          14.285714285714285,
          16.666666666666664,
          16.666666666666664,
          16.666666666666664,
          16.666666666666664,
          16.666666666666664,
          16.666666666666664,
          16.666666666666664,
          16.666666666666664,
          16.666666666666664,
          16.666666666666664,
          21.052631578947366,
          23.076923076923077,
          23.076923076923077,
          23.076923076923077,
          23.076923076923077,
          23.076923076923077,
          23.076923076923077,
          23.076923076923077,
          23.076923076923077,
          23.076923076923077,
          26.82926829268293,
          28.57142857142857,
          28.57142857142857,
          28.57142857142857,
          33.33333333333333,
          34.78260869565217,
          37.5,
          38.775510204081634,
          40,
          41.17647058823529
         ]
        },
        {
         "name": "False Positive: % stories on map false",
         "type": "scatter",
         "x": [
          0.15,
          0.16,
          0.17,
          0.18000000000000002,
          0.19000000000000003,
          0.20000000000000004,
          0.21000000000000005,
          0.22000000000000006,
          0.23000000000000007,
          0.24000000000000007,
          0.2500000000000001,
          0.2600000000000001,
          0.27000000000000013,
          0.28000000000000014,
          0.29000000000000015,
          0.30000000000000016,
          0.31000000000000016,
          0.3200000000000002,
          0.3300000000000002,
          0.3400000000000002,
          0.3500000000000002,
          0.3600000000000002,
          0.3700000000000002,
          0.3800000000000002,
          0.39000000000000024,
          0.40000000000000024,
          0.41000000000000025,
          0.42000000000000026,
          0.43000000000000027,
          0.4400000000000003,
          0.4500000000000003,
          0.4600000000000003,
          0.4700000000000003,
          0.4800000000000003,
          0.4900000000000003,
          0.5000000000000003,
          0.5100000000000003,
          0.5200000000000004,
          0.5300000000000004,
          0.5400000000000004,
          0.5500000000000004,
          0.5600000000000004,
          0.5700000000000004,
          0.5800000000000004,
          0.5900000000000004,
          0.6000000000000004,
          0.6100000000000004,
          0.6200000000000004,
          0.6300000000000004,
          0.6400000000000005,
          0.6500000000000005,
          0.6600000000000005,
          0.6700000000000005,
          0.6800000000000005,
          0.6900000000000005,
          0.7000000000000005,
          0.7100000000000005,
          0.7200000000000005,
          0.7300000000000005,
          0.7400000000000005,
          0.7500000000000006,
          0.7600000000000006,
          0.7700000000000006,
          0.7800000000000006,
          0.7900000000000006,
          0.8000000000000006,
          0.8100000000000006,
          0.8200000000000006,
          0.8300000000000006,
          0.8400000000000006
         ],
         "y": [
          87.65432098765432,
          87.34177215189874,
          86.95652173913044,
          86.48648648648648,
          86.3849765258216,
          86.25592417061611,
          85.5,
          84.81675392670157,
          83.97790055248619,
          83.42857142857143,
          82.63473053892216,
          81.98757763975155,
          81.16883116883116,
          80.27210884353741,
          79.72027972027972,
          78.67647058823529,
          77.51937984496125,
          76.85950413223141,
          76.47058823529412,
          75.22123893805309,
          74.07407407407408,
          72.54901960784314,
          70.52631578947368,
          69.56521739130434,
          65.85365853658537,
          64.55696202531645,
          62.66666666666667,
          63.013698630136986,
          61.97183098591549,
          59.09090909090909,
          58.46153846153847,
          55.73770491803278,
          52.63157894736842,
          49.056603773584904,
          50,
          48,
          48,
          47.91666666666667,
          47.91666666666667,
          47.91666666666667,
          47.82608695652174,
          40,
          35.13513513513514,
          35.13513513513514,
          31.428571428571427,
          31.428571428571427,
          31.428571428571427,
          31.428571428571427,
          31.428571428571427,
          31.428571428571427,
          31.25,
          25,
          22.22222222222222,
          16,
          16,
          16,
          16,
          12.5,
          12.5,
          12.5,
          13.636363636363635,
          14.285714285714285,
          14.285714285714285,
          10,
          6.25,
          6.666666666666667,
          7.6923076923076925,
          8.333333333333332,
          9.090909090909092,
          10
         ]
        },
        {
         "name": "% covid stories identified",
         "type": "scatter",
         "x": [
          0.15,
          0.16,
          0.17,
          0.18000000000000002,
          0.19000000000000003,
          0.20000000000000004,
          0.21000000000000005,
          0.22000000000000006,
          0.23000000000000007,
          0.24000000000000007,
          0.2500000000000001,
          0.2600000000000001,
          0.27000000000000013,
          0.28000000000000014,
          0.29000000000000015,
          0.30000000000000016,
          0.31000000000000016,
          0.3200000000000002,
          0.3300000000000002,
          0.3400000000000002,
          0.3500000000000002,
          0.3600000000000002,
          0.3700000000000002,
          0.3800000000000002,
          0.39000000000000024,
          0.40000000000000024,
          0.41000000000000025,
          0.42000000000000026,
          0.43000000000000027,
          0.4400000000000003,
          0.4500000000000003,
          0.4600000000000003,
          0.4700000000000003,
          0.4800000000000003,
          0.4900000000000003,
          0.5000000000000003,
          0.5100000000000003,
          0.5200000000000004,
          0.5300000000000004,
          0.5400000000000004,
          0.5500000000000004,
          0.5600000000000004,
          0.5700000000000004,
          0.5800000000000004,
          0.5900000000000004,
          0.6000000000000004,
          0.6100000000000004,
          0.6200000000000004,
          0.6300000000000004,
          0.6400000000000005,
          0.6500000000000005,
          0.6600000000000005,
          0.6700000000000005,
          0.6800000000000005,
          0.6900000000000005,
          0.7000000000000005,
          0.7100000000000005,
          0.7200000000000005,
          0.7300000000000005,
          0.7400000000000005,
          0.7500000000000006,
          0.7600000000000006,
          0.7700000000000006,
          0.7800000000000006,
          0.7900000000000006,
          0.8000000000000006,
          0.8100000000000006,
          0.8200000000000006,
          0.8300000000000006,
          0.8400000000000006
         ],
         "y": [
          100,
          100,
          100,
          100,
          96.7741935483871,
          96.7741935483871,
          96.7741935483871,
          96.7741935483871,
          96.7741935483871,
          96.7741935483871,
          96.7741935483871,
          96.7741935483871,
          96.7741935483871,
          96.7741935483871,
          96.7741935483871,
          96.7741935483871,
          96.7741935483871,
          93.75,
          93.75,
          93.75,
          93.75,
          93.75,
          93.75,
          93.75,
          93.75,
          93.75,
          93.75,
          90.9090909090909,
          90.9090909090909,
          90.9090909090909,
          90.9090909090909,
          90.9090909090909,
          90.9090909090909,
          90.9090909090909,
          88.23529411764706,
          88.23529411764706,
          88.23529411764706,
          85.71428571428572,
          85.71428571428572,
          85.71428571428572,
          83.33333333333334,
          83.33333333333334,
          83.33333333333334,
          83.33333333333334,
          83.33333333333334,
          83.33333333333334,
          83.33333333333334,
          83.33333333333334,
          83.33333333333334,
          83.33333333333334,
          78.94736842105263,
          76.92307692307692,
          76.92307692307692,
          76.92307692307692,
          76.92307692307692,
          76.92307692307692,
          76.92307692307692,
          76.92307692307692,
          76.92307692307692,
          76.92307692307692,
          73.17073170731707,
          71.42857142857143,
          71.42857142857143,
          71.42857142857143,
          66.66666666666667,
          65.21739130434783,
          62.5,
          61.224489795918366,
          60,
          58.82352941176471
         ]
        }
       ],
       "layout": {
        "autosize": true,
        "template": {
         "data": {
          "bar": [
           {
            "error_x": {
             "color": "#2a3f5f"
            },
            "error_y": {
             "color": "#2a3f5f"
            },
            "marker": {
             "line": {
              "color": "#E5ECF6",
              "width": 0.5
             }
            },
            "type": "bar"
           }
          ],
          "barpolar": [
           {
            "marker": {
             "line": {
              "color": "#E5ECF6",
              "width": 0.5
             }
            },
            "type": "barpolar"
           }
          ],
          "carpet": [
           {
            "aaxis": {
             "endlinecolor": "#2a3f5f",
             "gridcolor": "white",
             "linecolor": "white",
             "minorgridcolor": "white",
             "startlinecolor": "#2a3f5f"
            },
            "baxis": {
             "endlinecolor": "#2a3f5f",
             "gridcolor": "white",
             "linecolor": "white",
             "minorgridcolor": "white",
             "startlinecolor": "#2a3f5f"
            },
            "type": "carpet"
           }
          ],
          "choropleth": [
           {
            "colorbar": {
             "outlinewidth": 0,
             "ticks": ""
            },
            "type": "choropleth"
           }
          ],
          "contour": [
           {
            "colorbar": {
             "outlinewidth": 0,
             "ticks": ""
            },
            "colorscale": [
             [
              0,
              "#0d0887"
             ],
             [
              0.1111111111111111,
              "#46039f"
             ],
             [
              0.2222222222222222,
              "#7201a8"
             ],
             [
              0.3333333333333333,
              "#9c179e"
             ],
             [
              0.4444444444444444,
              "#bd3786"
             ],
             [
              0.5555555555555556,
              "#d8576b"
             ],
             [
              0.6666666666666666,
              "#ed7953"
             ],
             [
              0.7777777777777778,
              "#fb9f3a"
             ],
             [
              0.8888888888888888,
              "#fdca26"
             ],
             [
              1,
              "#f0f921"
             ]
            ],
            "type": "contour"
           }
          ],
          "contourcarpet": [
           {
            "colorbar": {
             "outlinewidth": 0,
             "ticks": ""
            },
            "type": "contourcarpet"
           }
          ],
          "heatmap": [
           {
            "colorbar": {
             "outlinewidth": 0,
             "ticks": ""
            },
            "colorscale": [
             [
              0,
              "#0d0887"
             ],
             [
              0.1111111111111111,
              "#46039f"
             ],
             [
              0.2222222222222222,
              "#7201a8"
             ],
             [
              0.3333333333333333,
              "#9c179e"
             ],
             [
              0.4444444444444444,
              "#bd3786"
             ],
             [
              0.5555555555555556,
              "#d8576b"
             ],
             [
              0.6666666666666666,
              "#ed7953"
             ],
             [
              0.7777777777777778,
              "#fb9f3a"
             ],
             [
              0.8888888888888888,
              "#fdca26"
             ],
             [
              1,
              "#f0f921"
             ]
            ],
            "type": "heatmap"
           }
          ],
          "heatmapgl": [
           {
            "colorbar": {
             "outlinewidth": 0,
             "ticks": ""
            },
            "colorscale": [
             [
              0,
              "#0d0887"
             ],
             [
              0.1111111111111111,
              "#46039f"
             ],
             [
              0.2222222222222222,
              "#7201a8"
             ],
             [
              0.3333333333333333,
              "#9c179e"
             ],
             [
              0.4444444444444444,
              "#bd3786"
             ],
             [
              0.5555555555555556,
              "#d8576b"
             ],
             [
              0.6666666666666666,
              "#ed7953"
             ],
             [
              0.7777777777777778,
              "#fb9f3a"
             ],
             [
              0.8888888888888888,
              "#fdca26"
             ],
             [
              1,
              "#f0f921"
             ]
            ],
            "type": "heatmapgl"
           }
          ],
          "histogram": [
           {
            "marker": {
             "colorbar": {
              "outlinewidth": 0,
              "ticks": ""
             }
            },
            "type": "histogram"
           }
          ],
          "histogram2d": [
           {
            "colorbar": {
             "outlinewidth": 0,
             "ticks": ""
            },
            "colorscale": [
             [
              0,
              "#0d0887"
             ],
             [
              0.1111111111111111,
              "#46039f"
             ],
             [
              0.2222222222222222,
              "#7201a8"
             ],
             [
              0.3333333333333333,
              "#9c179e"
             ],
             [
              0.4444444444444444,
              "#bd3786"
             ],
             [
              0.5555555555555556,
              "#d8576b"
             ],
             [
              0.6666666666666666,
              "#ed7953"
             ],
             [
              0.7777777777777778,
              "#fb9f3a"
             ],
             [
              0.8888888888888888,
              "#fdca26"
             ],
             [
              1,
              "#f0f921"
             ]
            ],
            "type": "histogram2d"
           }
          ],
          "histogram2dcontour": [
           {
            "colorbar": {
             "outlinewidth": 0,
             "ticks": ""
            },
            "colorscale": [
             [
              0,
              "#0d0887"
             ],
             [
              0.1111111111111111,
              "#46039f"
             ],
             [
              0.2222222222222222,
              "#7201a8"
             ],
             [
              0.3333333333333333,
              "#9c179e"
             ],
             [
              0.4444444444444444,
              "#bd3786"
             ],
             [
              0.5555555555555556,
              "#d8576b"
             ],
             [
              0.6666666666666666,
              "#ed7953"
             ],
             [
              0.7777777777777778,
              "#fb9f3a"
             ],
             [
              0.8888888888888888,
              "#fdca26"
             ],
             [
              1,
              "#f0f921"
             ]
            ],
            "type": "histogram2dcontour"
           }
          ],
          "mesh3d": [
           {
            "colorbar": {
             "outlinewidth": 0,
             "ticks": ""
            },
            "type": "mesh3d"
           }
          ],
          "parcoords": [
           {
            "line": {
             "colorbar": {
              "outlinewidth": 0,
              "ticks": ""
             }
            },
            "type": "parcoords"
           }
          ],
          "pie": [
           {
            "automargin": true,
            "type": "pie"
           }
          ],
          "scatter": [
           {
            "marker": {
             "colorbar": {
              "outlinewidth": 0,
              "ticks": ""
             }
            },
            "type": "scatter"
           }
          ],
          "scatter3d": [
           {
            "line": {
             "colorbar": {
              "outlinewidth": 0,
              "ticks": ""
             }
            },
            "marker": {
             "colorbar": {
              "outlinewidth": 0,
              "ticks": ""
             }
            },
            "type": "scatter3d"
           }
          ],
          "scattercarpet": [
           {
            "marker": {
             "colorbar": {
              "outlinewidth": 0,
              "ticks": ""
             }
            },
            "type": "scattercarpet"
           }
          ],
          "scattergeo": [
           {
            "marker": {
             "colorbar": {
              "outlinewidth": 0,
              "ticks": ""
             }
            },
            "type": "scattergeo"
           }
          ],
          "scattergl": [
           {
            "marker": {
             "colorbar": {
              "outlinewidth": 0,
              "ticks": ""
             }
            },
            "type": "scattergl"
           }
          ],
          "scattermapbox": [
           {
            "marker": {
             "colorbar": {
              "outlinewidth": 0,
              "ticks": ""
             }
            },
            "type": "scattermapbox"
           }
          ],
          "scatterpolar": [
           {
            "marker": {
             "colorbar": {
              "outlinewidth": 0,
              "ticks": ""
             }
            },
            "type": "scatterpolar"
           }
          ],
          "scatterpolargl": [
           {
            "marker": {
             "colorbar": {
              "outlinewidth": 0,
              "ticks": ""
             }
            },
            "type": "scatterpolargl"
           }
          ],
          "scatterternary": [
           {
            "marker": {
             "colorbar": {
              "outlinewidth": 0,
              "ticks": ""
             }
            },
            "type": "scatterternary"
           }
          ],
          "surface": [
           {
            "colorbar": {
             "outlinewidth": 0,
             "ticks": ""
            },
            "colorscale": [
             [
              0,
              "#0d0887"
             ],
             [
              0.1111111111111111,
              "#46039f"
             ],
             [
              0.2222222222222222,
              "#7201a8"
             ],
             [
              0.3333333333333333,
              "#9c179e"
             ],
             [
              0.4444444444444444,
              "#bd3786"
             ],
             [
              0.5555555555555556,
              "#d8576b"
             ],
             [
              0.6666666666666666,
              "#ed7953"
             ],
             [
              0.7777777777777778,
              "#fb9f3a"
             ],
             [
              0.8888888888888888,
              "#fdca26"
             ],
             [
              1,
              "#f0f921"
             ]
            ],
            "type": "surface"
           }
          ],
          "table": [
           {
            "cells": {
             "fill": {
              "color": "#EBF0F8"
             },
             "line": {
              "color": "white"
             }
            },
            "header": {
             "fill": {
              "color": "#C8D4E3"
             },
             "line": {
              "color": "white"
             }
            },
            "type": "table"
           }
          ]
         },
         "layout": {
          "annotationdefaults": {
           "arrowcolor": "#2a3f5f",
           "arrowhead": 0,
           "arrowwidth": 1
          },
          "autotypenumbers": "strict",
          "coloraxis": {
           "colorbar": {
            "outlinewidth": 0,
            "ticks": ""
           }
          },
          "colorscale": {
           "diverging": [
            [
             0,
             "#8e0152"
            ],
            [
             0.1,
             "#c51b7d"
            ],
            [
             0.2,
             "#de77ae"
            ],
            [
             0.3,
             "#f1b6da"
            ],
            [
             0.4,
             "#fde0ef"
            ],
            [
             0.5,
             "#f7f7f7"
            ],
            [
             0.6,
             "#e6f5d0"
            ],
            [
             0.7,
             "#b8e186"
            ],
            [
             0.8,
             "#7fbc41"
            ],
            [
             0.9,
             "#4d9221"
            ],
            [
             1,
             "#276419"
            ]
           ],
           "sequential": [
            [
             0,
             "#0d0887"
            ],
            [
             0.1111111111111111,
             "#46039f"
            ],
            [
             0.2222222222222222,
             "#7201a8"
            ],
            [
             0.3333333333333333,
             "#9c179e"
            ],
            [
             0.4444444444444444,
             "#bd3786"
            ],
            [
             0.5555555555555556,
             "#d8576b"
            ],
            [
             0.6666666666666666,
             "#ed7953"
            ],
            [
             0.7777777777777778,
             "#fb9f3a"
            ],
            [
             0.8888888888888888,
             "#fdca26"
            ],
            [
             1,
             "#f0f921"
            ]
           ],
           "sequentialminus": [
            [
             0,
             "#0d0887"
            ],
            [
             0.1111111111111111,
             "#46039f"
            ],
            [
             0.2222222222222222,
             "#7201a8"
            ],
            [
             0.3333333333333333,
             "#9c179e"
            ],
            [
             0.4444444444444444,
             "#bd3786"
            ],
            [
             0.5555555555555556,
             "#d8576b"
            ],
            [
             0.6666666666666666,
             "#ed7953"
            ],
            [
             0.7777777777777778,
             "#fb9f3a"
            ],
            [
             0.8888888888888888,
             "#fdca26"
            ],
            [
             1,
             "#f0f921"
            ]
           ]
          },
          "colorway": [
           "#636efa",
           "#EF553B",
           "#00cc96",
           "#ab63fa",
           "#FFA15A",
           "#19d3f3",
           "#FF6692",
           "#B6E880",
           "#FF97FF",
           "#FECB52"
          ],
          "font": {
           "color": "#2a3f5f"
          },
          "geo": {
           "bgcolor": "white",
           "lakecolor": "white",
           "landcolor": "#E5ECF6",
           "showlakes": true,
           "showland": true,
           "subunitcolor": "white"
          },
          "hoverlabel": {
           "align": "left"
          },
          "hovermode": "closest",
          "mapbox": {
           "style": "light"
          },
          "paper_bgcolor": "white",
          "plot_bgcolor": "#E5ECF6",
          "polar": {
           "angularaxis": {
            "gridcolor": "white",
            "linecolor": "white",
            "ticks": ""
           },
           "bgcolor": "#E5ECF6",
           "radialaxis": {
            "gridcolor": "white",
            "linecolor": "white",
            "ticks": ""
           }
          },
          "scene": {
           "xaxis": {
            "backgroundcolor": "#E5ECF6",
            "gridcolor": "white",
            "gridwidth": 2,
            "linecolor": "white",
            "showbackground": true,
            "ticks": "",
            "zerolinecolor": "white"
           },
           "yaxis": {
            "backgroundcolor": "#E5ECF6",
            "gridcolor": "white",
            "gridwidth": 2,
            "linecolor": "white",
            "showbackground": true,
            "ticks": "",
            "zerolinecolor": "white"
           },
           "zaxis": {
            "backgroundcolor": "#E5ECF6",
            "gridcolor": "white",
            "gridwidth": 2,
            "linecolor": "white",
            "showbackground": true,
            "ticks": "",
            "zerolinecolor": "white"
           }
          },
          "shapedefaults": {
           "line": {
            "color": "#2a3f5f"
           }
          },
          "ternary": {
           "aaxis": {
            "gridcolor": "white",
            "linecolor": "white",
            "ticks": ""
           },
           "baxis": {
            "gridcolor": "white",
            "linecolor": "white",
            "ticks": ""
           },
           "bgcolor": "#E5ECF6",
           "caxis": {
            "gridcolor": "white",
            "linecolor": "white",
            "ticks": ""
           }
          },
          "title": {
           "x": 0.05
          },
          "xaxis": {
           "automargin": true,
           "gridcolor": "white",
           "linecolor": "white",
           "ticks": "",
           "title": {
            "standoff": 15
           },
           "zerolinecolor": "white",
           "zerolinewidth": 2
          },
          "yaxis": {
           "automargin": true,
           "gridcolor": "white",
           "linecolor": "white",
           "ticks": "",
           "title": {
            "standoff": 15
           },
           "zerolinecolor": "white",
           "zerolinewidth": 2
          }
         }
        },
        "title": {
         "text": "RandomForestClassifier"
        },
        "xaxis": {
         "autorange": true,
         "range": [
          0.15,
          0.8400000000000006
         ],
         "tickangle": 90,
         "title": {
          "standoff": 25,
          "text": "Threshold"
         },
         "type": "linear"
        },
        "yaxis": {
         "autorange": true,
         "range": [
          -5.555555555555555,
          105.55555555555556
         ],
         "title": {
          "standoff": 25,
          "text": "Percent"
         },
         "type": "linear"
        }
       }
      },
      "image/png": "[encoded data removed]",
      "text/html": [
       "<div>                            <div id=\"d3349943-57b8-4be2-915b-2e24dde6b3c9\" class=\"plotly-graph-div\" style=\"height:525px; width:100%;\"></div>            <script type=\"text/javascript\">                require([\"plotly\"], function(Plotly) {                    window.PLOTLYENV=window.PLOTLYENV || {};                                    if (document.getElementById(\"d3349943-57b8-4be2-915b-2e24dde6b3c9\")) {                    Plotly.newPlot(                        \"d3349943-57b8-4be2-915b-2e24dde6b3c9\",                        [{\"name\": \"False Negative: % of actual covid stories missed\", \"type\": \"scatter\", \"x\": [0.15, 0.16, 0.17, 0.18000000000000002, 0.19000000000000003, 0.20000000000000004, 0.21000000000000005, 0.22000000000000006, 0.23000000000000007, 0.24000000000000007, 0.2500000000000001, 0.2600000000000001, 0.27000000000000013, 0.28000000000000014, 0.29000000000000015, 0.30000000000000016, 0.31000000000000016, 0.3200000000000002, 0.3300000000000002, 0.3400000000000002, 0.3500000000000002, 0.3600000000000002, 0.3700000000000002, 0.3800000000000002, 0.39000000000000024, 0.40000000000000024, 0.41000000000000025, 0.42000000000000026, 0.43000000000000027, 0.4400000000000003, 0.4500000000000003, 0.4600000000000003, 0.4700000000000003, 0.4800000000000003, 0.4900000000000003, 0.5000000000000003, 0.5100000000000003, 0.5200000000000004, 0.5300000000000004, 0.5400000000000004, 0.5500000000000004, 0.5600000000000004, 0.5700000000000004, 0.5800000000000004, 0.5900000000000004, 0.6000000000000004, 0.6100000000000004, 0.6200000000000004, 0.6300000000000004, 0.6400000000000005, 0.6500000000000005, 0.6600000000000005, 0.6700000000000005, 0.6800000000000005, 0.6900000000000005, 0.7000000000000005, 0.7100000000000005, 0.7200000000000005, 0.7300000000000005, 0.7400000000000005, 0.7500000000000006, 0.7600000000000006, 0.7700000000000006, 0.7800000000000006, 0.7900000000000006, 0.8000000000000006, 0.8100000000000006, 0.8200000000000006, 0.8300000000000006, 0.8400000000000006], \"y\": [0.0, 0.0, 0.0, 0.0, 3.225806451612903, 3.225806451612903, 3.225806451612903, 3.225806451612903, 3.225806451612903, 3.225806451612903, 3.225806451612903, 3.225806451612903, 3.225806451612903, 3.225806451612903, 3.225806451612903, 3.225806451612903, 3.225806451612903, 6.25, 6.25, 6.25, 6.25, 6.25, 6.25, 6.25, 6.25, 6.25, 6.25, 9.090909090909092, 9.090909090909092, 9.090909090909092, 9.090909090909092, 9.090909090909092, 9.090909090909092, 9.090909090909092, 11.76470588235294, 11.76470588235294, 11.76470588235294, 14.285714285714285, 14.285714285714285, 14.285714285714285, 16.666666666666664, 16.666666666666664, 16.666666666666664, 16.666666666666664, 16.666666666666664, 16.666666666666664, 16.666666666666664, 16.666666666666664, 16.666666666666664, 16.666666666666664, 21.052631578947366, 23.076923076923077, 23.076923076923077, 23.076923076923077, 23.076923076923077, 23.076923076923077, 23.076923076923077, 23.076923076923077, 23.076923076923077, 23.076923076923077, 26.82926829268293, 28.57142857142857, 28.57142857142857, 28.57142857142857, 33.33333333333333, 34.78260869565217, 37.5, 38.775510204081634, 40.0, 41.17647058823529]}, {\"name\": \"False Positive: % stories on map false\", \"type\": \"scatter\", \"x\": [0.15, 0.16, 0.17, 0.18000000000000002, 0.19000000000000003, 0.20000000000000004, 0.21000000000000005, 0.22000000000000006, 0.23000000000000007, 0.24000000000000007, 0.2500000000000001, 0.2600000000000001, 0.27000000000000013, 0.28000000000000014, 0.29000000000000015, 0.30000000000000016, 0.31000000000000016, 0.3200000000000002, 0.3300000000000002, 0.3400000000000002, 0.3500000000000002, 0.3600000000000002, 0.3700000000000002, 0.3800000000000002, 0.39000000000000024, 0.40000000000000024, 0.41000000000000025, 0.42000000000000026, 0.43000000000000027, 0.4400000000000003, 0.4500000000000003, 0.4600000000000003, 0.4700000000000003, 0.4800000000000003, 0.4900000000000003, 0.5000000000000003, 0.5100000000000003, 0.5200000000000004, 0.5300000000000004, 0.5400000000000004, 0.5500000000000004, 0.5600000000000004, 0.5700000000000004, 0.5800000000000004, 0.5900000000000004, 0.6000000000000004, 0.6100000000000004, 0.6200000000000004, 0.6300000000000004, 0.6400000000000005, 0.6500000000000005, 0.6600000000000005, 0.6700000000000005, 0.6800000000000005, 0.6900000000000005, 0.7000000000000005, 0.7100000000000005, 0.7200000000000005, 0.7300000000000005, 0.7400000000000005, 0.7500000000000006, 0.7600000000000006, 0.7700000000000006, 0.7800000000000006, 0.7900000000000006, 0.8000000000000006, 0.8100000000000006, 0.8200000000000006, 0.8300000000000006, 0.8400000000000006], \"y\": [87.65432098765432, 87.34177215189874, 86.95652173913044, 86.48648648648648, 86.3849765258216, 86.25592417061611, 85.5, 84.81675392670157, 83.97790055248619, 83.42857142857143, 82.63473053892216, 81.98757763975155, 81.16883116883116, 80.27210884353741, 79.72027972027972, 78.67647058823529, 77.51937984496125, 76.85950413223141, 76.47058823529412, 75.22123893805309, 74.07407407407408, 72.54901960784314, 70.52631578947368, 69.56521739130434, 65.85365853658537, 64.55696202531645, 62.66666666666667, 63.013698630136986, 61.97183098591549, 59.09090909090909, 58.46153846153847, 55.73770491803278, 52.63157894736842, 49.056603773584904, 50.0, 48.0, 48.0, 47.91666666666667, 47.91666666666667, 47.91666666666667, 47.82608695652174, 40.0, 35.13513513513514, 35.13513513513514, 31.428571428571427, 31.428571428571427, 31.428571428571427, 31.428571428571427, 31.428571428571427, 31.428571428571427, 31.25, 25.0, 22.22222222222222, 16.0, 16.0, 16.0, 16.0, 12.5, 12.5, 12.5, 13.636363636363635, 14.285714285714285, 14.285714285714285, 10.0, 6.25, 6.666666666666667, 7.6923076923076925, 8.333333333333332, 9.090909090909092, 10.0]}, {\"name\": \"% covid stories identified\", \"type\": \"scatter\", \"x\": [0.15, 0.16, 0.17, 0.18000000000000002, 0.19000000000000003, 0.20000000000000004, 0.21000000000000005, 0.22000000000000006, 0.23000000000000007, 0.24000000000000007, 0.2500000000000001, 0.2600000000000001, 0.27000000000000013, 0.28000000000000014, 0.29000000000000015, 0.30000000000000016, 0.31000000000000016, 0.3200000000000002, 0.3300000000000002, 0.3400000000000002, 0.3500000000000002, 0.3600000000000002, 0.3700000000000002, 0.3800000000000002, 0.39000000000000024, 0.40000000000000024, 0.41000000000000025, 0.42000000000000026, 0.43000000000000027, 0.4400000000000003, 0.4500000000000003, 0.4600000000000003, 0.4700000000000003, 0.4800000000000003, 0.4900000000000003, 0.5000000000000003, 0.5100000000000003, 0.5200000000000004, 0.5300000000000004, 0.5400000000000004, 0.5500000000000004, 0.5600000000000004, 0.5700000000000004, 0.5800000000000004, 0.5900000000000004, 0.6000000000000004, 0.6100000000000004, 0.6200000000000004, 0.6300000000000004, 0.6400000000000005, 0.6500000000000005, 0.6600000000000005, 0.6700000000000005, 0.6800000000000005, 0.6900000000000005, 0.7000000000000005, 0.7100000000000005, 0.7200000000000005, 0.7300000000000005, 0.7400000000000005, 0.7500000000000006, 0.7600000000000006, 0.7700000000000006, 0.7800000000000006, 0.7900000000000006, 0.8000000000000006, 0.8100000000000006, 0.8200000000000006, 0.8300000000000006, 0.8400000000000006], \"y\": [100.0, 100.0, 100.0, 100.0, 96.7741935483871, 96.7741935483871, 96.7741935483871, 96.7741935483871, 96.7741935483871, 96.7741935483871, 96.7741935483871, 96.7741935483871, 96.7741935483871, 96.7741935483871, 96.7741935483871, 96.7741935483871, 96.7741935483871, 93.75, 93.75, 93.75, 93.75, 93.75, 93.75, 93.75, 93.75, 93.75, 93.75, 90.9090909090909, 90.9090909090909, 90.9090909090909, 90.9090909090909, 90.9090909090909, 90.9090909090909, 90.9090909090909, 88.23529411764706, 88.23529411764706, 88.23529411764706, 85.71428571428572, 85.71428571428572, 85.71428571428572, 83.33333333333334, 83.33333333333334, 83.33333333333334, 83.33333333333334, 83.33333333333334, 83.33333333333334, 83.33333333333334, 83.33333333333334, 83.33333333333334, 83.33333333333334, 78.94736842105263, 76.92307692307692, 76.92307692307692, 76.92307692307692, 76.92307692307692, 76.92307692307692, 76.92307692307692, 76.92307692307692, 76.92307692307692, 76.92307692307692, 73.17073170731707, 71.42857142857143, 71.42857142857143, 71.42857142857143, 66.66666666666667, 65.21739130434783, 62.5, 61.224489795918366, 60.0, 58.82352941176471]}],                        {\"template\": {\"data\": {\"bar\": [{\"error_x\": {\"color\": \"#2a3f5f\"}, \"error_y\": {\"color\": \"#2a3f5f\"}, \"marker\": {\"line\": {\"color\": \"#E5ECF6\", \"width\": 0.5}}, \"type\": \"bar\"}], \"barpolar\": [{\"marker\": {\"line\": {\"color\": \"#E5ECF6\", \"width\": 0.5}}, \"type\": \"barpolar\"}], \"carpet\": [{\"aaxis\": {\"endlinecolor\": \"#2a3f5f\", \"gridcolor\": \"white\", \"linecolor\": \"white\", \"minorgridcolor\": \"white\", \"startlinecolor\": \"#2a3f5f\"}, \"baxis\": {\"endlinecolor\": \"#2a3f5f\", \"gridcolor\": \"white\", \"linecolor\": \"white\", \"minorgridcolor\": \"white\", \"startlinecolor\": \"#2a3f5f\"}, \"type\": \"carpet\"}], \"choropleth\": [{\"colorbar\": {\"outlinewidth\": 0, \"ticks\": \"\"}, \"type\": \"choropleth\"}], \"contour\": [{\"colorbar\": {\"outlinewidth\": 0, \"ticks\": \"\"}, \"colorscale\": [[0.0, \"#0d0887\"], [0.1111111111111111, \"#46039f\"], [0.2222222222222222, \"#7201a8\"], [0.3333333333333333, \"#9c179e\"], [0.4444444444444444, \"#bd3786\"], [0.5555555555555556, \"#d8576b\"], [0.6666666666666666, \"#ed7953\"], [0.7777777777777778, \"#fb9f3a\"], [0.8888888888888888, \"#fdca26\"], [1.0, \"#f0f921\"]], \"type\": \"contour\"}], \"contourcarpet\": [{\"colorbar\": {\"outlinewidth\": 0, \"ticks\": \"\"}, \"type\": \"contourcarpet\"}], \"heatmap\": [{\"colorbar\": {\"outlinewidth\": 0, \"ticks\": \"\"}, \"colorscale\": [[0.0, \"#0d0887\"], [0.1111111111111111, \"#46039f\"], [0.2222222222222222, \"#7201a8\"], [0.3333333333333333, \"#9c179e\"], [0.4444444444444444, \"#bd3786\"], [0.5555555555555556, \"#d8576b\"], [0.6666666666666666, \"#ed7953\"], [0.7777777777777778, \"#fb9f3a\"], [0.8888888888888888, \"#fdca26\"], [1.0, \"#f0f921\"]], \"type\": \"heatmap\"}], \"heatmapgl\": [{\"colorbar\": {\"outlinewidth\": 0, \"ticks\": \"\"}, \"colorscale\": [[0.0, \"#0d0887\"], [0.1111111111111111, \"#46039f\"], [0.2222222222222222, \"#7201a8\"], [0.3333333333333333, \"#9c179e\"], [0.4444444444444444, \"#bd3786\"], [0.5555555555555556, \"#d8576b\"], [0.6666666666666666, \"#ed7953\"], [0.7777777777777778, \"#fb9f3a\"], [0.8888888888888888, \"#fdca26\"], [1.0, \"#f0f921\"]], \"type\": \"heatmapgl\"}], \"histogram\": [{\"marker\": {\"colorbar\": {\"outlinewidth\": 0, \"ticks\": \"\"}}, \"type\": \"histogram\"}], \"histogram2d\": [{\"colorbar\": {\"outlinewidth\": 0, \"ticks\": \"\"}, \"colorscale\": [[0.0, \"#0d0887\"], [0.1111111111111111, \"#46039f\"], [0.2222222222222222, \"#7201a8\"], [0.3333333333333333, \"#9c179e\"], [0.4444444444444444, \"#bd3786\"], [0.5555555555555556, \"#d8576b\"], [0.6666666666666666, \"#ed7953\"], [0.7777777777777778, \"#fb9f3a\"], [0.8888888888888888, \"#fdca26\"], [1.0, \"#f0f921\"]], \"type\": \"histogram2d\"}], \"histogram2dcontour\": [{\"colorbar\": {\"outlinewidth\": 0, \"ticks\": \"\"}, \"colorscale\": [[0.0, \"#0d0887\"], [0.1111111111111111, \"#46039f\"], [0.2222222222222222, \"#7201a8\"], [0.3333333333333333, \"#9c179e\"], [0.4444444444444444, \"#bd3786\"], [0.5555555555555556, \"#d8576b\"], [0.6666666666666666, \"#ed7953\"], [0.7777777777777778, \"#fb9f3a\"], [0.8888888888888888, \"#fdca26\"], [1.0, \"#f0f921\"]], \"type\": \"histogram2dcontour\"}], \"mesh3d\": [{\"colorbar\": {\"outlinewidth\": 0, \"ticks\": \"\"}, \"type\": \"mesh3d\"}], \"parcoords\": [{\"line\": {\"colorbar\": {\"outlinewidth\": 0, \"ticks\": \"\"}}, \"type\": \"parcoords\"}], \"pie\": [{\"automargin\": true, \"type\": \"pie\"}], \"scatter\": [{\"marker\": {\"colorbar\": {\"outlinewidth\": 0, \"ticks\": \"\"}}, \"type\": \"scatter\"}], \"scatter3d\": [{\"line\": {\"colorbar\": {\"outlinewidth\": 0, \"ticks\": \"\"}}, \"marker\": {\"colorbar\": {\"outlinewidth\": 0, \"ticks\": \"\"}}, \"type\": \"scatter3d\"}], \"scattercarpet\": [{\"marker\": {\"colorbar\": {\"outlinewidth\": 0, \"ticks\": \"\"}}, \"type\": \"scattercarpet\"}], \"scattergeo\": [{\"marker\": {\"colorbar\": {\"outlinewidth\": 0, \"ticks\": \"\"}}, \"type\": \"scattergeo\"}], \"scattergl\": [{\"marker\": {\"colorbar\": {\"outlinewidth\": 0, \"ticks\": \"\"}}, \"type\": \"scattergl\"}], \"scattermapbox\": [{\"marker\": {\"colorbar\": {\"outlinewidth\": 0, \"ticks\": \"\"}}, \"type\": \"scattermapbox\"}], \"scatterpolar\": [{\"marker\": {\"colorbar\": {\"outlinewidth\": 0, \"ticks\": \"\"}}, \"type\": \"scatterpolar\"}], \"scatterpolargl\": [{\"marker\": {\"colorbar\": {\"outlinewidth\": 0, \"ticks\": \"\"}}, \"type\": \"scatterpolargl\"}], \"scatterternary\": [{\"marker\": {\"colorbar\": {\"outlinewidth\": 0, \"ticks\": \"\"}}, \"type\": \"scatterternary\"}], \"surface\": [{\"colorbar\": {\"outlinewidth\": 0, \"ticks\": \"\"}, \"colorscale\": [[0.0, \"#0d0887\"], [0.1111111111111111, \"#46039f\"], [0.2222222222222222, \"#7201a8\"], [0.3333333333333333, \"#9c179e\"], [0.4444444444444444, \"#bd3786\"], [0.5555555555555556, \"#d8576b\"], [0.6666666666666666, \"#ed7953\"], [0.7777777777777778, \"#fb9f3a\"], [0.8888888888888888, \"#fdca26\"], [1.0, \"#f0f921\"]], \"type\": \"surface\"}], \"table\": [{\"cells\": {\"fill\": {\"color\": \"#EBF0F8\"}, \"line\": {\"color\": \"white\"}}, \"header\": {\"fill\": {\"color\": \"#C8D4E3\"}, \"line\": {\"color\": \"white\"}}, \"type\": \"table\"}]}, \"layout\": {\"annotationdefaults\": {\"arrowcolor\": \"#2a3f5f\", \"arrowhead\": 0, \"arrowwidth\": 1}, \"autotypenumbers\": \"strict\", \"coloraxis\": {\"colorbar\": {\"outlinewidth\": 0, \"ticks\": \"\"}}, \"colorscale\": {\"diverging\": [[0, \"#8e0152\"], [0.1, \"#c51b7d\"], [0.2, \"#de77ae\"], [0.3, \"#f1b6da\"], [0.4, \"#fde0ef\"], [0.5, \"#f7f7f7\"], [0.6, \"#e6f5d0\"], [0.7, \"#b8e186\"], [0.8, \"#7fbc41\"], [0.9, \"#4d9221\"], [1, \"#276419\"]], \"sequential\": [[0.0, \"#0d0887\"], [0.1111111111111111, \"#46039f\"], [0.2222222222222222, \"#7201a8\"], [0.3333333333333333, \"#9c179e\"], [0.4444444444444444, \"#bd3786\"], [0.5555555555555556, \"#d8576b\"], [0.6666666666666666, \"#ed7953\"], [0.7777777777777778, \"#fb9f3a\"], [0.8888888888888888, \"#fdca26\"], [1.0, \"#f0f921\"]], \"sequentialminus\": [[0.0, \"#0d0887\"], [0.1111111111111111, \"#46039f\"], [0.2222222222222222, \"#7201a8\"], [0.3333333333333333, \"#9c179e\"], [0.4444444444444444, \"#bd3786\"], [0.5555555555555556, \"#d8576b\"], [0.6666666666666666, \"#ed7953\"], [0.7777777777777778, \"#fb9f3a\"], [0.8888888888888888, \"#fdca26\"], [1.0, \"#f0f921\"]]}, \"colorway\": [\"#636efa\", \"#EF553B\", \"#00cc96\", \"#ab63fa\", \"#FFA15A\", \"#19d3f3\", \"#FF6692\", \"#B6E880\", \"#FF97FF\", \"#FECB52\"], \"font\": {\"color\": \"#2a3f5f\"}, \"geo\": {\"bgcolor\": \"white\", \"lakecolor\": \"white\", \"landcolor\": \"#E5ECF6\", \"showlakes\": true, \"showland\": true, \"subunitcolor\": \"white\"}, \"hoverlabel\": {\"align\": \"left\"}, \"hovermode\": \"closest\", \"mapbox\": {\"style\": \"light\"}, \"paper_bgcolor\": \"white\", \"plot_bgcolor\": \"#E5ECF6\", \"polar\": {\"angularaxis\": {\"gridcolor\": \"white\", \"linecolor\": \"white\", \"ticks\": \"\"}, \"bgcolor\": \"#E5ECF6\", \"radialaxis\": {\"gridcolor\": \"white\", \"linecolor\": \"white\", \"ticks\": \"\"}}, \"scene\": {\"xaxis\": {\"backgroundcolor\": \"#E5ECF6\", \"gridcolor\": \"white\", \"gridwidth\": 2, \"linecolor\": \"white\", \"showbackground\": true, \"ticks\": \"\", \"zerolinecolor\": \"white\"}, \"yaxis\": {\"backgroundcolor\": \"#E5ECF6\", \"gridcolor\": \"white\", \"gridwidth\": 2, \"linecolor\": \"white\", \"showbackground\": true, \"ticks\": \"\", \"zerolinecolor\": \"white\"}, \"zaxis\": {\"backgroundcolor\": \"#E5ECF6\", \"gridcolor\": \"white\", \"gridwidth\": 2, \"linecolor\": \"white\", \"showbackground\": true, \"ticks\": \"\", \"zerolinecolor\": \"white\"}}, \"shapedefaults\": {\"line\": {\"color\": \"#2a3f5f\"}}, \"ternary\": {\"aaxis\": {\"gridcolor\": \"white\", \"linecolor\": \"white\", \"ticks\": \"\"}, \"baxis\": {\"gridcolor\": \"white\", \"linecolor\": \"white\", \"ticks\": \"\"}, \"bgcolor\": \"#E5ECF6\", \"caxis\": {\"gridcolor\": \"white\", \"linecolor\": \"white\", \"ticks\": \"\"}}, \"title\": {\"x\": 0.05}, \"xaxis\": {\"automargin\": true, \"gridcolor\": \"white\", \"linecolor\": \"white\", \"ticks\": \"\", \"title\": {\"standoff\": 15}, \"zerolinecolor\": \"white\", \"zerolinewidth\": 2}, \"yaxis\": {\"automargin\": true, \"gridcolor\": \"white\", \"linecolor\": \"white\", \"ticks\": \"\", \"title\": {\"standoff\": 15}, \"zerolinecolor\": \"white\", \"zerolinewidth\": 2}}}, \"title\": {\"text\": \"RandomForestClassifier\"}, \"xaxis\": {\"tickangle\": 90, \"title\": {\"standoff\": 25, \"text\": \"Threshold\"}}, \"yaxis\": {\"title\": {\"standoff\": 25, \"text\": \"Percent\"}}},                        {\"responsive\": true}                    ).then(function(){\n",
       "                            \n",
       "var gd = document.getElementById('d3349943-57b8-4be2-915b-2e24dde6b3c9');\n",
       "var x = new MutationObserver(function (mutations, observer) {{\n",
       "        var display = window.getComputedStyle(gd).display;\n",
       "        if (!display || display === 'none') {{\n",
       "            console.log([gd, 'removed!']);\n",
       "            Plotly.purge(gd);\n",
       "            observer.disconnect();\n",
       "        }}\n",
       "}});\n",
       "\n",
       "// Listen for the removal of the full notebook cells\n",
       "var notebookContainer = gd.closest('#notebook-container');\n",
       "if (notebookContainer) {{\n",
       "    x.observe(notebookContainer, {childList: true});\n",
       "}}\n",
       "\n",
       "// Listen for the clearing of the current output cell\n",
       "var outputEl = gd.closest('.output');\n",
       "if (outputEl) {{\n",
       "    x.observe(outputEl, {childList: true});\n",
       "}}\n",
       "\n",
       "                        })                };                });            </script>        </div>"
      ]
     },
     "metadata": {},
     "output_type": "display_data"
    }
   ],
   "source": [
    "df= final_df\n",
    "X = df.drop([label],axis=1)\n",
    "y = df[label]\n",
    "plot_change(classifiers[0],X,y,np.arange(.15,.85,.01))\n",
    "plot_change(classifiers[2],X,y,np.arange(.15,.85,.01))"
   ]
  },
  {
   "cell_type": "markdown",
   "metadata": {},
   "source": [
    "### export model"
   ]
  },
  {
   "cell_type": "code",
   "execution_count": 356,
   "metadata": {},
   "outputs": [
    {
     "name": "stdout",
     "output_type": "stream",
     "text": [
      "success: model stored in file \"model.pkl\"\n"
     ]
    }
   ],
   "source": [
    "model=classifiers[2] \n",
    "name = 'model.pkl'\n",
    "joblib.dump(model, name)\n",
    "print(f\"success: model stored in file \\\"{name}\\\"\")"
   ]
  },
  {
   "cell_type": "code",
   "execution_count": 357,
   "metadata": {},
   "outputs": [
    {
     "name": "stdout",
     "output_type": "stream",
     "text": [
      "success: tfidf vectorizer stored in file \"model.pkl\"\n"
     ]
    }
   ],
   "source": [
    "pickle.dump(tfidfvectorizer, open(\"tfidf.pkl\", \"wb\"))\n",
    "print(f\"success: tfidf vectorizer stored in file \\\"{name}\\\"\")"
   ]
  }
 ],
 "metadata": {
  "kernelspec": {
   "display_name": "Python 3",
   "language": "python",
   "name": "python3"
  },
  "language_info": {
   "codemirror_mode": {
    "name": "ipython",
    "version": 3
   },
   "file_extension": ".py",
   "mimetype": "text/x-python",
   "name": "python",
   "nbconvert_exporter": "python",
   "pygments_lexer": "ipython3",
   "version": "3.8.5"
  }
 },
 "nbformat": 4,
 "nbformat_minor": 4
}

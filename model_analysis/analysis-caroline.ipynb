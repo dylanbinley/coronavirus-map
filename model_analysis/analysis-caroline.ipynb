{
 "cells": [
  {
   "cell_type": "code",
   "execution_count": 1,
   "metadata": {
    "tags": []
   },
   "outputs": [],
   "source": [
    "import json\n",
    "import os\n",
    "import math\n",
    "import html\n",
    "import re\n",
    "import joblib\n",
    "import pickle\n",
    "from IPython.core.display import display, HTML\n",
    "\n",
    "\n",
    "import numpy as np\n",
    "import pandas as pd\n",
    "import matplotlib.pyplot as plt\n",
    "import plotly.graph_objects as go\n",
    "\n",
    "from sklearn.linear_model import LogisticRegression\n",
    "from sklearn.tree import DecisionTreeClassifier\n",
    "from sklearn.ensemble import RandomForestClassifier, GradientBoostingClassifier\n",
    "\n",
    "from sklearn.model_selection import train_test_split\n",
    "from sklearn.feature_extraction.text import TfidfVectorizer\n",
    "from sklearn.metrics import confusion_matrix, ConfusionMatrixDisplay, plot_confusion_matrix"
   ]
  },
  {
   "cell_type": "markdown",
   "metadata": {},
   "source": [
    "### Setup\n",
    "#### Create two dataframes:\n",
    "1. **df_init**: all covid stories\n",
    "2. **df_balanced**: balanced sample of df_init used for testing/training ML models"
   ]
  },
  {
   "cell_type": "code",
   "execution_count": 2,
   "metadata": {
    "tags": []
   },
   "outputs": [],
   "source": [
    "def load_data(directory):\n",
    "    data_dicts = []\n",
    "    for file in os.listdir(directory):\n",
    "        with open(os.path.join(directory, file), 'r') as f:\n",
    "            data_dict = json.load(f)\n",
    "        data_dicts.append(data_dict)\n",
    "    return data_dicts"
   ]
  },
  {
   "cell_type": "code",
   "execution_count": 3,
   "metadata": {
    "tags": []
   },
   "outputs": [],
   "source": [
    "def build_dataframe(data_dicts):\n",
    "    return pd.json_normalize(data_dicts)\n",
    "\n",
    "\n",
    "def reformat_dataframe(df, columns_to_keep):\n",
    "    df = df.rename(columns_to_keep, axis=1)\n",
    "    df = df[list(columns_to_keep.values())]\n",
    "    return df"
   ]
  },
  {
   "cell_type": "code",
   "execution_count": 4,
   "metadata": {
    "tags": []
   },
   "outputs": [],
   "source": [
    "def drop_unlabeled_data(df, column):\n",
    "    return df[(df[column] == True) | (df[column] == False)]\n",
    "\n",
    "\n",
    "def balance_data(df, column):\n",
    "    df_grouped = df.groupby(column)\n",
    "    sample_size = df_grouped.size().min()\n",
    "\n",
    "    def sample(df):\n",
    "        return df.sample(sample_size)\n",
    "\n",
    "    df_grouped_sampled = df_grouped.apply(sample)\n",
    "    df_sampled = pd.DataFrame(df_grouped_sampled)\n",
    "    df_sampled = df_sampled.droplevel(level=0)\n",
    "  \n",
    "    return df_sampled"
   ]
  },
  {
   "cell_type": "code",
   "execution_count": 5,
   "metadata": {},
   "outputs": [],
   "source": [
    "def print_useful_info(df,column=\"_label\", name= \"\"):\n",
    "    print(f\"# stories {name}\\t: {df.shape[0]} ({100*(df[df[column] == True].shape[0]/df.shape[0]):.2f}% COVID)\")"
   ]
  },
  {
   "cell_type": "code",
   "execution_count": 6,
   "metadata": {},
   "outputs": [
    {
     "name": "stdout",
     "output_type": "stream",
     "text": [
      "data loaded\n",
      "# stories all data\t: 1589 (10.70% COVID)\n",
      "# stories balanced data\t: 340 (50.00% COVID)\n"
     ]
    }
   ],
   "source": [
    "directory = '../data/news_articles/balanced_dataset/'\n",
    "\n",
    "columns_to_keep = {\n",
    "    'LABEL.WANT_ON_MAP': '_label',\n",
    "    'ARTICLE.TEXT': 'text',\n",
    "    'ARTICLE.TITLE': 'title',\n",
    "}\n",
    "label = '_label' # put '_' in front so that it does not conflict with columns for tfidf vectors later on\n",
    "content_columns = ['text','title']\n",
    "\n",
    "data = load_data(directory)\n",
    "\n",
    "df_init = build_dataframe(data)\n",
    "df_init = reformat_dataframe(df_init, columns_to_keep)\n",
    "df_init = drop_unlabeled_data(df_init, label)\n",
    "df_init[label] = df_init[label].astype(bool)\n",
    "\n",
    "df_balanced = balance_data(df_init, label)\n",
    "    \n",
    "print(\"data loaded\")\n",
    "print_useful_info(df_init, name='all data')\n",
    "print_useful_info(df_balanced, name='balanced data')"
   ]
  },
  {
   "cell_type": "markdown",
   "metadata": {},
   "source": [
    "# NEW: SPLIT INTO CONSISTENT TRAIN, TEST GROUPS"
   ]
  },
  {
   "cell_type": "code",
   "execution_count": 7,
   "metadata": {},
   "outputs": [],
   "source": [
    "df_balanced['train'] = np.random.rand(340,) > .2  # this is hacky, but it gets the job done"
   ]
  },
  {
   "cell_type": "code",
   "execution_count": 8,
   "metadata": {},
   "outputs": [
    {
     "data": {
      "text/plain": [
       "0.7852941176470588"
      ]
     },
     "execution_count": 8,
     "metadata": {},
     "output_type": "execute_result"
    }
   ],
   "source": [
    "df_balanced['train'].mean()  # percent of stories used for training"
   ]
  },
  {
   "cell_type": "code",
   "execution_count": 9,
   "metadata": {},
   "outputs": [],
   "source": [
    "df_train = df_balanced[df_balanced['train']].copy()\n",
    "df_test = df_balanced[~df_balanced['train']].copy()"
   ]
  },
  {
   "cell_type": "markdown",
   "metadata": {},
   "source": [
    "# NEW: SPLIT INTO CONSISTENT TRAIN, TEST GROUPS"
   ]
  },
  {
   "cell_type": "markdown",
   "metadata": {},
   "source": [
    "### Rule Based Model"
   ]
  },
  {
   "cell_type": "code",
   "execution_count": 23,
   "metadata": {},
   "outputs": [],
   "source": [
    "class RuleBasedModel:\n",
    "    def __init__(self, keyword_string):\n",
    "        self.keyword_string = keyword_string\n",
    "        \n",
    "    def predict(self, X):\n",
    "        return np.array([\n",
    "            self._predict(*x)\n",
    "            for _, x in X.iterrows()\n",
    "        ])\n",
    "    \n",
    "    def _predict(self, title, body):\n",
    "        keywords_in_title = re.findall(self.keyword_string, title.lower())\n",
    "        if any(keywords_in_title):\n",
    "            return True\n",
    "        \n",
    "        keywords_in_body = re.findall(self.keyword_string, body.lower())\n",
    "        return len(keywords_in_body) > 5"
   ]
  },
  {
   "cell_type": "code",
   "execution_count": 24,
   "metadata": {},
   "outputs": [],
   "source": [
    "def plot_cf_matrix(labels, predicted, title=\"\", normalize=None):\n",
    "    ax= plt.subplot()\n",
    "    matrix = confusion_matrix(labels, predicted, normalize=normalize)\n",
    "    display = ConfusionMatrixDisplay(matrix, display_labels=['Not COVID','COVID'])\n",
    "    display.plot(cmap='Blues', ax=ax)\n",
    "    ax.set_title(title)"
   ]
  },
  {
   "cell_type": "code",
   "execution_count": 25,
   "metadata": {},
   "outputs": [
    {
     "data": {
      "image/png": "[encoded data removed]",
      "text/plain": [
       "<Figure size 432x288 with 2 Axes>"
      ]
     },
     "metadata": {
      "needs_background": "light"
     },
     "output_type": "display_data"
    }
   ],
   "source": [
    "labels = df_test[label]\n",
    "\n",
    "model = RuleBasedModel('covid|corona|pandem|epidem|mask|quarant|vaccine|lockdown')\n",
    "predicted = model.predict(df_test[[\"title\", \"text\"]])\n",
    "\n",
    "plot_cf_matrix(labels, predicted, title=\"Rule Based Model\", normalize='true')"
   ]
  },
  {
   "cell_type": "code",
   "execution_count": 26,
   "metadata": {},
   "outputs": [],
   "source": [
    "def markup(string):\n",
    "    for keyword in 'covid|corona|pandem|epidem|mask|quarant|vaccine|lockdown'.split('|'):\n",
    "        string = re.sub(\n",
    "            keyword, f'<span style=\"background-color: #ffd1d1\"><b>{keyword}</b></span>', \n",
    "            string,\n",
    "        )\n",
    "        string = re.sub(\n",
    "            keyword.upper(), f'<span style=\"background-color: #ffd1d1\"><b>{keyword.upper()}</b></span>', \n",
    "            string,\n",
    "        )\n",
    "    return string"
   ]
  },
  {
   "cell_type": "code",
   "execution_count": 27,
   "metadata": {},
   "outputs": [
    {
     "data": {
      "text/html": [
       "It is estimated that only one woman in 50 has access to fistula treatment.\n",
       "\n",
       "Dr Andrew Browning, Fistula Surgeon and Chair of the FIGO Committee for Fistula and Genital Trauma, and also Chair of the Fistula Surgery Training Initiative Expert Advisory Group trains FIGO Fellows to provide life-transforming care to help significantly address the global treatment gap.\n",
       "\n",
       "On the occasion of the International Day to End Obstetric Fistula, FIGO spoke to Dr Andrew Browning about the programme, and the current challenges caused by the <span style=\"background-color: #ffd1d1\"><b>COVID</b></span>-19 <span style=\"background-color: #ffd1d1\"><b>pandem</b></span>ic.\n",
       "\n",
       "The FIGO Fistula Surgery Training initiative is so important because it is vital that people do not try to operate on fistula patients without training. This used to happen and the operations would often go wrong, making any hope of a cure more remote. We need properly trained and equipped doctors.\n",
       "\n",
       "The Impact of <span style=\"background-color: #ffd1d1\"><b>COVID</b></span>-19\n",
       "\n",
       "A woman with obstetric fistula is one of the most desperate and needy of patients.\n",
       "\n",
       "The <span style=\"background-color: #ffd1d1\"><b>COVID</b></span>-19 outbreak and the <span style=\"background-color: #ffd1d1\"><b>lockdown</b></span>s in place have made the plight of fistula patients all the more acute. From my own perspective, I was due to travel to Uganda, South Sudan and Tanzania to operate on over 90 patients. The borders of those countries closed so I was unable to go and the patients had to return home. It is devastating for them to have their hope of help deferred.\n",
       "\n",
       "Many outreach programs that find and refer fistula patients for help are now closed, patients cannot travel to hospitals and there are fewer aid donations as the world&#x27;s economy is shrinking. Fistula patients will suffer as a result.\n",
       "\n",
       "I also hear that in certain places women are scared to deliver in hospitals, as they are afraid of the virus. There are reports of women dying at home trying to have a baby and I am certain more will be getting fistulas too.\n",
       "\n",
       "I am sure there will be a lot more catching up to do after the <span style=\"background-color: #ffd1d1\"><b>COVID</b></span>-19 crisis passes. We cannot help all of the women who need fistula surgery without the FIGO Fellows who have been through and are involved in the training program.\n",
       "\n",
       "International Day to End Obstetric Fistula\n",
       "\n",
       "The International Day to End Obstetric Fistula helps to keep the fistula patient and her plight in the public eye, otherwise they run the risk of being forgotten, especially at times like this.\n",
       "\n",
       "The FIGO Fistula Surgery Training Initiative is a globally recognised, state-of-the-art training programme. Using FIGO’s Global Competency-Based Fistula Surgery Training Manual, the world’s first standardised curriculum, we deliver training, education and research. Dr Andrew Browning helps to trainour 62 trainee surgeons - ‘FIGO Fellows’ – who are doing incredible work in some of the world’s most underserved regions."
      ],
      "text/plain": [
       "<IPython.core.display.HTML object>"
      ]
     },
     "metadata": {},
     "output_type": "display_data"
    },
    {
     "data": {
      "text/html": [
       "<br><br>"
      ],
      "text/plain": [
       "<IPython.core.display.HTML object>"
      ]
     },
     "metadata": {},
     "output_type": "display_data"
    }
   ],
   "source": [
    "# view false positives\n",
    "\n",
    "false_positive = (predicted == True) & (labels == False)\n",
    "\n",
    "for index, row in df_test[false_positive].head(10).iterrows():\n",
    "    display(HTML(markup(html.escape(row['text']))))\n",
    "    display(HTML('<br><br>'))"
   ]
  },
  {
   "cell_type": "code",
   "execution_count": 30,
   "metadata": {},
   "outputs": [
    {
     "data": {
      "text/html": [
       "The United States, Canada and Mexico have extended their travel ban until September.\n",
       "\n",
       "The US Department of Homeland Security in a tweet on Friday said the <span style=\"background-color: #ffd1d1\"><b>COVID</b></span>-19 ban on non-essential travel through border crossings with Canada and Mexico has being extended until September 21.\n",
       "\n",
       "The reciprocal travel ban aimed at slowing the spread of <span style=\"background-color: #ffd1d1\"><b>corona</b></span>virus was first imposed in March and has been extended several times.\n",
       "\n",
       "The United States has experienced a recent surge in <span style=\"background-color: #ffd1d1\"><b>COVID</b></span>-19 cases and with more than 5.2 million infections has more than any other country in the world."
      ],
      "text/plain": [
       "<IPython.core.display.HTML object>"
      ]
     },
     "metadata": {},
     "output_type": "display_data"
    },
    {
     "data": {
      "text/html": [
       "<br><br>"
      ],
      "text/plain": [
       "<IPython.core.display.HTML object>"
      ]
     },
     "metadata": {},
     "output_type": "display_data"
    },
    {
     "data": {
      "text/html": [
       "Open this photo in gallery Muslim pilgrims are seen circumambulating around the Kaaba, Islam&#x27;s holiest shrine, at the centre of the Grand Mosque in Mecca on Aug. 2, 2020. -/AFP/Getty Images\n",
       "\n",
       "Ferrukh Faruqui is an Ottawa writer and community activist.\n",
       "\n",
       "<span style=\"background-color: #ffd1d1\"><b>COVID</b></span>-19 has redefined every facet of our lives, and the hajj – the mandatory, once-in-a-lifetime pilgrimage for Muslims – is no exception. Typically, 2.5 million pilgrims converge on Mecca in Saudi Arabia every year to fulfill this fifth pillar of Islam. But the <span style=\"background-color: #ffd1d1\"><b>pandem</b></span>ic dictated that only 1,000 people who already live in the country would be allowed to perform this year’s five-day ritual, which ended Aug. 2.\n",
       "\n",
       "For me, though, there was something else extraordinary about this year’s hajj. I was overcome by the sight of women circumambulating the coveted inner circles nearest to the Kaaba, the most sacred site in Islam, in the heart of Mecca’s Grand Mosque. In a YouTube interview with Mufti Menk, a popular Zimbabwean cleric, one of these fortunate pilgrims marvelled: “I thought it would be like when women pray behind the men … but here I was, in the first row closest to the Kaaba.”\n",
       "\n",
       "Story continues below advertisement\n",
       "\n",
       "Her strange but beautiful experience unfortunately belies the recent troubling phenomenon of hostility toward female pilgrims. Though we comprise half the world’s two billion Muslims, many women are still forced to chafe under gender restrictions. In the past, there would be solace in Mecca’s egalitarian rules, but now, even the holiest of holies is less welcoming – perhaps not even safe.\n",
       "\n",
       "Last fall, my daughter Nishat flew to Mecca with her new husband for umrah, the lesser, year-round pilgrimage seeking reconnection with God. But on the night of her arrival, she called me, sobbing. Her pilgrimage had been “ruined” by officious strangers who tugged at her hijab and shouted at her. Something in me withered and died. I recalled my own 1988 umrah, when my scarf slipped intermittently off my head. Yet I wasn’t accosted by outraged, gimlet-eyed pilgrims; I was left in peace to contemplate God.\n",
       "\n",
       "Disillusioned women shared similar stories with me. Hoping for a transformative journey, they were instead hectored and betrayed by fellow believers. Being reprimanded by strangers for dressing “improperly” was just the beginning; some detailed sexual harassment, even assault – violations that stain this sacred space.\n",
       "\n",
       "Such gender-based discrimination has become a part of the Canadian Muslim experience, too. My father designed Winnipeg’s first mosque in the 1970s, and our family found a spiritual home in its bright, barrier-free prayer hall. When women stood at the pulpit to address the mixed congregation there, no one tried to silence them. We weren’t forced into segregated rooms through back entrances. But sadly, that halcyon era is history.\n",
       "\n",
       "A battle over sacred spaces has played out in North American mosques since the 1980s, when the Saudi Arabian government launched an oil-funded campaign to homogenize Islam overseas. Strict Saudi interpretations of the faith drove the imported fundamentalism that gripped our communities. One day we arrived at our mosque to find a physical barrier separating the men in the front from the women in the back. The unmosquing of Muslim women had begun.\n",
       "\n",
       "Ironically, the only place where men and women remained free to pray together was in the very heart of the Saudi kingdom. But soon the conservative sheiks whose support legitimizes the House of Saud wrested control of the Grand Mosque, too, by allowing freshly “radicalized” Muslim pilgrims to police each other.\n",
       "\n",
       "Women of all ages now report strangers hissing imprecations on their pilgrimages, impatiently adjusting their hijabs or demanding that they cover their faces – which is forbidden during these rituals. As former New York Times correspondent Diaa Hadid chronicled during her hajj in 2016: “As I tried to find room between worshippers, a security guard shouted that I was taking space where men needed to walk … I felt safe. But also, too often, second-class.”\n",
       "\n",
       "Story continues below advertisement\n",
       "\n",
       "Some men even cynically commit assault under the cover of faith, grabbing buttocks or breasts. In a 2018 Facebook post, Pakistani Sabica Khan described the multiple assaults she endured near the Kaaba, a story amplified by Egyptian-American journalist Mona Eltahawy, who then launched #MosqueMeToo by sharing the story of her own assault in Mecca at the age of 15. The campaign unleashed emotional accounts from women who’d suffered similar molestation. Even in Mecca, the real world intrudes to shame women and put them in their place. As Ms. Eltahawy wrote: “The men who assaulted me abused the sanctity of a sacred space to ensure the silence of their victim.”\n",
       "\n",
       "At its core, Islam is a feminist religion. Georgetown University historian Margot Badran tirelessly celebrates the forgotten tenets of Islamic feminism, declaring that in the Koran, “men and women alike are enjoined to obey Islamic precepts and are exhorted to engage in taqwa or righteous behaviour.” And in her revolutionary book Believing Women in Islam, scholar Asma Barlas shows how centuries of patriarchal readings of Muslim scripture have sown misogyny.\n",
       "\n",
       "Let’s cleanse our hearts and remember the Koran’s forgotten message of radical equality. Maybe then we can halt the exodus of women from the sacred spaces that belong to us all, so that images of women touching the Kaaba become the new normal.\n",
       "\n",
       "Keep your Opinions sharp and informed. Get the Opinion newsletter. Sign up today."
      ],
      "text/plain": [
       "<IPython.core.display.HTML object>"
      ]
     },
     "metadata": {},
     "output_type": "display_data"
    },
    {
     "data": {
      "text/html": [
       "<br><br>"
      ],
      "text/plain": [
       "<IPython.core.display.HTML object>"
      ]
     },
     "metadata": {},
     "output_type": "display_data"
    },
    {
     "data": {
      "text/html": [
       "This morning Brian talks with Dr. John Fleming, the Deputy Chief of Staff for The White House. They discuss how Louisiana is doing in response to <span style=\"background-color: #ffd1d1\"><b>COVID</b></span>-19, what’s been the most difficult part of the response, the possibility of a <span style=\"background-color: #ffd1d1\"><b>vaccine</b></span> by possibly October and much more.\n",
       "\n",
       "ABOUT DR. JOHN FLEMING\n",
       "\n",
       "From January 3, 2009, to January 3, 2017, Fleming was the representative for Louisiana’s 4th congressional district. He resides in the city of Minden in Webster Parish in northwestern Louisiana. After leaving Congress in 2017, he served for two years in the administration as Deputy Assistant Secretary for Health Information Technology Reform and then served as Assistant Secretary of Commerce for Economic Development from March 2019 to 2020. In March 2020, he was appointed to a position in the White House as Assistant to the President for Planning and Implementation."
      ],
      "text/plain": [
       "<IPython.core.display.HTML object>"
      ]
     },
     "metadata": {},
     "output_type": "display_data"
    },
    {
     "data": {
      "text/html": [
       "<br><br>"
      ],
      "text/plain": [
       "<IPython.core.display.HTML object>"
      ]
     },
     "metadata": {},
     "output_type": "display_data"
    }
   ],
   "source": [
    "# view false negatives\n",
    "\n",
    "false_negative = (predicted == False) & (labels == True)\n",
    "\n",
    "for index, row in df_test[false_negative].head(10).iterrows():\n",
    "    display(HTML(markup(html.escape(row['text']))))\n",
    "    display(HTML('<br><br>'))"
   ]
  },
  {
   "cell_type": "markdown",
   "metadata": {},
   "source": [
    "### Keyword model "
   ]
  },
  {
   "cell_type": "code",
   "execution_count": 31,
   "metadata": {
    "tags": []
   },
   "outputs": [],
   "source": [
    "def count_keywords(df, columns, keywords):\n",
    "    for keyword in keywords:\n",
    "        \n",
    "        def count_keyword(string):\n",
    "            return sum(\n",
    "                keyword in word\n",
    "                for word in string.lower().split()\n",
    "            )\n",
    "\n",
    "        df[keyword] = df[columns].applymap(count_keyword).sum(axis=1)\n",
    "        \n",
    "    return df\n",
    "\n",
    "\n",
    "def train_classifiers(classifiers, x,y, debug=False):\n",
    "    for cls in classifiers:\n",
    "        if debug: print(type(cls).__name__ + \"... \",end=\"\")\n",
    "        cls.fit(x,y)\n",
    "        if debug: print(\"done\")"
   ]
  },
  {
   "cell_type": "code",
   "execution_count": 32,
   "metadata": {
    "tags": []
   },
   "outputs": [],
   "source": [
    "def plot_confusion_matrices(classifiers, x,y,title=\"\",normalize=None, nrows = 1):\n",
    "    ncols = math.ceil(len(classifiers)/nrows)\n",
    "    fig, axes = plt.subplots(nrows=nrows, ncols = ncols, figsize=(ncols*5,nrows*3.7))\n",
    "    for cls, ax in zip(classifiers, axes.flatten()):\n",
    "        plot_confusion_matrix(\n",
    "            cls,\n",
    "            x, \n",
    "            y,\n",
    "            ax=ax, \n",
    "            cmap='Blues',\n",
    "            normalize=normalize,\n",
    "            display_labels=['Not COVID', 'COVID'],\n",
    "        )\n",
    "        ax.title.set_text(type(cls).__name__)\n",
    "    fig.suptitle(title, fontsize='xx-large',ha='left')\n",
    "    plt.tight_layout()  \n",
    "    plt.show()"
   ]
  },
  {
   "cell_type": "code",
   "execution_count": 33,
   "metadata": {},
   "outputs": [],
   "source": [
    "article_keywords = [\n",
    "    'covid',\n",
    "    'corona',\n",
    "    'pandem',\n",
    "    'epidem',\n",
    "    'mask',\n",
    "    'quarant',\n",
    "    'vaccine',\n",
    "]\n",
    "\n",
    "classifiers = [\n",
    "    LogisticRegression(),\n",
    "    DecisionTreeClassifier(),\n",
    "    RandomForestClassifier(),\n",
    "    GradientBoostingClassifier(),\n",
    "]"
   ]
  },
  {
   "cell_type": "code",
   "execution_count": 34,
   "metadata": {},
   "outputs": [
    {
     "data": {
      "image/png": "[encoded data removed]",
      "text/plain": [
       "<Figure size 1440x266.4 with 8 Axes>"
      ]
     },
     "metadata": {
      "needs_background": "light"
     },
     "output_type": "display_data"
    },
    {
     "data": {
      "image/png": "[encoded data removed]",
      "text/plain": [
       "<Figure size 1440x266.4 with 8 Axes>"
      ]
     },
     "metadata": {
      "needs_background": "light"
     },
     "output_type": "display_data"
    }
   ],
   "source": [
    "df_train = count_keywords(df_train, content_columns, article_keywords)\n",
    "df_test = count_keywords(df_test, content_columns, article_keywords)\n",
    "\n",
    "\n",
    "x_train = df_train[article_keywords]\n",
    "y_train = df_train[label]\n",
    "\n",
    "x_test = df_test[article_keywords]\n",
    "y_test = df_test[label]\n",
    "\n",
    "train_classifiers(classifiers, x_train, y_train)\n",
    "\n",
    "plot_confusion_matrices(classifiers, x_train, y_train, title=\"TRAIN\", normalize='true')\n",
    "plot_confusion_matrices(classifiers, x_test, y_test, title=\"TEST\", normalize='true')"
   ]
  },
  {
   "cell_type": "code",
   "execution_count": 35,
   "metadata": {},
   "outputs": [
    {
     "name": "stdout",
     "output_type": "stream",
     "text": [
      "LogisticRegression()\n"
     ]
    },
    {
     "data": {
      "text/html": [
       "The United States, Canada and Mexico have extended their travel ban until September.\n",
       "\n",
       "The US Department of Homeland Security in a tweet on Friday said the <span style=\"background-color: #ffd1d1\"><b>COVID</b></span>-19 ban on non-essential travel through border crossings with Canada and Mexico has being extended until September 21.\n",
       "\n",
       "The reciprocal travel ban aimed at slowing the spread of <span style=\"background-color: #ffd1d1\"><b>corona</b></span>virus was first imposed in March and has been extended several times.\n",
       "\n",
       "The United States has experienced a recent surge in <span style=\"background-color: #ffd1d1\"><b>COVID</b></span>-19 cases and with more than 5.2 million infections has more than any other country in the world."
      ],
      "text/plain": [
       "<IPython.core.display.HTML object>"
      ]
     },
     "metadata": {},
     "output_type": "display_data"
    },
    {
     "data": {
      "text/html": [
       "<br><br>"
      ],
      "text/plain": [
       "<IPython.core.display.HTML object>"
      ]
     },
     "metadata": {},
     "output_type": "display_data"
    },
    {
     "data": {
      "text/html": [
       "Open this photo in gallery Muslim pilgrims are seen circumambulating around the Kaaba, Islam&#x27;s holiest shrine, at the centre of the Grand Mosque in Mecca on Aug. 2, 2020. -/AFP/Getty Images\n",
       "\n",
       "Ferrukh Faruqui is an Ottawa writer and community activist.\n",
       "\n",
       "<span style=\"background-color: #ffd1d1\"><b>COVID</b></span>-19 has redefined every facet of our lives, and the hajj – the mandatory, once-in-a-lifetime pilgrimage for Muslims – is no exception. Typically, 2.5 million pilgrims converge on Mecca in Saudi Arabia every year to fulfill this fifth pillar of Islam. But the <span style=\"background-color: #ffd1d1\"><b>pandem</b></span>ic dictated that only 1,000 people who already live in the country would be allowed to perform this year’s five-day ritual, which ended Aug. 2.\n",
       "\n",
       "For me, though, there was something else extraordinary about this year’s hajj. I was overcome by the sight of women circumambulating the coveted inner circles nearest to the Kaaba, the most sacred site in Islam, in the heart of Mecca’s Grand Mosque. In a YouTube interview with Mufti Menk, a popular Zimbabwean cleric, one of these fortunate pilgrims marvelled: “I thought it would be like when women pray behind the men … but here I was, in the first row closest to the Kaaba.”\n",
       "\n",
       "Story continues below advertisement\n",
       "\n",
       "Her strange but beautiful experience unfortunately belies the recent troubling phenomenon of hostility toward female pilgrims. Though we comprise half the world’s two billion Muslims, many women are still forced to chafe under gender restrictions. In the past, there would be solace in Mecca’s egalitarian rules, but now, even the holiest of holies is less welcoming – perhaps not even safe.\n",
       "\n",
       "Last fall, my daughter Nishat flew to Mecca with her new husband for umrah, the lesser, year-round pilgrimage seeking reconnection with God. But on the night of her arrival, she called me, sobbing. Her pilgrimage had been “ruined” by officious strangers who tugged at her hijab and shouted at her. Something in me withered and died. I recalled my own 1988 umrah, when my scarf slipped intermittently off my head. Yet I wasn’t accosted by outraged, gimlet-eyed pilgrims; I was left in peace to contemplate God.\n",
       "\n",
       "Disillusioned women shared similar stories with me. Hoping for a transformative journey, they were instead hectored and betrayed by fellow believers. Being reprimanded by strangers for dressing “improperly” was just the beginning; some detailed sexual harassment, even assault – violations that stain this sacred space.\n",
       "\n",
       "Such gender-based discrimination has become a part of the Canadian Muslim experience, too. My father designed Winnipeg’s first mosque in the 1970s, and our family found a spiritual home in its bright, barrier-free prayer hall. When women stood at the pulpit to address the mixed congregation there, no one tried to silence them. We weren’t forced into segregated rooms through back entrances. But sadly, that halcyon era is history.\n",
       "\n",
       "A battle over sacred spaces has played out in North American mosques since the 1980s, when the Saudi Arabian government launched an oil-funded campaign to homogenize Islam overseas. Strict Saudi interpretations of the faith drove the imported fundamentalism that gripped our communities. One day we arrived at our mosque to find a physical barrier separating the men in the front from the women in the back. The unmosquing of Muslim women had begun.\n",
       "\n",
       "Ironically, the only place where men and women remained free to pray together was in the very heart of the Saudi kingdom. But soon the conservative sheiks whose support legitimizes the House of Saud wrested control of the Grand Mosque, too, by allowing freshly “radicalized” Muslim pilgrims to police each other.\n",
       "\n",
       "Women of all ages now report strangers hissing imprecations on their pilgrimages, impatiently adjusting their hijabs or demanding that they cover their faces – which is forbidden during these rituals. As former New York Times correspondent Diaa Hadid chronicled during her hajj in 2016: “As I tried to find room between worshippers, a security guard shouted that I was taking space where men needed to walk … I felt safe. But also, too often, second-class.”\n",
       "\n",
       "Story continues below advertisement\n",
       "\n",
       "Some men even cynically commit assault under the cover of faith, grabbing buttocks or breasts. In a 2018 Facebook post, Pakistani Sabica Khan described the multiple assaults she endured near the Kaaba, a story amplified by Egyptian-American journalist Mona Eltahawy, who then launched #MosqueMeToo by sharing the story of her own assault in Mecca at the age of 15. The campaign unleashed emotional accounts from women who’d suffered similar molestation. Even in Mecca, the real world intrudes to shame women and put them in their place. As Ms. Eltahawy wrote: “The men who assaulted me abused the sanctity of a sacred space to ensure the silence of their victim.”\n",
       "\n",
       "At its core, Islam is a feminist religion. Georgetown University historian Margot Badran tirelessly celebrates the forgotten tenets of Islamic feminism, declaring that in the Koran, “men and women alike are enjoined to obey Islamic precepts and are exhorted to engage in taqwa or righteous behaviour.” And in her revolutionary book Believing Women in Islam, scholar Asma Barlas shows how centuries of patriarchal readings of Muslim scripture have sown misogyny.\n",
       "\n",
       "Let’s cleanse our hearts and remember the Koran’s forgotten message of radical equality. Maybe then we can halt the exodus of women from the sacred spaces that belong to us all, so that images of women touching the Kaaba become the new normal.\n",
       "\n",
       "Keep your Opinions sharp and informed. Get the Opinion newsletter. Sign up today."
      ],
      "text/plain": [
       "<IPython.core.display.HTML object>"
      ]
     },
     "metadata": {},
     "output_type": "display_data"
    },
    {
     "data": {
      "text/html": [
       "<br><br>"
      ],
      "text/plain": [
       "<IPython.core.display.HTML object>"
      ]
     },
     "metadata": {},
     "output_type": "display_data"
    },
    {
     "data": {
      "text/html": [
       "This morning Brian talks with Dr. John Fleming, the Deputy Chief of Staff for The White House. They discuss how Louisiana is doing in response to <span style=\"background-color: #ffd1d1\"><b>COVID</b></span>-19, what’s been the most difficult part of the response, the possibility of a <span style=\"background-color: #ffd1d1\"><b>vaccine</b></span> by possibly October and much more.\n",
       "\n",
       "ABOUT DR. JOHN FLEMING\n",
       "\n",
       "From January 3, 2009, to January 3, 2017, Fleming was the representative for Louisiana’s 4th congressional district. He resides in the city of Minden in Webster Parish in northwestern Louisiana. After leaving Congress in 2017, he served for two years in the administration as Deputy Assistant Secretary for Health Information Technology Reform and then served as Assistant Secretary of Commerce for Economic Development from March 2019 to 2020. In March 2020, he was appointed to a position in the White House as Assistant to the President for Planning and Implementation."
      ],
      "text/plain": [
       "<IPython.core.display.HTML object>"
      ]
     },
     "metadata": {},
     "output_type": "display_data"
    },
    {
     "data": {
      "text/html": [
       "<br><br>"
      ],
      "text/plain": [
       "<IPython.core.display.HTML object>"
      ]
     },
     "metadata": {},
     "output_type": "display_data"
    },
    {
     "name": "stdout",
     "output_type": "stream",
     "text": [
      "DecisionTreeClassifier()\n"
     ]
    },
    {
     "data": {
      "text/html": [
       "Any government wishes to avoid policies that are disruptive, draconian and costly. The decision to impose <span style=\"background-color: #ffd1d1\"><b>quarant</b></span>ine restrictions on travellers arriving from France meets those criteria. From 4am today, anyone arriving in Britain from France is required to self-isolate for 14 days or risk a fine. The same requirement applies to travellers arriving from the Netherlands, Monaco, Malta, the Turks and Caicos islands and Aruba.\n",
       "\n",
       "The speed of the decision left many British holidaymakers with an unenviable choice. They had to decide whether to continue with their vacation and face <span style=\"background-color: #ffd1d1\"><b>quarant</b></span>ine restrictions on their return, or pay punitive prices to come back early by air, sea or rail, even supposing that they were able to get tickets. Boris Johnson, and especially Grant Shapps, the transport"
      ],
      "text/plain": [
       "<IPython.core.display.HTML object>"
      ]
     },
     "metadata": {},
     "output_type": "display_data"
    },
    {
     "data": {
      "text/html": [
       "<br><br>"
      ],
      "text/plain": [
       "<IPython.core.display.HTML object>"
      ]
     },
     "metadata": {},
     "output_type": "display_data"
    },
    {
     "data": {
      "text/html": [
       "Open this photo in gallery Muslim pilgrims are seen circumambulating around the Kaaba, Islam&#x27;s holiest shrine, at the centre of the Grand Mosque in Mecca on Aug. 2, 2020. -/AFP/Getty Images\n",
       "\n",
       "Ferrukh Faruqui is an Ottawa writer and community activist.\n",
       "\n",
       "<span style=\"background-color: #ffd1d1\"><b>COVID</b></span>-19 has redefined every facet of our lives, and the hajj – the mandatory, once-in-a-lifetime pilgrimage for Muslims – is no exception. Typically, 2.5 million pilgrims converge on Mecca in Saudi Arabia every year to fulfill this fifth pillar of Islam. But the <span style=\"background-color: #ffd1d1\"><b>pandem</b></span>ic dictated that only 1,000 people who already live in the country would be allowed to perform this year’s five-day ritual, which ended Aug. 2.\n",
       "\n",
       "For me, though, there was something else extraordinary about this year’s hajj. I was overcome by the sight of women circumambulating the coveted inner circles nearest to the Kaaba, the most sacred site in Islam, in the heart of Mecca’s Grand Mosque. In a YouTube interview with Mufti Menk, a popular Zimbabwean cleric, one of these fortunate pilgrims marvelled: “I thought it would be like when women pray behind the men … but here I was, in the first row closest to the Kaaba.”\n",
       "\n",
       "Story continues below advertisement\n",
       "\n",
       "Her strange but beautiful experience unfortunately belies the recent troubling phenomenon of hostility toward female pilgrims. Though we comprise half the world’s two billion Muslims, many women are still forced to chafe under gender restrictions. In the past, there would be solace in Mecca’s egalitarian rules, but now, even the holiest of holies is less welcoming – perhaps not even safe.\n",
       "\n",
       "Last fall, my daughter Nishat flew to Mecca with her new husband for umrah, the lesser, year-round pilgrimage seeking reconnection with God. But on the night of her arrival, she called me, sobbing. Her pilgrimage had been “ruined” by officious strangers who tugged at her hijab and shouted at her. Something in me withered and died. I recalled my own 1988 umrah, when my scarf slipped intermittently off my head. Yet I wasn’t accosted by outraged, gimlet-eyed pilgrims; I was left in peace to contemplate God.\n",
       "\n",
       "Disillusioned women shared similar stories with me. Hoping for a transformative journey, they were instead hectored and betrayed by fellow believers. Being reprimanded by strangers for dressing “improperly” was just the beginning; some detailed sexual harassment, even assault – violations that stain this sacred space.\n",
       "\n",
       "Such gender-based discrimination has become a part of the Canadian Muslim experience, too. My father designed Winnipeg’s first mosque in the 1970s, and our family found a spiritual home in its bright, barrier-free prayer hall. When women stood at the pulpit to address the mixed congregation there, no one tried to silence them. We weren’t forced into segregated rooms through back entrances. But sadly, that halcyon era is history.\n",
       "\n",
       "A battle over sacred spaces has played out in North American mosques since the 1980s, when the Saudi Arabian government launched an oil-funded campaign to homogenize Islam overseas. Strict Saudi interpretations of the faith drove the imported fundamentalism that gripped our communities. One day we arrived at our mosque to find a physical barrier separating the men in the front from the women in the back. The unmosquing of Muslim women had begun.\n",
       "\n",
       "Ironically, the only place where men and women remained free to pray together was in the very heart of the Saudi kingdom. But soon the conservative sheiks whose support legitimizes the House of Saud wrested control of the Grand Mosque, too, by allowing freshly “radicalized” Muslim pilgrims to police each other.\n",
       "\n",
       "Women of all ages now report strangers hissing imprecations on their pilgrimages, impatiently adjusting their hijabs or demanding that they cover their faces – which is forbidden during these rituals. As former New York Times correspondent Diaa Hadid chronicled during her hajj in 2016: “As I tried to find room between worshippers, a security guard shouted that I was taking space where men needed to walk … I felt safe. But also, too often, second-class.”\n",
       "\n",
       "Story continues below advertisement\n",
       "\n",
       "Some men even cynically commit assault under the cover of faith, grabbing buttocks or breasts. In a 2018 Facebook post, Pakistani Sabica Khan described the multiple assaults she endured near the Kaaba, a story amplified by Egyptian-American journalist Mona Eltahawy, who then launched #MosqueMeToo by sharing the story of her own assault in Mecca at the age of 15. The campaign unleashed emotional accounts from women who’d suffered similar molestation. Even in Mecca, the real world intrudes to shame women and put them in their place. As Ms. Eltahawy wrote: “The men who assaulted me abused the sanctity of a sacred space to ensure the silence of their victim.”\n",
       "\n",
       "At its core, Islam is a feminist religion. Georgetown University historian Margot Badran tirelessly celebrates the forgotten tenets of Islamic feminism, declaring that in the Koran, “men and women alike are enjoined to obey Islamic precepts and are exhorted to engage in taqwa or righteous behaviour.” And in her revolutionary book Believing Women in Islam, scholar Asma Barlas shows how centuries of patriarchal readings of Muslim scripture have sown misogyny.\n",
       "\n",
       "Let’s cleanse our hearts and remember the Koran’s forgotten message of radical equality. Maybe then we can halt the exodus of women from the sacred spaces that belong to us all, so that images of women touching the Kaaba become the new normal.\n",
       "\n",
       "Keep your Opinions sharp and informed. Get the Opinion newsletter. Sign up today."
      ],
      "text/plain": [
       "<IPython.core.display.HTML object>"
      ]
     },
     "metadata": {},
     "output_type": "display_data"
    },
    {
     "data": {
      "text/html": [
       "<br><br>"
      ],
      "text/plain": [
       "<IPython.core.display.HTML object>"
      ]
     },
     "metadata": {},
     "output_type": "display_data"
    },
    {
     "data": {
      "text/html": [
       "This morning Brian talks with Dr. John Fleming, the Deputy Chief of Staff for The White House. They discuss how Louisiana is doing in response to <span style=\"background-color: #ffd1d1\"><b>COVID</b></span>-19, what’s been the most difficult part of the response, the possibility of a <span style=\"background-color: #ffd1d1\"><b>vaccine</b></span> by possibly October and much more.\n",
       "\n",
       "ABOUT DR. JOHN FLEMING\n",
       "\n",
       "From January 3, 2009, to January 3, 2017, Fleming was the representative for Louisiana’s 4th congressional district. He resides in the city of Minden in Webster Parish in northwestern Louisiana. After leaving Congress in 2017, he served for two years in the administration as Deputy Assistant Secretary for Health Information Technology Reform and then served as Assistant Secretary of Commerce for Economic Development from March 2019 to 2020. In March 2020, he was appointed to a position in the White House as Assistant to the President for Planning and Implementation."
      ],
      "text/plain": [
       "<IPython.core.display.HTML object>"
      ]
     },
     "metadata": {},
     "output_type": "display_data"
    },
    {
     "data": {
      "text/html": [
       "<br><br>"
      ],
      "text/plain": [
       "<IPython.core.display.HTML object>"
      ]
     },
     "metadata": {},
     "output_type": "display_data"
    },
    {
     "data": {
      "text/html": [
       "With the nation&#x27;s alert levels to be reassessed on Friday, the Government will take into account the extent of the Auckland outbreak and whether it has reached other parts of the country. Dr Bloomfield and other Ministry of Health officials will meet with the Cabinet before a decision is announced.\n",
       "\n",
       "&quot;We don&#x27;t know yet the extent of the outbreak - that&#x27;s our absolute priority - find the extent and ring-fence it,&quot; Dr Bloomfield told The AM Show on Thursday.\n",
       "\n",
       "&quot;By the middle of the day tomorrow [Friday] we will have a lot more information from the testing that&#x27;s been happening both in Auckland and around the country, and that will be hugely helpful in terms of our advice to the Government on what to do next.&quot;\n",
       "\n",
       "Under alert level 3, people are told to stay in their household bubbles. Gatherings of up are only permitted for wedding services, funerals, and tangihanga.\n",
       "\n",
       "&quot;If there&#x27;s a gathering greater than the permitted size then, yes, we may enter and deal with the situation - using powers of entry is the last resort - normally we can go and knock at the front door and have a conversation and we sort it out, so I believe that power was used only once or twice in the previous <span style=\"background-color: #ffd1d1\"><b>lockdown</b></span>,&quot; Police Commissioner Andrew Coster said on Thursday.\n",
       "\n",
       "Prime Minister Jacinda Ardern said on Tuesday night Auckland entering alert level 3 was a &quot;precautionary measure&quot;. The word &quot;precautionary&quot; is being used in Government messages for a reason, Prof Gillespie said."
      ],
      "text/plain": [
       "<IPython.core.display.HTML object>"
      ]
     },
     "metadata": {},
     "output_type": "display_data"
    },
    {
     "data": {
      "text/html": [
       "<br><br>"
      ],
      "text/plain": [
       "<IPython.core.display.HTML object>"
      ]
     },
     "metadata": {},
     "output_type": "display_data"
    },
    {
     "data": {
      "text/html": [
       "CEBU CITY, Philippines — Consolacion policemen are requesting that a a cease and desist order be issued against an internet cafe in Purok 3, Barangay Tugbongan, Consolacion town in northern Cebu after minors were caught gathering there and playing online games.\n",
       "\n",
       "Police Master Sergeant Achilles Bacorta of the Consolacion Police Station said that while the station’s personnel were patrolling around 1 p.m. this Saturday, August 15, 2020, they saw several minors who run off from the area upon seeing the police patrol vehicle.\n",
       "\n",
       "Bacorta said that the policemen tried to ask around the area why there were minors outside and was told that an internet cafe near the area had allowed minors to gather and play online games there.\n",
       "\n",
       "“Ipa-close man mao na ang gilihok sa imbestigator karon kay di pa man pwede nga (mogawas ug) modula online games,” said Bacorta.\n",
       "\n",
       "(We want it closed and that is what we are working on because it is still not the time for children to go out of their homes and play online games in an internet cafe.)\n",
       "\n",
       "It was also noted according to Bacorta, that there were no reminders or safety measures being provided in the establishment to help prevent the spread the <span style=\"background-color: #ffd1d1\"><b>COVID</b></span>-19 virus such as available disinfectants.\n",
       "\n",
       "Bacorta said that while internet shops were allowed to operate, the business owners must be reminded that it must be used for educational purposes only.\n",
       "\n",
       "Establishments before operating must also follow the requirements which included health protocol standards to be observed such as implementing social distancing and availability of disinfectants.\n",
       "\n",
       "“Dugay naman mi sige remind nila during patrols unta mo follow sila (We always remind them during patrols, hopefully they will follow.),” said Bacorta./dbs"
      ],
      "text/plain": [
       "<IPython.core.display.HTML object>"
      ]
     },
     "metadata": {},
     "output_type": "display_data"
    },
    {
     "data": {
      "text/html": [
       "<br><br>"
      ],
      "text/plain": [
       "<IPython.core.display.HTML object>"
      ]
     },
     "metadata": {},
     "output_type": "display_data"
    },
    {
     "name": "stdout",
     "output_type": "stream",
     "text": [
      "RandomForestClassifier()\n"
     ]
    },
    {
     "data": {
      "text/html": [
       "France is to propose that <span style=\"background-color: #ffd1d1\"><b>mask</b></span>s be worn in shared workspaces as the country grapples with a rebound in <span style=\"background-color: #ffd1d1\"><b>corona</b></span>virus cases that rose again in the past 24 hours to over 3,000.\n",
       "\n",
       "The health ministry reported 3,310 new <span style=\"background-color: #ffd1d1\"><b>corona</b></span>virus infections, marking a post-<span style=\"background-color: #ffd1d1\"><b>lockdown</b></span> high for the fourth day in a row.\n",
       "\n",
       "A health worker collects a nasal swab at Roissy Charles de Gaulle airport, outside Paris. Credit:AP\n",
       "\n",
       "The number of clusters being investigated increased by 17 to 252, it said in a website update."
      ],
      "text/plain": [
       "<IPython.core.display.HTML object>"
      ]
     },
     "metadata": {},
     "output_type": "display_data"
    },
    {
     "data": {
      "text/html": [
       "<br><br>"
      ],
      "text/plain": [
       "<IPython.core.display.HTML object>"
      ]
     },
     "metadata": {},
     "output_type": "display_data"
    },
    {
     "data": {
      "text/html": [
       "This morning Brian talks with Dr. John Fleming, the Deputy Chief of Staff for The White House. They discuss how Louisiana is doing in response to <span style=\"background-color: #ffd1d1\"><b>COVID</b></span>-19, what’s been the most difficult part of the response, the possibility of a <span style=\"background-color: #ffd1d1\"><b>vaccine</b></span> by possibly October and much more.\n",
       "\n",
       "ABOUT DR. JOHN FLEMING\n",
       "\n",
       "From January 3, 2009, to January 3, 2017, Fleming was the representative for Louisiana’s 4th congressional district. He resides in the city of Minden in Webster Parish in northwestern Louisiana. After leaving Congress in 2017, he served for two years in the administration as Deputy Assistant Secretary for Health Information Technology Reform and then served as Assistant Secretary of Commerce for Economic Development from March 2019 to 2020. In March 2020, he was appointed to a position in the White House as Assistant to the President for Planning and Implementation."
      ],
      "text/plain": [
       "<IPython.core.display.HTML object>"
      ]
     },
     "metadata": {},
     "output_type": "display_data"
    },
    {
     "data": {
      "text/html": [
       "<br><br>"
      ],
      "text/plain": [
       "<IPython.core.display.HTML object>"
      ]
     },
     "metadata": {},
     "output_type": "display_data"
    },
    {
     "data": {
      "text/html": [
       "It seems not all of us here in the Great White North are stereotypically polite Canadians, at least not when it comes to outsiders and <span style=\"background-color: #ffd1d1\"><b>COVID</b></span>-19. There have been numerous reports of drivers being harassed, and cars being damaged, because they were spotted in Canada wearing American license plates.\n",
       "\n",
       "Although the Canada-U.S. border is officially closed, “essential travel” is still permitted.\n",
       "\n",
       "Canadians are also allowed to return home from the U.S., although they’re required to <span style=\"background-color: #ffd1d1\"><b>quarant</b></span>ine for 14 days, and some are coming back with vehicles licensed in American states.\n",
       "\n",
       "It’s not hard to see why Canadians are concerned. On August 13, Canada reported 4,690 active cases of <span style=\"background-color: #ffd1d1\"><b>COVID</b></span>-19. In comparison, the U.S. reported 2.38 million active cases. Canada’s <span style=\"background-color: #ffd1d1\"><b>pandem</b></span>ic death rate is 238 per 1 million people, while in the U.S. it’s 511 per 1 million.\n",
       "\n",
       "CBC reports that many Canadian drivers with out-of-country plates are automatically assumed to be Americans, and are asked how they got into the country. While physical assaults appear to be rare, many people report verbal abuse, and some have reported their cars have been keyed or otherwise vandalized.\n",
       "\n",
       "In July, an Ontario woman was accosted by a man for her Alabama license plates, since she spends part of her time working there. She decided to cheer herself up by buying a toy duck and leaving it on a nearby Jeep, sparking a fad that’s since spread to the U.S., and even Spain and Australia.\n",
       "\n",
       "Some Americans have crossed into Canada as a route to Alaska, which the Canadian government permitted since there isn’t any other way to drive between the Lower 48 and that northernmost state. But many drivers who said they were going straight through were later spotted going off-route to sight-see or shop, so Canada clamped down. Travellers to Alaska must enter at specified crossings and put a “hang tag” on the mirror, indicating that they’re going to Alaska and when they have to be there.\n",
       "\n",
       "But it’s not just American plates that are sparking issues. In Prince Edward Island, students and cottage owners have reported harassment and vehicle damage because their cars have plates from provinces with higher rates of <span style=\"background-color: #ffd1d1\"><b>COVID</b></span>-19 infections. And even our own Matthew Guy, who lives in Nova Scotia, recently caught hell from a stranger for driving a car with Ontario plates. Times have sure changed for polite Canadians, eh?"
      ],
      "text/plain": [
       "<IPython.core.display.HTML object>"
      ]
     },
     "metadata": {},
     "output_type": "display_data"
    },
    {
     "data": {
      "text/html": [
       "<br><br>"
      ],
      "text/plain": [
       "<IPython.core.display.HTML object>"
      ]
     },
     "metadata": {},
     "output_type": "display_data"
    },
    {
     "data": {
      "text/html": [
       "The UK has a longstanding record of working with Kenya to prepare for large disease outbreaks, including providing supplies and making sure its healthcare system is well equipped. The British funded Public Health Emergency Operations Centre, opened in 2016, has been at the heart of Kenya’s <span style=\"background-color: #ffd1d1\"><b>corona</b></span>virus response – helping to trace and rapidly respond to cases.\n",
       "\n",
       "Announcing the funding during a virtual visit to Kenya, the UK’s International Development Secretary, Anne-Marie Trevelyan said:\n",
       "\n",
       "&quot;Coronavirus is a threat to every one of us around the world. It’s vital we work together to defeat this disease&quot;.\n",
       "\n",
       "&quot;The UK is placing science at the heart of our support for Kenya during this <span style=\"background-color: #ffd1d1\"><b>pandem</b></span>ic. We believe these studies will provide robust predictions about the spread of infection and help to control the disease, contributing to keeping us all safe&quot;.\n",
       "\n",
       "&quot;We will continue to work in close partnership with the Kenyan government and Kenyans in other ways to contain and tackle <span style=\"background-color: #ffd1d1\"><b>corona</b></span>virus – including through strengthening healthcare and boosting the economy by protecting jobs&quot;.\n",
       "\n",
       "The study is funded by UK aid and the Bill and Melinda Gates Foundation. It is expected to end in June 2021. The sample study, led by local scientists and authorities, will focus on both confirmed cases where there are no symptoms, confirmed non-severe cases and cases where there are severe symptoms.\n",
       "\n",
       "During her visit, the International Development Secretary also had an opportunity to hear about the UK and Kenya’s science partnership through a virtual visit to KEMRI-Wellcome Trust Kilifi. Here she witnessed UK and Kenya health partnerships; including our longstanding record of working together to prepare for large disease outbreaks. Earlier, she held bilateral talks with Cabinet Secretary for Health, Mutahi Kagwe, and Chief Administrative Secretary Health, Dr Mercy Mwangangi, where they discussed wider UK and Kenya health partnerships; including the longstanding record of working together. On his part, the Cabinet Secretary for Health, Mutahi Kagwe, thanked the UK government for its support and pledged to continue working together in supporting the Health Sector.\n",
       "\n",
       "Distributed by APO Group on behalf of British High Commission Nairobi."
      ],
      "text/plain": [
       "<IPython.core.display.HTML object>"
      ]
     },
     "metadata": {},
     "output_type": "display_data"
    },
    {
     "data": {
      "text/html": [
       "<br><br>"
      ],
      "text/plain": [
       "<IPython.core.display.HTML object>"
      ]
     },
     "metadata": {},
     "output_type": "display_data"
    },
    {
     "data": {
      "text/html": [
       "A person who has tested positive for Covid-19 on their arrival in Japan had recently visited Rotorua and Taupō before their departure.\n",
       "\n",
       "As a precaution, Toi Te Ora Public Health, is alerting the public to the possibility that they may have been exposed to this person at two locations.\n",
       "\n",
       "The person visited Wairakei Terraces between 6pm and 7pm on Thursday, August 6 and Wai-O-Tapu Thermal Wonderland on Friday, August 7, between 9am and 10.15am.\n",
       "\n",
       "Medical Officer of Health Dr Neil de Wet said anyone who was at one of these places at these dates and times there is a small possibility they may have been exposed.\n",
       "\n",
       "Advertisement\n",
       "\n",
       "&quot;You should monitor yourself for symptoms of Covid-19 and if you develop any symptoms you should immediately self-isolate and arrange to get tested.&quot;\n",
       "\n",
       "Medical Officer of Health Dr Neil de Wet. Photo / File\n",
       "\n",
       "It can take from one to 14 days after exposure to Covid-19 to start developing symptoms, so anyone who visited these places at these times should remain vigilant for the symptoms of Covid-19 for two weeks from when they may have been exposed.\n",
       "\n",
       "The symptoms of Covid-19 may include a cough, a fever, shortness of breath, a sore throat, runny nose and temporary loss of smell.\n",
       "\n",
       "&quot;If you develop one or more of these symptoms, stay home and call your general practice or Healthline on 0800 358 5453 for advice and to arrange to get tested,&quot; Dr de Wet said.\n",
       "\n",
       "A statement sent to the Rotorua Daily Post from the Wai-o-Tapu management team said the local health authorities have contacted them advising that a person who visited the tourist attraction last Friday had since been diagnosed.\n",
       "\n",
       "&quot;They advised us that this is low risk,&quot; the statement read.\n",
       "\n",
       "&quot;None of our staff have any symptoms. However, all staff have been tested. We are following strict guidelines advised by the Ministry of Health. Since we opened in May, we thoroughly sanitise our site daily.&quot;\n",
       "\n",
       "Taupō mayor David Trewavas said he understood why people would want to visit such iconic tourist attractions in the region.\n",
       "\n",
       "Advertisement\n",
       "\n",
       "His message was to maintain hygiene standards that have been suggested and to stay vigilant.\n",
       "\n",
       "The Japanese traveller left New Zealand on August 8 and transited through Singapore en route to Japan.\n",
       "\n",
       "The person also visited a ramen noodle eatery in Wellington, while in the country.\n",
       "\n",
       "The Ramen Shop in Newtown posted the notice on its Facebook page about the same time as yesterday&#x27;s 1pm press conference started to update daily cases of the virus.\n",
       "\n",
       "It said a person who had been diagnosed with Covid-19 dined there on August 5 between about 5.30pm and 7pm.\n",
       "\n",
       "Earlier this week it was revealed where two people who tested positive for Covid-19 visited while in Rotorua.\n",
       "\n",
       "Advertisement\n",
       "\n",
       "That included the Fat Dog cafe on Sunday, August 9 between 1.30pm and 2.30pm, Burger Fuel Redwoods on August 10 between 7pm and 8pm, Wai Ora Lakeside Hotel on Saturday August 8 from 3.30pm until Tuesday August 11 at 9am, Herbs &amp; Spices Thai Restaurant on Saturday August 8 from 8pm to 9pm, Pak&#x27;nSave Rotorua on Sunday August 9 from 2.30pm to 3pm, Rotorua Heritage Farm 3D Art Gallery on Monday August 10 from 3pm to 4.30pm, Skyline Rotorua on Sunday August 9 from 4pm to 5:50pm, Don Kebab on Monday August 10 from 7pm to 7:30pm.\n",
       "\n",
       "Rotorua mayor Steve Chadwick said while the news was obviously unsettling for everyone &quot;we need calm and common sense&quot;.\n",
       "\n",
       "&quot;People who visited these places in Rotorua and Taupō on the days and at the times specified need to follow the advice of the health authorities – if you develop any symptoms self-isolate and arrange to get tested.\n",
       "\n",
       "&quot;And we all need to play our part by following the guidelines to keep ourselves and others safe.\n",
       "\n",
       "&quot;Practice social distancing, wash your hands, if symptomatic contact your GP or the national healthline, keep a record of where you go – and look out for one another.&quot;\n",
       "\n",
       "Rotorua Chamber of Commerce chief executive Bryce Heard said hearing news of visits to local businesses caused some uncertainty for business owners.\n",
       "\n",
       "Advertisement\n",
       "\n",
       "&quot;When there is uncertainty of course people get nervous,&quot; he said.\n",
       "\n",
       "But he said the general public seemed to be &quot;pressing on regardless&quot;.\n",
       "\n",
       "&quot;There has been a lot of activity in the hospitality businesses. The cafes are buzzing and full,&quot; he said.\n",
       "\n",
       "&quot;People are doing the decent thing and using the QR codes to check in and they are spacing themselves out. They are taking sensible precautions but are still going out, which is what we want people to do.&quot;"
      ],
      "text/plain": [
       "<IPython.core.display.HTML object>"
      ]
     },
     "metadata": {},
     "output_type": "display_data"
    },
    {
     "data": {
      "text/html": [
       "<br><br>"
      ],
      "text/plain": [
       "<IPython.core.display.HTML object>"
      ]
     },
     "metadata": {},
     "output_type": "display_data"
    },
    {
     "name": "stdout",
     "output_type": "stream",
     "text": [
      "GradientBoostingClassifier()\n"
     ]
    },
    {
     "data": {
      "text/html": [
       "France is to propose that <span style=\"background-color: #ffd1d1\"><b>mask</b></span>s be worn in shared workspaces as the country grapples with a rebound in <span style=\"background-color: #ffd1d1\"><b>corona</b></span>virus cases that rose again in the past 24 hours to over 3,000.\n",
       "\n",
       "The health ministry reported 3,310 new <span style=\"background-color: #ffd1d1\"><b>corona</b></span>virus infections, marking a post-<span style=\"background-color: #ffd1d1\"><b>lockdown</b></span> high for the fourth day in a row.\n",
       "\n",
       "A health worker collects a nasal swab at Roissy Charles de Gaulle airport, outside Paris. Credit:AP\n",
       "\n",
       "The number of clusters being investigated increased by 17 to 252, it said in a website update."
      ],
      "text/plain": [
       "<IPython.core.display.HTML object>"
      ]
     },
     "metadata": {},
     "output_type": "display_data"
    },
    {
     "data": {
      "text/html": [
       "<br><br>"
      ],
      "text/plain": [
       "<IPython.core.display.HTML object>"
      ]
     },
     "metadata": {},
     "output_type": "display_data"
    },
    {
     "data": {
      "text/html": [
       "This morning Brian talks with Dr. John Fleming, the Deputy Chief of Staff for The White House. They discuss how Louisiana is doing in response to <span style=\"background-color: #ffd1d1\"><b>COVID</b></span>-19, what’s been the most difficult part of the response, the possibility of a <span style=\"background-color: #ffd1d1\"><b>vaccine</b></span> by possibly October and much more.\n",
       "\n",
       "ABOUT DR. JOHN FLEMING\n",
       "\n",
       "From January 3, 2009, to January 3, 2017, Fleming was the representative for Louisiana’s 4th congressional district. He resides in the city of Minden in Webster Parish in northwestern Louisiana. After leaving Congress in 2017, he served for two years in the administration as Deputy Assistant Secretary for Health Information Technology Reform and then served as Assistant Secretary of Commerce for Economic Development from March 2019 to 2020. In March 2020, he was appointed to a position in the White House as Assistant to the President for Planning and Implementation."
      ],
      "text/plain": [
       "<IPython.core.display.HTML object>"
      ]
     },
     "metadata": {},
     "output_type": "display_data"
    },
    {
     "data": {
      "text/html": [
       "<br><br>"
      ],
      "text/plain": [
       "<IPython.core.display.HTML object>"
      ]
     },
     "metadata": {},
     "output_type": "display_data"
    },
    {
     "data": {
      "text/html": [
       "A person who has tested positive for Covid-19 on their arrival in Japan had recently visited Rotorua and Taupō before their departure.\n",
       "\n",
       "As a precaution, Toi Te Ora Public Health, is alerting the public to the possibility that they may have been exposed to this person at two locations.\n",
       "\n",
       "The person visited Wairakei Terraces between 6pm and 7pm on Thursday, August 6 and Wai-O-Tapu Thermal Wonderland on Friday, August 7, between 9am and 10.15am.\n",
       "\n",
       "Medical Officer of Health Dr Neil de Wet said anyone who was at one of these places at these dates and times there is a small possibility they may have been exposed.\n",
       "\n",
       "Advertisement\n",
       "\n",
       "&quot;You should monitor yourself for symptoms of Covid-19 and if you develop any symptoms you should immediately self-isolate and arrange to get tested.&quot;\n",
       "\n",
       "Medical Officer of Health Dr Neil de Wet. Photo / File\n",
       "\n",
       "It can take from one to 14 days after exposure to Covid-19 to start developing symptoms, so anyone who visited these places at these times should remain vigilant for the symptoms of Covid-19 for two weeks from when they may have been exposed.\n",
       "\n",
       "The symptoms of Covid-19 may include a cough, a fever, shortness of breath, a sore throat, runny nose and temporary loss of smell.\n",
       "\n",
       "&quot;If you develop one or more of these symptoms, stay home and call your general practice or Healthline on 0800 358 5453 for advice and to arrange to get tested,&quot; Dr de Wet said.\n",
       "\n",
       "A statement sent to the Rotorua Daily Post from the Wai-o-Tapu management team said the local health authorities have contacted them advising that a person who visited the tourist attraction last Friday had since been diagnosed.\n",
       "\n",
       "&quot;They advised us that this is low risk,&quot; the statement read.\n",
       "\n",
       "&quot;None of our staff have any symptoms. However, all staff have been tested. We are following strict guidelines advised by the Ministry of Health. Since we opened in May, we thoroughly sanitise our site daily.&quot;\n",
       "\n",
       "Taupō mayor David Trewavas said he understood why people would want to visit such iconic tourist attractions in the region.\n",
       "\n",
       "Advertisement\n",
       "\n",
       "His message was to maintain hygiene standards that have been suggested and to stay vigilant.\n",
       "\n",
       "The Japanese traveller left New Zealand on August 8 and transited through Singapore en route to Japan.\n",
       "\n",
       "The person also visited a ramen noodle eatery in Wellington, while in the country.\n",
       "\n",
       "The Ramen Shop in Newtown posted the notice on its Facebook page about the same time as yesterday&#x27;s 1pm press conference started to update daily cases of the virus.\n",
       "\n",
       "It said a person who had been diagnosed with Covid-19 dined there on August 5 between about 5.30pm and 7pm.\n",
       "\n",
       "Earlier this week it was revealed where two people who tested positive for Covid-19 visited while in Rotorua.\n",
       "\n",
       "Advertisement\n",
       "\n",
       "That included the Fat Dog cafe on Sunday, August 9 between 1.30pm and 2.30pm, Burger Fuel Redwoods on August 10 between 7pm and 8pm, Wai Ora Lakeside Hotel on Saturday August 8 from 3.30pm until Tuesday August 11 at 9am, Herbs &amp; Spices Thai Restaurant on Saturday August 8 from 8pm to 9pm, Pak&#x27;nSave Rotorua on Sunday August 9 from 2.30pm to 3pm, Rotorua Heritage Farm 3D Art Gallery on Monday August 10 from 3pm to 4.30pm, Skyline Rotorua on Sunday August 9 from 4pm to 5:50pm, Don Kebab on Monday August 10 from 7pm to 7:30pm.\n",
       "\n",
       "Rotorua mayor Steve Chadwick said while the news was obviously unsettling for everyone &quot;we need calm and common sense&quot;.\n",
       "\n",
       "&quot;People who visited these places in Rotorua and Taupō on the days and at the times specified need to follow the advice of the health authorities – if you develop any symptoms self-isolate and arrange to get tested.\n",
       "\n",
       "&quot;And we all need to play our part by following the guidelines to keep ourselves and others safe.\n",
       "\n",
       "&quot;Practice social distancing, wash your hands, if symptomatic contact your GP or the national healthline, keep a record of where you go – and look out for one another.&quot;\n",
       "\n",
       "Rotorua Chamber of Commerce chief executive Bryce Heard said hearing news of visits to local businesses caused some uncertainty for business owners.\n",
       "\n",
       "Advertisement\n",
       "\n",
       "&quot;When there is uncertainty of course people get nervous,&quot; he said.\n",
       "\n",
       "But he said the general public seemed to be &quot;pressing on regardless&quot;.\n",
       "\n",
       "&quot;There has been a lot of activity in the hospitality businesses. The cafes are buzzing and full,&quot; he said.\n",
       "\n",
       "&quot;People are doing the decent thing and using the QR codes to check in and they are spacing themselves out. They are taking sensible precautions but are still going out, which is what we want people to do.&quot;"
      ],
      "text/plain": [
       "<IPython.core.display.HTML object>"
      ]
     },
     "metadata": {},
     "output_type": "display_data"
    },
    {
     "data": {
      "text/html": [
       "<br><br>"
      ],
      "text/plain": [
       "<IPython.core.display.HTML object>"
      ]
     },
     "metadata": {},
     "output_type": "display_data"
    }
   ],
   "source": [
    "for classifier in classifiers:\n",
    "    print(classifier)\n",
    "\n",
    "    false_positive = (predicted == False) & (labels == True)\n",
    "    predicted = classifier.predict(df_test[article_keywords])\n",
    "\n",
    "    for index, row in df_test[false_positive].head(10).iterrows():\n",
    "        display(HTML(markup(html.escape(row['text']))))\n",
    "        display(HTML('<br><br>'))"
   ]
  },
  {
   "cell_type": "markdown",
   "metadata": {},
   "source": [
    "### TF IDF VECTORIZE"
   ]
  },
  {
   "cell_type": "code",
   "execution_count": 36,
   "metadata": {},
   "outputs": [
    {
     "data": {
      "image/png": "[encoded data removed]",
      "text/plain": [
       "<Figure size 1440x266.4 with 8 Axes>"
      ]
     },
     "metadata": {
      "needs_background": "light"
     },
     "output_type": "display_data"
    },
    {
     "data": {
      "image/png": "[encoded data removed]",
      "text/plain": [
       "<Figure size 1440x266.4 with 8 Axes>"
      ]
     },
     "metadata": {
      "needs_background": "light"
     },
     "output_type": "display_data"
    }
   ],
   "source": [
    "tfidf_vectorizer = TfidfVectorizer(analyzer='word', stop_words='english')\n",
    "\n",
    "x_train = tfidf_vectorizer.fit_transform(df_train['text'])\n",
    "y_train = df_train[label]\n",
    "\n",
    "x_test = tfidf_vectorizer.transform(df_test['text'])\n",
    "y_test = df_test[label]\n",
    "\n",
    "train_classifiers(classifiers, x_train, y_train)\n",
    "\n",
    "plot_confusion_matrices(classifiers, x_train, y_train,title=\"TRAIN\", normalize='true')\n",
    "plot_confusion_matrices(classifiers, x_test, y_test,title=\"TEST\", normalize='true')"
   ]
  },
  {
   "cell_type": "code",
   "execution_count": 37,
   "metadata": {},
   "outputs": [
    {
     "name": "stdout",
     "output_type": "stream",
     "text": [
      "LogisticRegression()\n"
     ]
    },
    {
     "data": {
      "text/html": [
       "Any government wishes to avoid policies that are disruptive, draconian and costly. The decision to impose <span style=\"background-color: #ffd1d1\"><b>quarant</b></span>ine restrictions on travellers arriving from France meets those criteria. From 4am today, anyone arriving in Britain from France is required to self-isolate for 14 days or risk a fine. The same requirement applies to travellers arriving from the Netherlands, Monaco, Malta, the Turks and Caicos islands and Aruba.\n",
       "\n",
       "The speed of the decision left many British holidaymakers with an unenviable choice. They had to decide whether to continue with their vacation and face <span style=\"background-color: #ffd1d1\"><b>quarant</b></span>ine restrictions on their return, or pay punitive prices to come back early by air, sea or rail, even supposing that they were able to get tickets. Boris Johnson, and especially Grant Shapps, the transport"
      ],
      "text/plain": [
       "<IPython.core.display.HTML object>"
      ]
     },
     "metadata": {},
     "output_type": "display_data"
    },
    {
     "data": {
      "text/html": [
       "<br><br>"
      ],
      "text/plain": [
       "<IPython.core.display.HTML object>"
      ]
     },
     "metadata": {},
     "output_type": "display_data"
    },
    {
     "data": {
      "text/html": [
       "France is to propose that <span style=\"background-color: #ffd1d1\"><b>mask</b></span>s be worn in shared workspaces as the country grapples with a rebound in <span style=\"background-color: #ffd1d1\"><b>corona</b></span>virus cases that rose again in the past 24 hours to over 3,000.\n",
       "\n",
       "The health ministry reported 3,310 new <span style=\"background-color: #ffd1d1\"><b>corona</b></span>virus infections, marking a post-<span style=\"background-color: #ffd1d1\"><b>lockdown</b></span> high for the fourth day in a row.\n",
       "\n",
       "A health worker collects a nasal swab at Roissy Charles de Gaulle airport, outside Paris. Credit:AP\n",
       "\n",
       "The number of clusters being investigated increased by 17 to 252, it said in a website update."
      ],
      "text/plain": [
       "<IPython.core.display.HTML object>"
      ]
     },
     "metadata": {},
     "output_type": "display_data"
    },
    {
     "data": {
      "text/html": [
       "<br><br>"
      ],
      "text/plain": [
       "<IPython.core.display.HTML object>"
      ]
     },
     "metadata": {},
     "output_type": "display_data"
    },
    {
     "data": {
      "text/html": [
       "This morning Brian talks with Dr. John Fleming, the Deputy Chief of Staff for The White House. They discuss how Louisiana is doing in response to <span style=\"background-color: #ffd1d1\"><b>COVID</b></span>-19, what’s been the most difficult part of the response, the possibility of a <span style=\"background-color: #ffd1d1\"><b>vaccine</b></span> by possibly October and much more.\n",
       "\n",
       "ABOUT DR. JOHN FLEMING\n",
       "\n",
       "From January 3, 2009, to January 3, 2017, Fleming was the representative for Louisiana’s 4th congressional district. He resides in the city of Minden in Webster Parish in northwestern Louisiana. After leaving Congress in 2017, he served for two years in the administration as Deputy Assistant Secretary for Health Information Technology Reform and then served as Assistant Secretary of Commerce for Economic Development from March 2019 to 2020. In March 2020, he was appointed to a position in the White House as Assistant to the President for Planning and Implementation."
      ],
      "text/plain": [
       "<IPython.core.display.HTML object>"
      ]
     },
     "metadata": {},
     "output_type": "display_data"
    },
    {
     "data": {
      "text/html": [
       "<br><br>"
      ],
      "text/plain": [
       "<IPython.core.display.HTML object>"
      ]
     },
     "metadata": {},
     "output_type": "display_data"
    },
    {
     "data": {
      "text/html": [
       "It seems not all of us here in the Great White North are stereotypically polite Canadians, at least not when it comes to outsiders and <span style=\"background-color: #ffd1d1\"><b>COVID</b></span>-19. There have been numerous reports of drivers being harassed, and cars being damaged, because they were spotted in Canada wearing American license plates.\n",
       "\n",
       "Although the Canada-U.S. border is officially closed, “essential travel” is still permitted.\n",
       "\n",
       "Canadians are also allowed to return home from the U.S., although they’re required to <span style=\"background-color: #ffd1d1\"><b>quarant</b></span>ine for 14 days, and some are coming back with vehicles licensed in American states.\n",
       "\n",
       "It’s not hard to see why Canadians are concerned. On August 13, Canada reported 4,690 active cases of <span style=\"background-color: #ffd1d1\"><b>COVID</b></span>-19. In comparison, the U.S. reported 2.38 million active cases. Canada’s <span style=\"background-color: #ffd1d1\"><b>pandem</b></span>ic death rate is 238 per 1 million people, while in the U.S. it’s 511 per 1 million.\n",
       "\n",
       "CBC reports that many Canadian drivers with out-of-country plates are automatically assumed to be Americans, and are asked how they got into the country. While physical assaults appear to be rare, many people report verbal abuse, and some have reported their cars have been keyed or otherwise vandalized.\n",
       "\n",
       "In July, an Ontario woman was accosted by a man for her Alabama license plates, since she spends part of her time working there. She decided to cheer herself up by buying a toy duck and leaving it on a nearby Jeep, sparking a fad that’s since spread to the U.S., and even Spain and Australia.\n",
       "\n",
       "Some Americans have crossed into Canada as a route to Alaska, which the Canadian government permitted since there isn’t any other way to drive between the Lower 48 and that northernmost state. But many drivers who said they were going straight through were later spotted going off-route to sight-see or shop, so Canada clamped down. Travellers to Alaska must enter at specified crossings and put a “hang tag” on the mirror, indicating that they’re going to Alaska and when they have to be there.\n",
       "\n",
       "But it’s not just American plates that are sparking issues. In Prince Edward Island, students and cottage owners have reported harassment and vehicle damage because their cars have plates from provinces with higher rates of <span style=\"background-color: #ffd1d1\"><b>COVID</b></span>-19 infections. And even our own Matthew Guy, who lives in Nova Scotia, recently caught hell from a stranger for driving a car with Ontario plates. Times have sure changed for polite Canadians, eh?"
      ],
      "text/plain": [
       "<IPython.core.display.HTML object>"
      ]
     },
     "metadata": {},
     "output_type": "display_data"
    },
    {
     "data": {
      "text/html": [
       "<br><br>"
      ],
      "text/plain": [
       "<IPython.core.display.HTML object>"
      ]
     },
     "metadata": {},
     "output_type": "display_data"
    },
    {
     "name": "stdout",
     "output_type": "stream",
     "text": [
      "DecisionTreeClassifier()\n"
     ]
    },
    {
     "data": {
      "text/html": [
       "Open this photo in gallery Muslim pilgrims are seen circumambulating around the Kaaba, Islam&#x27;s holiest shrine, at the centre of the Grand Mosque in Mecca on Aug. 2, 2020. -/AFP/Getty Images\n",
       "\n",
       "Ferrukh Faruqui is an Ottawa writer and community activist.\n",
       "\n",
       "<span style=\"background-color: #ffd1d1\"><b>COVID</b></span>-19 has redefined every facet of our lives, and the hajj – the mandatory, once-in-a-lifetime pilgrimage for Muslims – is no exception. Typically, 2.5 million pilgrims converge on Mecca in Saudi Arabia every year to fulfill this fifth pillar of Islam. But the <span style=\"background-color: #ffd1d1\"><b>pandem</b></span>ic dictated that only 1,000 people who already live in the country would be allowed to perform this year’s five-day ritual, which ended Aug. 2.\n",
       "\n",
       "For me, though, there was something else extraordinary about this year’s hajj. I was overcome by the sight of women circumambulating the coveted inner circles nearest to the Kaaba, the most sacred site in Islam, in the heart of Mecca’s Grand Mosque. In a YouTube interview with Mufti Menk, a popular Zimbabwean cleric, one of these fortunate pilgrims marvelled: “I thought it would be like when women pray behind the men … but here I was, in the first row closest to the Kaaba.”\n",
       "\n",
       "Story continues below advertisement\n",
       "\n",
       "Her strange but beautiful experience unfortunately belies the recent troubling phenomenon of hostility toward female pilgrims. Though we comprise half the world’s two billion Muslims, many women are still forced to chafe under gender restrictions. In the past, there would be solace in Mecca’s egalitarian rules, but now, even the holiest of holies is less welcoming – perhaps not even safe.\n",
       "\n",
       "Last fall, my daughter Nishat flew to Mecca with her new husband for umrah, the lesser, year-round pilgrimage seeking reconnection with God. But on the night of her arrival, she called me, sobbing. Her pilgrimage had been “ruined” by officious strangers who tugged at her hijab and shouted at her. Something in me withered and died. I recalled my own 1988 umrah, when my scarf slipped intermittently off my head. Yet I wasn’t accosted by outraged, gimlet-eyed pilgrims; I was left in peace to contemplate God.\n",
       "\n",
       "Disillusioned women shared similar stories with me. Hoping for a transformative journey, they were instead hectored and betrayed by fellow believers. Being reprimanded by strangers for dressing “improperly” was just the beginning; some detailed sexual harassment, even assault – violations that stain this sacred space.\n",
       "\n",
       "Such gender-based discrimination has become a part of the Canadian Muslim experience, too. My father designed Winnipeg’s first mosque in the 1970s, and our family found a spiritual home in its bright, barrier-free prayer hall. When women stood at the pulpit to address the mixed congregation there, no one tried to silence them. We weren’t forced into segregated rooms through back entrances. But sadly, that halcyon era is history.\n",
       "\n",
       "A battle over sacred spaces has played out in North American mosques since the 1980s, when the Saudi Arabian government launched an oil-funded campaign to homogenize Islam overseas. Strict Saudi interpretations of the faith drove the imported fundamentalism that gripped our communities. One day we arrived at our mosque to find a physical barrier separating the men in the front from the women in the back. The unmosquing of Muslim women had begun.\n",
       "\n",
       "Ironically, the only place where men and women remained free to pray together was in the very heart of the Saudi kingdom. But soon the conservative sheiks whose support legitimizes the House of Saud wrested control of the Grand Mosque, too, by allowing freshly “radicalized” Muslim pilgrims to police each other.\n",
       "\n",
       "Women of all ages now report strangers hissing imprecations on their pilgrimages, impatiently adjusting their hijabs or demanding that they cover their faces – which is forbidden during these rituals. As former New York Times correspondent Diaa Hadid chronicled during her hajj in 2016: “As I tried to find room between worshippers, a security guard shouted that I was taking space where men needed to walk … I felt safe. But also, too often, second-class.”\n",
       "\n",
       "Story continues below advertisement\n",
       "\n",
       "Some men even cynically commit assault under the cover of faith, grabbing buttocks or breasts. In a 2018 Facebook post, Pakistani Sabica Khan described the multiple assaults she endured near the Kaaba, a story amplified by Egyptian-American journalist Mona Eltahawy, who then launched #MosqueMeToo by sharing the story of her own assault in Mecca at the age of 15. The campaign unleashed emotional accounts from women who’d suffered similar molestation. Even in Mecca, the real world intrudes to shame women and put them in their place. As Ms. Eltahawy wrote: “The men who assaulted me abused the sanctity of a sacred space to ensure the silence of their victim.”\n",
       "\n",
       "At its core, Islam is a feminist religion. Georgetown University historian Margot Badran tirelessly celebrates the forgotten tenets of Islamic feminism, declaring that in the Koran, “men and women alike are enjoined to obey Islamic precepts and are exhorted to engage in taqwa or righteous behaviour.” And in her revolutionary book Believing Women in Islam, scholar Asma Barlas shows how centuries of patriarchal readings of Muslim scripture have sown misogyny.\n",
       "\n",
       "Let’s cleanse our hearts and remember the Koran’s forgotten message of radical equality. Maybe then we can halt the exodus of women from the sacred spaces that belong to us all, so that images of women touching the Kaaba become the new normal.\n",
       "\n",
       "Keep your Opinions sharp and informed. Get the Opinion newsletter. Sign up today."
      ],
      "text/plain": [
       "<IPython.core.display.HTML object>"
      ]
     },
     "metadata": {},
     "output_type": "display_data"
    },
    {
     "data": {
      "text/html": [
       "<br><br>"
      ],
      "text/plain": [
       "<IPython.core.display.HTML object>"
      ]
     },
     "metadata": {},
     "output_type": "display_data"
    },
    {
     "data": {
      "text/html": [
       "This morning Brian talks with Dr. John Fleming, the Deputy Chief of Staff for The White House. They discuss how Louisiana is doing in response to <span style=\"background-color: #ffd1d1\"><b>COVID</b></span>-19, what’s been the most difficult part of the response, the possibility of a <span style=\"background-color: #ffd1d1\"><b>vaccine</b></span> by possibly October and much more.\n",
       "\n",
       "ABOUT DR. JOHN FLEMING\n",
       "\n",
       "From January 3, 2009, to January 3, 2017, Fleming was the representative for Louisiana’s 4th congressional district. He resides in the city of Minden in Webster Parish in northwestern Louisiana. After leaving Congress in 2017, he served for two years in the administration as Deputy Assistant Secretary for Health Information Technology Reform and then served as Assistant Secretary of Commerce for Economic Development from March 2019 to 2020. In March 2020, he was appointed to a position in the White House as Assistant to the President for Planning and Implementation."
      ],
      "text/plain": [
       "<IPython.core.display.HTML object>"
      ]
     },
     "metadata": {},
     "output_type": "display_data"
    },
    {
     "data": {
      "text/html": [
       "<br><br>"
      ],
      "text/plain": [
       "<IPython.core.display.HTML object>"
      ]
     },
     "metadata": {},
     "output_type": "display_data"
    },
    {
     "data": {
      "text/html": [
       "CEBU CITY, Philippines — Consolacion policemen are requesting that a a cease and desist order be issued against an internet cafe in Purok 3, Barangay Tugbongan, Consolacion town in northern Cebu after minors were caught gathering there and playing online games.\n",
       "\n",
       "Police Master Sergeant Achilles Bacorta of the Consolacion Police Station said that while the station’s personnel were patrolling around 1 p.m. this Saturday, August 15, 2020, they saw several minors who run off from the area upon seeing the police patrol vehicle.\n",
       "\n",
       "Bacorta said that the policemen tried to ask around the area why there were minors outside and was told that an internet cafe near the area had allowed minors to gather and play online games there.\n",
       "\n",
       "“Ipa-close man mao na ang gilihok sa imbestigator karon kay di pa man pwede nga (mogawas ug) modula online games,” said Bacorta.\n",
       "\n",
       "(We want it closed and that is what we are working on because it is still not the time for children to go out of their homes and play online games in an internet cafe.)\n",
       "\n",
       "It was also noted according to Bacorta, that there were no reminders or safety measures being provided in the establishment to help prevent the spread the <span style=\"background-color: #ffd1d1\"><b>COVID</b></span>-19 virus such as available disinfectants.\n",
       "\n",
       "Bacorta said that while internet shops were allowed to operate, the business owners must be reminded that it must be used for educational purposes only.\n",
       "\n",
       "Establishments before operating must also follow the requirements which included health protocol standards to be observed such as implementing social distancing and availability of disinfectants.\n",
       "\n",
       "“Dugay naman mi sige remind nila during patrols unta mo follow sila (We always remind them during patrols, hopefully they will follow.),” said Bacorta./dbs"
      ],
      "text/plain": [
       "<IPython.core.display.HTML object>"
      ]
     },
     "metadata": {},
     "output_type": "display_data"
    },
    {
     "data": {
      "text/html": [
       "<br><br>"
      ],
      "text/plain": [
       "<IPython.core.display.HTML object>"
      ]
     },
     "metadata": {},
     "output_type": "display_data"
    },
    {
     "name": "stdout",
     "output_type": "stream",
     "text": [
      "RandomForestClassifier()\n"
     ]
    },
    {
     "data": {
      "text/html": [
       "Any government wishes to avoid policies that are disruptive, draconian and costly. The decision to impose <span style=\"background-color: #ffd1d1\"><b>quarant</b></span>ine restrictions on travellers arriving from France meets those criteria. From 4am today, anyone arriving in Britain from France is required to self-isolate for 14 days or risk a fine. The same requirement applies to travellers arriving from the Netherlands, Monaco, Malta, the Turks and Caicos islands and Aruba.\n",
       "\n",
       "The speed of the decision left many British holidaymakers with an unenviable choice. They had to decide whether to continue with their vacation and face <span style=\"background-color: #ffd1d1\"><b>quarant</b></span>ine restrictions on their return, or pay punitive prices to come back early by air, sea or rail, even supposing that they were able to get tickets. Boris Johnson, and especially Grant Shapps, the transport"
      ],
      "text/plain": [
       "<IPython.core.display.HTML object>"
      ]
     },
     "metadata": {},
     "output_type": "display_data"
    },
    {
     "data": {
      "text/html": [
       "<br><br>"
      ],
      "text/plain": [
       "<IPython.core.display.HTML object>"
      ]
     },
     "metadata": {},
     "output_type": "display_data"
    },
    {
     "data": {
      "text/html": [
       "The British authorities are going to crack down even further on Britons who oppose wearing <span style=\"background-color: #ffd1d1\"><b>mask</b></span>s, with those refusing to do so facing a fine of more than £3,000.\n",
       "\n",
       "In the coming weeks, existing fines of £100 for not wearing a <span style=\"background-color: #ffd1d1\"><b>mask</b></span> in public places like supermarkets and on public transport will double up to a maximum of £3,200 — representing a total of only six infractions — under new rules announced by Prime Minister Boris Johnson on Thursday.\n",
       "\n",
       "Meanwhile, in Sweden, <span style=\"background-color: #ffd1d1\"><b>epidem</b></span>iologist Anders Tegnell has said there is no need for Swedes to wear <span style=\"background-color: #ffd1d1\"><b>mask</b></span>s. The public health official claimed the evidence that face coverings stop the virus’s spread is “astonishingly weak”.\n",
       "\n",
       "“The findings that have been produced through [the use of] face<span style=\"background-color: #ffd1d1\"><b>mask</b></span>s are astonishingly weak, even though so many people around the world wear them,” Dr Tegnell told German tabloid Bild, in comments reported by The Times on Monday.\n",
       "\n",
       "“I’m surprised that we don’t have more or better studies showing what effect <span style=\"background-color: #ffd1d1\"><b>mask</b></span>s actually have. Countries such as Spain and Belgium have made their populations wear <span style=\"background-color: #ffd1d1\"><b>mask</b></span>s, but their infection numbers have still risen. The belief that <span style=\"background-color: #ffd1d1\"><b>mask</b></span>s can solve our problem is in any case very dangerous,” he said.\n",
       "\n",
       "Boris Govt Admits 50 Million Masks It Purchased Are Unusable https://t.co/bGQNPFpaby — Breitbart London (@BreitbartLondon) August 6, 2020\n",
       "\n",
       "Earlier this year, British police forces had come under criticism for their draconian handling of <span style=\"background-color: #ffd1d1\"><b>lockdown</b></span> measures, resulting in the Crown Prosecution Service (CPS) calling for all <span style=\"background-color: #ffd1d1\"><b>corona</b></span>virus <span style=\"background-color: #ffd1d1\"><b>lockdown</b></span>-related convictions to be reviewed.\n",
       "\n",
       "While Britons were effectively under house arrest, the United Kingdom’s external borders remained open to legal migration for months — a decision recently criticised by a committee of MPs who said it resulted in an extra 10,000 infections entering the country.\n",
       "\n",
       "Meanwhile, Brexit Party leader Nigel Farage has reported for months on the unchallenged flow of thousands of illegal aliens across the English Channel on small boats, from migrant camps rife with the virus.\n",
       "\n",
       "There were also instances of pro-freedom, anti-<span style=\"background-color: #ffd1d1\"><b>lockdown</b></span> demonstrators being arrested in London while Marxist Black Lives Matter and Antifa protesters gathered en masse without being challenged under <span style=\"background-color: #ffd1d1\"><b>lockdown</b></span> rules which made them unlawful.\n",
       "\n",
       "Farage Investigates ‘Lawless Britain’: Media ‘Too Scared’ to Report on London Thugs Rioting in Small Seaside Town https://t.co/0sixPYB5r2 — Breitbart London (@BreitbartLondon) August 13, 2020\n",
       "\n",
       "There have been reports of hundreds of illegal pop-up raves across the country, and several — in the mainstream media’s words — “street parties” in parts of London that descended into violence, resulting in police officers being attacked and injured.\n",
       "\n",
       "In one astounding case of a mass illegal gathering last week, 3,000 to 5,000 south Londoners descended on the small seaside town of Greatstone in Kent, some 75 miles away, for an event marking Jamaican Independence Day, rioting, taking drugs, and leaving rubbish and human waste strewn across the beach and even in people’s private properties.\n",
       "\n",
       "Under <span style=\"background-color: #ffd1d1\"><b>corona</b></span>virus measures, gatherings of more than 30 people are banned. The prime minister also announced on Thursday that organisers of “unlawful gatherings” will face fines, with The Times reporting it could up to £10,000.\n",
       "\n",
       "However, it may be difficult for police to ascertain the organisers of such events like the London “street parties”, and rave organisers have decades’ experience evading authorities.\n",
       "\n",
       "Coronafun: Music Fans Isolated in Pens at UK’s First ‘Socially Distanced’ Gig https://t.co/GWBf7K53u7 — Breitbart London (@BreitbartLondon) August 14, 2020\n",
       "\n",
       "The new fines were announced as Boris Johnson’s Cabinet at short notice signed off on an enforced <span style=\"background-color: #ffd1d1\"><b>quarant</b></span>ine of holidaymakers returning from France. Around a half a million Britons currently travelling in France will have to self-isolate for a fortnight on their return.\n",
       "\n",
       "Those returning from Monaco, Malta, the Netherlands, Aruba, and the Turks and Caicos Islands will also be subject to <span style=\"background-color: #ffd1d1\"><b>quarant</b></span>ine.\n",
       "\n",
       "Travellers will have only until 4 a.m. on Saturday to return before the measures take effect. Those who defy orders to stay in their homes will be subject to fines of up to £1,000.\n",
       "\n",
       "On restrictions for those Britons coming back from France, Nigel Farage quipped: “Unless you come illegally by dinghy, then it’s no problem.”\n",
       "\n",
       "Unless you come illegally by dinghy, then it’s no problem. https://t.co/8OuERRJFG3 — Nigel Farage (@Nigel_Farage) August 13, 2020"
      ],
      "text/plain": [
       "<IPython.core.display.HTML object>"
      ]
     },
     "metadata": {},
     "output_type": "display_data"
    },
    {
     "data": {
      "text/html": [
       "<br><br>"
      ],
      "text/plain": [
       "<IPython.core.display.HTML object>"
      ]
     },
     "metadata": {},
     "output_type": "display_data"
    },
    {
     "data": {
      "text/html": [
       "Costa Rica announced nine new <span style=\"background-color: #ffd1d1\"><b>corona</b></span>virus-related deaths over the past day for a total of 272, according to official data released Thursday afternoon by the Health Ministry.\n",
       "\n",
       "Three-hundred and sixty-nine people are hospitalized with <span style=\"background-color: #ffd1d1\"><b>COVID</b></span>-19; 95 are in intensive care with an age range from 30 to 85 years old.\n",
       "\n",
       "The Health Ministry confirmed 826 new cases over the past 24 hours and has confirmed 26,129 cumulative cases.\n",
       "\n",
       "Of the new cases, 658 people resulted positive via a PCR test over the past 24 hours, while 168 were identified without a test.\n",
       "\n",
       "The Health Ministry is also adjusting data from previous days to include 210 additional cases identified via <span style=\"background-color: #ffd1d1\"><b>epidem</b></span>iological nexus by the Costa Rican Social Security System (CCSS).\n",
       "\n",
       "Thursday, 223 more people were classified by health authorities as recovered. Costa Rica has 17,445 known active cases and 8,412 recoveries.\n",
       "\n",
       "The data indicate Costa Rica has 5.32 <span style=\"background-color: #ffd1d1\"><b>COVID</b></span>-19-related deaths per 100,000 people.\n",
       "\n",
       "Most hospitalized patients have at least one risk factor — hypertension, diabetes, obesity and smoking are the most common — and elderly adults are at significantly higher risk of <span style=\"background-color: #ffd1d1\"><b>COVID</b></span>-19 complications.\n",
       "\n",
       "Health Ministry emphasizes risk to elderly\n",
       "\n",
       "With Mother’s Day approaching, the Health Ministry has emphasized the higher risk of <span style=\"background-color: #ffd1d1\"><b>corona</b></span>virus complications among elderly adults.\n",
       "\n",
       "According to the Health Ministry, 12.1% of elderly adults who tested positive for <span style=\"background-color: #ffd1d1\"><b>COVID</b></span>-19 died due to causes related to the disease.\n",
       "\n",
       "The risk of death is significantly lower among younger adults (0.4%), while no minors have died of <span style=\"background-color: #ffd1d1\"><b>COVID</b></span>-19 in Costa Rica.\n",
       "\n",
       "“We must implement the necessary measures to take care of our elderly people,” said Health Minister Daniel Salas. “Within the framework of Mother’s Day this call becomes even more urgent. Let’s find ways to express our love by protecting our loved ones.”\n",
       "\n",
       "Active <span style=\"background-color: #ffd1d1\"><b>corona</b></span>virus cases in Costa Rica\n",
       "\n",
       "Starting July 25, Costa Rica considers some patients as confirmed cases without requiring a positive test. This only applies if a person living with someone who has tested positive begins exhibiting symptoms of <span style=\"background-color: #ffd1d1\"><b>COVID</b></span>-19.\n",
       "\n",
       "The Health Ministry’s definitions also qualify certain patients as recovered based on time rather than a negative test.\n",
       "\n",
       "Deaths comprise people who tested positive for the <span style=\"background-color: #ffd1d1\"><b>corona</b></span>virus and died, when health authorities believe <span style=\"background-color: #ffd1d1\"><b>COVID</b></span>-19 either caused or contributed to the death.\n",
       "\n",
       "The below graph shows Costa Rica’s test-positivity rate. (Cases confirmed without a test are excluded from the graph.)\n",
       "\n",
       "The Greater Metropolitan Area is the country’s current epicenter. Costa Rica is in a “Closed Phase” through August 21; click here to understand the latest restrictions.\n",
       "\n",
       "The below graphic will update automatically when the Health Ministry releases detailed information on the number of tests processed and the location of new cases later this afternoon.\n",
       "\n",
       "If you believe you have <span style=\"background-color: #ffd1d1\"><b>COVID</b></span>-19, contact Costa Rica’s hotline at 1322. English-speaking staff and mental health professionals are available.\n",
       "\n",
       "This story was updated to include hospitalization data."
      ],
      "text/plain": [
       "<IPython.core.display.HTML object>"
      ]
     },
     "metadata": {},
     "output_type": "display_data"
    },
    {
     "data": {
      "text/html": [
       "<br><br>"
      ],
      "text/plain": [
       "<IPython.core.display.HTML object>"
      ]
     },
     "metadata": {},
     "output_type": "display_data"
    },
    {
     "data": {
      "text/html": [
       "-Analysis-\n",
       "\n",
       "PARIS — The hunt is on, and the object of the quest is like a new Holy Grail. Indeed, finding a <span style=\"background-color: #ffd1d1\"><b>vaccine</b></span> against the <span style=\"background-color: #ffd1d1\"><b>corona</b></span>virus has become a major goal for policymakers around the world, and for obvious reasons, given the scale of the <span style=\"background-color: #ffd1d1\"><b>pandem</b></span>ic and the risk of a second wave of <span style=\"background-color: #ffd1d1\"><b>COVID</b></span>-19.\n",
       "\n",
       "In this race against time, some 140 clinical trials have reportedly been launched. [Earlier this week, Russia has even approved a <span style=\"background-color: #ffd1d1\"><b>vaccine</b></span>, saying it plans to start mass vaccinations in the fall — although the announcement was met with skepticism from experts.] But who will benefit from the <span style=\"background-color: #ffd1d1\"><b>vaccine</b></span> if it is discovered? Will it be reserved only for rich countries that are able to quickly make the necessary investments to finance it? Or will it be widely available, and under what conditions?\n",
       "\n",
       "In late April, the World Health Organization (WHO) launched ACT Accelerator (ACTA), a partnership of private, public and humanitarian actors to accelerate the development and &quot;equitable distribution&quot; of <span style=\"background-color: #ffd1d1\"><b>vaccine</b></span>s, diagnostic tests and therapies against <span style=\"background-color: #ffd1d1\"><b>COVID</b></span>-19. As António Guterres, general secretary of the UN, argues: &quot;Data must be shared ... and politics must be set aside.&quot;\n",
       "\n",
       "Guterres is by no means alone in calling for broad access to the <span style=\"background-color: #ffd1d1\"><b>vaccine</b></span>. On May 4, French President Emmanuel Macron was one of the first heads of state to use the phrase &quot;global public good.&quot; The <span style=\"background-color: #ffd1d1\"><b>vaccine</b></span> &quot;will belong to no one, but it will belong to all of us&quot; he said.\n",
       "\n",
       "The remark was taken up again by Chinese President Xi Jinping at the WHO General Assembly on May 18. And on May 19, the EU called for &quot;universal, rapid and equitable access to all products needed for the response to the <span style=\"background-color: #ffd1d1\"><b>pandem</b></span>ic,&quot; stressing the usefulness of &quot;large-scale vaccination against <span style=\"background-color: #ffd1d1\"><b>COVID</b></span>-19 as a global public good.&quot;\n",
       "\n",
       "Actions, however, are struggling to match the rhetoric, and this disconnect marks a new stage in the crisis for multilateral institutions.\n",
       "\n",
       "Since March, countries that can afford it have been rushing to guarantee priority access to the <span style=\"background-color: #ffd1d1\"><b>vaccine</b></span> in return for funding. Donald Trump started the trend by trying to get a German laboratory to sign an exclusivity clause. A month later, Paul Hudson, head of the pharmaceutical group Sanofi, announced that he wanted to reserve the first profits from a <span style=\"background-color: #ffd1d1\"><b>vaccine</b></span> for the United States and China, which financed the research (he later tried to walk that statement back). And in June, France, Germany, the Netherlands and Italy secured 400 million doses from the AstraZeneca laboratory.\n",
       "\n",
       "Data must be shared... and politics must be set aside.\n",
       "\n",
       "In an op-ed published on June 27 in the Journal du Dimanche, the heads of various humanitarian organizations fired back, lambasting this &quot;<span style=\"background-color: #ffd1d1\"><b>vaccine</b></span> nationalism&quot; and arguing that the competition between countries is counter-productive.\n",
       "\n",
       "&quot;In fact, countries have deconstructed the common logic, transforming ACTA into an initiative that will manage the crumbs instead, because they will be served after the others,&quot; says Nathalie Ernoult, researcher at the Institute of International and Strategic Relations (IRIS) and head of the &quot;Access to Essential Medicines&quot; campaign by the NGO Doctors Without Borders/Médecins Sans Frontières (MSF).\n",
       "\n",
       "Theory and practice\n",
       "\n",
       "Where does the notion of &quot;global public good&quot; come from? The term first appeared in the 1980s and refers to such goods as environmental quality, peace, education, security and protection against major endemics. And by 2000, when the Millennium Development Goals were adopted in New York by 193 UN member states and numerous international organizations, a consensus had emerged that neither markets nor governments — &quot;if left to their own devices,&quot; as then UN Secretary-General Kofi Annan stated — can be trusted to guarantee access to those essential goods.\n",
       "\n",
       "French President Emmanuel Macron at the special European Council meeting in Brussels — Photo: Xinhua/ZUMA\n",
       "\n",
       "&quot;The notion of global public goods suggests that it&#x27;s possible to move toward a fairer world that guarantees access to essential goods for the poorest,&quot; says Benjamin Coriat, professor of economics at the University of Paris-XIII and editor of the collective book The Return of the Commons, the Crisis of Proprietary Ideology in 2015.\n",
       "\n",
       "&quot;But it has remained a declaration of principle, without any legal measure guaranteeing a right of access to the poorest,&quot; he adds. &quot;Care was taken not to define precisely which global public goods should be excluded from WTO agreements and the world of goods.&quot;\n",
       "\n",
       "To Coriat&#x27;s point, playing out in the background of all this has been a fierce, international battle over medicines and <span style=\"background-color: #ffd1d1\"><b>vaccine</b></span>s. In order to have the right to join the new WTO, each state must ratify the agreements on intellectual property rights, which provide a patent framework for the manufacture and marketing of pharmaceutical products. Among other things, the rules guarantee private laboratories no generic competition for 20 years.\n",
       "\n",
       "The <span style=\"background-color: #ffd1d1\"><b>vaccine</b></span> will belong to no one, but it will belong to all of us.\n",
       "\n",
       "France subscribed to this principle of patenting health products as early as 1960, Germany in 1968. Emerging countries such as India and Brazil initially asserted that these are &quot;public goods&quot; that can be freely copied before being forced to finally ratify the agreements on intellectual property — in 1996 for one, in 2005 for the other.\n",
       "\n",
       "From there another battle ensued as India and Brazil — together with South Africa, humanitarian organizations and patient-rights associations — sought to find loopholes in the system. In particular, they invoke an article in the agreements on intellectual property that authorizes states to issue a &quot;compulsory license&quot; for the production of generic drugs for public health reasons. This exception certainly allows for a wider distribution of AIDS drugs, but it is long and complex to implement.\n",
       "\n",
       "Public-private partnerships\n",
       "\n",
       "During the 2000s, which saw globalization redistribute power between governments and companies, civil society organized itself in the face of the powerlessness of UN bodies. Alliances have been forged between the public, the private sector and international organizations. And new mechanisms are being invented to try to solve an impossible equation: How to ensure equitable access to <span style=\"background-color: #ffd1d1\"><b>vaccine</b></span>s and medicines, considered as public goods, in an economic system where health is a market good like any other.\n",
       "\n",
       "MSF, winner of the Nobel Peace Prize in 1999, used its award money to finance a campaign for access to essential medicines. Likewise, in 2000, a group of public and private partners — including the WHO, World Bank, pharmaceutical industry representatives, and the Bill and Melinda Gates Foundation — created the GAVI alliance in order to accelerate access to immunization in developing countries.\n",
       "\n",
       "To date, one of the most innovative initiatives of this movement is undoubtedly the Drugs for Neglected Diseases Initiative. Launched in Europe and in developing areas by MSF, the Institut Pasteur and four research institutes in tropical countries, the foundation has been offering pharmaceutical companies partnerships based on a collaborative and open principle since 2003. Drugs are not protected by patents and are accessible at cost price as part of public health programs. In exchange, pharmaceutical companies benefit from the knowledge accumulated about the chemical formula for other uses, and retain the right to distribute it in private channels.\n",
       "\n",
       "Since the foundation&#x27;s creation, eight new medicines have been developed against serious and common diseases that mainly affect countries in the developing world. The treatments include the first fixed-dose combination against malaria, the result of cooperation with the industrialist Sanofi, and a new remedy for sleeping sickness.\n",
       "\n",
       "It&#x27;s possible to move toward a fairer world that guarantees access to essential goods for the poorest.\n",
       "\n",
       "&quot;We are in a real collaborative dynamic, where different entities, whether public or private, find an agreement so that the product can be shared and a right of access is guaranteed for all, especially the most disadvantaged,&quot; the economist Benjamin Coriat explains.\n",
       "\n",
       "Could such a mechanism, which offers new forms of research incentives by breaking out of a binary opposition for or against the patent, be implemented for the <span style=\"background-color: #ffd1d1\"><b>COVID</b></span>-19 <span style=\"background-color: #ffd1d1\"><b>vaccine</b></span>? In theory, nothing prevents it. Economist Izabela Jelovac, director of research at CNRS, France&#x27;s state research body, goes so far as to say that not following this model is a waste.\n",
       "\n",
       "&quot;Today, public money guarantees the funding country the right to be served before others and the absence of competition for laboratories,&quot; she says. &quot;But states could exert pressure to negotiate other conditions for the subsidy, such as making the product accessible to all. Such a mechanism could apply to future drugs against <span style=\"background-color: #ffd1d1\"><b>COVID</b></span>-19, whose trials are also largely funded by public money.&quot;\n",
       "\n",
       "It could work, yes. But only if states manage to speak with one voice and stop racing toward — and kowtowing to — the highest bidder.\n",
       "\n",
       "See more from Coronavirus here"
      ],
      "text/plain": [
       "<IPython.core.display.HTML object>"
      ]
     },
     "metadata": {},
     "output_type": "display_data"
    },
    {
     "data": {
      "text/html": [
       "<br><br>"
      ],
      "text/plain": [
       "<IPython.core.display.HTML object>"
      ]
     },
     "metadata": {},
     "output_type": "display_data"
    },
    {
     "data": {
      "text/html": [
       "With the nation&#x27;s alert levels to be reassessed on Friday, the Government will take into account the extent of the Auckland outbreak and whether it has reached other parts of the country. Dr Bloomfield and other Ministry of Health officials will meet with the Cabinet before a decision is announced.\n",
       "\n",
       "&quot;We don&#x27;t know yet the extent of the outbreak - that&#x27;s our absolute priority - find the extent and ring-fence it,&quot; Dr Bloomfield told The AM Show on Thursday.\n",
       "\n",
       "&quot;By the middle of the day tomorrow [Friday] we will have a lot more information from the testing that&#x27;s been happening both in Auckland and around the country, and that will be hugely helpful in terms of our advice to the Government on what to do next.&quot;\n",
       "\n",
       "Under alert level 3, people are told to stay in their household bubbles. Gatherings of up are only permitted for wedding services, funerals, and tangihanga.\n",
       "\n",
       "&quot;If there&#x27;s a gathering greater than the permitted size then, yes, we may enter and deal with the situation - using powers of entry is the last resort - normally we can go and knock at the front door and have a conversation and we sort it out, so I believe that power was used only once or twice in the previous <span style=\"background-color: #ffd1d1\"><b>lockdown</b></span>,&quot; Police Commissioner Andrew Coster said on Thursday.\n",
       "\n",
       "Prime Minister Jacinda Ardern said on Tuesday night Auckland entering alert level 3 was a &quot;precautionary measure&quot;. The word &quot;precautionary&quot; is being used in Government messages for a reason, Prof Gillespie said."
      ],
      "text/plain": [
       "<IPython.core.display.HTML object>"
      ]
     },
     "metadata": {},
     "output_type": "display_data"
    },
    {
     "data": {
      "text/html": [
       "<br><br>"
      ],
      "text/plain": [
       "<IPython.core.display.HTML object>"
      ]
     },
     "metadata": {},
     "output_type": "display_data"
    },
    {
     "name": "stdout",
     "output_type": "stream",
     "text": [
      "GradientBoostingClassifier()\n"
     ]
    },
    {
     "data": {
      "text/html": [
       "This morning Brian talks with Dr. John Fleming, the Deputy Chief of Staff for The White House. They discuss how Louisiana is doing in response to <span style=\"background-color: #ffd1d1\"><b>COVID</b></span>-19, what’s been the most difficult part of the response, the possibility of a <span style=\"background-color: #ffd1d1\"><b>vaccine</b></span> by possibly October and much more.\n",
       "\n",
       "ABOUT DR. JOHN FLEMING\n",
       "\n",
       "From January 3, 2009, to January 3, 2017, Fleming was the representative for Louisiana’s 4th congressional district. He resides in the city of Minden in Webster Parish in northwestern Louisiana. After leaving Congress in 2017, he served for two years in the administration as Deputy Assistant Secretary for Health Information Technology Reform and then served as Assistant Secretary of Commerce for Economic Development from March 2019 to 2020. In March 2020, he was appointed to a position in the White House as Assistant to the President for Planning and Implementation."
      ],
      "text/plain": [
       "<IPython.core.display.HTML object>"
      ]
     },
     "metadata": {},
     "output_type": "display_data"
    },
    {
     "data": {
      "text/html": [
       "<br><br>"
      ],
      "text/plain": [
       "<IPython.core.display.HTML object>"
      ]
     },
     "metadata": {},
     "output_type": "display_data"
    },
    {
     "data": {
      "text/html": [
       "With the nation&#x27;s alert levels to be reassessed on Friday, the Government will take into account the extent of the Auckland outbreak and whether it has reached other parts of the country. Dr Bloomfield and other Ministry of Health officials will meet with the Cabinet before a decision is announced.\n",
       "\n",
       "&quot;We don&#x27;t know yet the extent of the outbreak - that&#x27;s our absolute priority - find the extent and ring-fence it,&quot; Dr Bloomfield told The AM Show on Thursday.\n",
       "\n",
       "&quot;By the middle of the day tomorrow [Friday] we will have a lot more information from the testing that&#x27;s been happening both in Auckland and around the country, and that will be hugely helpful in terms of our advice to the Government on what to do next.&quot;\n",
       "\n",
       "Under alert level 3, people are told to stay in their household bubbles. Gatherings of up are only permitted for wedding services, funerals, and tangihanga.\n",
       "\n",
       "&quot;If there&#x27;s a gathering greater than the permitted size then, yes, we may enter and deal with the situation - using powers of entry is the last resort - normally we can go and knock at the front door and have a conversation and we sort it out, so I believe that power was used only once or twice in the previous <span style=\"background-color: #ffd1d1\"><b>lockdown</b></span>,&quot; Police Commissioner Andrew Coster said on Thursday.\n",
       "\n",
       "Prime Minister Jacinda Ardern said on Tuesday night Auckland entering alert level 3 was a &quot;precautionary measure&quot;. The word &quot;precautionary&quot; is being used in Government messages for a reason, Prof Gillespie said."
      ],
      "text/plain": [
       "<IPython.core.display.HTML object>"
      ]
     },
     "metadata": {},
     "output_type": "display_data"
    },
    {
     "data": {
      "text/html": [
       "<br><br>"
      ],
      "text/plain": [
       "<IPython.core.display.HTML object>"
      ]
     },
     "metadata": {},
     "output_type": "display_data"
    },
    {
     "data": {
      "text/html": [
       "CEBU CITY, Philippines — Consolacion policemen are requesting that a a cease and desist order be issued against an internet cafe in Purok 3, Barangay Tugbongan, Consolacion town in northern Cebu after minors were caught gathering there and playing online games.\n",
       "\n",
       "Police Master Sergeant Achilles Bacorta of the Consolacion Police Station said that while the station’s personnel were patrolling around 1 p.m. this Saturday, August 15, 2020, they saw several minors who run off from the area upon seeing the police patrol vehicle.\n",
       "\n",
       "Bacorta said that the policemen tried to ask around the area why there were minors outside and was told that an internet cafe near the area had allowed minors to gather and play online games there.\n",
       "\n",
       "“Ipa-close man mao na ang gilihok sa imbestigator karon kay di pa man pwede nga (mogawas ug) modula online games,” said Bacorta.\n",
       "\n",
       "(We want it closed and that is what we are working on because it is still not the time for children to go out of their homes and play online games in an internet cafe.)\n",
       "\n",
       "It was also noted according to Bacorta, that there were no reminders or safety measures being provided in the establishment to help prevent the spread the <span style=\"background-color: #ffd1d1\"><b>COVID</b></span>-19 virus such as available disinfectants.\n",
       "\n",
       "Bacorta said that while internet shops were allowed to operate, the business owners must be reminded that it must be used for educational purposes only.\n",
       "\n",
       "Establishments before operating must also follow the requirements which included health protocol standards to be observed such as implementing social distancing and availability of disinfectants.\n",
       "\n",
       "“Dugay naman mi sige remind nila during patrols unta mo follow sila (We always remind them during patrols, hopefully they will follow.),” said Bacorta./dbs"
      ],
      "text/plain": [
       "<IPython.core.display.HTML object>"
      ]
     },
     "metadata": {},
     "output_type": "display_data"
    },
    {
     "data": {
      "text/html": [
       "<br><br>"
      ],
      "text/plain": [
       "<IPython.core.display.HTML object>"
      ]
     },
     "metadata": {},
     "output_type": "display_data"
    }
   ],
   "source": [
    "for classifier in classifiers:\n",
    "    print(classifier)\n",
    "\n",
    "    false_positive = (predicted == False) & (labels == True)\n",
    "    predicted = classifier.predict(x_test)\n",
    "\n",
    "    for index, row in df_test[false_positive].head(10).iterrows():\n",
    "        display(HTML(markup(html.escape(row['text']))))\n",
    "        display(HTML('<br><br>'))"
   ]
  }
 ],
 "metadata": {
  "kernelspec": {
   "display_name": "Python 3",
   "language": "python",
   "name": "python3"
  },
  "language_info": {
   "codemirror_mode": {
    "name": "ipython",
    "version": 3
   },
   "file_extension": ".py",
   "mimetype": "text/x-python",
   "name": "python",
   "nbconvert_exporter": "python",
   "pygments_lexer": "ipython3",
   "version": "3.7.10"
  }
 },
 "nbformat": 4,
 "nbformat_minor": 4
}

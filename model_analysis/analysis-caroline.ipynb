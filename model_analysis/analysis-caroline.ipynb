{
 "cells": [
  {
   "cell_type": "code",
   "execution_count": 1,
   "metadata": {
    "tags": []
   },
   "outputs": [],
   "source": [
    "import json\n",
    "import os\n",
    "import math\n",
    "import html\n",
    "import re\n",
    "import joblib\n",
    "import pickle\n",
    "from IPython.core.display import display, HTML\n",
    "\n",
    "\n",
    "import numpy as np\n",
    "import pandas as pd\n",
    "import matplotlib.pyplot as plt\n",
    "import plotly.graph_objects as go\n",
    "\n",
    "from sklearn.linear_model import LogisticRegression\n",
    "from sklearn.tree import DecisionTreeClassifier\n",
    "from sklearn.ensemble import RandomForestClassifier, GradientBoostingClassifier\n",
    "\n",
    "from sklearn.model_selection import train_test_split\n",
    "from sklearn.feature_extraction.text import TfidfVectorizer\n",
    "from sklearn.metrics import confusion_matrix, ConfusionMatrixDisplay, plot_confusion_matrix"
   ]
  },
  {
   "cell_type": "markdown",
   "metadata": {},
   "source": [
    "### Setup\n",
    "#### Create two dataframes:\n",
    "1. **df_init**: all covid stories\n",
    "2. **df_balanced**: balanced sample of df_init used for testing/training ML models"
   ]
  },
  {
   "cell_type": "code",
   "execution_count": 2,
   "metadata": {
    "tags": []
   },
   "outputs": [],
   "source": [
    "def load_data(directory):\n",
    "    data_dicts = []\n",
    "    for file in os.listdir(directory):\n",
    "        with open(os.path.join(directory, file), 'r') as f:\n",
    "            data_dict = json.load(f)\n",
    "        data_dicts.append(data_dict)\n",
    "    return data_dicts"
   ]
  },
  {
   "cell_type": "code",
   "execution_count": 3,
   "metadata": {
    "tags": []
   },
   "outputs": [],
   "source": [
    "def build_dataframe(data_dicts):\n",
    "    return pd.json_normalize(data_dicts)\n",
    "\n",
    "\n",
    "def reformat_dataframe(df, columns_to_keep):\n",
    "    df = df.rename(columns_to_keep, axis=1)\n",
    "    df = df[list(columns_to_keep.values())]\n",
    "    return df"
   ]
  },
  {
   "cell_type": "code",
   "execution_count": 4,
   "metadata": {
    "tags": []
   },
   "outputs": [],
   "source": [
    "def drop_unlabeled_data(df, column):\n",
    "    return df[(df[column] == True) | (df[column] == False)]\n",
    "\n",
    "\n",
    "def balance_data(df, column):\n",
    "    df_grouped = df.groupby(column)\n",
    "    sample_size = df_grouped.size().min()\n",
    "\n",
    "    def sample(df):\n",
    "        return df.sample(sample_size)\n",
    "\n",
    "    df_grouped_sampled = df_grouped.apply(sample)\n",
    "    df_sampled = pd.DataFrame(df_grouped_sampled)\n",
    "    df_sampled = df_sampled.droplevel(level=0)\n",
    "  \n",
    "    return df_sampled"
   ]
  },
  {
   "cell_type": "code",
   "execution_count": 5,
   "metadata": {},
   "outputs": [],
   "source": [
    "def print_useful_info(df,column=\"_label\", name= \"\"):\n",
    "    print(f\"# stories {name}\\t: {df.shape[0]} ({100*(df[df[column] == True].shape[0]/df.shape[0]):.2f}% COVID)\")"
   ]
  },
  {
   "cell_type": "code",
   "execution_count": 6,
   "metadata": {},
   "outputs": [
    {
     "name": "stdout",
     "output_type": "stream",
     "text": [
      "data loaded\n",
      "# stories all data\t: 1589 (10.70% COVID)\n",
      "# stories balanced data\t: 340 (50.00% COVID)\n"
     ]
    }
   ],
   "source": [
    "directory = '../data/news_articles/balanced_dataset/'\n",
    "\n",
    "columns_to_keep = {\n",
    "    'LABEL.WANT_ON_MAP': '_label',\n",
    "    'ARTICLE.TEXT': 'text',\n",
    "    'ARTICLE.TITLE': 'title',\n",
    "}\n",
    "label = '_label' # put '_' in front so that it does not conflict with columns for tfidf vectors later on\n",
    "content_columns = ['text','title']\n",
    "\n",
    "data = load_data(directory)\n",
    "\n",
    "df_init = build_dataframe(data)\n",
    "df_init = reformat_dataframe(df_init, columns_to_keep)\n",
    "df_init = drop_unlabeled_data(df_init, label)\n",
    "df_init[label] = df_init[label].astype(bool)\n",
    "\n",
    "df_balanced = balance_data(df_init, label)\n",
    "    \n",
    "print(\"data loaded\")\n",
    "print_useful_info(df_init, name='all data')\n",
    "print_useful_info(df_balanced, name='balanced data')"
   ]
  },
  {
   "cell_type": "markdown",
   "metadata": {},
   "source": [
    "# NEW: SPLIT INTO CONSISTENT TRAIN, TEST GROUPS"
   ]
  },
  {
   "cell_type": "code",
   "execution_count": 7,
   "metadata": {},
   "outputs": [],
   "source": [
    "df_balanced['train'] = np.random.rand(340,) > .2  # this is hacky, but it gets the job done"
   ]
  },
  {
   "cell_type": "code",
   "execution_count": 8,
   "metadata": {},
   "outputs": [
    {
     "data": {
      "text/plain": [
       "0.7617647058823529"
      ]
     },
     "execution_count": 8,
     "metadata": {},
     "output_type": "execute_result"
    }
   ],
   "source": [
    "df_balanced['train'].mean()  # percent of stories used for training"
   ]
  },
  {
   "cell_type": "code",
   "execution_count": 9,
   "metadata": {},
   "outputs": [],
   "source": [
    "df_train = df_balanced[df_balanced['train']].copy()\n",
    "df_test = df_balanced[~df_balanced['train']].copy()"
   ]
  },
  {
   "cell_type": "markdown",
   "metadata": {},
   "source": [
    "# NEW: SPLIT INTO CONSISTENT TRAIN, TEST GROUPS"
   ]
  },
  {
   "cell_type": "markdown",
   "metadata": {},
   "source": [
    "### Rule Based Model"
   ]
  },
  {
   "cell_type": "code",
   "execution_count": 10,
   "metadata": {},
   "outputs": [],
   "source": [
    "class RuleBasedModel:\n",
    "    def __init__(self, keyword_string):\n",
    "        self.keyword_string = keyword_string\n",
    "        \n",
    "    def predict(self, X):\n",
    "        return np.array([\n",
    "            self._predict(*x)\n",
    "            for _, x in X.iterrows()\n",
    "        ])\n",
    "    \n",
    "    def _predict(self, title, body):\n",
    "        keywords_in_title = re.findall(self.keyword_string, title.lower())\n",
    "        if any(keywords_in_title):\n",
    "            return True\n",
    "        \n",
    "        keywords_in_body = re.findall(self.keyword_string, body.lower())\n",
    "        return len(keywords_in_body) > 5"
   ]
  },
  {
   "cell_type": "code",
   "execution_count": 11,
   "metadata": {},
   "outputs": [],
   "source": [
    "def plot_cf_matrix(labels, predicted, title=\"\", normalize=None):\n",
    "    ax= plt.subplot()\n",
    "    matrix = confusion_matrix(labels, predicted, normalize=normalize)\n",
    "    display = ConfusionMatrixDisplay(matrix, display_labels=['Not COVID','COVID'])\n",
    "    display.plot(cmap='Blues', ax=ax)\n",
    "    ax.set_title(title)"
   ]
  },
  {
   "cell_type": "code",
   "execution_count": 12,
   "metadata": {},
   "outputs": [
    {
     "data": {
      "image/png": "[encoded data removed]",
      "text/plain": [
       "<Figure size 432x288 with 2 Axes>"
      ]
     },
     "metadata": {
      "needs_background": "light"
     },
     "output_type": "display_data"
    }
   ],
   "source": [
    "labels = df_test[label]\n",
    "\n",
    "model = RuleBasedModel('covid|corona|pandem|epidem|mask|quarant|vaccine|lockdown')\n",
    "predicted = model.predict(df_test[[\"title\", \"text\"]])\n",
    "\n",
    "plot_cf_matrix(labels, predicted, title=\"Rule Based Model\", normalize='true')"
   ]
  },
  {
   "cell_type": "code",
   "execution_count": 13,
   "metadata": {},
   "outputs": [],
   "source": [
    "def markup(string):\n",
    "    for keyword in 'covid|corona|pandem|epidem|mask|quarant|vaccine|lockdown'.split('|'):\n",
    "        string = re.sub(\n",
    "            keyword, f'<span style=\"background-color: #ffd1d1\"><b>{keyword}</b></span>', \n",
    "            string,\n",
    "        )\n",
    "        string = re.sub(\n",
    "            keyword.upper(), f'<span style=\"background-color: #ffd1d1\"><b>{keyword.upper()}</b></span>', \n",
    "            string,\n",
    "        )\n",
    "    return string"
   ]
  },
  {
   "cell_type": "code",
   "execution_count": 14,
   "metadata": {},
   "outputs": [],
   "source": [
    "# view false positives\n",
    "\n",
    "false_positive = (predicted == True) & (labels == False)\n",
    "\n",
    "for index, row in df_test[false_positive].head(10).iterrows():\n",
    "    display(HTML(markup(html.escape(row['text']))))\n",
    "    display(HTML('<br><br>'))"
   ]
  },
  {
   "cell_type": "code",
   "execution_count": 15,
   "metadata": {},
   "outputs": [
    {
     "data": {
      "text/html": [
       "This morning Brian talks with Dr. John Fleming, the Deputy Chief of Staff for The White House. They discuss how Louisiana is doing in response to <span style=\"background-color: #ffd1d1\"><b>COVID</b></span>-19, what’s been the most difficult part of the response, the possibility of a <span style=\"background-color: #ffd1d1\"><b>vaccine</b></span> by possibly October and much more.\n",
       "\n",
       "ABOUT DR. JOHN FLEMING\n",
       "\n",
       "From January 3, 2009, to January 3, 2017, Fleming was the representative for Louisiana’s 4th congressional district. He resides in the city of Minden in Webster Parish in northwestern Louisiana. After leaving Congress in 2017, he served for two years in the administration as Deputy Assistant Secretary for Health Information Technology Reform and then served as Assistant Secretary of Commerce for Economic Development from March 2019 to 2020. In March 2020, he was appointed to a position in the White House as Assistant to the President for Planning and Implementation."
      ],
      "text/plain": [
       "<IPython.core.display.HTML object>"
      ]
     },
     "metadata": {},
     "output_type": "display_data"
    },
    {
     "data": {
      "text/html": [
       "<br><br>"
      ],
      "text/plain": [
       "<IPython.core.display.HTML object>"
      ]
     },
     "metadata": {},
     "output_type": "display_data"
    },
    {
     "data": {
      "text/html": [
       "© Stock photo by William Moreland via Unsplash DA bans chicken imports from Brazil\n",
       "\n",
       "MANILA, Philippines — The Department of Agriculture has ordered a ban on chicken imports from Brazil after China reported that some chicken wings shipped from the Latin Amercian country tested positive for the <span style=\"background-color: #ffd1d1\"><b>corona</b></span>virus disease 2019 or <span style=\"background-color: #ffd1d1\"><b>COVID</b></span>-19.\n",
       "\n",
       "In a memorandum order, Agriculture Secretary William Dar cited the Food Safety Act in ordering the import ban.\n",
       "\n",
       "”With recent reports from China and in compliance with the Food Safety Act to regulate food business operators and safeguard Filipino consumers, the temporary ban on the import of chicken meat is imposed,” Dar said.\n",
       "\n",
       "The World Health Organization said there are more than three million <span style=\"background-color: #ffd1d1\"><b>COVID</b></span>-19 cases in Brazil, with 103,026 deaths, mostly workers in meat establishments.\n",
       "\n",
       "The United Broiler Raisers Association had earlier said the incident should be a cause for alarm, noting that Brazil is one of the major meat exporters to the Philippines.\n",
       "\n",
       "The Philippines imported 64.2 million kilos of meat products in the first semester of the year. At least 43.27 million kilos or more than half came from Brazil.\n",
       "\n",
       "The Bureau of Animal Industry and National Meat Inspection Service are monitoring <span style=\"background-color: #ffd1d1\"><b>COVID</b></span>-19 related outbreaks in foreign meat establishments.\n",
       "\n",
       "The DA assured the public that chicken products in the market are safe to eat."
      ],
      "text/plain": [
       "<IPython.core.display.HTML object>"
      ]
     },
     "metadata": {},
     "output_type": "display_data"
    },
    {
     "data": {
      "text/html": [
       "<br><br>"
      ],
      "text/plain": [
       "<IPython.core.display.HTML object>"
      ]
     },
     "metadata": {},
     "output_type": "display_data"
    },
    {
     "data": {
      "text/html": [
       "When Kyoto University professor Shinya Yamanaka won the Nobel Prize in 2012 for his work on stem cells, Edvinas Cerniauskas, then 21, became interested in the field and soon began to plan how he could come to Japan and study at the cutting edge.\n",
       "\n",
       "His dream was becoming reality when he was accepted to Kyoto University — where he intends to pursue a doctorate at Yamanaka’s Center for iPS Cell Research and Application — and received a scholarship from the Education, Culture, Sports, Science and Technology Ministry (MEXT).\n",
       "\n",
       "He had quit his job at a stem cell laboratory in the U.K. and returned to his native Lithuania to prepare to come to Japan in April, when the country imposed travel restrictions to curb <span style=\"background-color: #ffd1d1\"><b>COVID</b></span>-19 infections.\n",
       "\n",
       "Since then, Cerniauskas has been waking up daily to attend 4 a.m. remote, intensive language courses via Zoom provided by Kyoto University. The schedule has taken a toll on his health and caused him to lose more than 10 kilograms.\n",
       "\n",
       "Because new visas are not being issued for international students amid the <span style=\"background-color: #ffd1d1\"><b>pandem</b></span>ic and he is not physically in Japan, he isn’t receiving his scholarship’s stipend and has been relying on his savings for his living expenses.\n",
       "\n",
       "The government imposed a travel restriction denying re-entry to long-term and permanent foreign residents who departed Japan on April 3 and after (the date depends on the country they went to). While on Aug. 5 the government started allowing the re-entry of those who departed Japan before the designated dates, restrictions are still in place for foreign residents who departed after that. The government has also stopped issuing new visas to foreign nationals wishing to enter Japan for the first time, including foreign students, putting them in limbo."
      ],
      "text/plain": [
       "<IPython.core.display.HTML object>"
      ]
     },
     "metadata": {},
     "output_type": "display_data"
    },
    {
     "data": {
      "text/html": [
       "<br><br>"
      ],
      "text/plain": [
       "<IPython.core.display.HTML object>"
      ]
     },
     "metadata": {},
     "output_type": "display_data"
    },
    {
     "data": {
      "text/html": [
       "When Kyoto University professor Shinya Yamanaka won the Nobel Prize in 2012 for his work on stem cells, Edvinas Cerniauskas, then 21, became interested in the field and soon began to plan how he could come to Japan and study at the cutting edge.\n",
       "\n",
       "His dream was becoming reality when he was accepted to Kyoto University — where he intends to pursue a doctorate at Yamanaka’s Center for iPS Cell Research and Application — and received a scholarship from the Education, Culture, Sports, Science and Technology Ministry (MEXT).\n",
       "\n",
       "He had quit his job at a stem cell laboratory in the U.K. and returned to his native Lithuania to prepare to come to Japan in April, when the country imposed travel restrictions to curb <span style=\"background-color: #ffd1d1\"><b>COVID</b></span>-19 infections.\n",
       "\n",
       "Since then, Cerniauskas has been waking up daily to attend 4 a.m. remote, intensive language courses via Zoom provided by Kyoto University. The schedule has taken a toll on his health and caused him to lose more than 10 kilograms.\n",
       "\n",
       "Because new visas are not being issued for international students amid the <span style=\"background-color: #ffd1d1\"><b>pandem</b></span>ic and he is not physically in Japan, he isn’t receiving his scholarship’s stipend and has been relying on his savings for his living expenses.\n",
       "\n",
       "He still doesn’t know whether he will be allowed to come to Japan to begin the fall semester. If he can’t come by then, he’ll be forced to take a job to support himself and give up on coming to Japan.\n",
       "\n",
       "“I would have wasted the last half a year of potential stem cell research and put myself into a financial struggle,” he says of the worst-case scenario.\n",
       "\n",
       "His story illustrates the plight of tens of thousands of students who had plans to begin studies in Japan this year, only to have been caught out by the entry ban and have their lives put on hold as they wait to find out when they will be allowed to enter the country.\n",
       "\n",
       "The government imposed a travel restriction denying re-entry to long-term and permanent foreign residents who departed Japan on April 3 and after (the date depends on the country they went to). While on Aug. 5 the government started allowing the re-entry of those who departed Japan before the designated dates, restrictions are still in place for foreign residents who departed after that. The government has also stopped issuing new visas to foreign nationals wishing to enter Japan for the first time, including foreign students, putting them in limbo.\n",
       "\n",
       "Cerniauskas should have been a success story in Japan’s push to internationalize its student bodies, something that has been a stated policy aim of the government since 1983. In 2008, a goal was established to have 300,000 non-Japanese students in Japan by 2020.\n",
       "\n",
       "The entry and re-entry ban, and the way they have been implemented, risk undermining Japan as an attractive destination for international students. | REUTERS\n",
       "\n",
       "This figure has already been surpassed, in part due to the government subsidizing universities’ efforts to develop and change programs to better appeal to overseas students. Non-Japanese students accounted for 7.8 percent of all students in higher education in Japan as of May 2019.\n",
       "\n",
       "With the number of college-aged Japanese falling, these international students represent an attractive revenue source for Japanese universities.\n",
       "\n",
       "The presence of non-Japanese students on campus also enriches the environment for Japanese students, increasing diversity and providing opportunities for cross-cultural interaction.\n",
       "\n",
       "And as in the case of someone like Cerniauskas, bringing highly talented people from around the world can enhance universities’ research capabilities. Non-Japanese students who remain in Japan after graduation also represent an important source of potential labor for Japanese companies faced with a shrinking talent pool and seeking to hire new graduates with technical and foreign language skills.\n",
       "\n",
       "Non-Japanese students who remain in Japan after graduation also represent an important source of labor for Japanese companies. | REUTERS\n",
       "\n",
       "The entry and re-entry ban, and the way they have been implemented, risk undermining this progress in becoming an attractive destination for international students.\n",
       "\n",
       "As Hiroshima University Vice President Carolin Funck pointed out at a Foreign Correspondent’s Club of Japan presentation last month, “the international higher education market is highly competitive.”\n",
       "\n",
       "Universities “will lose momentum in this competition because the image will be established that students cannot come to Japan or might be excluded from coming back at any time,” she says.\n",
       "\n",
       "Some of Japan’s competitors for international students are still keeping international students out, including Australia and New Zealand. But others have allowed new students to enter for the fall semester, including Singapore, the U.S. (as long as curriculums have an in-person component) and Taiwan (except for students from China). South Korea is permitting students to enter, but the government is encouraging them to stay in their home countries and study online instead for the fall semester.\n",
       "\n",
       "Miho Odagiri, an official at the education ministry’s office for student exchange, says that it is difficult at this time to say exactly when new students will be able to enter Japan. She emphasizes that the ministry is working to convey to other parts of the government the importance of non-Japanese students and faculty, in hopes that they will be able to enter the country soon.\n",
       "\n",
       "With the number of college-aged Japanese falling, international students represent an attractive revenue source for Japanese universities. | REUTERS\n",
       "\n",
       "It’s not just students who are being impacted and creating issues for Japanese universities — academics have also been affected by the travel ban.\n",
       "\n",
       "Elin McCready, an American who is a professor in the Department of English at Aoyama Gakuin University, was abroad for research travel and was stuck outside the country for over three months this spring. She has several invitations to go to Europe this fall and funding from German institutions for travel there for talks and joint research.\n",
       "\n",
       "However, it is not clear whether she will be able to go, because as a foreign national, she is not able to freely leave and return to Japan, even though she is a permanent resident and has a family here.\n",
       "\n",
       "The situation makes her feel that her research activities’ status is “quite unstable and worrisome,” which she believes would not be the case if she were Japanese and did not face the same restriction on her movements.\n",
       "\n",
       "“I would have a hard time recommending people to feel confident moving here to do research given what I have seen in the past months, which is something I wouldn’t have said before this, as I have found Japan quite a supportive research environment,” she says.\n",
       "\n",
       "Billal Ouadi, 27\n",
       "\n",
       "For Algerian Ouadi, there’s nothing to do but wait.\n",
       "\n",
       "“On a daily basis, I wait, I check the news, I read, watch MOFA (Foreign Ministry) press conferences, I consult friends from other countries and inquire,” he says. For now, he says, “it’s all dark, and it’s getting darker.”\n",
       "\n",
       "Ouadi hopes to find out whether he can come to Japan as scheduled to begin his studies for a master’s in the management of technology at the University of Tokyo’s School of Engineering this fall. He’s worried now that his studies may be postponed or canceled.\n",
       "\n",
       "He had chosen Tokyo for his studies due to its status as a world business hub. If he can’t come for the fall semester, he will probably change his plans and go to a different country for his degree.\n",
       "\n",
       "Nils Ossette, 20\n",
       "\n",
       "A French student at Sciences Po Strasbourg, Ossette is not sure if or when he will be able to begin his planned year of studies at Osaka University this fall.\n",
       "\n",
       "“It seems that the university is ready to welcome foreign students but it’s only depending on the government’s decision to reopen the borders or not,” he says.\n",
       "\n",
       "He has been told by the university that his first semester isn’t canceled, but he doesn’t know when he can go to Japan. “It could be near the end of September, the end of the year or not at all for the first semester if Japan doesn’t reopen its borders.” He describes the situation as “definitely frustrating.”\n",
       "\n",
       "Because the university has told him that there could be lessons in person near the end of September, he has to prepare to go to Japan if it becomes possible, but he also has to prepare to stay in France if needed. This presents logistical quandaries, including what to do about the accommodation he is renting in Strasbourg.\n",
       "\n",
       "Kenza Streifer, 24\n",
       "\n",
       "Scheduled to begin as a research student in the graduate Humanities Department of Kyushu University this past April, Streifer has been waiting since then to find out when she can enter Japan. Stuck in her native France, she has been taking online classes in hopes of being able to get to Japan.\n",
       "\n",
       "“The situation has taken quite a toll on me,” she says. “I had already quit my job and am past the period where you can apply for jobs in my region. I have virtually no income since April as the MEXT scholarship stipends are only for those who are in Japan, regardless of whether you take online classes or not.”\n",
       "\n",
       "As a result of the stress, she has experienced health problems including nosebleeds, insomnia, and paralysis of her arm.\n",
       "\n",
       "To make matters worse, Streifer reports that “communication has been near nonexistent. We do not have direct contact with MEXT as it always goes through our embassy, and we honestly did not get much guidance or information, as they mostly told us they were left in the dark just like the rest of us.”"
      ],
      "text/plain": [
       "<IPython.core.display.HTML object>"
      ]
     },
     "metadata": {},
     "output_type": "display_data"
    },
    {
     "data": {
      "text/html": [
       "<br><br>"
      ],
      "text/plain": [
       "<IPython.core.display.HTML object>"
      ]
     },
     "metadata": {},
     "output_type": "display_data"
    }
   ],
   "source": [
    "# view false negatives\n",
    "\n",
    "false_negative = (predicted == False) & (labels == True)\n",
    "\n",
    "for index, row in df_test[false_negative].head(10).iterrows():\n",
    "    display(HTML(markup(html.escape(row['text']))))\n",
    "    display(HTML('<br><br>'))"
   ]
  },
  {
   "cell_type": "markdown",
   "metadata": {},
   "source": [
    "### Keyword model "
   ]
  },
  {
   "cell_type": "code",
   "execution_count": 16,
   "metadata": {
    "tags": []
   },
   "outputs": [],
   "source": [
    "def count_keywords(df, columns, keywords):\n",
    "    for keyword in keywords:\n",
    "        \n",
    "        def count_keyword(string):\n",
    "            return sum(\n",
    "                keyword in word\n",
    "                for word in string.lower().split()\n",
    "            )\n",
    "\n",
    "        df[keyword] = df[columns].applymap(count_keyword).sum(axis=1)\n",
    "        \n",
    "    return df\n",
    "\n",
    "\n",
    "def train_classifiers(classifiers, x,y, debug=False):\n",
    "    for cls in classifiers:\n",
    "        if debug: print(type(cls).__name__ + \"... \",end=\"\")\n",
    "        cls.fit(x,y)\n",
    "        if debug: print(\"done\")"
   ]
  },
  {
   "cell_type": "code",
   "execution_count": 17,
   "metadata": {
    "tags": []
   },
   "outputs": [],
   "source": [
    "def plot_confusion_matrices(classifiers, x,y,title=\"\",normalize=None, nrows = 1):\n",
    "    ncols = math.ceil(len(classifiers)/nrows)\n",
    "    fig, axes = plt.subplots(nrows=nrows, ncols = ncols, figsize=(ncols*5,nrows*3.7))\n",
    "    for cls, ax in zip(classifiers, axes.flatten()):\n",
    "        plot_confusion_matrix(\n",
    "            cls,\n",
    "            x, \n",
    "            y,\n",
    "            ax=ax, \n",
    "            cmap='Blues',\n",
    "            normalize=normalize,\n",
    "            display_labels=['Not COVID', 'COVID'],\n",
    "        )\n",
    "        ax.title.set_text(type(cls).__name__)\n",
    "    fig.suptitle(title, fontsize='xx-large',ha='left')\n",
    "    plt.tight_layout()  \n",
    "    plt.show()"
   ]
  },
  {
   "cell_type": "code",
   "execution_count": 18,
   "metadata": {},
   "outputs": [],
   "source": [
    "article_keywords = [\n",
    "    'covid',\n",
    "    'corona',\n",
    "    'pandem',\n",
    "    'epidem',\n",
    "    'mask',\n",
    "    'quarant',\n",
    "    'vaccine',\n",
    "]\n",
    "\n",
    "classifiers = [\n",
    "    LogisticRegression(),\n",
    "    DecisionTreeClassifier(),\n",
    "    RandomForestClassifier(),\n",
    "    GradientBoostingClassifier(),\n",
    "]"
   ]
  },
  {
   "cell_type": "code",
   "execution_count": 19,
   "metadata": {},
   "outputs": [
    {
     "data": {
      "image/png": "[encoded data removed]",
      "text/plain": [
       "<Figure size 1440x266.4 with 8 Axes>"
      ]
     },
     "metadata": {
      "needs_background": "light"
     },
     "output_type": "display_data"
    },
    {
     "data": {
      "image/png": "[encoded data removed]",
      "text/plain": [
       "<Figure size 1440x266.4 with 8 Axes>"
      ]
     },
     "metadata": {
      "needs_background": "light"
     },
     "output_type": "display_data"
    }
   ],
   "source": [
    "df_train = count_keywords(df_train, content_columns, article_keywords)\n",
    "df_test = count_keywords(df_test, content_columns, article_keywords)\n",
    "\n",
    "\n",
    "x_train = df_train[article_keywords]\n",
    "y_train = df_train[label]\n",
    "\n",
    "x_test = df_test[article_keywords]\n",
    "y_test = df_test[label]\n",
    "\n",
    "train_classifiers(classifiers, x_train, y_train)\n",
    "\n",
    "plot_confusion_matrices(classifiers, x_train, y_train, title=\"TRAIN\", normalize='true')\n",
    "plot_confusion_matrices(classifiers, x_test, y_test, title=\"TEST\", normalize='true')"
   ]
  },
  {
   "cell_type": "code",
   "execution_count": 20,
   "metadata": {},
   "outputs": [
    {
     "name": "stdout",
     "output_type": "stream",
     "text": [
      "LogisticRegression()\n"
     ]
    },
    {
     "data": {
      "text/html": [
       "Text Size: A- A+\n",
       "\n",
       "What we in Iran — the target of a vicious and indiscriminate sanctions regime — have seen from the current US administration is quite straightforward: there is no grand vision for an alternative global community. The US’ fickleness and unpredictability have nothing to do with masterful implementation of game theory. Rather whether it comes to its (mis)management of Covid-19 at home or its undermining of peace and stability abroad, the current regime in Washington has no real plan except to frontally assault those who stand by the rule of law.\n",
       "\n",
       "The US handling of UN Security Council Resolution 2231, which endorsed — and is inseparable from — the Joint Comprehensive Plan of Action (JCPOA), commonly known as the Iran nuclear deal, is a case in point.\n",
       "\n",
       "In July 2015, Iran, the United States, Russia, China, Britain, France and Germany signed a landmark agreement to satisfy any concerns over the exclusively peaceful nature of our nuclear program while relieving the Iranian people of inhumane and unjust sanctions. As part of the JCPOA, the US and other signatories also jointly co-sponsored UN Security Council Resolution 2231, which embraces the nuclear deal — and to which its full 90 pages are attached, thus enshrining the accord into international law.\n",
       "\n",
       "However, in May of 2018, the US administration declared that it had unilaterally opted for “ceasing participation” in the JCPOA. Since then, Iran and the rest of the international community have been left in the extraordinary position of watching the US become the first government in UN history that not just violates a binding resolution it itself sponsored, but also punish those governments and companies that uphold international law by implementing its provisions.\n",
       "\n",
       "As I warned the Security Council last month, this status quo is neither desirable nor sustainable. We are thus at a crossroads.\n",
       "\n",
       "Also read: The US can’t have it both ways over Iran\n",
       "\n",
       "The ‘might makes right’ standard\n",
       "\n",
       "The US administration’s disinformation campaign — including false and forged claims regarding a regional consensus — about the consequences of the remaining signatories to the JCPOA upholding the deal’s provisions, including normalising Iran’s defence cooperation with the world in October, is a ruse to disguise its real, more malevolent motivations: having failed to collapse Resolution 2231 after over two years of the most brutal “maximum pressure” ever imposed on a nation — including depriving ordinary Iranians of access to medicines and medical equipment amid the deadliest <span style=\"background-color: #ffd1d1\"><b>pandem</b></span>ic the world has seen in many decades — the US now hopes to abuse its mal-interpretation of the provisions of the same resolution it abandoned in 2018 to finally destroy it. This deeply malicious US behaviour is evident throughout the UN, where it seeks to use the UN itself to effectively destroy the world body.\n",
       "\n",
       "We are deeply grateful to our readers &amp; viewers for their time, trust and subscriptions. Quality journalism is expensive and needs readers to pay for it. Your support will define our work and ThePrint’s future. SUBSCRIBE NOW\n",
       "\n",
       "There are several key issues and consequences to consider in this equation.\n",
       "\n",
       "First and foremost, one may wonder why or how the collapse of a single UN Security Council resolution on a niche subject relates to the bigger picture. It does, for most notably it would be a generational setback for the cause of multilateralism should the Security Council be bullied into torpedoing its own resolution. Unless all powers respect the principles which the Council was created to embody, it cannot perform its duties, nor can any nation acknowledge its authority.\n",
       "\n",
       "We should not forget that the same US regime has fatuously also withdrawn from the WHO amid the worst global <span style=\"background-color: #ffd1d1\"><b>pandem</b></span>ic, but now seeks to lead the WHO reform process, to the chagrin of its closest Western allies.\n",
       "\n",
       "If the US is allowed to continue on this path, the world will slide backwards toward a ‘might makes right’ standard. And while this may sound appealing to Cold Warriors looking for new targets, even that standard has its limits. For both superpowers of the past century witnessed the unraveling of their international influence in their military defeat in Afghanistan, a country with a GDP that is 14 times smaller than Apple Inc.’s annual revenue.\n",
       "\n",
       "Also read: Why the US will not be able to win support of allies for another confrontation with Iran\n",
       "\n",
       "Attempts to replace international law with domestic law\n",
       "\n",
       "We have also seen in past years how the US administration has — in parallel with its assault on international institutions and accords — sought to supplant international law with its own domestic laws. In practice, this has meant that it is now the US Treasury and not European national governments which decides with whom European companies can do business — be it under Resolution 2231 or their own North Stream gas lifeline.\n",
       "\n",
       "While it has so far primarily been the US that has sought to expand the jurisdiction of its domestic laws, there is nothing to suggest that it will retain a monopoly on it. With the opening of this Pandora’s box and with complacency on the part of some national governments, it is not difficult to imagine a future where ordinary citizens and private enterprises alike may end up having to contend with the extra-territorial application of multiple and growing series of domestic laws — debilitating international travel, trade and investment in a retrograde step for our globalised world.\n",
       "\n",
       "Thus, the international community in general — and the UN Security Council in particular face an important decision: do we maintain respect for the rule of law, or do we return to the law of the jungle?\n",
       "\n",
       "While Iran has proven its resilience and decisive response to coercive bullying, I am confident that — in the next few critical weeks and months — members of the Security Council will refute the campaign struggle of a beleaguered US administration to turn what was the diplomatic achievement of the 21st Century into an exercise in futility, and in the process annihilate what is left of multilateralism and international law.\n",
       "\n",
       "(Mohammad Javad Zarif is the Iran foreign minister. Views are personal)\n",
       "\n",
       "Also read: ‘He’ll be okay’ — An unsympathetic Trump said about Modi after Iran oil sanctions\n",
       "\n",
       "Subscribe to our channels on YouTube &amp; Telegram\n",
       "\n",
       "News media is in a crisis &amp; only you can fix it You are reading this because you value good, intelligent and objective journalism. We thank you for your time and your trust. You also know that the news media is facing an unprecedented crisis. It is likely that you are also hearing of the brutal layoffs and pay-cuts hitting the industry. There are many reasons why the media’s economics is broken. But a big one is that good people are not yet paying enough for good journalism. We have a newsroom filled with talented young reporters. We also have the country’s most robust editing and fact-checking team, finest news photographers and video professionals. We are building India’s most ambitious and energetic news platform. And we aren’t even three yet. At ThePrint, we invest in quality journalists. We pay them fairly and on time even in this difficult period. As you may have noticed, we do not flinch from spending whatever it takes to make sure our reporters reach where the story is. Our stellar <span style=\"background-color: #ffd1d1\"><b>corona</b></span>virus coverage is a good example. You can check some of it here. This comes with a sizable cost. For us to continue bringing quality journalism, we need readers like you to pay for it. Because the advertising market is broken too. If you think we deserve your support, do join us in this endeavour to strengthen fair, free, courageous, and questioning journalism, please click on the link below. Your support will define our journalism, and ThePrint’s future. It will take just a few seconds of your time. Support Our Journalism\n",
       "\n",
       "Show Full Article"
      ],
      "text/plain": [
       "<IPython.core.display.HTML object>"
      ]
     },
     "metadata": {},
     "output_type": "display_data"
    },
    {
     "data": {
      "text/html": [
       "<br><br>"
      ],
      "text/plain": [
       "<IPython.core.display.HTML object>"
      ]
     },
     "metadata": {},
     "output_type": "display_data"
    },
    {
     "data": {
      "text/html": [
       "THE SISTER of slain tech CEO Fahim Saleh has spoken of her family’s “piercing pain” after his gruesome decapitation.\n",
       "\n",
       "Ruby Angela Saleh reveals in a letter that funeral directors had to sew his head and limbs back onto his body for the service.\n",
       "\n",
       "Saleh, the CEO of the Nigerian ride-hailing motorcycle app Gokada, was found dead in his New York City apartment last month after his former assistant, 21-year-old Tyrese Haspil, allegedly decapitated him.\n",
       "\n",
       "9 Fahim Saleh, left, with sisters Ruby and Rif\n",
       "\n",
       "9 Fahim Saleh and members of his family in an undated Facebook photo Credit: Facebook/Jay Ce\n",
       "\n",
       "9 Fahim Saleh, center, with sisters Ruby Saleh, right, and Rif Saleh, second-right Credit: Facebook/Jay Ce\n",
       "\n",
       "Ruby, who organized her brother’s funeral, wrote in the Medium post that the funeral home called three days before his burial to say that his limbs and head would not be able to be reattached.\n",
       "\n",
       "“Upon receiving that news, I closed my eyes and crossed my arms over my chest like a Pharaoh, squeezing my phone against my body. My hands formed fists that I pushed into my heart with all my strength to contain my pain,&quot; she wrote.\n",
       "\n",
       "Ruby said she requested funeral directors arrange his body parts in their proper places within the casket for the viewing.\n",
       "\n",
       "Luckily, the man called back a day before the burial with good news – her brother&#x27;s body had been reassembled.\n",
       "\n",
       "9 Ruby Saleh also uploaded a video and said her family want justice\n",
       "\n",
       "“My family and I looked at our sweet boy’s face in the casket. He seemed to be sleeping peacefully. His body was covered in a white sheet, ice packs placed on his torso, his beautiful eyelashes long and lustrous against his skin,” Ruby wrote.\n",
       "\n",
       "She revealed that she first heard about her brother&#x27;s death when her aunt called at 10:47 p.m. on July 14 while Ruby was in bed with her husband.\n",
       "\n",
       "“My shoulders stiffened while the rest of my body went limp. Maybe one of my parents had <span style=\"background-color: #ffd1d1\"><b>COVID</b></span>?” Saleh recounted.\n",
       "\n",
       "She said that when her aunt gave the horrific news, the “words didn’t make sense.”\n",
       "\n",
       "9 Fahim Saleh was found butchered in his Lower East Side apartment Credit: Instagram\n",
       "\n",
       "9 A view of the outside of Fahim Saleh&#x27;s apartment where he was found brutally murdered Credit: AP:Associated Press\n",
       "\n",
       "“I dropped the phone and crawled onto the wooden floor, touching its cold, hard surface with the palms of my hands,” Ruby said in the tear-jerking letter.\n",
       "\n",
       "She also revealed that her brother&#x27;s dismembered torso had been found by their cousin, named as “A,” after the family hadn’t heard from him in a while.\n",
       "\n",
       "“Someone had cut my brother’s body into pieces and tossed the pieces into a garbage bag, as if his life, his body, his existence had had no meaning or value,” Ruby wrote.\n",
       "\n",
       "The heartbroken sister, who wrote that she “felt more like a mother to Fahim,” added that the family tried to keep as much of the tragic news from her parents as possible including the moments his lifeless body had to be identified with authorities.\n",
       "\n",
       "9 Tyrese Devon Haspil, 21, is accused of beheading Fahim Saleh Credit: Twitter\n",
       "\n",
       "9 Tyrese Haspil, the suspect in the murder of Fahim Saleh, is escorted by police Credit: Reuters\n",
       "\n",
       "The funeral home had called Ruby to tell her that because of the <span style=\"background-color: #ffd1d1\"><b>corona</b></span>virus <span style=\"background-color: #ffd1d1\"><b>pandem</b></span>ic, Fahim’s body would have to be identified by photo.\n",
       "\n",
       "Ruby, her sister and cousin gathered around their computer to open the email attachment.\n",
       "\n",
       "&quot;I felt nauseated,&quot; she wrote.\n",
       "\n",
       "“My father heard our cries and knocked on the door, asking what was going on. We quickly shut the computer, wiped our faces, and told him we were fine.&quot;\n",
       "\n",
       "“We could never tell him what we had seen.”\n",
       "\n",
       "Ruby said that since his death, their father, an immigrant from Bangladesh, spends his days sitting next to Fahim’s dog Laila while watching videos about his son while her mom spends the day crying.\n",
       "\n",
       "In a new video, Ruby cries as she says: &quot;It doesn&#x27;t feel like life can ever be joyful again.&quot;\n",
       "\n",
       "&quot;My last ask is, if you’re someone’s sister, the next time you see your brother please hug him as tightly as you can for as long as you want because that’s all I want to do,&quot; she says in the video.\n",
       "\n",
       "&quot;But I’ll never be able to hug Fahim again.&quot;\n",
       "\n",
       "Ruby said her family will do everything in its power to keep Fahim&#x27;s memory alive &quot;and keep his visions going.&quot;\n",
       "\n",
       "&quot;My family and I are in such shock and debilitating pain.&quot;\n",
       "\n",
       "9 Fahim Saleh with sister Rif Credit: Facebook/Jay Ce\n",
       "\n",
       "“Thanksgiving, our family’s favorite holiday, will be especially difficult this year. Fahim always made the garlic mashed potatoes, while I made the stuffing and my sister made her famous mac and cheese,” she recounted.\n",
       "\n",
       "Ruby wrote that her brother’s brain “was a bottomless magic hat of ideas” that helped ease the family’s financial burden after their father was forced to retire from his job as a computer programmer.\n",
       "\n",
       "“Having come from so little, Fahim had zero interest in being a rich entrepreneur who only hung out with other rich entrepreneurs. His heart was most open to those in need,” she wrote.\n",
       "\n",
       "Most read in News SICK VID Calls for Rick &amp; Morty to be AXED over vid of creator pretending to rape baby doll FACING JUSTICE Husband &#x27;bludgeoned his secret porn-star wife to death with absinthe bottle&#x27; DESPERATE Thousands of cars form line for Dallas food bank amid virus unemployment crisis WILD CLAIMS Trump saw ‘golden showers in sex club’ &amp; ‘cheated in election’, Cohen claims TIKTOK SELL-OFF Trump orders TikTok&#x27;s Chinese owners to sell off US operations in 90 days &#x27;SCARFACE&#x27; Harry &amp; Meg&#x27;s $14m home was owned by Russian tycoon &#x27;who threatened to chop ex&#x27;\n",
       "\n",
       "Haspil has since pleaded not guilty in Fahim&#x27;s murder – even after video emerged showing the personal assistant buying a saw that authorities believed was used to butcher him.\n",
       "\n",
       "His aunt Marjorie Sine described her nephew as &quot;sometimes troublesome&quot; and revealed he had a &quot;difficult childhood&quot;.\n",
       "\n",
       "Court records show that Haspil is being defended by Legal Aid lawyers and is scheduled to appear in court again on Aug. 19."
      ],
      "text/plain": [
       "<IPython.core.display.HTML object>"
      ]
     },
     "metadata": {},
     "output_type": "display_data"
    },
    {
     "data": {
      "text/html": [
       "<br><br>"
      ],
      "text/plain": [
       "<IPython.core.display.HTML object>"
      ]
     },
     "metadata": {},
     "output_type": "display_data"
    },
    {
     "data": {
      "text/html": [
       "Political traditions\n",
       "\n",
       "It has been a tradition of the French Fifth Republic, whose 42nd government in just 62 years was established in early July, that when things are going badly for a president, the scapegoat is his prime minister. Indeed, there has been such an inevitability to this sequence of events over the years that one begins to wonder why anyone takes the job. To be booted out for your own incompetence is something many officials can just about reconcile themselves to, at least eventually; to be fired on account of somebody else’s, even in the ultra-cynical world of politics, is a bitter business indeed.\n",
       "\n",
       "It takes an arrogant, or supremely self-confident, president to ignore this tradition, and not to use the opportunity presented by a reshuffle to look tough and innovative by putting in a new man or woman as managing director to your own chief executive. Nicolas Sarkozy, inevitably, was one such man. He kept the same prime minister for the whole of his quinquennat, even though he and that man often had a combustible relationship, and the latter now and again threatened to walk out.\n",
       "\n",
       "Also, his prime minister was often more popular than he was, gave the impression of being more competent and even, most of the time, being more honest. Ironically, as many of you will recall, that prime minister was François Fillon, who now awaits the judgment of France’s court of appeal before discovering whether or not he will soon gain first-hand experience of the country’s penal system. However, it is doubtful Sarko would have won had he changed that particular horse in mid-stream: his presidency, not least because of his often emetic character, was flawed beyond rescue by any mere prime minister.\n",
       "\n",
       "François Hollande, however, reinstituted the tradition, getting through three premiers in his five chaotic years in the Elysée Palace; and just over three years into his presidency Emmanuel Macron too has succumbed, replacing Edouard Philippe with Jean Castex. M Philippe returns to Le Havre as mayor, the post he held for seven years before going to Matignon.\n",
       "\n",
       "He did the best possible job he could as prime minister, faced with a president whose idealist approach to politics turned out to be easier to execute in theory than in practice, and who was forced into various compromises, U-turns and even the occasional unwelcome act of coercion, forcing measures through the legislature that it was otherwise determined not to pass.\n",
       "\n",
       "French PM announces new crime-fighting measures\n",
       "\n",
       "An overhaul brewing\n",
       "\n",
       "M Macron’s pop-up party of 2017, La République en Marche, has in recent months haemorrhaged not only notional support in the country, as governments do in mid-term, but has also lost support in the Assemblée Nationale. Even more worrying for M. Macron will have been the suggestion that M. Philippe, a more technocratic figure, with more charm than that label suggests but without a personality cult, was more widely liked by French voters than the president was. In such circumstances but one course of action was feasible: M Philippe had to go. This had been brewing for months; M Philippe signalled his intention to contest the Le Havre mayoralty at the end of January.\n",
       "\n",
       "M Castex is a different proposition. Like his predecessor his roots are on the right, as a former member of Les Républicains, which will only confirm the suspicions many LREM activists harbour that M Macron is determined to move his party in that direction, either pushing Les Républicains so far to the right themselves that they become unelectable, or replacing that party altogether. In French politics, such things are easily possible.\n",
       "\n",
       "M Castex, as his surname might suggest, is a Catalan, and from the opposite end of the Hexagon to M Philippe: for 12 years before his elevation he was Mayor of Prades, just inland from Perpignan, a few miles from the Spanish border; he was born in the deep south, but much further east, at Vic-Fezensac, not far from Pau.\n",
       "\n",
       "M Castex has had a distinguished bureaucratic career that began in the nurseries of Sciences-Po and ENA; he served as a ministerial chief of staff during the Sarkozy years and was called in during April by M Macron to design France’s programme to get out of <span style=\"background-color: #ffd1d1\"><b>lockdown</b></span> after the Covid-19 crisis – a responsibility that, if France endures a second spike of the disease, could yet come back to haunt him.\n",
       "\n",
       "But M Castex landed that job because he was regarded as a safe pair of hands; and for the same reason he became prime minister. Charisma, at least in his interface with the general public, does not appear to be his strong suit. He has a long civil service background – he sat for the years on the Cour des Comptes, or Court of Audit, examining the efficiency of government departments, and even if he is dull he is far from stupid or inexperienced. What he will not do is distract attention, in the run-up to the 2022 election, from a president seeking re-election; but M Macron hope to be able to rely on him to keep matters in government under control while he seeks a second mandate.\n",
       "\n",
       "French politics explained: which party is the &#x27;Opposition&#x27; in current politics?\n",
       "\n",
       "Covid-19-induced economic crisis\n",
       "\n",
       "That, though, is likely to be a tall order. Because of the Covid-19 <span style=\"background-color: #ffd1d1\"><b>pandem</b></span>ic France faces its worst economic crisis since the Fourth Republic, and quite possibly since the Third. Some very hard decisions will have to be taken about public spending that are likely to compound the sense of despair and bewilderment brought on by private sector job losses.\n",
       "\n",
       "It remains to be seen whether an ultra-technocrat such as M Castex has the political skill to present such unpleasant news to the people of France without destabilising M Macron. With Rachida Dati now circling and Marine Le Pen increasingly vocal, the fight in 2022 promises to be less predictable than many have thought. M Castex may find the task ahead beyond even his indubitable level of competence."
      ],
      "text/plain": [
       "<IPython.core.display.HTML object>"
      ]
     },
     "metadata": {},
     "output_type": "display_data"
    },
    {
     "data": {
      "text/html": [
       "<br><br>"
      ],
      "text/plain": [
       "<IPython.core.display.HTML object>"
      ]
     },
     "metadata": {},
     "output_type": "display_data"
    },
    {
     "name": "stdout",
     "output_type": "stream",
     "text": [
      "DecisionTreeClassifier()\n"
     ]
    },
    {
     "data": {
      "text/html": [
       "By MarketsFarm\n",
       "\n",
       "WINNIPEG, Aug. 14 (MarketsFarm) – The following is a glance at the news moving markets in Canada and globally.\n",
       "\n",
       "– In a major breakthrough, Israel and the United Arab Emirates agreed to normalize relations between the two Middle East countries on Thursday, in a deal brokered by the United States. To achieve the historic understanding, Israel would halt plans to annex the highly strategic Golan Heights. The two countries will co-operate on energy, water and environmental issues, as well working jointly on a <span style=\"background-color: #ffd1d1\"><b>COVID</b></span>-19 <span style=\"background-color: #ffd1d1\"><b>vaccine</b></span>. Reports stated the UAE was willing to make such a dramatic move out of concerns over Iran’s increasing influence in the region. Iran, Turkey and the Palestinian Authority denounced the deal, with Oman, Bahrain, and Egypt were among the dozens of countries that voiced their support. Israel has maintained peace agreements with Egypt since 1979 and Jordan since 1994.\n",
       "\n",
       "ADVERTISEMENT\n",
       "\n",
       "– Ahead of the next round of extradition hearings beginning on Aug. 17 in Vancouver, lawyers for Huawei executive Meng Wanzhou said on Friday that they are seeking access to hundreds of confidential documents. Meng’s defence contends there was an abuse of process during her December 2018 arrest, alleging there was a “co-ordinated state misconduct” between Canadian and U.S. officials. Earlier this year Canadian officials turned over 400 pages of documents, of which many contained redactions. The Canadian government said divulging all of the information would have violated confidentiality agreements with clients and third parties. The U.S. is seeking to extradite Meng to face charges regarding bank fraud.\n",
       "\n",
       "– Reports stated on Friday that the U.S. seized four tankers bound for Venezuela in May and July that were allegedly transporting 1.1 million barrels of gasoline from Iran. However, Iran denounced the allegations as being U.S. propaganda and said the tankers were not Iranian. Despite having some of the largest oil reserves in the world, Venezuela lacks the refining capacity to supply its own fuel needs. Sanctions imposed by the U.S. against Venezuela have made it difficult for the country to earn revenue from oil exports."
      ],
      "text/plain": [
       "<IPython.core.display.HTML object>"
      ]
     },
     "metadata": {},
     "output_type": "display_data"
    },
    {
     "data": {
      "text/html": [
       "<br><br>"
      ],
      "text/plain": [
       "<IPython.core.display.HTML object>"
      ]
     },
     "metadata": {},
     "output_type": "display_data"
    },
    {
     "data": {
      "text/html": [
       "THE SISTER of slain tech CEO Fahim Saleh has spoken of her family’s “piercing pain” after his gruesome decapitation.\n",
       "\n",
       "Ruby Angela Saleh reveals in a letter that funeral directors had to sew his head and limbs back onto his body for the service.\n",
       "\n",
       "Saleh, the CEO of the Nigerian ride-hailing motorcycle app Gokada, was found dead in his New York City apartment last month after his former assistant, 21-year-old Tyrese Haspil, allegedly decapitated him.\n",
       "\n",
       "9 Fahim Saleh, left, with sisters Ruby and Rif\n",
       "\n",
       "9 Fahim Saleh and members of his family in an undated Facebook photo Credit: Facebook/Jay Ce\n",
       "\n",
       "9 Fahim Saleh, center, with sisters Ruby Saleh, right, and Rif Saleh, second-right Credit: Facebook/Jay Ce\n",
       "\n",
       "Ruby, who organized her brother’s funeral, wrote in the Medium post that the funeral home called three days before his burial to say that his limbs and head would not be able to be reattached.\n",
       "\n",
       "“Upon receiving that news, I closed my eyes and crossed my arms over my chest like a Pharaoh, squeezing my phone against my body. My hands formed fists that I pushed into my heart with all my strength to contain my pain,&quot; she wrote.\n",
       "\n",
       "Ruby said she requested funeral directors arrange his body parts in their proper places within the casket for the viewing.\n",
       "\n",
       "Luckily, the man called back a day before the burial with good news – her brother&#x27;s body had been reassembled.\n",
       "\n",
       "9 Ruby Saleh also uploaded a video and said her family want justice\n",
       "\n",
       "“My family and I looked at our sweet boy’s face in the casket. He seemed to be sleeping peacefully. His body was covered in a white sheet, ice packs placed on his torso, his beautiful eyelashes long and lustrous against his skin,” Ruby wrote.\n",
       "\n",
       "She revealed that she first heard about her brother&#x27;s death when her aunt called at 10:47 p.m. on July 14 while Ruby was in bed with her husband.\n",
       "\n",
       "“My shoulders stiffened while the rest of my body went limp. Maybe one of my parents had <span style=\"background-color: #ffd1d1\"><b>COVID</b></span>?” Saleh recounted.\n",
       "\n",
       "She said that when her aunt gave the horrific news, the “words didn’t make sense.”\n",
       "\n",
       "9 Fahim Saleh was found butchered in his Lower East Side apartment Credit: Instagram\n",
       "\n",
       "9 A view of the outside of Fahim Saleh&#x27;s apartment where he was found brutally murdered Credit: AP:Associated Press\n",
       "\n",
       "“I dropped the phone and crawled onto the wooden floor, touching its cold, hard surface with the palms of my hands,” Ruby said in the tear-jerking letter.\n",
       "\n",
       "She also revealed that her brother&#x27;s dismembered torso had been found by their cousin, named as “A,” after the family hadn’t heard from him in a while.\n",
       "\n",
       "“Someone had cut my brother’s body into pieces and tossed the pieces into a garbage bag, as if his life, his body, his existence had had no meaning or value,” Ruby wrote.\n",
       "\n",
       "The heartbroken sister, who wrote that she “felt more like a mother to Fahim,” added that the family tried to keep as much of the tragic news from her parents as possible including the moments his lifeless body had to be identified with authorities.\n",
       "\n",
       "9 Tyrese Devon Haspil, 21, is accused of beheading Fahim Saleh Credit: Twitter\n",
       "\n",
       "9 Tyrese Haspil, the suspect in the murder of Fahim Saleh, is escorted by police Credit: Reuters\n",
       "\n",
       "The funeral home had called Ruby to tell her that because of the <span style=\"background-color: #ffd1d1\"><b>corona</b></span>virus <span style=\"background-color: #ffd1d1\"><b>pandem</b></span>ic, Fahim’s body would have to be identified by photo.\n",
       "\n",
       "Ruby, her sister and cousin gathered around their computer to open the email attachment.\n",
       "\n",
       "&quot;I felt nauseated,&quot; she wrote.\n",
       "\n",
       "“My father heard our cries and knocked on the door, asking what was going on. We quickly shut the computer, wiped our faces, and told him we were fine.&quot;\n",
       "\n",
       "“We could never tell him what we had seen.”\n",
       "\n",
       "Ruby said that since his death, their father, an immigrant from Bangladesh, spends his days sitting next to Fahim’s dog Laila while watching videos about his son while her mom spends the day crying.\n",
       "\n",
       "In a new video, Ruby cries as she says: &quot;It doesn&#x27;t feel like life can ever be joyful again.&quot;\n",
       "\n",
       "&quot;My last ask is, if you’re someone’s sister, the next time you see your brother please hug him as tightly as you can for as long as you want because that’s all I want to do,&quot; she says in the video.\n",
       "\n",
       "&quot;But I’ll never be able to hug Fahim again.&quot;\n",
       "\n",
       "Ruby said her family will do everything in its power to keep Fahim&#x27;s memory alive &quot;and keep his visions going.&quot;\n",
       "\n",
       "&quot;My family and I are in such shock and debilitating pain.&quot;\n",
       "\n",
       "9 Fahim Saleh with sister Rif Credit: Facebook/Jay Ce\n",
       "\n",
       "“Thanksgiving, our family’s favorite holiday, will be especially difficult this year. Fahim always made the garlic mashed potatoes, while I made the stuffing and my sister made her famous mac and cheese,” she recounted.\n",
       "\n",
       "Ruby wrote that her brother’s brain “was a bottomless magic hat of ideas” that helped ease the family’s financial burden after their father was forced to retire from his job as a computer programmer.\n",
       "\n",
       "“Having come from so little, Fahim had zero interest in being a rich entrepreneur who only hung out with other rich entrepreneurs. His heart was most open to those in need,” she wrote.\n",
       "\n",
       "Most read in News SICK VID Calls for Rick &amp; Morty to be AXED over vid of creator pretending to rape baby doll FACING JUSTICE Husband &#x27;bludgeoned his secret porn-star wife to death with absinthe bottle&#x27; DESPERATE Thousands of cars form line for Dallas food bank amid virus unemployment crisis WILD CLAIMS Trump saw ‘golden showers in sex club’ &amp; ‘cheated in election’, Cohen claims TIKTOK SELL-OFF Trump orders TikTok&#x27;s Chinese owners to sell off US operations in 90 days &#x27;SCARFACE&#x27; Harry &amp; Meg&#x27;s $14m home was owned by Russian tycoon &#x27;who threatened to chop ex&#x27;\n",
       "\n",
       "Haspil has since pleaded not guilty in Fahim&#x27;s murder – even after video emerged showing the personal assistant buying a saw that authorities believed was used to butcher him.\n",
       "\n",
       "His aunt Marjorie Sine described her nephew as &quot;sometimes troublesome&quot; and revealed he had a &quot;difficult childhood&quot;.\n",
       "\n",
       "Court records show that Haspil is being defended by Legal Aid lawyers and is scheduled to appear in court again on Aug. 19."
      ],
      "text/plain": [
       "<IPython.core.display.HTML object>"
      ]
     },
     "metadata": {},
     "output_type": "display_data"
    },
    {
     "data": {
      "text/html": [
       "<br><br>"
      ],
      "text/plain": [
       "<IPython.core.display.HTML object>"
      ]
     },
     "metadata": {},
     "output_type": "display_data"
    },
    {
     "data": {
      "text/html": [
       "The recognition grants a rare diplomatic win to President Trump ahead of the November election.\n",
       "\n",
       "DUBAI, United Arab Emirates — President Donald Trump said on Thursday that the United Arab Emirates and Israel have agreed to establish full diplomatic ties as part of a deal to halt the annexation of occupied land sought by the Palestinians for their future state.\n",
       "\n",
       "The announcement makes the UAE the first Gulf Arab state to do so and only the third Arab nation to have active diplomatic ties to Israel.\n",
       "\n",
       "Trump tweeted a statement from the countries, acknowledging the deal. He then told reporters in the Oval Office that it was “a truly historic moment.”\n",
       "\n",
       "“Now that the ice has been broken I expect more Arab and Muslim countries will follow the United Arab Emirates,” he said.\n",
       "\n",
       "The recognition grants a rare diplomatic win to Trump ahead of the November election as his efforts to see an end to the war in Afghanistan have yet to come to fruition while efforts to bring peace between Israel and the Palestinians have made no headway. Israel and the UAE also have been among Trump&#x27;s closest foreign allies.\n",
       "\n",
       "For Israel, the announcement comes after years of boasting by Israeli Prime Minister Benjamin Netanyahu that his government enjoys closer ties to Arab nations than publicly acknowledged. Netanyahu has sought to build settlements on lands sought by the Palestinians and embraced a Trump proposal that would allow him to annex large parts of the occupied West Bank while granting Palestinians limited autonomy in other areas.\n",
       "\n",
       "For the UAE, home to skyscraper-studded Dubai and the rolling, oil-rich sand dunes of Abu Dhabi, it further burnishes its international campaign to be seen as a beacon of tolerance in the Middle East despite being governed by autocratic rulers. It also puts the UAE out first in a regional recognition race among neighboring Gulf Arab states.\n",
       "\n",
       "And for the Palestinians, who long have relied on Arab backing in their struggle for independence, the announcement marked both a win and setback. While Thursday&#x27;s deal halts Israeli annexation plans, the Palestinians have repeatedly urged Arab governments not to normalize relations with Israel until a peace agreement establishing an independent Palestinian state is reached.\n",
       "\n",
       "“Israel got rewarded for not declaring openly what it’s been doing to Palestine illegally &amp; persistently since the beginning of the occupation,” senior Palestinian official Hanan Ashrawi wrote on Twitter. She also said the UAE has come forward with its “secret dealings/normalization with Israel.”\n",
       "\n",
       "“Please don’t do us a favor. We are nobody’s fig leaf!” she wrote.\n",
       "\n",
       "The militant group Hamas, which controls the Gaza Strip, called the deal by the Emiratis &quot;a stabbing in the back of our people.”\n",
       "\n",
       "The joint statement from the U.S., the UAE and Israel said delegations would meet in the coming weeks to sign deals on direct flights, security, telecommunications, energy, tourism and health care. The two countries also will partner on fighting the <span style=\"background-color: #ffd1d1\"><b>corona</b></span>virus <span style=\"background-color: #ffd1d1\"><b>pandem</b></span>ic.\n",
       "\n",
       "Joint Statement of the United States, the State of Israel, and the United Arab Emirates pic.twitter.com/oVyjLxf0jd — Donald J. Trump (@realDonaldTrump) August 13, 2020\n",
       "\n",
       "“Opening direct ties between two of the Middle East&#x27;s most dynamic societies and advanced economics will transform the region by spurring economic growth, enhancing technological innovation and forging closer people-to-people relations,” said the statement by Trump, Netanyahu and Abu Dhabi Crown Prince Mohammed bin Zayed Al Nahyan, the day-to-day ruler of the UAE. It said the leaders had a three-way call discussing the deal.\n",
       "\n",
       "U.S. Secretary of State Mike Pompeo praised the deal.\n",
       "\n",
       "“This is a remarkable achievement for two of the world’s most forward leaning, technologically advanced states, and reflects their shared regional vision of an economically integrated region,” he said in a statement. “It also illustrates their commitment to confronting common threats, as small — but strong — nations.”\n",
       "\n",
       "He added: &quot;Blessed are the peacemakers. Mabruk and Mazal Tov.”\n",
       "\n",
       "Netanyahu tweeted an Israeli flag with a short message in Hebrew: “Historic Day.”\n",
       "\n",
       "Among Arab nations, only Egypt and Jordan have active diplomatic ties with Israel. Egypt made a peace deal with Israel in 1979, followed by Jordan in 1994. Mauritania recognized Israel in 1999, but later ended relations in 2009 over the Israel’s war in Gaza at the time.\n",
       "\n",
       "In addition to Trump, the main U.S. mediators for agreement were the president’s senior advisor and son-in-law Jared Kushner, special Mideast envoy Avi Berkowitz and David Friedman, the U.S. ambassador to Israel.\n",
       "\n",
       "The UAE is a U.S.-allied federation of seven sheikhdoms on the Arabian Peninsula. Formed in 1971, the country like other Arab nations at the time did not recognize Israel over its occupation of land home to the Palestinians.\n",
       "\n",
       "“Arab oil is not dearer than Arab blood,” the UAE’s founding ruler, Sheikh Zayed bin Sultan Al Nahyan, once pronounced when agreeing to an oil boycott over U.S. military support to Israel in the 1973 Mideast war.\n",
       "\n",
       "The UAE relied on white-collar Palestinians in creating its nation. Over time, it maintained its stance that Israel allow the creation of a Palestinian state on land it seized in the 1967 war.\n",
       "\n",
       "But in recent years, ties between Gulf Arab nations and Israel have quietly grown, in part over their shared enmity of Iran and the Lebanese militant group Hezbollah. Prince Mohammed also shares Israel’s distrust of Islamist groups like the Muslim Brotherhood and the militant group Hamas that holds the Gaza Strip.\n",
       "\n",
       "The UAE&#x27;s state-run WAM news agency acknowledged the deal, framing it as not just a move that helps the UAE and Israel, but one that also carries benefits for the Palestinians. Top Emirati official Anwar Gargash said the move dealt a “death blow” to moves by Israel to annex Palestinian lands.\n",
       "\n",
       "It remains unclear what prompted Israel and the UAE to make the announcement now. In June, the United Arab Emirates’ ambassador to the U.S. warned in an Israeli newspaper op-ed that Israel’s planned annexing the Jordan Valley and other parts of the occupied West Bank would “upend” Israel’s efforts to improve ties with Arab nations.\n",
       "\n",
       "The agreement gives Netanyahu a domestic boost at a time when Israel’s shaky coalition government is plagued by infighting and facing the possibility of early elections in the coming months. Netanyahu has seen his popularity plummet as the country grapples with a renewed <span style=\"background-color: #ffd1d1\"><b>corona</b></span>virus outbreak and skyrocketing unemployment as the result of earlier <span style=\"background-color: #ffd1d1\"><b>lockdown</b></span> measures.\n",
       "\n",
       "Netanyahu also delivered a valuable diplomatic achievement to his good friend, Trump, ahead of U.S. elections.\n",
       "\n",
       "Still, by dropping the annexation plan Netanyahu may be hedging his bets ahead of a possible change in the White House. Joe Biden, the presumptive Democratic nominee, has made clear that he would oppose any moves by Israel to unilaterally redraw the Mideast map and annex lands sought by the Palestinians.\n",
       "\n",
       "Netanyahu also risked criticism inside his own hard-line Likud Party, whose members strongly supported annexation. Netanyahu appears to be betting that Likud members — and the small, but influential settler movement — will agree the peace agreement delivers more benefits than unilateral annexation. Opinion polls have shown that annexation is not a high priority for the vast majority of the Israeli public.\n",
       "\n",
       "Abandoning its annexation plan changes little on the ground. Israel already holds overall control of the West Bank and continues to expand its settlements there, while granting the Palestinians autonomy in a series of disconnected enclaves. Some 500,000 Israelis now live in the rapidly expanding West Bank settlements.\n",
       "\n",
       "Next year, Israel will take part in the UAE’s delayed Expo 2020, the world’s fair being hosted by Dubai. A secret synagogue also draws practicing Jews in Dubai. The UAE also has announced plans to build the Abrahamic Family House in Abu Dhabi, which will house a mosque, a church and a synagogue.\n",
       "\n",
       "Israelis traveling with Western passports routinely enter the UAE without a problem, though one still can’t make a phone call between the two countries. Israelis also work in Dubai’s gold and diamond trade as well.\n",
       "\n",
       "Emirati officials also have allowed Israeli officials to visit and the Israeli national anthem was played after an athlete won gold in an Abu Dhabi judo tournament. Israel also has a small mission representing its interests at the International Renewable Energy Agency in Abu Dhabi.\n",
       "\n",
       "___"
      ],
      "text/plain": [
       "<IPython.core.display.HTML object>"
      ]
     },
     "metadata": {},
     "output_type": "display_data"
    },
    {
     "data": {
      "text/html": [
       "<br><br>"
      ],
      "text/plain": [
       "<IPython.core.display.HTML object>"
      ]
     },
     "metadata": {},
     "output_type": "display_data"
    },
    {
     "data": {
      "text/html": [
       "Political traditions\n",
       "\n",
       "It has been a tradition of the French Fifth Republic, whose 42nd government in just 62 years was established in early July, that when things are going badly for a president, the scapegoat is his prime minister. Indeed, there has been such an inevitability to this sequence of events over the years that one begins to wonder why anyone takes the job. To be booted out for your own incompetence is something many officials can just about reconcile themselves to, at least eventually; to be fired on account of somebody else’s, even in the ultra-cynical world of politics, is a bitter business indeed.\n",
       "\n",
       "It takes an arrogant, or supremely self-confident, president to ignore this tradition, and not to use the opportunity presented by a reshuffle to look tough and innovative by putting in a new man or woman as managing director to your own chief executive. Nicolas Sarkozy, inevitably, was one such man. He kept the same prime minister for the whole of his quinquennat, even though he and that man often had a combustible relationship, and the latter now and again threatened to walk out.\n",
       "\n",
       "Also, his prime minister was often more popular than he was, gave the impression of being more competent and even, most of the time, being more honest. Ironically, as many of you will recall, that prime minister was François Fillon, who now awaits the judgment of France’s court of appeal before discovering whether or not he will soon gain first-hand experience of the country’s penal system. However, it is doubtful Sarko would have won had he changed that particular horse in mid-stream: his presidency, not least because of his often emetic character, was flawed beyond rescue by any mere prime minister.\n",
       "\n",
       "François Hollande, however, reinstituted the tradition, getting through three premiers in his five chaotic years in the Elysée Palace; and just over three years into his presidency Emmanuel Macron too has succumbed, replacing Edouard Philippe with Jean Castex. M Philippe returns to Le Havre as mayor, the post he held for seven years before going to Matignon.\n",
       "\n",
       "He did the best possible job he could as prime minister, faced with a president whose idealist approach to politics turned out to be easier to execute in theory than in practice, and who was forced into various compromises, U-turns and even the occasional unwelcome act of coercion, forcing measures through the legislature that it was otherwise determined not to pass.\n",
       "\n",
       "French PM announces new crime-fighting measures\n",
       "\n",
       "An overhaul brewing\n",
       "\n",
       "M Macron’s pop-up party of 2017, La République en Marche, has in recent months haemorrhaged not only notional support in the country, as governments do in mid-term, but has also lost support in the Assemblée Nationale. Even more worrying for M. Macron will have been the suggestion that M. Philippe, a more technocratic figure, with more charm than that label suggests but without a personality cult, was more widely liked by French voters than the president was. In such circumstances but one course of action was feasible: M Philippe had to go. This had been brewing for months; M Philippe signalled his intention to contest the Le Havre mayoralty at the end of January.\n",
       "\n",
       "M Castex is a different proposition. Like his predecessor his roots are on the right, as a former member of Les Républicains, which will only confirm the suspicions many LREM activists harbour that M Macron is determined to move his party in that direction, either pushing Les Républicains so far to the right themselves that they become unelectable, or replacing that party altogether. In French politics, such things are easily possible.\n",
       "\n",
       "M Castex, as his surname might suggest, is a Catalan, and from the opposite end of the Hexagon to M Philippe: for 12 years before his elevation he was Mayor of Prades, just inland from Perpignan, a few miles from the Spanish border; he was born in the deep south, but much further east, at Vic-Fezensac, not far from Pau.\n",
       "\n",
       "M Castex has had a distinguished bureaucratic career that began in the nurseries of Sciences-Po and ENA; he served as a ministerial chief of staff during the Sarkozy years and was called in during April by M Macron to design France’s programme to get out of <span style=\"background-color: #ffd1d1\"><b>lockdown</b></span> after the Covid-19 crisis – a responsibility that, if France endures a second spike of the disease, could yet come back to haunt him.\n",
       "\n",
       "But M Castex landed that job because he was regarded as a safe pair of hands; and for the same reason he became prime minister. Charisma, at least in his interface with the general public, does not appear to be his strong suit. He has a long civil service background – he sat for the years on the Cour des Comptes, or Court of Audit, examining the efficiency of government departments, and even if he is dull he is far from stupid or inexperienced. What he will not do is distract attention, in the run-up to the 2022 election, from a president seeking re-election; but M Macron hope to be able to rely on him to keep matters in government under control while he seeks a second mandate.\n",
       "\n",
       "French politics explained: which party is the &#x27;Opposition&#x27; in current politics?\n",
       "\n",
       "Covid-19-induced economic crisis\n",
       "\n",
       "That, though, is likely to be a tall order. Because of the Covid-19 <span style=\"background-color: #ffd1d1\"><b>pandem</b></span>ic France faces its worst economic crisis since the Fourth Republic, and quite possibly since the Third. Some very hard decisions will have to be taken about public spending that are likely to compound the sense of despair and bewilderment brought on by private sector job losses.\n",
       "\n",
       "It remains to be seen whether an ultra-technocrat such as M Castex has the political skill to present such unpleasant news to the people of France without destabilising M Macron. With Rachida Dati now circling and Marine Le Pen increasingly vocal, the fight in 2022 promises to be less predictable than many have thought. M Castex may find the task ahead beyond even his indubitable level of competence."
      ],
      "text/plain": [
       "<IPython.core.display.HTML object>"
      ]
     },
     "metadata": {},
     "output_type": "display_data"
    },
    {
     "data": {
      "text/html": [
       "<br><br>"
      ],
      "text/plain": [
       "<IPython.core.display.HTML object>"
      ]
     },
     "metadata": {},
     "output_type": "display_data"
    },
    {
     "data": {
      "text/html": [
       "The Socio-Economic Rights Institute (Seri) has argued that poor leadership and weak levels of police accountability persist despite the lessons presented by the Marikana massacre.\n",
       "\n",
       "JOHANNESBURG - With eight years having passed since the Marikana massacre where 34 striking mineworkers were killed by the police, there remain several unimplemented recommendations made by the Farlam Commission.\n",
       "\n",
       "Despite the commission being appointed by then-President Jacob Zuma to investigate matters of public, national and international concern arising out of the massacre, government is yet to effect some of the corrective steps it was advised to implement.\n",
       "\n",
       "The commission chaired by retired Judge Ian Farlam was required to probe the tragic events which took place between 11 and 16 August.\n",
       "\n",
       "It ordered that there be an investigation into what transpired at what is now known as the Second Koppie or Scene Two where 17 mineworkers were killed.\n",
       "\n",
       "The commission expressed an inability to discern what could have taken place, with reports that police shot at the workers at close range, with some arguing that they were surrendering when their colleagues were shot.\n",
       "\n",
       "However, it recommended that a team headed by a senior state advocate should investigate what happened there.\n",
       "\n",
       "Themba Masuku is the program director at the African Policing Civilian Oversight Forum (Apcof).\n",
       "\n",
       "He said that the Independent Police Investigative Directorate (Ipid) has claimed not to have funds to conduct the investigations since the recommendation was made.\n",
       "\n",
       "&quot;It&#x27;s a complete travesty of justice that 34 miners lost their lives and those that were culpable are likely not going to held accountable simply because the investigations were never completed.&quot;\n",
       "\n",
       "The commission also recommended that Lonmin should comply with the housing obligations under the social and labour plans.\n",
       "\n",
       "In its 2018 report, Lonmin said that it had developed modern housing facilities, investing R520 million into the project. It had committed a further R420 million then.\n",
       "\n",
       "However, most of the mineworkers still live in squalor at the nearby Nkaneng informal settlement.\n",
       "\n",
       "JUSTICE FOR MASSACRE VICTIMS\n",
       "\n",
       "The Socio-Economic Rights Institute (Seri) has called for justice for the victims of the Marikana massacre and their families, saying that the state should put more effort into holding those responsible to account.\n",
       "\n",
       "However, this is unlikely to happen anytime soon, with many police investigations, which were meant to be carried out to collect evidence of the murders, stillborn.\n",
       "\n",
       "Seri has argued that poor leadership and weak levels of police accountability persist despite the lessons presented by the Marikana massacre.\n",
       "\n",
       "A total of 44 people died during the unrest at Lonmin’s Marikana mine.\n",
       "\n",
       "Ten died in the preceding week, including two police officers and two security guards, while 34 mineworkers were gunned down by the police during the strike for wage increases.\n",
       "\n",
       "Yet, eight years later, the murders of Mgcineni Noki, Molefi Ntsoele, Fezile Saphendu, Jackson Lehura, Henry Pato and others remain unsolved.\n",
       "\n",
       "Seri’s senior attorney Zamatungwa Khumalo: &quot;While the families of the mineworkers continue to wait for justice, exessive use of force and brutality by the police still persists. Locally, during the <span style=\"background-color: #ffd1d1\"><b>COVID</b></span>-19 national <span style=\"background-color: #ffd1d1\"><b>lockdown</b></span>, SOuth Africa witnessed heavy-handed law enforcement by various law enforcement bodies.&quot;\n",
       "\n",
       "Since 2012, only nine police officers have been prosecuted for the deaths of three striking mineworkers and two police officers.\n",
       "\n",
       "Download the EWN app to your iOS or Android device."
      ],
      "text/plain": [
       "<IPython.core.display.HTML object>"
      ]
     },
     "metadata": {},
     "output_type": "display_data"
    },
    {
     "data": {
      "text/html": [
       "<br><br>"
      ],
      "text/plain": [
       "<IPython.core.display.HTML object>"
      ]
     },
     "metadata": {},
     "output_type": "display_data"
    },
    {
     "name": "stdout",
     "output_type": "stream",
     "text": [
      "RandomForestClassifier()\n"
     ]
    },
    {
     "data": {
      "text/html": [
       "By MarketsFarm\n",
       "\n",
       "WINNIPEG, Aug. 14 (MarketsFarm) – The following is a glance at the news moving markets in Canada and globally.\n",
       "\n",
       "– In a major breakthrough, Israel and the United Arab Emirates agreed to normalize relations between the two Middle East countries on Thursday, in a deal brokered by the United States. To achieve the historic understanding, Israel would halt plans to annex the highly strategic Golan Heights. The two countries will co-operate on energy, water and environmental issues, as well working jointly on a <span style=\"background-color: #ffd1d1\"><b>COVID</b></span>-19 <span style=\"background-color: #ffd1d1\"><b>vaccine</b></span>. Reports stated the UAE was willing to make such a dramatic move out of concerns over Iran’s increasing influence in the region. Iran, Turkey and the Palestinian Authority denounced the deal, with Oman, Bahrain, and Egypt were among the dozens of countries that voiced their support. Israel has maintained peace agreements with Egypt since 1979 and Jordan since 1994.\n",
       "\n",
       "ADVERTISEMENT\n",
       "\n",
       "– Ahead of the next round of extradition hearings beginning on Aug. 17 in Vancouver, lawyers for Huawei executive Meng Wanzhou said on Friday that they are seeking access to hundreds of confidential documents. Meng’s defence contends there was an abuse of process during her December 2018 arrest, alleging there was a “co-ordinated state misconduct” between Canadian and U.S. officials. Earlier this year Canadian officials turned over 400 pages of documents, of which many contained redactions. The Canadian government said divulging all of the information would have violated confidentiality agreements with clients and third parties. The U.S. is seeking to extradite Meng to face charges regarding bank fraud.\n",
       "\n",
       "– Reports stated on Friday that the U.S. seized four tankers bound for Venezuela in May and July that were allegedly transporting 1.1 million barrels of gasoline from Iran. However, Iran denounced the allegations as being U.S. propaganda and said the tankers were not Iranian. Despite having some of the largest oil reserves in the world, Venezuela lacks the refining capacity to supply its own fuel needs. Sanctions imposed by the U.S. against Venezuela have made it difficult for the country to earn revenue from oil exports."
      ],
      "text/plain": [
       "<IPython.core.display.HTML object>"
      ]
     },
     "metadata": {},
     "output_type": "display_data"
    },
    {
     "data": {
      "text/html": [
       "<br><br>"
      ],
      "text/plain": [
       "<IPython.core.display.HTML object>"
      ]
     },
     "metadata": {},
     "output_type": "display_data"
    },
    {
     "data": {
      "text/html": [
       "Text Size: A- A+\n",
       "\n",
       "What we in Iran — the target of a vicious and indiscriminate sanctions regime — have seen from the current US administration is quite straightforward: there is no grand vision for an alternative global community. The US’ fickleness and unpredictability have nothing to do with masterful implementation of game theory. Rather whether it comes to its (mis)management of Covid-19 at home or its undermining of peace and stability abroad, the current regime in Washington has no real plan except to frontally assault those who stand by the rule of law.\n",
       "\n",
       "The US handling of UN Security Council Resolution 2231, which endorsed — and is inseparable from — the Joint Comprehensive Plan of Action (JCPOA), commonly known as the Iran nuclear deal, is a case in point.\n",
       "\n",
       "In July 2015, Iran, the United States, Russia, China, Britain, France and Germany signed a landmark agreement to satisfy any concerns over the exclusively peaceful nature of our nuclear program while relieving the Iranian people of inhumane and unjust sanctions. As part of the JCPOA, the US and other signatories also jointly co-sponsored UN Security Council Resolution 2231, which embraces the nuclear deal — and to which its full 90 pages are attached, thus enshrining the accord into international law.\n",
       "\n",
       "However, in May of 2018, the US administration declared that it had unilaterally opted for “ceasing participation” in the JCPOA. Since then, Iran and the rest of the international community have been left in the extraordinary position of watching the US become the first government in UN history that not just violates a binding resolution it itself sponsored, but also punish those governments and companies that uphold international law by implementing its provisions.\n",
       "\n",
       "As I warned the Security Council last month, this status quo is neither desirable nor sustainable. We are thus at a crossroads.\n",
       "\n",
       "Also read: The US can’t have it both ways over Iran\n",
       "\n",
       "The ‘might makes right’ standard\n",
       "\n",
       "The US administration’s disinformation campaign — including false and forged claims regarding a regional consensus — about the consequences of the remaining signatories to the JCPOA upholding the deal’s provisions, including normalising Iran’s defence cooperation with the world in October, is a ruse to disguise its real, more malevolent motivations: having failed to collapse Resolution 2231 after over two years of the most brutal “maximum pressure” ever imposed on a nation — including depriving ordinary Iranians of access to medicines and medical equipment amid the deadliest <span style=\"background-color: #ffd1d1\"><b>pandem</b></span>ic the world has seen in many decades — the US now hopes to abuse its mal-interpretation of the provisions of the same resolution it abandoned in 2018 to finally destroy it. This deeply malicious US behaviour is evident throughout the UN, where it seeks to use the UN itself to effectively destroy the world body.\n",
       "\n",
       "We are deeply grateful to our readers &amp; viewers for their time, trust and subscriptions. Quality journalism is expensive and needs readers to pay for it. Your support will define our work and ThePrint’s future. SUBSCRIBE NOW\n",
       "\n",
       "There are several key issues and consequences to consider in this equation.\n",
       "\n",
       "First and foremost, one may wonder why or how the collapse of a single UN Security Council resolution on a niche subject relates to the bigger picture. It does, for most notably it would be a generational setback for the cause of multilateralism should the Security Council be bullied into torpedoing its own resolution. Unless all powers respect the principles which the Council was created to embody, it cannot perform its duties, nor can any nation acknowledge its authority.\n",
       "\n",
       "We should not forget that the same US regime has fatuously also withdrawn from the WHO amid the worst global <span style=\"background-color: #ffd1d1\"><b>pandem</b></span>ic, but now seeks to lead the WHO reform process, to the chagrin of its closest Western allies.\n",
       "\n",
       "If the US is allowed to continue on this path, the world will slide backwards toward a ‘might makes right’ standard. And while this may sound appealing to Cold Warriors looking for new targets, even that standard has its limits. For both superpowers of the past century witnessed the unraveling of their international influence in their military defeat in Afghanistan, a country with a GDP that is 14 times smaller than Apple Inc.’s annual revenue.\n",
       "\n",
       "Also read: Why the US will not be able to win support of allies for another confrontation with Iran\n",
       "\n",
       "Attempts to replace international law with domestic law\n",
       "\n",
       "We have also seen in past years how the US administration has — in parallel with its assault on international institutions and accords — sought to supplant international law with its own domestic laws. In practice, this has meant that it is now the US Treasury and not European national governments which decides with whom European companies can do business — be it under Resolution 2231 or their own North Stream gas lifeline.\n",
       "\n",
       "While it has so far primarily been the US that has sought to expand the jurisdiction of its domestic laws, there is nothing to suggest that it will retain a monopoly on it. With the opening of this Pandora’s box and with complacency on the part of some national governments, it is not difficult to imagine a future where ordinary citizens and private enterprises alike may end up having to contend with the extra-territorial application of multiple and growing series of domestic laws — debilitating international travel, trade and investment in a retrograde step for our globalised world.\n",
       "\n",
       "Thus, the international community in general — and the UN Security Council in particular face an important decision: do we maintain respect for the rule of law, or do we return to the law of the jungle?\n",
       "\n",
       "While Iran has proven its resilience and decisive response to coercive bullying, I am confident that — in the next few critical weeks and months — members of the Security Council will refute the campaign struggle of a beleaguered US administration to turn what was the diplomatic achievement of the 21st Century into an exercise in futility, and in the process annihilate what is left of multilateralism and international law.\n",
       "\n",
       "(Mohammad Javad Zarif is the Iran foreign minister. Views are personal)\n",
       "\n",
       "Also read: ‘He’ll be okay’ — An unsympathetic Trump said about Modi after Iran oil sanctions\n",
       "\n",
       "Subscribe to our channels on YouTube &amp; Telegram\n",
       "\n",
       "News media is in a crisis &amp; only you can fix it You are reading this because you value good, intelligent and objective journalism. We thank you for your time and your trust. You also know that the news media is facing an unprecedented crisis. It is likely that you are also hearing of the brutal layoffs and pay-cuts hitting the industry. There are many reasons why the media’s economics is broken. But a big one is that good people are not yet paying enough for good journalism. We have a newsroom filled with talented young reporters. We also have the country’s most robust editing and fact-checking team, finest news photographers and video professionals. We are building India’s most ambitious and energetic news platform. And we aren’t even three yet. At ThePrint, we invest in quality journalists. We pay them fairly and on time even in this difficult period. As you may have noticed, we do not flinch from spending whatever it takes to make sure our reporters reach where the story is. Our stellar <span style=\"background-color: #ffd1d1\"><b>corona</b></span>virus coverage is a good example. You can check some of it here. This comes with a sizable cost. For us to continue bringing quality journalism, we need readers like you to pay for it. Because the advertising market is broken too. If you think we deserve your support, do join us in this endeavour to strengthen fair, free, courageous, and questioning journalism, please click on the link below. Your support will define our journalism, and ThePrint’s future. It will take just a few seconds of your time. Support Our Journalism\n",
       "\n",
       "Show Full Article"
      ],
      "text/plain": [
       "<IPython.core.display.HTML object>"
      ]
     },
     "metadata": {},
     "output_type": "display_data"
    },
    {
     "data": {
      "text/html": [
       "<br><br>"
      ],
      "text/plain": [
       "<IPython.core.display.HTML object>"
      ]
     },
     "metadata": {},
     "output_type": "display_data"
    },
    {
     "data": {
      "text/html": [
       "THE SISTER of slain tech CEO Fahim Saleh has spoken of her family’s “piercing pain” after his gruesome decapitation.\n",
       "\n",
       "Ruby Angela Saleh reveals in a letter that funeral directors had to sew his head and limbs back onto his body for the service.\n",
       "\n",
       "Saleh, the CEO of the Nigerian ride-hailing motorcycle app Gokada, was found dead in his New York City apartment last month after his former assistant, 21-year-old Tyrese Haspil, allegedly decapitated him.\n",
       "\n",
       "9 Fahim Saleh, left, with sisters Ruby and Rif\n",
       "\n",
       "9 Fahim Saleh and members of his family in an undated Facebook photo Credit: Facebook/Jay Ce\n",
       "\n",
       "9 Fahim Saleh, center, with sisters Ruby Saleh, right, and Rif Saleh, second-right Credit: Facebook/Jay Ce\n",
       "\n",
       "Ruby, who organized her brother’s funeral, wrote in the Medium post that the funeral home called three days before his burial to say that his limbs and head would not be able to be reattached.\n",
       "\n",
       "“Upon receiving that news, I closed my eyes and crossed my arms over my chest like a Pharaoh, squeezing my phone against my body. My hands formed fists that I pushed into my heart with all my strength to contain my pain,&quot; she wrote.\n",
       "\n",
       "Ruby said she requested funeral directors arrange his body parts in their proper places within the casket for the viewing.\n",
       "\n",
       "Luckily, the man called back a day before the burial with good news – her brother&#x27;s body had been reassembled.\n",
       "\n",
       "9 Ruby Saleh also uploaded a video and said her family want justice\n",
       "\n",
       "“My family and I looked at our sweet boy’s face in the casket. He seemed to be sleeping peacefully. His body was covered in a white sheet, ice packs placed on his torso, his beautiful eyelashes long and lustrous against his skin,” Ruby wrote.\n",
       "\n",
       "She revealed that she first heard about her brother&#x27;s death when her aunt called at 10:47 p.m. on July 14 while Ruby was in bed with her husband.\n",
       "\n",
       "“My shoulders stiffened while the rest of my body went limp. Maybe one of my parents had <span style=\"background-color: #ffd1d1\"><b>COVID</b></span>?” Saleh recounted.\n",
       "\n",
       "She said that when her aunt gave the horrific news, the “words didn’t make sense.”\n",
       "\n",
       "9 Fahim Saleh was found butchered in his Lower East Side apartment Credit: Instagram\n",
       "\n",
       "9 A view of the outside of Fahim Saleh&#x27;s apartment where he was found brutally murdered Credit: AP:Associated Press\n",
       "\n",
       "“I dropped the phone and crawled onto the wooden floor, touching its cold, hard surface with the palms of my hands,” Ruby said in the tear-jerking letter.\n",
       "\n",
       "She also revealed that her brother&#x27;s dismembered torso had been found by their cousin, named as “A,” after the family hadn’t heard from him in a while.\n",
       "\n",
       "“Someone had cut my brother’s body into pieces and tossed the pieces into a garbage bag, as if his life, his body, his existence had had no meaning or value,” Ruby wrote.\n",
       "\n",
       "The heartbroken sister, who wrote that she “felt more like a mother to Fahim,” added that the family tried to keep as much of the tragic news from her parents as possible including the moments his lifeless body had to be identified with authorities.\n",
       "\n",
       "9 Tyrese Devon Haspil, 21, is accused of beheading Fahim Saleh Credit: Twitter\n",
       "\n",
       "9 Tyrese Haspil, the suspect in the murder of Fahim Saleh, is escorted by police Credit: Reuters\n",
       "\n",
       "The funeral home had called Ruby to tell her that because of the <span style=\"background-color: #ffd1d1\"><b>corona</b></span>virus <span style=\"background-color: #ffd1d1\"><b>pandem</b></span>ic, Fahim’s body would have to be identified by photo.\n",
       "\n",
       "Ruby, her sister and cousin gathered around their computer to open the email attachment.\n",
       "\n",
       "&quot;I felt nauseated,&quot; she wrote.\n",
       "\n",
       "“My father heard our cries and knocked on the door, asking what was going on. We quickly shut the computer, wiped our faces, and told him we were fine.&quot;\n",
       "\n",
       "“We could never tell him what we had seen.”\n",
       "\n",
       "Ruby said that since his death, their father, an immigrant from Bangladesh, spends his days sitting next to Fahim’s dog Laila while watching videos about his son while her mom spends the day crying.\n",
       "\n",
       "In a new video, Ruby cries as she says: &quot;It doesn&#x27;t feel like life can ever be joyful again.&quot;\n",
       "\n",
       "&quot;My last ask is, if you’re someone’s sister, the next time you see your brother please hug him as tightly as you can for as long as you want because that’s all I want to do,&quot; she says in the video.\n",
       "\n",
       "&quot;But I’ll never be able to hug Fahim again.&quot;\n",
       "\n",
       "Ruby said her family will do everything in its power to keep Fahim&#x27;s memory alive &quot;and keep his visions going.&quot;\n",
       "\n",
       "&quot;My family and I are in such shock and debilitating pain.&quot;\n",
       "\n",
       "9 Fahim Saleh with sister Rif Credit: Facebook/Jay Ce\n",
       "\n",
       "“Thanksgiving, our family’s favorite holiday, will be especially difficult this year. Fahim always made the garlic mashed potatoes, while I made the stuffing and my sister made her famous mac and cheese,” she recounted.\n",
       "\n",
       "Ruby wrote that her brother’s brain “was a bottomless magic hat of ideas” that helped ease the family’s financial burden after their father was forced to retire from his job as a computer programmer.\n",
       "\n",
       "“Having come from so little, Fahim had zero interest in being a rich entrepreneur who only hung out with other rich entrepreneurs. His heart was most open to those in need,” she wrote.\n",
       "\n",
       "Most read in News SICK VID Calls for Rick &amp; Morty to be AXED over vid of creator pretending to rape baby doll FACING JUSTICE Husband &#x27;bludgeoned his secret porn-star wife to death with absinthe bottle&#x27; DESPERATE Thousands of cars form line for Dallas food bank amid virus unemployment crisis WILD CLAIMS Trump saw ‘golden showers in sex club’ &amp; ‘cheated in election’, Cohen claims TIKTOK SELL-OFF Trump orders TikTok&#x27;s Chinese owners to sell off US operations in 90 days &#x27;SCARFACE&#x27; Harry &amp; Meg&#x27;s $14m home was owned by Russian tycoon &#x27;who threatened to chop ex&#x27;\n",
       "\n",
       "Haspil has since pleaded not guilty in Fahim&#x27;s murder – even after video emerged showing the personal assistant buying a saw that authorities believed was used to butcher him.\n",
       "\n",
       "His aunt Marjorie Sine described her nephew as &quot;sometimes troublesome&quot; and revealed he had a &quot;difficult childhood&quot;.\n",
       "\n",
       "Court records show that Haspil is being defended by Legal Aid lawyers and is scheduled to appear in court again on Aug. 19."
      ],
      "text/plain": [
       "<IPython.core.display.HTML object>"
      ]
     },
     "metadata": {},
     "output_type": "display_data"
    },
    {
     "data": {
      "text/html": [
       "<br><br>"
      ],
      "text/plain": [
       "<IPython.core.display.HTML object>"
      ]
     },
     "metadata": {},
     "output_type": "display_data"
    },
    {
     "data": {
      "text/html": [
       "The recognition grants a rare diplomatic win to President Trump ahead of the November election.\n",
       "\n",
       "DUBAI, United Arab Emirates — President Donald Trump said on Thursday that the United Arab Emirates and Israel have agreed to establish full diplomatic ties as part of a deal to halt the annexation of occupied land sought by the Palestinians for their future state.\n",
       "\n",
       "The announcement makes the UAE the first Gulf Arab state to do so and only the third Arab nation to have active diplomatic ties to Israel.\n",
       "\n",
       "Trump tweeted a statement from the countries, acknowledging the deal. He then told reporters in the Oval Office that it was “a truly historic moment.”\n",
       "\n",
       "“Now that the ice has been broken I expect more Arab and Muslim countries will follow the United Arab Emirates,” he said.\n",
       "\n",
       "The recognition grants a rare diplomatic win to Trump ahead of the November election as his efforts to see an end to the war in Afghanistan have yet to come to fruition while efforts to bring peace between Israel and the Palestinians have made no headway. Israel and the UAE also have been among Trump&#x27;s closest foreign allies.\n",
       "\n",
       "For Israel, the announcement comes after years of boasting by Israeli Prime Minister Benjamin Netanyahu that his government enjoys closer ties to Arab nations than publicly acknowledged. Netanyahu has sought to build settlements on lands sought by the Palestinians and embraced a Trump proposal that would allow him to annex large parts of the occupied West Bank while granting Palestinians limited autonomy in other areas.\n",
       "\n",
       "For the UAE, home to skyscraper-studded Dubai and the rolling, oil-rich sand dunes of Abu Dhabi, it further burnishes its international campaign to be seen as a beacon of tolerance in the Middle East despite being governed by autocratic rulers. It also puts the UAE out first in a regional recognition race among neighboring Gulf Arab states.\n",
       "\n",
       "And for the Palestinians, who long have relied on Arab backing in their struggle for independence, the announcement marked both a win and setback. While Thursday&#x27;s deal halts Israeli annexation plans, the Palestinians have repeatedly urged Arab governments not to normalize relations with Israel until a peace agreement establishing an independent Palestinian state is reached.\n",
       "\n",
       "“Israel got rewarded for not declaring openly what it’s been doing to Palestine illegally &amp; persistently since the beginning of the occupation,” senior Palestinian official Hanan Ashrawi wrote on Twitter. She also said the UAE has come forward with its “secret dealings/normalization with Israel.”\n",
       "\n",
       "“Please don’t do us a favor. We are nobody’s fig leaf!” she wrote.\n",
       "\n",
       "The militant group Hamas, which controls the Gaza Strip, called the deal by the Emiratis &quot;a stabbing in the back of our people.”\n",
       "\n",
       "The joint statement from the U.S., the UAE and Israel said delegations would meet in the coming weeks to sign deals on direct flights, security, telecommunications, energy, tourism and health care. The two countries also will partner on fighting the <span style=\"background-color: #ffd1d1\"><b>corona</b></span>virus <span style=\"background-color: #ffd1d1\"><b>pandem</b></span>ic.\n",
       "\n",
       "Joint Statement of the United States, the State of Israel, and the United Arab Emirates pic.twitter.com/oVyjLxf0jd — Donald J. Trump (@realDonaldTrump) August 13, 2020\n",
       "\n",
       "“Opening direct ties between two of the Middle East&#x27;s most dynamic societies and advanced economics will transform the region by spurring economic growth, enhancing technological innovation and forging closer people-to-people relations,” said the statement by Trump, Netanyahu and Abu Dhabi Crown Prince Mohammed bin Zayed Al Nahyan, the day-to-day ruler of the UAE. It said the leaders had a three-way call discussing the deal.\n",
       "\n",
       "U.S. Secretary of State Mike Pompeo praised the deal.\n",
       "\n",
       "“This is a remarkable achievement for two of the world’s most forward leaning, technologically advanced states, and reflects their shared regional vision of an economically integrated region,” he said in a statement. “It also illustrates their commitment to confronting common threats, as small — but strong — nations.”\n",
       "\n",
       "He added: &quot;Blessed are the peacemakers. Mabruk and Mazal Tov.”\n",
       "\n",
       "Netanyahu tweeted an Israeli flag with a short message in Hebrew: “Historic Day.”\n",
       "\n",
       "Among Arab nations, only Egypt and Jordan have active diplomatic ties with Israel. Egypt made a peace deal with Israel in 1979, followed by Jordan in 1994. Mauritania recognized Israel in 1999, but later ended relations in 2009 over the Israel’s war in Gaza at the time.\n",
       "\n",
       "In addition to Trump, the main U.S. mediators for agreement were the president’s senior advisor and son-in-law Jared Kushner, special Mideast envoy Avi Berkowitz and David Friedman, the U.S. ambassador to Israel.\n",
       "\n",
       "The UAE is a U.S.-allied federation of seven sheikhdoms on the Arabian Peninsula. Formed in 1971, the country like other Arab nations at the time did not recognize Israel over its occupation of land home to the Palestinians.\n",
       "\n",
       "“Arab oil is not dearer than Arab blood,” the UAE’s founding ruler, Sheikh Zayed bin Sultan Al Nahyan, once pronounced when agreeing to an oil boycott over U.S. military support to Israel in the 1973 Mideast war.\n",
       "\n",
       "The UAE relied on white-collar Palestinians in creating its nation. Over time, it maintained its stance that Israel allow the creation of a Palestinian state on land it seized in the 1967 war.\n",
       "\n",
       "But in recent years, ties between Gulf Arab nations and Israel have quietly grown, in part over their shared enmity of Iran and the Lebanese militant group Hezbollah. Prince Mohammed also shares Israel’s distrust of Islamist groups like the Muslim Brotherhood and the militant group Hamas that holds the Gaza Strip.\n",
       "\n",
       "The UAE&#x27;s state-run WAM news agency acknowledged the deal, framing it as not just a move that helps the UAE and Israel, but one that also carries benefits for the Palestinians. Top Emirati official Anwar Gargash said the move dealt a “death blow” to moves by Israel to annex Palestinian lands.\n",
       "\n",
       "It remains unclear what prompted Israel and the UAE to make the announcement now. In June, the United Arab Emirates’ ambassador to the U.S. warned in an Israeli newspaper op-ed that Israel’s planned annexing the Jordan Valley and other parts of the occupied West Bank would “upend” Israel’s efforts to improve ties with Arab nations.\n",
       "\n",
       "The agreement gives Netanyahu a domestic boost at a time when Israel’s shaky coalition government is plagued by infighting and facing the possibility of early elections in the coming months. Netanyahu has seen his popularity plummet as the country grapples with a renewed <span style=\"background-color: #ffd1d1\"><b>corona</b></span>virus outbreak and skyrocketing unemployment as the result of earlier <span style=\"background-color: #ffd1d1\"><b>lockdown</b></span> measures.\n",
       "\n",
       "Netanyahu also delivered a valuable diplomatic achievement to his good friend, Trump, ahead of U.S. elections.\n",
       "\n",
       "Still, by dropping the annexation plan Netanyahu may be hedging his bets ahead of a possible change in the White House. Joe Biden, the presumptive Democratic nominee, has made clear that he would oppose any moves by Israel to unilaterally redraw the Mideast map and annex lands sought by the Palestinians.\n",
       "\n",
       "Netanyahu also risked criticism inside his own hard-line Likud Party, whose members strongly supported annexation. Netanyahu appears to be betting that Likud members — and the small, but influential settler movement — will agree the peace agreement delivers more benefits than unilateral annexation. Opinion polls have shown that annexation is not a high priority for the vast majority of the Israeli public.\n",
       "\n",
       "Abandoning its annexation plan changes little on the ground. Israel already holds overall control of the West Bank and continues to expand its settlements there, while granting the Palestinians autonomy in a series of disconnected enclaves. Some 500,000 Israelis now live in the rapidly expanding West Bank settlements.\n",
       "\n",
       "Next year, Israel will take part in the UAE’s delayed Expo 2020, the world’s fair being hosted by Dubai. A secret synagogue also draws practicing Jews in Dubai. The UAE also has announced plans to build the Abrahamic Family House in Abu Dhabi, which will house a mosque, a church and a synagogue.\n",
       "\n",
       "Israelis traveling with Western passports routinely enter the UAE without a problem, though one still can’t make a phone call between the two countries. Israelis also work in Dubai’s gold and diamond trade as well.\n",
       "\n",
       "Emirati officials also have allowed Israeli officials to visit and the Israeli national anthem was played after an athlete won gold in an Abu Dhabi judo tournament. Israel also has a small mission representing its interests at the International Renewable Energy Agency in Abu Dhabi.\n",
       "\n",
       "___"
      ],
      "text/plain": [
       "<IPython.core.display.HTML object>"
      ]
     },
     "metadata": {},
     "output_type": "display_data"
    },
    {
     "data": {
      "text/html": [
       "<br><br>"
      ],
      "text/plain": [
       "<IPython.core.display.HTML object>"
      ]
     },
     "metadata": {},
     "output_type": "display_data"
    },
    {
     "data": {
      "text/html": [
       "Political traditions\n",
       "\n",
       "It has been a tradition of the French Fifth Republic, whose 42nd government in just 62 years was established in early July, that when things are going badly for a president, the scapegoat is his prime minister. Indeed, there has been such an inevitability to this sequence of events over the years that one begins to wonder why anyone takes the job. To be booted out for your own incompetence is something many officials can just about reconcile themselves to, at least eventually; to be fired on account of somebody else’s, even in the ultra-cynical world of politics, is a bitter business indeed.\n",
       "\n",
       "It takes an arrogant, or supremely self-confident, president to ignore this tradition, and not to use the opportunity presented by a reshuffle to look tough and innovative by putting in a new man or woman as managing director to your own chief executive. Nicolas Sarkozy, inevitably, was one such man. He kept the same prime minister for the whole of his quinquennat, even though he and that man often had a combustible relationship, and the latter now and again threatened to walk out.\n",
       "\n",
       "Also, his prime minister was often more popular than he was, gave the impression of being more competent and even, most of the time, being more honest. Ironically, as many of you will recall, that prime minister was François Fillon, who now awaits the judgment of France’s court of appeal before discovering whether or not he will soon gain first-hand experience of the country’s penal system. However, it is doubtful Sarko would have won had he changed that particular horse in mid-stream: his presidency, not least because of his often emetic character, was flawed beyond rescue by any mere prime minister.\n",
       "\n",
       "François Hollande, however, reinstituted the tradition, getting through three premiers in his five chaotic years in the Elysée Palace; and just over three years into his presidency Emmanuel Macron too has succumbed, replacing Edouard Philippe with Jean Castex. M Philippe returns to Le Havre as mayor, the post he held for seven years before going to Matignon.\n",
       "\n",
       "He did the best possible job he could as prime minister, faced with a president whose idealist approach to politics turned out to be easier to execute in theory than in practice, and who was forced into various compromises, U-turns and even the occasional unwelcome act of coercion, forcing measures through the legislature that it was otherwise determined not to pass.\n",
       "\n",
       "French PM announces new crime-fighting measures\n",
       "\n",
       "An overhaul brewing\n",
       "\n",
       "M Macron’s pop-up party of 2017, La République en Marche, has in recent months haemorrhaged not only notional support in the country, as governments do in mid-term, but has also lost support in the Assemblée Nationale. Even more worrying for M. Macron will have been the suggestion that M. Philippe, a more technocratic figure, with more charm than that label suggests but without a personality cult, was more widely liked by French voters than the president was. In such circumstances but one course of action was feasible: M Philippe had to go. This had been brewing for months; M Philippe signalled his intention to contest the Le Havre mayoralty at the end of January.\n",
       "\n",
       "M Castex is a different proposition. Like his predecessor his roots are on the right, as a former member of Les Républicains, which will only confirm the suspicions many LREM activists harbour that M Macron is determined to move his party in that direction, either pushing Les Républicains so far to the right themselves that they become unelectable, or replacing that party altogether. In French politics, such things are easily possible.\n",
       "\n",
       "M Castex, as his surname might suggest, is a Catalan, and from the opposite end of the Hexagon to M Philippe: for 12 years before his elevation he was Mayor of Prades, just inland from Perpignan, a few miles from the Spanish border; he was born in the deep south, but much further east, at Vic-Fezensac, not far from Pau.\n",
       "\n",
       "M Castex has had a distinguished bureaucratic career that began in the nurseries of Sciences-Po and ENA; he served as a ministerial chief of staff during the Sarkozy years and was called in during April by M Macron to design France’s programme to get out of <span style=\"background-color: #ffd1d1\"><b>lockdown</b></span> after the Covid-19 crisis – a responsibility that, if France endures a second spike of the disease, could yet come back to haunt him.\n",
       "\n",
       "But M Castex landed that job because he was regarded as a safe pair of hands; and for the same reason he became prime minister. Charisma, at least in his interface with the general public, does not appear to be his strong suit. He has a long civil service background – he sat for the years on the Cour des Comptes, or Court of Audit, examining the efficiency of government departments, and even if he is dull he is far from stupid or inexperienced. What he will not do is distract attention, in the run-up to the 2022 election, from a president seeking re-election; but M Macron hope to be able to rely on him to keep matters in government under control while he seeks a second mandate.\n",
       "\n",
       "French politics explained: which party is the &#x27;Opposition&#x27; in current politics?\n",
       "\n",
       "Covid-19-induced economic crisis\n",
       "\n",
       "That, though, is likely to be a tall order. Because of the Covid-19 <span style=\"background-color: #ffd1d1\"><b>pandem</b></span>ic France faces its worst economic crisis since the Fourth Republic, and quite possibly since the Third. Some very hard decisions will have to be taken about public spending that are likely to compound the sense of despair and bewilderment brought on by private sector job losses.\n",
       "\n",
       "It remains to be seen whether an ultra-technocrat such as M Castex has the political skill to present such unpleasant news to the people of France without destabilising M Macron. With Rachida Dati now circling and Marine Le Pen increasingly vocal, the fight in 2022 promises to be less predictable than many have thought. M Castex may find the task ahead beyond even his indubitable level of competence."
      ],
      "text/plain": [
       "<IPython.core.display.HTML object>"
      ]
     },
     "metadata": {},
     "output_type": "display_data"
    },
    {
     "data": {
      "text/html": [
       "<br><br>"
      ],
      "text/plain": [
       "<IPython.core.display.HTML object>"
      ]
     },
     "metadata": {},
     "output_type": "display_data"
    },
    {
     "data": {
      "text/html": [
       "The Socio-Economic Rights Institute (Seri) has argued that poor leadership and weak levels of police accountability persist despite the lessons presented by the Marikana massacre.\n",
       "\n",
       "JOHANNESBURG - With eight years having passed since the Marikana massacre where 34 striking mineworkers were killed by the police, there remain several unimplemented recommendations made by the Farlam Commission.\n",
       "\n",
       "Despite the commission being appointed by then-President Jacob Zuma to investigate matters of public, national and international concern arising out of the massacre, government is yet to effect some of the corrective steps it was advised to implement.\n",
       "\n",
       "The commission chaired by retired Judge Ian Farlam was required to probe the tragic events which took place between 11 and 16 August.\n",
       "\n",
       "It ordered that there be an investigation into what transpired at what is now known as the Second Koppie or Scene Two where 17 mineworkers were killed.\n",
       "\n",
       "The commission expressed an inability to discern what could have taken place, with reports that police shot at the workers at close range, with some arguing that they were surrendering when their colleagues were shot.\n",
       "\n",
       "However, it recommended that a team headed by a senior state advocate should investigate what happened there.\n",
       "\n",
       "Themba Masuku is the program director at the African Policing Civilian Oversight Forum (Apcof).\n",
       "\n",
       "He said that the Independent Police Investigative Directorate (Ipid) has claimed not to have funds to conduct the investigations since the recommendation was made.\n",
       "\n",
       "&quot;It&#x27;s a complete travesty of justice that 34 miners lost their lives and those that were culpable are likely not going to held accountable simply because the investigations were never completed.&quot;\n",
       "\n",
       "The commission also recommended that Lonmin should comply with the housing obligations under the social and labour plans.\n",
       "\n",
       "In its 2018 report, Lonmin said that it had developed modern housing facilities, investing R520 million into the project. It had committed a further R420 million then.\n",
       "\n",
       "However, most of the mineworkers still live in squalor at the nearby Nkaneng informal settlement.\n",
       "\n",
       "JUSTICE FOR MASSACRE VICTIMS\n",
       "\n",
       "The Socio-Economic Rights Institute (Seri) has called for justice for the victims of the Marikana massacre and their families, saying that the state should put more effort into holding those responsible to account.\n",
       "\n",
       "However, this is unlikely to happen anytime soon, with many police investigations, which were meant to be carried out to collect evidence of the murders, stillborn.\n",
       "\n",
       "Seri has argued that poor leadership and weak levels of police accountability persist despite the lessons presented by the Marikana massacre.\n",
       "\n",
       "A total of 44 people died during the unrest at Lonmin’s Marikana mine.\n",
       "\n",
       "Ten died in the preceding week, including two police officers and two security guards, while 34 mineworkers were gunned down by the police during the strike for wage increases.\n",
       "\n",
       "Yet, eight years later, the murders of Mgcineni Noki, Molefi Ntsoele, Fezile Saphendu, Jackson Lehura, Henry Pato and others remain unsolved.\n",
       "\n",
       "Seri’s senior attorney Zamatungwa Khumalo: &quot;While the families of the mineworkers continue to wait for justice, exessive use of force and brutality by the police still persists. Locally, during the <span style=\"background-color: #ffd1d1\"><b>COVID</b></span>-19 national <span style=\"background-color: #ffd1d1\"><b>lockdown</b></span>, SOuth Africa witnessed heavy-handed law enforcement by various law enforcement bodies.&quot;\n",
       "\n",
       "Since 2012, only nine police officers have been prosecuted for the deaths of three striking mineworkers and two police officers.\n",
       "\n",
       "Download the EWN app to your iOS or Android device."
      ],
      "text/plain": [
       "<IPython.core.display.HTML object>"
      ]
     },
     "metadata": {},
     "output_type": "display_data"
    },
    {
     "data": {
      "text/html": [
       "<br><br>"
      ],
      "text/plain": [
       "<IPython.core.display.HTML object>"
      ]
     },
     "metadata": {},
     "output_type": "display_data"
    },
    {
     "name": "stdout",
     "output_type": "stream",
     "text": [
      "GradientBoostingClassifier()\n"
     ]
    },
    {
     "data": {
      "text/html": [
       "By MarketsFarm\n",
       "\n",
       "WINNIPEG, Aug. 14 (MarketsFarm) – The following is a glance at the news moving markets in Canada and globally.\n",
       "\n",
       "– In a major breakthrough, Israel and the United Arab Emirates agreed to normalize relations between the two Middle East countries on Thursday, in a deal brokered by the United States. To achieve the historic understanding, Israel would halt plans to annex the highly strategic Golan Heights. The two countries will co-operate on energy, water and environmental issues, as well working jointly on a <span style=\"background-color: #ffd1d1\"><b>COVID</b></span>-19 <span style=\"background-color: #ffd1d1\"><b>vaccine</b></span>. Reports stated the UAE was willing to make such a dramatic move out of concerns over Iran’s increasing influence in the region. Iran, Turkey and the Palestinian Authority denounced the deal, with Oman, Bahrain, and Egypt were among the dozens of countries that voiced their support. Israel has maintained peace agreements with Egypt since 1979 and Jordan since 1994.\n",
       "\n",
       "ADVERTISEMENT\n",
       "\n",
       "– Ahead of the next round of extradition hearings beginning on Aug. 17 in Vancouver, lawyers for Huawei executive Meng Wanzhou said on Friday that they are seeking access to hundreds of confidential documents. Meng’s defence contends there was an abuse of process during her December 2018 arrest, alleging there was a “co-ordinated state misconduct” between Canadian and U.S. officials. Earlier this year Canadian officials turned over 400 pages of documents, of which many contained redactions. The Canadian government said divulging all of the information would have violated confidentiality agreements with clients and third parties. The U.S. is seeking to extradite Meng to face charges regarding bank fraud.\n",
       "\n",
       "– Reports stated on Friday that the U.S. seized four tankers bound for Venezuela in May and July that were allegedly transporting 1.1 million barrels of gasoline from Iran. However, Iran denounced the allegations as being U.S. propaganda and said the tankers were not Iranian. Despite having some of the largest oil reserves in the world, Venezuela lacks the refining capacity to supply its own fuel needs. Sanctions imposed by the U.S. against Venezuela have made it difficult for the country to earn revenue from oil exports."
      ],
      "text/plain": [
       "<IPython.core.display.HTML object>"
      ]
     },
     "metadata": {},
     "output_type": "display_data"
    },
    {
     "data": {
      "text/html": [
       "<br><br>"
      ],
      "text/plain": [
       "<IPython.core.display.HTML object>"
      ]
     },
     "metadata": {},
     "output_type": "display_data"
    },
    {
     "data": {
      "text/html": [
       "Text Size: A- A+\n",
       "\n",
       "What we in Iran — the target of a vicious and indiscriminate sanctions regime — have seen from the current US administration is quite straightforward: there is no grand vision for an alternative global community. The US’ fickleness and unpredictability have nothing to do with masterful implementation of game theory. Rather whether it comes to its (mis)management of Covid-19 at home or its undermining of peace and stability abroad, the current regime in Washington has no real plan except to frontally assault those who stand by the rule of law.\n",
       "\n",
       "The US handling of UN Security Council Resolution 2231, which endorsed — and is inseparable from — the Joint Comprehensive Plan of Action (JCPOA), commonly known as the Iran nuclear deal, is a case in point.\n",
       "\n",
       "In July 2015, Iran, the United States, Russia, China, Britain, France and Germany signed a landmark agreement to satisfy any concerns over the exclusively peaceful nature of our nuclear program while relieving the Iranian people of inhumane and unjust sanctions. As part of the JCPOA, the US and other signatories also jointly co-sponsored UN Security Council Resolution 2231, which embraces the nuclear deal — and to which its full 90 pages are attached, thus enshrining the accord into international law.\n",
       "\n",
       "However, in May of 2018, the US administration declared that it had unilaterally opted for “ceasing participation” in the JCPOA. Since then, Iran and the rest of the international community have been left in the extraordinary position of watching the US become the first government in UN history that not just violates a binding resolution it itself sponsored, but also punish those governments and companies that uphold international law by implementing its provisions.\n",
       "\n",
       "As I warned the Security Council last month, this status quo is neither desirable nor sustainable. We are thus at a crossroads.\n",
       "\n",
       "Also read: The US can’t have it both ways over Iran\n",
       "\n",
       "The ‘might makes right’ standard\n",
       "\n",
       "The US administration’s disinformation campaign — including false and forged claims regarding a regional consensus — about the consequences of the remaining signatories to the JCPOA upholding the deal’s provisions, including normalising Iran’s defence cooperation with the world in October, is a ruse to disguise its real, more malevolent motivations: having failed to collapse Resolution 2231 after over two years of the most brutal “maximum pressure” ever imposed on a nation — including depriving ordinary Iranians of access to medicines and medical equipment amid the deadliest <span style=\"background-color: #ffd1d1\"><b>pandem</b></span>ic the world has seen in many decades — the US now hopes to abuse its mal-interpretation of the provisions of the same resolution it abandoned in 2018 to finally destroy it. This deeply malicious US behaviour is evident throughout the UN, where it seeks to use the UN itself to effectively destroy the world body.\n",
       "\n",
       "We are deeply grateful to our readers &amp; viewers for their time, trust and subscriptions. Quality journalism is expensive and needs readers to pay for it. Your support will define our work and ThePrint’s future. SUBSCRIBE NOW\n",
       "\n",
       "There are several key issues and consequences to consider in this equation.\n",
       "\n",
       "First and foremost, one may wonder why or how the collapse of a single UN Security Council resolution on a niche subject relates to the bigger picture. It does, for most notably it would be a generational setback for the cause of multilateralism should the Security Council be bullied into torpedoing its own resolution. Unless all powers respect the principles which the Council was created to embody, it cannot perform its duties, nor can any nation acknowledge its authority.\n",
       "\n",
       "We should not forget that the same US regime has fatuously also withdrawn from the WHO amid the worst global <span style=\"background-color: #ffd1d1\"><b>pandem</b></span>ic, but now seeks to lead the WHO reform process, to the chagrin of its closest Western allies.\n",
       "\n",
       "If the US is allowed to continue on this path, the world will slide backwards toward a ‘might makes right’ standard. And while this may sound appealing to Cold Warriors looking for new targets, even that standard has its limits. For both superpowers of the past century witnessed the unraveling of their international influence in their military defeat in Afghanistan, a country with a GDP that is 14 times smaller than Apple Inc.’s annual revenue.\n",
       "\n",
       "Also read: Why the US will not be able to win support of allies for another confrontation with Iran\n",
       "\n",
       "Attempts to replace international law with domestic law\n",
       "\n",
       "We have also seen in past years how the US administration has — in parallel with its assault on international institutions and accords — sought to supplant international law with its own domestic laws. In practice, this has meant that it is now the US Treasury and not European national governments which decides with whom European companies can do business — be it under Resolution 2231 or their own North Stream gas lifeline.\n",
       "\n",
       "While it has so far primarily been the US that has sought to expand the jurisdiction of its domestic laws, there is nothing to suggest that it will retain a monopoly on it. With the opening of this Pandora’s box and with complacency on the part of some national governments, it is not difficult to imagine a future where ordinary citizens and private enterprises alike may end up having to contend with the extra-territorial application of multiple and growing series of domestic laws — debilitating international travel, trade and investment in a retrograde step for our globalised world.\n",
       "\n",
       "Thus, the international community in general — and the UN Security Council in particular face an important decision: do we maintain respect for the rule of law, or do we return to the law of the jungle?\n",
       "\n",
       "While Iran has proven its resilience and decisive response to coercive bullying, I am confident that — in the next few critical weeks and months — members of the Security Council will refute the campaign struggle of a beleaguered US administration to turn what was the diplomatic achievement of the 21st Century into an exercise in futility, and in the process annihilate what is left of multilateralism and international law.\n",
       "\n",
       "(Mohammad Javad Zarif is the Iran foreign minister. Views are personal)\n",
       "\n",
       "Also read: ‘He’ll be okay’ — An unsympathetic Trump said about Modi after Iran oil sanctions\n",
       "\n",
       "Subscribe to our channels on YouTube &amp; Telegram\n",
       "\n",
       "News media is in a crisis &amp; only you can fix it You are reading this because you value good, intelligent and objective journalism. We thank you for your time and your trust. You also know that the news media is facing an unprecedented crisis. It is likely that you are also hearing of the brutal layoffs and pay-cuts hitting the industry. There are many reasons why the media’s economics is broken. But a big one is that good people are not yet paying enough for good journalism. We have a newsroom filled with talented young reporters. We also have the country’s most robust editing and fact-checking team, finest news photographers and video professionals. We are building India’s most ambitious and energetic news platform. And we aren’t even three yet. At ThePrint, we invest in quality journalists. We pay them fairly and on time even in this difficult period. As you may have noticed, we do not flinch from spending whatever it takes to make sure our reporters reach where the story is. Our stellar <span style=\"background-color: #ffd1d1\"><b>corona</b></span>virus coverage is a good example. You can check some of it here. This comes with a sizable cost. For us to continue bringing quality journalism, we need readers like you to pay for it. Because the advertising market is broken too. If you think we deserve your support, do join us in this endeavour to strengthen fair, free, courageous, and questioning journalism, please click on the link below. Your support will define our journalism, and ThePrint’s future. It will take just a few seconds of your time. Support Our Journalism\n",
       "\n",
       "Show Full Article"
      ],
      "text/plain": [
       "<IPython.core.display.HTML object>"
      ]
     },
     "metadata": {},
     "output_type": "display_data"
    },
    {
     "data": {
      "text/html": [
       "<br><br>"
      ],
      "text/plain": [
       "<IPython.core.display.HTML object>"
      ]
     },
     "metadata": {},
     "output_type": "display_data"
    },
    {
     "data": {
      "text/html": [
       "THE SISTER of slain tech CEO Fahim Saleh has spoken of her family’s “piercing pain” after his gruesome decapitation.\n",
       "\n",
       "Ruby Angela Saleh reveals in a letter that funeral directors had to sew his head and limbs back onto his body for the service.\n",
       "\n",
       "Saleh, the CEO of the Nigerian ride-hailing motorcycle app Gokada, was found dead in his New York City apartment last month after his former assistant, 21-year-old Tyrese Haspil, allegedly decapitated him.\n",
       "\n",
       "9 Fahim Saleh, left, with sisters Ruby and Rif\n",
       "\n",
       "9 Fahim Saleh and members of his family in an undated Facebook photo Credit: Facebook/Jay Ce\n",
       "\n",
       "9 Fahim Saleh, center, with sisters Ruby Saleh, right, and Rif Saleh, second-right Credit: Facebook/Jay Ce\n",
       "\n",
       "Ruby, who organized her brother’s funeral, wrote in the Medium post that the funeral home called three days before his burial to say that his limbs and head would not be able to be reattached.\n",
       "\n",
       "“Upon receiving that news, I closed my eyes and crossed my arms over my chest like a Pharaoh, squeezing my phone against my body. My hands formed fists that I pushed into my heart with all my strength to contain my pain,&quot; she wrote.\n",
       "\n",
       "Ruby said she requested funeral directors arrange his body parts in their proper places within the casket for the viewing.\n",
       "\n",
       "Luckily, the man called back a day before the burial with good news – her brother&#x27;s body had been reassembled.\n",
       "\n",
       "9 Ruby Saleh also uploaded a video and said her family want justice\n",
       "\n",
       "“My family and I looked at our sweet boy’s face in the casket. He seemed to be sleeping peacefully. His body was covered in a white sheet, ice packs placed on his torso, his beautiful eyelashes long and lustrous against his skin,” Ruby wrote.\n",
       "\n",
       "She revealed that she first heard about her brother&#x27;s death when her aunt called at 10:47 p.m. on July 14 while Ruby was in bed with her husband.\n",
       "\n",
       "“My shoulders stiffened while the rest of my body went limp. Maybe one of my parents had <span style=\"background-color: #ffd1d1\"><b>COVID</b></span>?” Saleh recounted.\n",
       "\n",
       "She said that when her aunt gave the horrific news, the “words didn’t make sense.”\n",
       "\n",
       "9 Fahim Saleh was found butchered in his Lower East Side apartment Credit: Instagram\n",
       "\n",
       "9 A view of the outside of Fahim Saleh&#x27;s apartment where he was found brutally murdered Credit: AP:Associated Press\n",
       "\n",
       "“I dropped the phone and crawled onto the wooden floor, touching its cold, hard surface with the palms of my hands,” Ruby said in the tear-jerking letter.\n",
       "\n",
       "She also revealed that her brother&#x27;s dismembered torso had been found by their cousin, named as “A,” after the family hadn’t heard from him in a while.\n",
       "\n",
       "“Someone had cut my brother’s body into pieces and tossed the pieces into a garbage bag, as if his life, his body, his existence had had no meaning or value,” Ruby wrote.\n",
       "\n",
       "The heartbroken sister, who wrote that she “felt more like a mother to Fahim,” added that the family tried to keep as much of the tragic news from her parents as possible including the moments his lifeless body had to be identified with authorities.\n",
       "\n",
       "9 Tyrese Devon Haspil, 21, is accused of beheading Fahim Saleh Credit: Twitter\n",
       "\n",
       "9 Tyrese Haspil, the suspect in the murder of Fahim Saleh, is escorted by police Credit: Reuters\n",
       "\n",
       "The funeral home had called Ruby to tell her that because of the <span style=\"background-color: #ffd1d1\"><b>corona</b></span>virus <span style=\"background-color: #ffd1d1\"><b>pandem</b></span>ic, Fahim’s body would have to be identified by photo.\n",
       "\n",
       "Ruby, her sister and cousin gathered around their computer to open the email attachment.\n",
       "\n",
       "&quot;I felt nauseated,&quot; she wrote.\n",
       "\n",
       "“My father heard our cries and knocked on the door, asking what was going on. We quickly shut the computer, wiped our faces, and told him we were fine.&quot;\n",
       "\n",
       "“We could never tell him what we had seen.”\n",
       "\n",
       "Ruby said that since his death, their father, an immigrant from Bangladesh, spends his days sitting next to Fahim’s dog Laila while watching videos about his son while her mom spends the day crying.\n",
       "\n",
       "In a new video, Ruby cries as she says: &quot;It doesn&#x27;t feel like life can ever be joyful again.&quot;\n",
       "\n",
       "&quot;My last ask is, if you’re someone’s sister, the next time you see your brother please hug him as tightly as you can for as long as you want because that’s all I want to do,&quot; she says in the video.\n",
       "\n",
       "&quot;But I’ll never be able to hug Fahim again.&quot;\n",
       "\n",
       "Ruby said her family will do everything in its power to keep Fahim&#x27;s memory alive &quot;and keep his visions going.&quot;\n",
       "\n",
       "&quot;My family and I are in such shock and debilitating pain.&quot;\n",
       "\n",
       "9 Fahim Saleh with sister Rif Credit: Facebook/Jay Ce\n",
       "\n",
       "“Thanksgiving, our family’s favorite holiday, will be especially difficult this year. Fahim always made the garlic mashed potatoes, while I made the stuffing and my sister made her famous mac and cheese,” she recounted.\n",
       "\n",
       "Ruby wrote that her brother’s brain “was a bottomless magic hat of ideas” that helped ease the family’s financial burden after their father was forced to retire from his job as a computer programmer.\n",
       "\n",
       "“Having come from so little, Fahim had zero interest in being a rich entrepreneur who only hung out with other rich entrepreneurs. His heart was most open to those in need,” she wrote.\n",
       "\n",
       "Most read in News SICK VID Calls for Rick &amp; Morty to be AXED over vid of creator pretending to rape baby doll FACING JUSTICE Husband &#x27;bludgeoned his secret porn-star wife to death with absinthe bottle&#x27; DESPERATE Thousands of cars form line for Dallas food bank amid virus unemployment crisis WILD CLAIMS Trump saw ‘golden showers in sex club’ &amp; ‘cheated in election’, Cohen claims TIKTOK SELL-OFF Trump orders TikTok&#x27;s Chinese owners to sell off US operations in 90 days &#x27;SCARFACE&#x27; Harry &amp; Meg&#x27;s $14m home was owned by Russian tycoon &#x27;who threatened to chop ex&#x27;\n",
       "\n",
       "Haspil has since pleaded not guilty in Fahim&#x27;s murder – even after video emerged showing the personal assistant buying a saw that authorities believed was used to butcher him.\n",
       "\n",
       "His aunt Marjorie Sine described her nephew as &quot;sometimes troublesome&quot; and revealed he had a &quot;difficult childhood&quot;.\n",
       "\n",
       "Court records show that Haspil is being defended by Legal Aid lawyers and is scheduled to appear in court again on Aug. 19."
      ],
      "text/plain": [
       "<IPython.core.display.HTML object>"
      ]
     },
     "metadata": {},
     "output_type": "display_data"
    },
    {
     "data": {
      "text/html": [
       "<br><br>"
      ],
      "text/plain": [
       "<IPython.core.display.HTML object>"
      ]
     },
     "metadata": {},
     "output_type": "display_data"
    },
    {
     "data": {
      "text/html": [
       "The recognition grants a rare diplomatic win to President Trump ahead of the November election.\n",
       "\n",
       "DUBAI, United Arab Emirates — President Donald Trump said on Thursday that the United Arab Emirates and Israel have agreed to establish full diplomatic ties as part of a deal to halt the annexation of occupied land sought by the Palestinians for their future state.\n",
       "\n",
       "The announcement makes the UAE the first Gulf Arab state to do so and only the third Arab nation to have active diplomatic ties to Israel.\n",
       "\n",
       "Trump tweeted a statement from the countries, acknowledging the deal. He then told reporters in the Oval Office that it was “a truly historic moment.”\n",
       "\n",
       "“Now that the ice has been broken I expect more Arab and Muslim countries will follow the United Arab Emirates,” he said.\n",
       "\n",
       "The recognition grants a rare diplomatic win to Trump ahead of the November election as his efforts to see an end to the war in Afghanistan have yet to come to fruition while efforts to bring peace between Israel and the Palestinians have made no headway. Israel and the UAE also have been among Trump&#x27;s closest foreign allies.\n",
       "\n",
       "For Israel, the announcement comes after years of boasting by Israeli Prime Minister Benjamin Netanyahu that his government enjoys closer ties to Arab nations than publicly acknowledged. Netanyahu has sought to build settlements on lands sought by the Palestinians and embraced a Trump proposal that would allow him to annex large parts of the occupied West Bank while granting Palestinians limited autonomy in other areas.\n",
       "\n",
       "For the UAE, home to skyscraper-studded Dubai and the rolling, oil-rich sand dunes of Abu Dhabi, it further burnishes its international campaign to be seen as a beacon of tolerance in the Middle East despite being governed by autocratic rulers. It also puts the UAE out first in a regional recognition race among neighboring Gulf Arab states.\n",
       "\n",
       "And for the Palestinians, who long have relied on Arab backing in their struggle for independence, the announcement marked both a win and setback. While Thursday&#x27;s deal halts Israeli annexation plans, the Palestinians have repeatedly urged Arab governments not to normalize relations with Israel until a peace agreement establishing an independent Palestinian state is reached.\n",
       "\n",
       "“Israel got rewarded for not declaring openly what it’s been doing to Palestine illegally &amp; persistently since the beginning of the occupation,” senior Palestinian official Hanan Ashrawi wrote on Twitter. She also said the UAE has come forward with its “secret dealings/normalization with Israel.”\n",
       "\n",
       "“Please don’t do us a favor. We are nobody’s fig leaf!” she wrote.\n",
       "\n",
       "The militant group Hamas, which controls the Gaza Strip, called the deal by the Emiratis &quot;a stabbing in the back of our people.”\n",
       "\n",
       "The joint statement from the U.S., the UAE and Israel said delegations would meet in the coming weeks to sign deals on direct flights, security, telecommunications, energy, tourism and health care. The two countries also will partner on fighting the <span style=\"background-color: #ffd1d1\"><b>corona</b></span>virus <span style=\"background-color: #ffd1d1\"><b>pandem</b></span>ic.\n",
       "\n",
       "Joint Statement of the United States, the State of Israel, and the United Arab Emirates pic.twitter.com/oVyjLxf0jd — Donald J. Trump (@realDonaldTrump) August 13, 2020\n",
       "\n",
       "“Opening direct ties between two of the Middle East&#x27;s most dynamic societies and advanced economics will transform the region by spurring economic growth, enhancing technological innovation and forging closer people-to-people relations,” said the statement by Trump, Netanyahu and Abu Dhabi Crown Prince Mohammed bin Zayed Al Nahyan, the day-to-day ruler of the UAE. It said the leaders had a three-way call discussing the deal.\n",
       "\n",
       "U.S. Secretary of State Mike Pompeo praised the deal.\n",
       "\n",
       "“This is a remarkable achievement for two of the world’s most forward leaning, technologically advanced states, and reflects their shared regional vision of an economically integrated region,” he said in a statement. “It also illustrates their commitment to confronting common threats, as small — but strong — nations.”\n",
       "\n",
       "He added: &quot;Blessed are the peacemakers. Mabruk and Mazal Tov.”\n",
       "\n",
       "Netanyahu tweeted an Israeli flag with a short message in Hebrew: “Historic Day.”\n",
       "\n",
       "Among Arab nations, only Egypt and Jordan have active diplomatic ties with Israel. Egypt made a peace deal with Israel in 1979, followed by Jordan in 1994. Mauritania recognized Israel in 1999, but later ended relations in 2009 over the Israel’s war in Gaza at the time.\n",
       "\n",
       "In addition to Trump, the main U.S. mediators for agreement were the president’s senior advisor and son-in-law Jared Kushner, special Mideast envoy Avi Berkowitz and David Friedman, the U.S. ambassador to Israel.\n",
       "\n",
       "The UAE is a U.S.-allied federation of seven sheikhdoms on the Arabian Peninsula. Formed in 1971, the country like other Arab nations at the time did not recognize Israel over its occupation of land home to the Palestinians.\n",
       "\n",
       "“Arab oil is not dearer than Arab blood,” the UAE’s founding ruler, Sheikh Zayed bin Sultan Al Nahyan, once pronounced when agreeing to an oil boycott over U.S. military support to Israel in the 1973 Mideast war.\n",
       "\n",
       "The UAE relied on white-collar Palestinians in creating its nation. Over time, it maintained its stance that Israel allow the creation of a Palestinian state on land it seized in the 1967 war.\n",
       "\n",
       "But in recent years, ties between Gulf Arab nations and Israel have quietly grown, in part over their shared enmity of Iran and the Lebanese militant group Hezbollah. Prince Mohammed also shares Israel’s distrust of Islamist groups like the Muslim Brotherhood and the militant group Hamas that holds the Gaza Strip.\n",
       "\n",
       "The UAE&#x27;s state-run WAM news agency acknowledged the deal, framing it as not just a move that helps the UAE and Israel, but one that also carries benefits for the Palestinians. Top Emirati official Anwar Gargash said the move dealt a “death blow” to moves by Israel to annex Palestinian lands.\n",
       "\n",
       "It remains unclear what prompted Israel and the UAE to make the announcement now. In June, the United Arab Emirates’ ambassador to the U.S. warned in an Israeli newspaper op-ed that Israel’s planned annexing the Jordan Valley and other parts of the occupied West Bank would “upend” Israel’s efforts to improve ties with Arab nations.\n",
       "\n",
       "The agreement gives Netanyahu a domestic boost at a time when Israel’s shaky coalition government is plagued by infighting and facing the possibility of early elections in the coming months. Netanyahu has seen his popularity plummet as the country grapples with a renewed <span style=\"background-color: #ffd1d1\"><b>corona</b></span>virus outbreak and skyrocketing unemployment as the result of earlier <span style=\"background-color: #ffd1d1\"><b>lockdown</b></span> measures.\n",
       "\n",
       "Netanyahu also delivered a valuable diplomatic achievement to his good friend, Trump, ahead of U.S. elections.\n",
       "\n",
       "Still, by dropping the annexation plan Netanyahu may be hedging his bets ahead of a possible change in the White House. Joe Biden, the presumptive Democratic nominee, has made clear that he would oppose any moves by Israel to unilaterally redraw the Mideast map and annex lands sought by the Palestinians.\n",
       "\n",
       "Netanyahu also risked criticism inside his own hard-line Likud Party, whose members strongly supported annexation. Netanyahu appears to be betting that Likud members — and the small, but influential settler movement — will agree the peace agreement delivers more benefits than unilateral annexation. Opinion polls have shown that annexation is not a high priority for the vast majority of the Israeli public.\n",
       "\n",
       "Abandoning its annexation plan changes little on the ground. Israel already holds overall control of the West Bank and continues to expand its settlements there, while granting the Palestinians autonomy in a series of disconnected enclaves. Some 500,000 Israelis now live in the rapidly expanding West Bank settlements.\n",
       "\n",
       "Next year, Israel will take part in the UAE’s delayed Expo 2020, the world’s fair being hosted by Dubai. A secret synagogue also draws practicing Jews in Dubai. The UAE also has announced plans to build the Abrahamic Family House in Abu Dhabi, which will house a mosque, a church and a synagogue.\n",
       "\n",
       "Israelis traveling with Western passports routinely enter the UAE without a problem, though one still can’t make a phone call between the two countries. Israelis also work in Dubai’s gold and diamond trade as well.\n",
       "\n",
       "Emirati officials also have allowed Israeli officials to visit and the Israeli national anthem was played after an athlete won gold in an Abu Dhabi judo tournament. Israel also has a small mission representing its interests at the International Renewable Energy Agency in Abu Dhabi.\n",
       "\n",
       "___"
      ],
      "text/plain": [
       "<IPython.core.display.HTML object>"
      ]
     },
     "metadata": {},
     "output_type": "display_data"
    },
    {
     "data": {
      "text/html": [
       "<br><br>"
      ],
      "text/plain": [
       "<IPython.core.display.HTML object>"
      ]
     },
     "metadata": {},
     "output_type": "display_data"
    },
    {
     "data": {
      "text/html": [
       "Political traditions\n",
       "\n",
       "It has been a tradition of the French Fifth Republic, whose 42nd government in just 62 years was established in early July, that when things are going badly for a president, the scapegoat is his prime minister. Indeed, there has been such an inevitability to this sequence of events over the years that one begins to wonder why anyone takes the job. To be booted out for your own incompetence is something many officials can just about reconcile themselves to, at least eventually; to be fired on account of somebody else’s, even in the ultra-cynical world of politics, is a bitter business indeed.\n",
       "\n",
       "It takes an arrogant, or supremely self-confident, president to ignore this tradition, and not to use the opportunity presented by a reshuffle to look tough and innovative by putting in a new man or woman as managing director to your own chief executive. Nicolas Sarkozy, inevitably, was one such man. He kept the same prime minister for the whole of his quinquennat, even though he and that man often had a combustible relationship, and the latter now and again threatened to walk out.\n",
       "\n",
       "Also, his prime minister was often more popular than he was, gave the impression of being more competent and even, most of the time, being more honest. Ironically, as many of you will recall, that prime minister was François Fillon, who now awaits the judgment of France’s court of appeal before discovering whether or not he will soon gain first-hand experience of the country’s penal system. However, it is doubtful Sarko would have won had he changed that particular horse in mid-stream: his presidency, not least because of his often emetic character, was flawed beyond rescue by any mere prime minister.\n",
       "\n",
       "François Hollande, however, reinstituted the tradition, getting through three premiers in his five chaotic years in the Elysée Palace; and just over three years into his presidency Emmanuel Macron too has succumbed, replacing Edouard Philippe with Jean Castex. M Philippe returns to Le Havre as mayor, the post he held for seven years before going to Matignon.\n",
       "\n",
       "He did the best possible job he could as prime minister, faced with a president whose idealist approach to politics turned out to be easier to execute in theory than in practice, and who was forced into various compromises, U-turns and even the occasional unwelcome act of coercion, forcing measures through the legislature that it was otherwise determined not to pass.\n",
       "\n",
       "French PM announces new crime-fighting measures\n",
       "\n",
       "An overhaul brewing\n",
       "\n",
       "M Macron’s pop-up party of 2017, La République en Marche, has in recent months haemorrhaged not only notional support in the country, as governments do in mid-term, but has also lost support in the Assemblée Nationale. Even more worrying for M. Macron will have been the suggestion that M. Philippe, a more technocratic figure, with more charm than that label suggests but without a personality cult, was more widely liked by French voters than the president was. In such circumstances but one course of action was feasible: M Philippe had to go. This had been brewing for months; M Philippe signalled his intention to contest the Le Havre mayoralty at the end of January.\n",
       "\n",
       "M Castex is a different proposition. Like his predecessor his roots are on the right, as a former member of Les Républicains, which will only confirm the suspicions many LREM activists harbour that M Macron is determined to move his party in that direction, either pushing Les Républicains so far to the right themselves that they become unelectable, or replacing that party altogether. In French politics, such things are easily possible.\n",
       "\n",
       "M Castex, as his surname might suggest, is a Catalan, and from the opposite end of the Hexagon to M Philippe: for 12 years before his elevation he was Mayor of Prades, just inland from Perpignan, a few miles from the Spanish border; he was born in the deep south, but much further east, at Vic-Fezensac, not far from Pau.\n",
       "\n",
       "M Castex has had a distinguished bureaucratic career that began in the nurseries of Sciences-Po and ENA; he served as a ministerial chief of staff during the Sarkozy years and was called in during April by M Macron to design France’s programme to get out of <span style=\"background-color: #ffd1d1\"><b>lockdown</b></span> after the Covid-19 crisis – a responsibility that, if France endures a second spike of the disease, could yet come back to haunt him.\n",
       "\n",
       "But M Castex landed that job because he was regarded as a safe pair of hands; and for the same reason he became prime minister. Charisma, at least in his interface with the general public, does not appear to be his strong suit. He has a long civil service background – he sat for the years on the Cour des Comptes, or Court of Audit, examining the efficiency of government departments, and even if he is dull he is far from stupid or inexperienced. What he will not do is distract attention, in the run-up to the 2022 election, from a president seeking re-election; but M Macron hope to be able to rely on him to keep matters in government under control while he seeks a second mandate.\n",
       "\n",
       "French politics explained: which party is the &#x27;Opposition&#x27; in current politics?\n",
       "\n",
       "Covid-19-induced economic crisis\n",
       "\n",
       "That, though, is likely to be a tall order. Because of the Covid-19 <span style=\"background-color: #ffd1d1\"><b>pandem</b></span>ic France faces its worst economic crisis since the Fourth Republic, and quite possibly since the Third. Some very hard decisions will have to be taken about public spending that are likely to compound the sense of despair and bewilderment brought on by private sector job losses.\n",
       "\n",
       "It remains to be seen whether an ultra-technocrat such as M Castex has the political skill to present such unpleasant news to the people of France without destabilising M Macron. With Rachida Dati now circling and Marine Le Pen increasingly vocal, the fight in 2022 promises to be less predictable than many have thought. M Castex may find the task ahead beyond even his indubitable level of competence."
      ],
      "text/plain": [
       "<IPython.core.display.HTML object>"
      ]
     },
     "metadata": {},
     "output_type": "display_data"
    },
    {
     "data": {
      "text/html": [
       "<br><br>"
      ],
      "text/plain": [
       "<IPython.core.display.HTML object>"
      ]
     },
     "metadata": {},
     "output_type": "display_data"
    },
    {
     "data": {
      "text/html": [
       "The Socio-Economic Rights Institute (Seri) has argued that poor leadership and weak levels of police accountability persist despite the lessons presented by the Marikana massacre.\n",
       "\n",
       "JOHANNESBURG - With eight years having passed since the Marikana massacre where 34 striking mineworkers were killed by the police, there remain several unimplemented recommendations made by the Farlam Commission.\n",
       "\n",
       "Despite the commission being appointed by then-President Jacob Zuma to investigate matters of public, national and international concern arising out of the massacre, government is yet to effect some of the corrective steps it was advised to implement.\n",
       "\n",
       "The commission chaired by retired Judge Ian Farlam was required to probe the tragic events which took place between 11 and 16 August.\n",
       "\n",
       "It ordered that there be an investigation into what transpired at what is now known as the Second Koppie or Scene Two where 17 mineworkers were killed.\n",
       "\n",
       "The commission expressed an inability to discern what could have taken place, with reports that police shot at the workers at close range, with some arguing that they were surrendering when their colleagues were shot.\n",
       "\n",
       "However, it recommended that a team headed by a senior state advocate should investigate what happened there.\n",
       "\n",
       "Themba Masuku is the program director at the African Policing Civilian Oversight Forum (Apcof).\n",
       "\n",
       "He said that the Independent Police Investigative Directorate (Ipid) has claimed not to have funds to conduct the investigations since the recommendation was made.\n",
       "\n",
       "&quot;It&#x27;s a complete travesty of justice that 34 miners lost their lives and those that were culpable are likely not going to held accountable simply because the investigations were never completed.&quot;\n",
       "\n",
       "The commission also recommended that Lonmin should comply with the housing obligations under the social and labour plans.\n",
       "\n",
       "In its 2018 report, Lonmin said that it had developed modern housing facilities, investing R520 million into the project. It had committed a further R420 million then.\n",
       "\n",
       "However, most of the mineworkers still live in squalor at the nearby Nkaneng informal settlement.\n",
       "\n",
       "JUSTICE FOR MASSACRE VICTIMS\n",
       "\n",
       "The Socio-Economic Rights Institute (Seri) has called for justice for the victims of the Marikana massacre and their families, saying that the state should put more effort into holding those responsible to account.\n",
       "\n",
       "However, this is unlikely to happen anytime soon, with many police investigations, which were meant to be carried out to collect evidence of the murders, stillborn.\n",
       "\n",
       "Seri has argued that poor leadership and weak levels of police accountability persist despite the lessons presented by the Marikana massacre.\n",
       "\n",
       "A total of 44 people died during the unrest at Lonmin’s Marikana mine.\n",
       "\n",
       "Ten died in the preceding week, including two police officers and two security guards, while 34 mineworkers were gunned down by the police during the strike for wage increases.\n",
       "\n",
       "Yet, eight years later, the murders of Mgcineni Noki, Molefi Ntsoele, Fezile Saphendu, Jackson Lehura, Henry Pato and others remain unsolved.\n",
       "\n",
       "Seri’s senior attorney Zamatungwa Khumalo: &quot;While the families of the mineworkers continue to wait for justice, exessive use of force and brutality by the police still persists. Locally, during the <span style=\"background-color: #ffd1d1\"><b>COVID</b></span>-19 national <span style=\"background-color: #ffd1d1\"><b>lockdown</b></span>, SOuth Africa witnessed heavy-handed law enforcement by various law enforcement bodies.&quot;\n",
       "\n",
       "Since 2012, only nine police officers have been prosecuted for the deaths of three striking mineworkers and two police officers.\n",
       "\n",
       "Download the EWN app to your iOS or Android device."
      ],
      "text/plain": [
       "<IPython.core.display.HTML object>"
      ]
     },
     "metadata": {},
     "output_type": "display_data"
    },
    {
     "data": {
      "text/html": [
       "<br><br>"
      ],
      "text/plain": [
       "<IPython.core.display.HTML object>"
      ]
     },
     "metadata": {},
     "output_type": "display_data"
    }
   ],
   "source": [
    "for classifier in classifiers:\n",
    "    print(classifier)\n",
    "\n",
    "    predicted = classifier.predict(df_test[article_keywords])\n",
    "    false_positive = (predicted == True) & (labels == False)\n",
    "\n",
    "    for index, row in df_test[false_positive].head(10).iterrows():\n",
    "        display(HTML(markup(html.escape(row['text']))))\n",
    "        display(HTML('<br><br>'))"
   ]
  },
  {
   "cell_type": "markdown",
   "metadata": {},
   "source": [
    "### TF IDF VECTORIZE"
   ]
  },
  {
   "cell_type": "code",
   "execution_count": 21,
   "metadata": {},
   "outputs": [
    {
     "data": {
      "image/png": "[encoded data removed]",
      "text/plain": [
       "<Figure size 1440x266.4 with 8 Axes>"
      ]
     },
     "metadata": {
      "needs_background": "light"
     },
     "output_type": "display_data"
    },
    {
     "data": {
      "image/png": "[encoded data removed]",
      "text/plain": [
       "<Figure size 1440x266.4 with 8 Axes>"
      ]
     },
     "metadata": {
      "needs_background": "light"
     },
     "output_type": "display_data"
    }
   ],
   "source": [
    "tfidf_vectorizer = TfidfVectorizer(analyzer='word', stop_words='english')\n",
    "\n",
    "x_train = tfidf_vectorizer.fit_transform(df_train['text'])\n",
    "y_train = df_train[label]\n",
    "\n",
    "x_test = tfidf_vectorizer.transform(df_test['text'])\n",
    "y_test = df_test[label]\n",
    "\n",
    "train_classifiers(classifiers, x_train, y_train)\n",
    "\n",
    "plot_confusion_matrices(classifiers, x_train, y_train,title=\"TRAIN\", normalize='true')\n",
    "plot_confusion_matrices(classifiers, x_test, y_test,title=\"TEST\", normalize='true')"
   ]
  },
  {
   "cell_type": "code",
   "execution_count": 22,
   "metadata": {},
   "outputs": [
    {
     "name": "stdout",
     "output_type": "stream",
     "text": [
      "LogisticRegression()\n"
     ]
    },
    {
     "data": {
      "text/html": [
       "Montserrado County tough-talking Senator, Abraham Darius Dillon has submitted a bill seeking for the reduction in lawmakers’ salary.\n",
       "\n",
       "Addressing a news conference yesterday, August 13, 2020, immediately following the submission of the bill to the office of the President Pro-Tempore, Senator Dillon said the bill intends to reduce a legislator’s salary to US$5, 000.00 instead of US$10,000.00.\n",
       "\n",
       "He said when approved, a legislator will be able save over US$300,000.00 monthly and over US$4 million annually.\n",
       "\n",
       "Senator Dillon told journalists that the bill is in fulfillment of his campaign promise made during his senatorial bid last year.\n",
       "\n",
       "According to him residents of Montserrado County during that campaign period pleaded with him to submit a bill that will reduce legislators’ salaries.\n",
       "\n",
       "The Montserrado County Senator said the monies that will be generated from the salary reduction would go back to the country so that, “We can fix the sectors that are dying,” he stressed.\n",
       "\n",
       "Senator Dillon said he has tested that US$5,000.00 is sufficient for a lawmaker, rather than making huge salary at the detriment of the country and its people.\n",
       "\n",
       "He made specific reference to the country’s health sector that can be improved from money generated from the reduction of lawmakers’ salaries.\n",
       "\n",
       "“We can fix our health facilities and make them very affordable… we can equip our medical facilities …. If we really put our feet down, “ he added.\n",
       "\n",
       "He said the lawmakers agree ti reduce their salaries to US$5,000.00 they will be demonstrating to Liberians and the world that, “We came here to represent the aspirations of our people, and we have to make some sacrifices,” he noted.\n",
       "\n",
       "(Visited 36 times, 8 visits today)\n",
       "\n",
       "Comments\n",
       "\n",
       "comments"
      ],
      "text/plain": [
       "<IPython.core.display.HTML object>"
      ]
     },
     "metadata": {},
     "output_type": "display_data"
    },
    {
     "data": {
      "text/html": [
       "<br><br>"
      ],
      "text/plain": [
       "<IPython.core.display.HTML object>"
      ]
     },
     "metadata": {},
     "output_type": "display_data"
    },
    {
     "name": "stdout",
     "output_type": "stream",
     "text": [
      "DecisionTreeClassifier()\n"
     ]
    },
    {
     "data": {
      "text/html": [
       "Regional News of Friday, 14 August 2020\n",
       "\n",
       "Source: Ghana Guardian\n",
       "\n",
       "Govt cuts sod for the construction of Kokoso-Asubonteng town roads\n",
       "\n",
       "The current state of the road\n",
       "\n",
       "The governing New Patriotic Party (NPP), on Thursday, August 13, 2020, cut the sod for the construction of Kokoso-Asubonteng town roads in the Bantama constituency of the Ashanti Region.\n",
       "\n",
       "\n",
       "\n",
       "The project, when completed, will allow traffic flow in areas such as; Kokoso, Adumanu, Babirem, Abrepo, Asubonteng and Bronikrom.\n",
       "\n",
       "\n",
       "\n",
       "Speaking at the groundbreaking ceremony held at the Kokoso lorry station, Member of Parliament (MP) for the Bantama constituency, Daniel Okyem Aboagye, said he was grateful to President Akufo-Addo and the Ministry of Roads and Highways, for finally awarding the project to a contractor as according to him, the road was in a very deplorable state.\n",
       "\n",
       "\n",
       "\n",
       "&quot;If there&#x27;s any road in this constituency that I&#x27;ve continuously fought for over the years, I can tell you, it&#x27;s this very road. So if today, the project has finally been awarded and we&#x27;re all gathered here for its sod cutting, then we owe Nana Akufo-Addo and the Road Minister a big thank you&quot;, said Okyem Aboagye.\n",
       "\n",
       "\n",
       "\n",
       "On his part, the Akyeamehene of Kokoso, Nana Adjei Boakye said, he was equally thankful to Nana Akufo-Addo and his NPP government for the decision to award the town roads in the area to be constructed. He said residents in area have not seen any major rehabilitation on their roads over the years.\n",
       "\n",
       "\n",
       "\n",
       "&quot;This road has been a major issue here. President Kufour tried to construct it but unfortunately there a change of government. So if today the NPP is in power again and they have awarded this road to a contractor, I can only express my innermost appreciation to Nana Addo and his government for not disappointing us&quot;, Nana Boakye said.\n",
       "\n",
       "\n",
       "\n",
       "Other dignitaries who were present at the event were; Mayor of the Kumasi Metropolitan Assembly, Hon. Osei Assibey Antwi, parliamentary candidate for the Bantama constituency and Deputy Chief of Staff, Mr. Asenso Boakye.\n",
       "\n",
       "\n",
       "\n",
       "The Special Guest of Honour was Minister of Roads and Highways, Hon. Akwasi Amoako-Attah.\n",
       "\n",
       "Disclaimer GhanaWeb is not responsible for the reportage or opinions of contributors published on the website. Read our disclaimer.\n",
       "\n",
       "Send your news stories to and via WhatsApp on +233 55 2699 625.\n",
       "\n",
       "Join our Newsletter"
      ],
      "text/plain": [
       "<IPython.core.display.HTML object>"
      ]
     },
     "metadata": {},
     "output_type": "display_data"
    },
    {
     "data": {
      "text/html": [
       "<br><br>"
      ],
      "text/plain": [
       "<IPython.core.display.HTML object>"
      ]
     },
     "metadata": {},
     "output_type": "display_data"
    },
    {
     "data": {
      "text/html": [
       "Sharing is caring!\n",
       "\n",
       "By: Denise Simon | Founders Code\n",
       "\n",
       "MIAMI — The Trump administration has seized the cargo of four tankers it was targeting for transporting Iranian fuel to Venezuela, U.S. officials said Thursday, as it steps up its campaign of maximum pressure against the two heavily sanctioned allies.\n",
       "\n",
       "Last month, federal prosecutors in Washington filed a civil forfeiture complaint alleging that the sale was arranged by a businessman, Mahmoud Madanipour, with ties to Iran‘s Revolutionary Guard Corps, a U.S.-designated foreign terrorist organization. At the time, sanctions experts thought it would be impossible to enforce the U.S. court order in international waters.\n",
       "\n",
       "A senior U.S. official told The Associated Press that no military force was used in the seizures and that the ships weren’t physically confiscated. Rather, U.S. officials threatened ship owners, insurers, and captains with sanction to force them to hand over their cargo, which now becomes U.S. property, the official said.\n",
       "\n",
       "Prosecutors alleged the four ships were transporting to Venezuela 1.1 million barrels of gasoline. But the tankers never arrived at the South American country and then went missing. Two of the ships later reappeared near Cape Verde, a second U.S. official said.\n",
       "\n",
       "Both officials agreed to discuss the sensitive diplomatic and judicial offensive only if granted anonymity.\n",
       "\n",
       "Iran’s ambassador to Venezuela, Hojad Soltani, pushed back on what would appear a victory for the U.S. sanctions campaign, saying Thursday on Twitter that neither the ships nor their owners were Iranian.\n",
       "\n",
       "“This is another lie and act of psychological warfare perpetrated by the U.S. propaganda machine,” Soltani said. “The terrorist #Trump cannot compensate for his humiliation and defeat by Iran using false propaganda.”\n",
       "\n",
       "It is not clear where the vessels — the Bella, Bering, Pandi, and Luna — or their cargoes currently are. But the ship captains weeks ago turned off their tracking devices to hide their locations, said Russ Dallen, a Miami-based partner at brokerage Caracas Capital Markets, who follows ship movements.\n",
       "\n",
       "The Bering went dark on May 11 in the Mediterranean near Greece and has not turned on its transponder since, while the Bella did the same July 2 in the Philippines, Dallen said. The Luna and Pandi were last spotted when they were together in the Gulf of Oman on July 10 when the U.S. seizure order came. Shipping data shows that the Pandi, which also goes by Andy, is reporting that it has been “broken up,” or sold as scrap, Dallen said.\n",
       "\n",
       "As commercial traders increasingly shun Venezuela, Nicolás Maduro’s socialist government has been increasingly turning to Iran.\n",
       "\n",
       "In May, Maduro celebrated the arrival of five Iranian tankers delivering badly needed fuel to alleviate shortages that have led to days-long gas lines even in the capital, Caracas, which is normally spared such hardships.\n",
       "\n",
       "Despite sitting atop the world’s largest crude reserves, Venezuela doesn’t produce enough domestically refined gasoline and has seen its overall crude production plunged to the lowest in over seven decades amid its economic crisis and fallout from U.S. sanctions.\n",
       "\n",
       "The Trump administration has been stepping up pressure on ship owners to abide by sanctions against U.S. adversaries like Iran, Venezuela, and North Korea. In May, it issued an advisory urging the global maritime industry to be on the lookout for tactics to evade sanctions like dangerous ship-to-ship transfers and the turning off of mandatory tracking devices — both techniques used in recent oil deliveries to and from both Iran and Venezuela.\n",
       "\n",
       "One of the companies involved in the shipment to Venezuela, the Avantgarde Group, was previously linked to the Revolutionary Guard and attempts to evade U.S. sanctions, according to prosecutors.\n",
       "\n",
       "An affiliate of Avantgarde facilitated the purchase for the Revolutionary Guard of the Grace 1, a ship seized last year by Britain on U.S. accusations that it was transporting oil to Syria. Iran denied the charges and the Grace 1 was eventually released. But the seizure nonetheless triggered an international standoff in which Iran retaliated by seizing a British-flagged vessel.\n",
       "\n",
       "According to the asset forfeiture complaint, an unnamed company in February invoiced Avantgarde for a $14.9 million cash payment for the sale of the gasoline aboard the Pandi. Nonetheless, a text message between Madanipour and an unnamed co-conspirator suggested the voyage had encountered difficulties.\n",
       "\n",
       "“The shipowner doesn’t want to go because of the American threat, but we want him to go, and we even agreed We will also buy the ship,” according to the message, an excerpt of which was included in the complaint."
      ],
      "text/plain": [
       "<IPython.core.display.HTML object>"
      ]
     },
     "metadata": {},
     "output_type": "display_data"
    },
    {
     "data": {
      "text/html": [
       "<br><br>"
      ],
      "text/plain": [
       "<IPython.core.display.HTML object>"
      ]
     },
     "metadata": {},
     "output_type": "display_data"
    },
    {
     "data": {
      "text/html": [
       "By MarketsFarm\n",
       "\n",
       "WINNIPEG, Aug. 14 (MarketsFarm) – The following is a glance at the news moving markets in Canada and globally.\n",
       "\n",
       "– In a major breakthrough, Israel and the United Arab Emirates agreed to normalize relations between the two Middle East countries on Thursday, in a deal brokered by the United States. To achieve the historic understanding, Israel would halt plans to annex the highly strategic Golan Heights. The two countries will co-operate on energy, water and environmental issues, as well working jointly on a <span style=\"background-color: #ffd1d1\"><b>COVID</b></span>-19 <span style=\"background-color: #ffd1d1\"><b>vaccine</b></span>. Reports stated the UAE was willing to make such a dramatic move out of concerns over Iran’s increasing influence in the region. Iran, Turkey and the Palestinian Authority denounced the deal, with Oman, Bahrain, and Egypt were among the dozens of countries that voiced their support. Israel has maintained peace agreements with Egypt since 1979 and Jordan since 1994.\n",
       "\n",
       "ADVERTISEMENT\n",
       "\n",
       "– Ahead of the next round of extradition hearings beginning on Aug. 17 in Vancouver, lawyers for Huawei executive Meng Wanzhou said on Friday that they are seeking access to hundreds of confidential documents. Meng’s defence contends there was an abuse of process during her December 2018 arrest, alleging there was a “co-ordinated state misconduct” between Canadian and U.S. officials. Earlier this year Canadian officials turned over 400 pages of documents, of which many contained redactions. The Canadian government said divulging all of the information would have violated confidentiality agreements with clients and third parties. The U.S. is seeking to extradite Meng to face charges regarding bank fraud.\n",
       "\n",
       "– Reports stated on Friday that the U.S. seized four tankers bound for Venezuela in May and July that were allegedly transporting 1.1 million barrels of gasoline from Iran. However, Iran denounced the allegations as being U.S. propaganda and said the tankers were not Iranian. Despite having some of the largest oil reserves in the world, Venezuela lacks the refining capacity to supply its own fuel needs. Sanctions imposed by the U.S. against Venezuela have made it difficult for the country to earn revenue from oil exports."
      ],
      "text/plain": [
       "<IPython.core.display.HTML object>"
      ]
     },
     "metadata": {},
     "output_type": "display_data"
    },
    {
     "data": {
      "text/html": [
       "<br><br>"
      ],
      "text/plain": [
       "<IPython.core.display.HTML object>"
      ]
     },
     "metadata": {},
     "output_type": "display_data"
    },
    {
     "data": {
      "text/html": [
       "Text Size: A- A+\n",
       "\n",
       "What we in Iran — the target of a vicious and indiscriminate sanctions regime — have seen from the current US administration is quite straightforward: there is no grand vision for an alternative global community. The US’ fickleness and unpredictability have nothing to do with masterful implementation of game theory. Rather whether it comes to its (mis)management of Covid-19 at home or its undermining of peace and stability abroad, the current regime in Washington has no real plan except to frontally assault those who stand by the rule of law.\n",
       "\n",
       "The US handling of UN Security Council Resolution 2231, which endorsed — and is inseparable from — the Joint Comprehensive Plan of Action (JCPOA), commonly known as the Iran nuclear deal, is a case in point.\n",
       "\n",
       "In July 2015, Iran, the United States, Russia, China, Britain, France and Germany signed a landmark agreement to satisfy any concerns over the exclusively peaceful nature of our nuclear program while relieving the Iranian people of inhumane and unjust sanctions. As part of the JCPOA, the US and other signatories also jointly co-sponsored UN Security Council Resolution 2231, which embraces the nuclear deal — and to which its full 90 pages are attached, thus enshrining the accord into international law.\n",
       "\n",
       "However, in May of 2018, the US administration declared that it had unilaterally opted for “ceasing participation” in the JCPOA. Since then, Iran and the rest of the international community have been left in the extraordinary position of watching the US become the first government in UN history that not just violates a binding resolution it itself sponsored, but also punish those governments and companies that uphold international law by implementing its provisions.\n",
       "\n",
       "As I warned the Security Council last month, this status quo is neither desirable nor sustainable. We are thus at a crossroads.\n",
       "\n",
       "Also read: The US can’t have it both ways over Iran\n",
       "\n",
       "The ‘might makes right’ standard\n",
       "\n",
       "The US administration’s disinformation campaign — including false and forged claims regarding a regional consensus — about the consequences of the remaining signatories to the JCPOA upholding the deal’s provisions, including normalising Iran’s defence cooperation with the world in October, is a ruse to disguise its real, more malevolent motivations: having failed to collapse Resolution 2231 after over two years of the most brutal “maximum pressure” ever imposed on a nation — including depriving ordinary Iranians of access to medicines and medical equipment amid the deadliest <span style=\"background-color: #ffd1d1\"><b>pandem</b></span>ic the world has seen in many decades — the US now hopes to abuse its mal-interpretation of the provisions of the same resolution it abandoned in 2018 to finally destroy it. This deeply malicious US behaviour is evident throughout the UN, where it seeks to use the UN itself to effectively destroy the world body.\n",
       "\n",
       "We are deeply grateful to our readers &amp; viewers for their time, trust and subscriptions. Quality journalism is expensive and needs readers to pay for it. Your support will define our work and ThePrint’s future. SUBSCRIBE NOW\n",
       "\n",
       "There are several key issues and consequences to consider in this equation.\n",
       "\n",
       "First and foremost, one may wonder why or how the collapse of a single UN Security Council resolution on a niche subject relates to the bigger picture. It does, for most notably it would be a generational setback for the cause of multilateralism should the Security Council be bullied into torpedoing its own resolution. Unless all powers respect the principles which the Council was created to embody, it cannot perform its duties, nor can any nation acknowledge its authority.\n",
       "\n",
       "We should not forget that the same US regime has fatuously also withdrawn from the WHO amid the worst global <span style=\"background-color: #ffd1d1\"><b>pandem</b></span>ic, but now seeks to lead the WHO reform process, to the chagrin of its closest Western allies.\n",
       "\n",
       "If the US is allowed to continue on this path, the world will slide backwards toward a ‘might makes right’ standard. And while this may sound appealing to Cold Warriors looking for new targets, even that standard has its limits. For both superpowers of the past century witnessed the unraveling of their international influence in their military defeat in Afghanistan, a country with a GDP that is 14 times smaller than Apple Inc.’s annual revenue.\n",
       "\n",
       "Also read: Why the US will not be able to win support of allies for another confrontation with Iran\n",
       "\n",
       "Attempts to replace international law with domestic law\n",
       "\n",
       "We have also seen in past years how the US administration has — in parallel with its assault on international institutions and accords — sought to supplant international law with its own domestic laws. In practice, this has meant that it is now the US Treasury and not European national governments which decides with whom European companies can do business — be it under Resolution 2231 or their own North Stream gas lifeline.\n",
       "\n",
       "While it has so far primarily been the US that has sought to expand the jurisdiction of its domestic laws, there is nothing to suggest that it will retain a monopoly on it. With the opening of this Pandora’s box and with complacency on the part of some national governments, it is not difficult to imagine a future where ordinary citizens and private enterprises alike may end up having to contend with the extra-territorial application of multiple and growing series of domestic laws — debilitating international travel, trade and investment in a retrograde step for our globalised world.\n",
       "\n",
       "Thus, the international community in general — and the UN Security Council in particular face an important decision: do we maintain respect for the rule of law, or do we return to the law of the jungle?\n",
       "\n",
       "While Iran has proven its resilience and decisive response to coercive bullying, I am confident that — in the next few critical weeks and months — members of the Security Council will refute the campaign struggle of a beleaguered US administration to turn what was the diplomatic achievement of the 21st Century into an exercise in futility, and in the process annihilate what is left of multilateralism and international law.\n",
       "\n",
       "(Mohammad Javad Zarif is the Iran foreign minister. Views are personal)\n",
       "\n",
       "Also read: ‘He’ll be okay’ — An unsympathetic Trump said about Modi after Iran oil sanctions\n",
       "\n",
       "Subscribe to our channels on YouTube &amp; Telegram\n",
       "\n",
       "News media is in a crisis &amp; only you can fix it You are reading this because you value good, intelligent and objective journalism. We thank you for your time and your trust. You also know that the news media is facing an unprecedented crisis. It is likely that you are also hearing of the brutal layoffs and pay-cuts hitting the industry. There are many reasons why the media’s economics is broken. But a big one is that good people are not yet paying enough for good journalism. We have a newsroom filled with talented young reporters. We also have the country’s most robust editing and fact-checking team, finest news photographers and video professionals. We are building India’s most ambitious and energetic news platform. And we aren’t even three yet. At ThePrint, we invest in quality journalists. We pay them fairly and on time even in this difficult period. As you may have noticed, we do not flinch from spending whatever it takes to make sure our reporters reach where the story is. Our stellar <span style=\"background-color: #ffd1d1\"><b>corona</b></span>virus coverage is a good example. You can check some of it here. This comes with a sizable cost. For us to continue bringing quality journalism, we need readers like you to pay for it. Because the advertising market is broken too. If you think we deserve your support, do join us in this endeavour to strengthen fair, free, courageous, and questioning journalism, please click on the link below. Your support will define our journalism, and ThePrint’s future. It will take just a few seconds of your time. Support Our Journalism\n",
       "\n",
       "Show Full Article"
      ],
      "text/plain": [
       "<IPython.core.display.HTML object>"
      ]
     },
     "metadata": {},
     "output_type": "display_data"
    },
    {
     "data": {
      "text/html": [
       "<br><br>"
      ],
      "text/plain": [
       "<IPython.core.display.HTML object>"
      ]
     },
     "metadata": {},
     "output_type": "display_data"
    },
    {
     "data": {
      "text/html": [
       "Aaron Brady was living a “very nice life” in New York before he was extradited back to Ireland, according to a US detective involved in his capture.\n",
       "\n",
       "Brady was this afternoon found guilty of the capital murder of Detective Garda Adrian Donohoe during an armed robbery in County Louth seven years ago.\n",
       "\n",
       "He will be sentenced in October; however, he is facing a minimum of 40 years behind bars for the murder.\n",
       "\n",
       "Speaking to LMFM this morning, retired New York Police Department (NYPD) Detective James Walsh said Gardaí asked for assistance locating Brady in the summer of 2015.\n",
       "\n",
       "He said the Crossmaglen native appeared to be “very security conscious” when police put him under surveillance.\n",
       "\n",
       "“He kept close to himself and his friends,” he said.\n",
       "\n",
       "“He didn’t veer much from his schedule. He had a couple of bars he would visit but he didn’t talk much to many people besides his friends.\n",
       "\n",
       "“He worked construction and that was it. He would never throw anything out in front of us. If he had a bottle of water with him, he always waited until he got home to throw it out – so he was very security conscious and very close to the cloth about his activities.”\n",
       "\n",
       "He said police don’t believe he was aware he was being watched adding that he believes it was “just ingrained into him not to do those things.”\n",
       "\n",
       "“I think he knew that he might be watched but really it was just the security culture that he may have grown up with,” he said.\n",
       "\n",
       "He said Brady was “living a nice life” in New York.\n",
       "\n",
       "“He had a nice apartment, he got married when he was over here, he had a child, he was steadily employed; he seemed like he had a very nice life,” he said.\n",
       "\n",
       "Detective Walsh was not involved in Brady’s arrest because it was a federal matter; however, he was invited to observe on behalf on the NYPD.\n",
       "\n",
       "“When the murder of a police officer is involved, we take it very seriously,” he said. “We would help any agency.\n",
       "\n",
       "“The Gardaí came over here, they were very professional, they gave us a lot of information and we worked hand in hand with them.\n",
       "\n",
       "“There were many individuals besides myself involved in this and it worked out very well.”\n",
       "\n",
       "Brady is due to be sentenced on October 14th.\n",
       "\n",
       "Gardaí have warned that their investigation is ongoing as other suspects believed to have been involved in the robbery still need to be brought to justice."
      ],
      "text/plain": [
       "<IPython.core.display.HTML object>"
      ]
     },
     "metadata": {},
     "output_type": "display_data"
    },
    {
     "data": {
      "text/html": [
       "<br><br>"
      ],
      "text/plain": [
       "<IPython.core.display.HTML object>"
      ]
     },
     "metadata": {},
     "output_type": "display_data"
    },
    {
     "data": {
      "text/html": [
       "From China Media Project:\n",
       "\n",
       "A new local regulation combating official corruption and abuse of duty in Henan’s capital city of Zhengzhou makes specific mention of watchdog journalism, or “supervision by public opinion” (ËàÜËÆ∫ÁõëÁù£), as a key form of monitoring. An article in today’s official People’s Daily notes with a hint of praise that the legislation “especially singles news media out”, saying “news units should carry out supervision by public opinion on national government personnel” [NOTE: While the Chinese specifies “national” government personnel, this can be understood more generally as “government personnel”, applying to those officials within the jurisdiction of Zhengzhou].[Full Text]"
      ],
      "text/plain": [
       "<IPython.core.display.HTML object>"
      ]
     },
     "metadata": {},
     "output_type": "display_data"
    },
    {
     "data": {
      "text/html": [
       "<br><br>"
      ],
      "text/plain": [
       "<IPython.core.display.HTML object>"
      ]
     },
     "metadata": {},
     "output_type": "display_data"
    },
    {
     "data": {
      "text/html": [
       "THE SISTER of slain tech CEO Fahim Saleh has spoken of her family’s “piercing pain” after his gruesome decapitation.\n",
       "\n",
       "Ruby Angela Saleh reveals in a letter that funeral directors had to sew his head and limbs back onto his body for the service.\n",
       "\n",
       "Saleh, the CEO of the Nigerian ride-hailing motorcycle app Gokada, was found dead in his New York City apartment last month after his former assistant, 21-year-old Tyrese Haspil, allegedly decapitated him.\n",
       "\n",
       "9 Fahim Saleh, left, with sisters Ruby and Rif\n",
       "\n",
       "9 Fahim Saleh and members of his family in an undated Facebook photo Credit: Facebook/Jay Ce\n",
       "\n",
       "9 Fahim Saleh, center, with sisters Ruby Saleh, right, and Rif Saleh, second-right Credit: Facebook/Jay Ce\n",
       "\n",
       "Ruby, who organized her brother’s funeral, wrote in the Medium post that the funeral home called three days before his burial to say that his limbs and head would not be able to be reattached.\n",
       "\n",
       "“Upon receiving that news, I closed my eyes and crossed my arms over my chest like a Pharaoh, squeezing my phone against my body. My hands formed fists that I pushed into my heart with all my strength to contain my pain,&quot; she wrote.\n",
       "\n",
       "Ruby said she requested funeral directors arrange his body parts in their proper places within the casket for the viewing.\n",
       "\n",
       "Luckily, the man called back a day before the burial with good news – her brother&#x27;s body had been reassembled.\n",
       "\n",
       "9 Ruby Saleh also uploaded a video and said her family want justice\n",
       "\n",
       "“My family and I looked at our sweet boy’s face in the casket. He seemed to be sleeping peacefully. His body was covered in a white sheet, ice packs placed on his torso, his beautiful eyelashes long and lustrous against his skin,” Ruby wrote.\n",
       "\n",
       "She revealed that she first heard about her brother&#x27;s death when her aunt called at 10:47 p.m. on July 14 while Ruby was in bed with her husband.\n",
       "\n",
       "“My shoulders stiffened while the rest of my body went limp. Maybe one of my parents had <span style=\"background-color: #ffd1d1\"><b>COVID</b></span>?” Saleh recounted.\n",
       "\n",
       "She said that when her aunt gave the horrific news, the “words didn’t make sense.”\n",
       "\n",
       "9 Fahim Saleh was found butchered in his Lower East Side apartment Credit: Instagram\n",
       "\n",
       "9 A view of the outside of Fahim Saleh&#x27;s apartment where he was found brutally murdered Credit: AP:Associated Press\n",
       "\n",
       "“I dropped the phone and crawled onto the wooden floor, touching its cold, hard surface with the palms of my hands,” Ruby said in the tear-jerking letter.\n",
       "\n",
       "She also revealed that her brother&#x27;s dismembered torso had been found by their cousin, named as “A,” after the family hadn’t heard from him in a while.\n",
       "\n",
       "“Someone had cut my brother’s body into pieces and tossed the pieces into a garbage bag, as if his life, his body, his existence had had no meaning or value,” Ruby wrote.\n",
       "\n",
       "The heartbroken sister, who wrote that she “felt more like a mother to Fahim,” added that the family tried to keep as much of the tragic news from her parents as possible including the moments his lifeless body had to be identified with authorities.\n",
       "\n",
       "9 Tyrese Devon Haspil, 21, is accused of beheading Fahim Saleh Credit: Twitter\n",
       "\n",
       "9 Tyrese Haspil, the suspect in the murder of Fahim Saleh, is escorted by police Credit: Reuters\n",
       "\n",
       "The funeral home had called Ruby to tell her that because of the <span style=\"background-color: #ffd1d1\"><b>corona</b></span>virus <span style=\"background-color: #ffd1d1\"><b>pandem</b></span>ic, Fahim’s body would have to be identified by photo.\n",
       "\n",
       "Ruby, her sister and cousin gathered around their computer to open the email attachment.\n",
       "\n",
       "&quot;I felt nauseated,&quot; she wrote.\n",
       "\n",
       "“My father heard our cries and knocked on the door, asking what was going on. We quickly shut the computer, wiped our faces, and told him we were fine.&quot;\n",
       "\n",
       "“We could never tell him what we had seen.”\n",
       "\n",
       "Ruby said that since his death, their father, an immigrant from Bangladesh, spends his days sitting next to Fahim’s dog Laila while watching videos about his son while her mom spends the day crying.\n",
       "\n",
       "In a new video, Ruby cries as she says: &quot;It doesn&#x27;t feel like life can ever be joyful again.&quot;\n",
       "\n",
       "&quot;My last ask is, if you’re someone’s sister, the next time you see your brother please hug him as tightly as you can for as long as you want because that’s all I want to do,&quot; she says in the video.\n",
       "\n",
       "&quot;But I’ll never be able to hug Fahim again.&quot;\n",
       "\n",
       "Ruby said her family will do everything in its power to keep Fahim&#x27;s memory alive &quot;and keep his visions going.&quot;\n",
       "\n",
       "&quot;My family and I are in such shock and debilitating pain.&quot;\n",
       "\n",
       "9 Fahim Saleh with sister Rif Credit: Facebook/Jay Ce\n",
       "\n",
       "“Thanksgiving, our family’s favorite holiday, will be especially difficult this year. Fahim always made the garlic mashed potatoes, while I made the stuffing and my sister made her famous mac and cheese,” she recounted.\n",
       "\n",
       "Ruby wrote that her brother’s brain “was a bottomless magic hat of ideas” that helped ease the family’s financial burden after their father was forced to retire from his job as a computer programmer.\n",
       "\n",
       "“Having come from so little, Fahim had zero interest in being a rich entrepreneur who only hung out with other rich entrepreneurs. His heart was most open to those in need,” she wrote.\n",
       "\n",
       "Most read in News SICK VID Calls for Rick &amp; Morty to be AXED over vid of creator pretending to rape baby doll FACING JUSTICE Husband &#x27;bludgeoned his secret porn-star wife to death with absinthe bottle&#x27; DESPERATE Thousands of cars form line for Dallas food bank amid virus unemployment crisis WILD CLAIMS Trump saw ‘golden showers in sex club’ &amp; ‘cheated in election’, Cohen claims TIKTOK SELL-OFF Trump orders TikTok&#x27;s Chinese owners to sell off US operations in 90 days &#x27;SCARFACE&#x27; Harry &amp; Meg&#x27;s $14m home was owned by Russian tycoon &#x27;who threatened to chop ex&#x27;\n",
       "\n",
       "Haspil has since pleaded not guilty in Fahim&#x27;s murder – even after video emerged showing the personal assistant buying a saw that authorities believed was used to butcher him.\n",
       "\n",
       "His aunt Marjorie Sine described her nephew as &quot;sometimes troublesome&quot; and revealed he had a &quot;difficult childhood&quot;.\n",
       "\n",
       "Court records show that Haspil is being defended by Legal Aid lawyers and is scheduled to appear in court again on Aug. 19."
      ],
      "text/plain": [
       "<IPython.core.display.HTML object>"
      ]
     },
     "metadata": {},
     "output_type": "display_data"
    },
    {
     "data": {
      "text/html": [
       "<br><br>"
      ],
      "text/plain": [
       "<IPython.core.display.HTML object>"
      ]
     },
     "metadata": {},
     "output_type": "display_data"
    },
    {
     "data": {
      "text/html": [
       "The Governor of Kaduna State, Nasir El-Rufai has welcomed the deployment of Special Forces to quell violence in the Southern part of the state.\n",
       "\n",
       "Governor El-Rufai while addressing the Special Forces at the Sector 7 Headquarters of Operation Safe Haven in Kafanchan on Friday, expressed confidence that insecurity in the area will be nipped in the bud.\n",
       "\n",
       "The governor who was represented by the Commissioner of Internal Security and Home Affairs, Samuel Aruwan, assured that the state government would continue to place priority on security as the backbone of sustainable development.\n",
       "\n",
       "In a statement issued through Aruwan, Governor El-Rufai formally welcomed the Special Forces to Kaduna State, and Southern Kaduna in particular after their induction, stressing, “You are courageous and outstanding officers who have done well in Faskari, Batsari and other flashpoints in the country.\n",
       "\n",
       "READ ALSO: KADUNA KILLINGS: El-Rufai extends curfew placed on Kauru, Zangon-Kataf to two other LGAs\n",
       "\n",
       "“I am optimistic that the Special Forces would do well in consolidating the gains already achieved by troops, police and other security agencies in the affected areas towards restoring normalcy.\n",
       "\n",
       "“The state government is conducting series of engagements with traditional rulers, religious leaders, community leaders, civil society and other agencies, to promote peace in the state,” he noted.\n",
       "\n",
       "He added that failure to recourse to the law only worsens the situation at hand, and as such, advising that citizens must resort to available lawful means for arbitration and amicable resolution of grievances.\n",
       "\n",
       "This came after El-Rufai revealed those inciting wanton violence in his domain.\n",
       "\n",
       "Governor El-Rufai who was speaking at the state’s Government House on Thursday while playing host to the Primate of Anglican Church, Henry Ndukuba, accused clerics of instigating violence in the State.\n",
       "\n",
       "He said the clerics use their platforms to preach disunity rather than peace which would benefit the state. The governor however insisted that his administration has been able to contain violence at its point of origin.\n",
       "\n",
       "Join the conversation\n",
       "\n",
       "Opinions"
      ],
      "text/plain": [
       "<IPython.core.display.HTML object>"
      ]
     },
     "metadata": {},
     "output_type": "display_data"
    },
    {
     "data": {
      "text/html": [
       "<br><br>"
      ],
      "text/plain": [
       "<IPython.core.display.HTML object>"
      ]
     },
     "metadata": {},
     "output_type": "display_data"
    },
    {
     "data": {
      "text/html": [
       "His Majesty King Hamad received a cable of thanks from Yemeni Ambassador Dr Ali Hassan Al Ahmadi, in reply to his cable of condolences for deceased Yemeni citizens residing in Bahrain of <span style=\"background-color: #ffd1d1\"><b>corona</b></span>virus. The ambassador expressed his deep appreciation to His Majesty’s good feelings, and the Bahraini government for the care extended to residents in the kingdom ."
      ],
      "text/plain": [
       "<IPython.core.display.HTML object>"
      ]
     },
     "metadata": {},
     "output_type": "display_data"
    },
    {
     "data": {
      "text/html": [
       "<br><br>"
      ],
      "text/plain": [
       "<IPython.core.display.HTML object>"
      ]
     },
     "metadata": {},
     "output_type": "display_data"
    },
    {
     "data": {
      "text/html": [
       "Political traditions\n",
       "\n",
       "It has been a tradition of the French Fifth Republic, whose 42nd government in just 62 years was established in early July, that when things are going badly for a president, the scapegoat is his prime minister. Indeed, there has been such an inevitability to this sequence of events over the years that one begins to wonder why anyone takes the job. To be booted out for your own incompetence is something many officials can just about reconcile themselves to, at least eventually; to be fired on account of somebody else’s, even in the ultra-cynical world of politics, is a bitter business indeed.\n",
       "\n",
       "It takes an arrogant, or supremely self-confident, president to ignore this tradition, and not to use the opportunity presented by a reshuffle to look tough and innovative by putting in a new man or woman as managing director to your own chief executive. Nicolas Sarkozy, inevitably, was one such man. He kept the same prime minister for the whole of his quinquennat, even though he and that man often had a combustible relationship, and the latter now and again threatened to walk out.\n",
       "\n",
       "Also, his prime minister was often more popular than he was, gave the impression of being more competent and even, most of the time, being more honest. Ironically, as many of you will recall, that prime minister was François Fillon, who now awaits the judgment of France’s court of appeal before discovering whether or not he will soon gain first-hand experience of the country’s penal system. However, it is doubtful Sarko would have won had he changed that particular horse in mid-stream: his presidency, not least because of his often emetic character, was flawed beyond rescue by any mere prime minister.\n",
       "\n",
       "François Hollande, however, reinstituted the tradition, getting through three premiers in his five chaotic years in the Elysée Palace; and just over three years into his presidency Emmanuel Macron too has succumbed, replacing Edouard Philippe with Jean Castex. M Philippe returns to Le Havre as mayor, the post he held for seven years before going to Matignon.\n",
       "\n",
       "He did the best possible job he could as prime minister, faced with a president whose idealist approach to politics turned out to be easier to execute in theory than in practice, and who was forced into various compromises, U-turns and even the occasional unwelcome act of coercion, forcing measures through the legislature that it was otherwise determined not to pass.\n",
       "\n",
       "French PM announces new crime-fighting measures\n",
       "\n",
       "An overhaul brewing\n",
       "\n",
       "M Macron’s pop-up party of 2017, La République en Marche, has in recent months haemorrhaged not only notional support in the country, as governments do in mid-term, but has also lost support in the Assemblée Nationale. Even more worrying for M. Macron will have been the suggestion that M. Philippe, a more technocratic figure, with more charm than that label suggests but without a personality cult, was more widely liked by French voters than the president was. In such circumstances but one course of action was feasible: M Philippe had to go. This had been brewing for months; M Philippe signalled his intention to contest the Le Havre mayoralty at the end of January.\n",
       "\n",
       "M Castex is a different proposition. Like his predecessor his roots are on the right, as a former member of Les Républicains, which will only confirm the suspicions many LREM activists harbour that M Macron is determined to move his party in that direction, either pushing Les Républicains so far to the right themselves that they become unelectable, or replacing that party altogether. In French politics, such things are easily possible.\n",
       "\n",
       "M Castex, as his surname might suggest, is a Catalan, and from the opposite end of the Hexagon to M Philippe: for 12 years before his elevation he was Mayor of Prades, just inland from Perpignan, a few miles from the Spanish border; he was born in the deep south, but much further east, at Vic-Fezensac, not far from Pau.\n",
       "\n",
       "M Castex has had a distinguished bureaucratic career that began in the nurseries of Sciences-Po and ENA; he served as a ministerial chief of staff during the Sarkozy years and was called in during April by M Macron to design France’s programme to get out of <span style=\"background-color: #ffd1d1\"><b>lockdown</b></span> after the Covid-19 crisis – a responsibility that, if France endures a second spike of the disease, could yet come back to haunt him.\n",
       "\n",
       "But M Castex landed that job because he was regarded as a safe pair of hands; and for the same reason he became prime minister. Charisma, at least in his interface with the general public, does not appear to be his strong suit. He has a long civil service background – he sat for the years on the Cour des Comptes, or Court of Audit, examining the efficiency of government departments, and even if he is dull he is far from stupid or inexperienced. What he will not do is distract attention, in the run-up to the 2022 election, from a president seeking re-election; but M Macron hope to be able to rely on him to keep matters in government under control while he seeks a second mandate.\n",
       "\n",
       "French politics explained: which party is the &#x27;Opposition&#x27; in current politics?\n",
       "\n",
       "Covid-19-induced economic crisis\n",
       "\n",
       "That, though, is likely to be a tall order. Because of the Covid-19 <span style=\"background-color: #ffd1d1\"><b>pandem</b></span>ic France faces its worst economic crisis since the Fourth Republic, and quite possibly since the Third. Some very hard decisions will have to be taken about public spending that are likely to compound the sense of despair and bewilderment brought on by private sector job losses.\n",
       "\n",
       "It remains to be seen whether an ultra-technocrat such as M Castex has the political skill to present such unpleasant news to the people of France without destabilising M Macron. With Rachida Dati now circling and Marine Le Pen increasingly vocal, the fight in 2022 promises to be less predictable than many have thought. M Castex may find the task ahead beyond even his indubitable level of competence."
      ],
      "text/plain": [
       "<IPython.core.display.HTML object>"
      ]
     },
     "metadata": {},
     "output_type": "display_data"
    },
    {
     "data": {
      "text/html": [
       "<br><br>"
      ],
      "text/plain": [
       "<IPython.core.display.HTML object>"
      ]
     },
     "metadata": {},
     "output_type": "display_data"
    },
    {
     "name": "stdout",
     "output_type": "stream",
     "text": [
      "RandomForestClassifier()\n"
     ]
    },
    {
     "data": {
      "text/html": [
       "THE SISTER of slain tech CEO Fahim Saleh has spoken of her family’s “piercing pain” after his gruesome decapitation.\n",
       "\n",
       "Ruby Angela Saleh reveals in a letter that funeral directors had to sew his head and limbs back onto his body for the service.\n",
       "\n",
       "Saleh, the CEO of the Nigerian ride-hailing motorcycle app Gokada, was found dead in his New York City apartment last month after his former assistant, 21-year-old Tyrese Haspil, allegedly decapitated him.\n",
       "\n",
       "9 Fahim Saleh, left, with sisters Ruby and Rif\n",
       "\n",
       "9 Fahim Saleh and members of his family in an undated Facebook photo Credit: Facebook/Jay Ce\n",
       "\n",
       "9 Fahim Saleh, center, with sisters Ruby Saleh, right, and Rif Saleh, second-right Credit: Facebook/Jay Ce\n",
       "\n",
       "Ruby, who organized her brother’s funeral, wrote in the Medium post that the funeral home called three days before his burial to say that his limbs and head would not be able to be reattached.\n",
       "\n",
       "“Upon receiving that news, I closed my eyes and crossed my arms over my chest like a Pharaoh, squeezing my phone against my body. My hands formed fists that I pushed into my heart with all my strength to contain my pain,&quot; she wrote.\n",
       "\n",
       "Ruby said she requested funeral directors arrange his body parts in their proper places within the casket for the viewing.\n",
       "\n",
       "Luckily, the man called back a day before the burial with good news – her brother&#x27;s body had been reassembled.\n",
       "\n",
       "9 Ruby Saleh also uploaded a video and said her family want justice\n",
       "\n",
       "“My family and I looked at our sweet boy’s face in the casket. He seemed to be sleeping peacefully. His body was covered in a white sheet, ice packs placed on his torso, his beautiful eyelashes long and lustrous against his skin,” Ruby wrote.\n",
       "\n",
       "She revealed that she first heard about her brother&#x27;s death when her aunt called at 10:47 p.m. on July 14 while Ruby was in bed with her husband.\n",
       "\n",
       "“My shoulders stiffened while the rest of my body went limp. Maybe one of my parents had <span style=\"background-color: #ffd1d1\"><b>COVID</b></span>?” Saleh recounted.\n",
       "\n",
       "She said that when her aunt gave the horrific news, the “words didn’t make sense.”\n",
       "\n",
       "9 Fahim Saleh was found butchered in his Lower East Side apartment Credit: Instagram\n",
       "\n",
       "9 A view of the outside of Fahim Saleh&#x27;s apartment where he was found brutally murdered Credit: AP:Associated Press\n",
       "\n",
       "“I dropped the phone and crawled onto the wooden floor, touching its cold, hard surface with the palms of my hands,” Ruby said in the tear-jerking letter.\n",
       "\n",
       "She also revealed that her brother&#x27;s dismembered torso had been found by their cousin, named as “A,” after the family hadn’t heard from him in a while.\n",
       "\n",
       "“Someone had cut my brother’s body into pieces and tossed the pieces into a garbage bag, as if his life, his body, his existence had had no meaning or value,” Ruby wrote.\n",
       "\n",
       "The heartbroken sister, who wrote that she “felt more like a mother to Fahim,” added that the family tried to keep as much of the tragic news from her parents as possible including the moments his lifeless body had to be identified with authorities.\n",
       "\n",
       "9 Tyrese Devon Haspil, 21, is accused of beheading Fahim Saleh Credit: Twitter\n",
       "\n",
       "9 Tyrese Haspil, the suspect in the murder of Fahim Saleh, is escorted by police Credit: Reuters\n",
       "\n",
       "The funeral home had called Ruby to tell her that because of the <span style=\"background-color: #ffd1d1\"><b>corona</b></span>virus <span style=\"background-color: #ffd1d1\"><b>pandem</b></span>ic, Fahim’s body would have to be identified by photo.\n",
       "\n",
       "Ruby, her sister and cousin gathered around their computer to open the email attachment.\n",
       "\n",
       "&quot;I felt nauseated,&quot; she wrote.\n",
       "\n",
       "“My father heard our cries and knocked on the door, asking what was going on. We quickly shut the computer, wiped our faces, and told him we were fine.&quot;\n",
       "\n",
       "“We could never tell him what we had seen.”\n",
       "\n",
       "Ruby said that since his death, their father, an immigrant from Bangladesh, spends his days sitting next to Fahim’s dog Laila while watching videos about his son while her mom spends the day crying.\n",
       "\n",
       "In a new video, Ruby cries as she says: &quot;It doesn&#x27;t feel like life can ever be joyful again.&quot;\n",
       "\n",
       "&quot;My last ask is, if you’re someone’s sister, the next time you see your brother please hug him as tightly as you can for as long as you want because that’s all I want to do,&quot; she says in the video.\n",
       "\n",
       "&quot;But I’ll never be able to hug Fahim again.&quot;\n",
       "\n",
       "Ruby said her family will do everything in its power to keep Fahim&#x27;s memory alive &quot;and keep his visions going.&quot;\n",
       "\n",
       "&quot;My family and I are in such shock and debilitating pain.&quot;\n",
       "\n",
       "9 Fahim Saleh with sister Rif Credit: Facebook/Jay Ce\n",
       "\n",
       "“Thanksgiving, our family’s favorite holiday, will be especially difficult this year. Fahim always made the garlic mashed potatoes, while I made the stuffing and my sister made her famous mac and cheese,” she recounted.\n",
       "\n",
       "Ruby wrote that her brother’s brain “was a bottomless magic hat of ideas” that helped ease the family’s financial burden after their father was forced to retire from his job as a computer programmer.\n",
       "\n",
       "“Having come from so little, Fahim had zero interest in being a rich entrepreneur who only hung out with other rich entrepreneurs. His heart was most open to those in need,” she wrote.\n",
       "\n",
       "Most read in News SICK VID Calls for Rick &amp; Morty to be AXED over vid of creator pretending to rape baby doll FACING JUSTICE Husband &#x27;bludgeoned his secret porn-star wife to death with absinthe bottle&#x27; DESPERATE Thousands of cars form line for Dallas food bank amid virus unemployment crisis WILD CLAIMS Trump saw ‘golden showers in sex club’ &amp; ‘cheated in election’, Cohen claims TIKTOK SELL-OFF Trump orders TikTok&#x27;s Chinese owners to sell off US operations in 90 days &#x27;SCARFACE&#x27; Harry &amp; Meg&#x27;s $14m home was owned by Russian tycoon &#x27;who threatened to chop ex&#x27;\n",
       "\n",
       "Haspil has since pleaded not guilty in Fahim&#x27;s murder – even after video emerged showing the personal assistant buying a saw that authorities believed was used to butcher him.\n",
       "\n",
       "His aunt Marjorie Sine described her nephew as &quot;sometimes troublesome&quot; and revealed he had a &quot;difficult childhood&quot;.\n",
       "\n",
       "Court records show that Haspil is being defended by Legal Aid lawyers and is scheduled to appear in court again on Aug. 19."
      ],
      "text/plain": [
       "<IPython.core.display.HTML object>"
      ]
     },
     "metadata": {},
     "output_type": "display_data"
    },
    {
     "data": {
      "text/html": [
       "<br><br>"
      ],
      "text/plain": [
       "<IPython.core.display.HTML object>"
      ]
     },
     "metadata": {},
     "output_type": "display_data"
    },
    {
     "data": {
      "text/html": [
       "The Socio-Economic Rights Institute (Seri) has argued that poor leadership and weak levels of police accountability persist despite the lessons presented by the Marikana massacre.\n",
       "\n",
       "JOHANNESBURG - With eight years having passed since the Marikana massacre where 34 striking mineworkers were killed by the police, there remain several unimplemented recommendations made by the Farlam Commission.\n",
       "\n",
       "Despite the commission being appointed by then-President Jacob Zuma to investigate matters of public, national and international concern arising out of the massacre, government is yet to effect some of the corrective steps it was advised to implement.\n",
       "\n",
       "The commission chaired by retired Judge Ian Farlam was required to probe the tragic events which took place between 11 and 16 August.\n",
       "\n",
       "It ordered that there be an investigation into what transpired at what is now known as the Second Koppie or Scene Two where 17 mineworkers were killed.\n",
       "\n",
       "The commission expressed an inability to discern what could have taken place, with reports that police shot at the workers at close range, with some arguing that they were surrendering when their colleagues were shot.\n",
       "\n",
       "However, it recommended that a team headed by a senior state advocate should investigate what happened there.\n",
       "\n",
       "Themba Masuku is the program director at the African Policing Civilian Oversight Forum (Apcof).\n",
       "\n",
       "He said that the Independent Police Investigative Directorate (Ipid) has claimed not to have funds to conduct the investigations since the recommendation was made.\n",
       "\n",
       "&quot;It&#x27;s a complete travesty of justice that 34 miners lost their lives and those that were culpable are likely not going to held accountable simply because the investigations were never completed.&quot;\n",
       "\n",
       "The commission also recommended that Lonmin should comply with the housing obligations under the social and labour plans.\n",
       "\n",
       "In its 2018 report, Lonmin said that it had developed modern housing facilities, investing R520 million into the project. It had committed a further R420 million then.\n",
       "\n",
       "However, most of the mineworkers still live in squalor at the nearby Nkaneng informal settlement.\n",
       "\n",
       "JUSTICE FOR MASSACRE VICTIMS\n",
       "\n",
       "The Socio-Economic Rights Institute (Seri) has called for justice for the victims of the Marikana massacre and their families, saying that the state should put more effort into holding those responsible to account.\n",
       "\n",
       "However, this is unlikely to happen anytime soon, with many police investigations, which were meant to be carried out to collect evidence of the murders, stillborn.\n",
       "\n",
       "Seri has argued that poor leadership and weak levels of police accountability persist despite the lessons presented by the Marikana massacre.\n",
       "\n",
       "A total of 44 people died during the unrest at Lonmin’s Marikana mine.\n",
       "\n",
       "Ten died in the preceding week, including two police officers and two security guards, while 34 mineworkers were gunned down by the police during the strike for wage increases.\n",
       "\n",
       "Yet, eight years later, the murders of Mgcineni Noki, Molefi Ntsoele, Fezile Saphendu, Jackson Lehura, Henry Pato and others remain unsolved.\n",
       "\n",
       "Seri’s senior attorney Zamatungwa Khumalo: &quot;While the families of the mineworkers continue to wait for justice, exessive use of force and brutality by the police still persists. Locally, during the <span style=\"background-color: #ffd1d1\"><b>COVID</b></span>-19 national <span style=\"background-color: #ffd1d1\"><b>lockdown</b></span>, SOuth Africa witnessed heavy-handed law enforcement by various law enforcement bodies.&quot;\n",
       "\n",
       "Since 2012, only nine police officers have been prosecuted for the deaths of three striking mineworkers and two police officers.\n",
       "\n",
       "Download the EWN app to your iOS or Android device."
      ],
      "text/plain": [
       "<IPython.core.display.HTML object>"
      ]
     },
     "metadata": {},
     "output_type": "display_data"
    },
    {
     "data": {
      "text/html": [
       "<br><br>"
      ],
      "text/plain": [
       "<IPython.core.display.HTML object>"
      ]
     },
     "metadata": {},
     "output_type": "display_data"
    },
    {
     "name": "stdout",
     "output_type": "stream",
     "text": [
      "GradientBoostingClassifier()\n"
     ]
    },
    {
     "data": {
      "text/html": [
       "By MarketsFarm\n",
       "\n",
       "WINNIPEG, Aug. 14 (MarketsFarm) – The following is a glance at the news moving markets in Canada and globally.\n",
       "\n",
       "– In a major breakthrough, Israel and the United Arab Emirates agreed to normalize relations between the two Middle East countries on Thursday, in a deal brokered by the United States. To achieve the historic understanding, Israel would halt plans to annex the highly strategic Golan Heights. The two countries will co-operate on energy, water and environmental issues, as well working jointly on a <span style=\"background-color: #ffd1d1\"><b>COVID</b></span>-19 <span style=\"background-color: #ffd1d1\"><b>vaccine</b></span>. Reports stated the UAE was willing to make such a dramatic move out of concerns over Iran’s increasing influence in the region. Iran, Turkey and the Palestinian Authority denounced the deal, with Oman, Bahrain, and Egypt were among the dozens of countries that voiced their support. Israel has maintained peace agreements with Egypt since 1979 and Jordan since 1994.\n",
       "\n",
       "ADVERTISEMENT\n",
       "\n",
       "– Ahead of the next round of extradition hearings beginning on Aug. 17 in Vancouver, lawyers for Huawei executive Meng Wanzhou said on Friday that they are seeking access to hundreds of confidential documents. Meng’s defence contends there was an abuse of process during her December 2018 arrest, alleging there was a “co-ordinated state misconduct” between Canadian and U.S. officials. Earlier this year Canadian officials turned over 400 pages of documents, of which many contained redactions. The Canadian government said divulging all of the information would have violated confidentiality agreements with clients and third parties. The U.S. is seeking to extradite Meng to face charges regarding bank fraud.\n",
       "\n",
       "– Reports stated on Friday that the U.S. seized four tankers bound for Venezuela in May and July that were allegedly transporting 1.1 million barrels of gasoline from Iran. However, Iran denounced the allegations as being U.S. propaganda and said the tankers were not Iranian. Despite having some of the largest oil reserves in the world, Venezuela lacks the refining capacity to supply its own fuel needs. Sanctions imposed by the U.S. against Venezuela have made it difficult for the country to earn revenue from oil exports."
      ],
      "text/plain": [
       "<IPython.core.display.HTML object>"
      ]
     },
     "metadata": {},
     "output_type": "display_data"
    },
    {
     "data": {
      "text/html": [
       "<br><br>"
      ],
      "text/plain": [
       "<IPython.core.display.HTML object>"
      ]
     },
     "metadata": {},
     "output_type": "display_data"
    },
    {
     "data": {
      "text/html": [
       "Text Size: A- A+\n",
       "\n",
       "What we in Iran — the target of a vicious and indiscriminate sanctions regime — have seen from the current US administration is quite straightforward: there is no grand vision for an alternative global community. The US’ fickleness and unpredictability have nothing to do with masterful implementation of game theory. Rather whether it comes to its (mis)management of Covid-19 at home or its undermining of peace and stability abroad, the current regime in Washington has no real plan except to frontally assault those who stand by the rule of law.\n",
       "\n",
       "The US handling of UN Security Council Resolution 2231, which endorsed — and is inseparable from — the Joint Comprehensive Plan of Action (JCPOA), commonly known as the Iran nuclear deal, is a case in point.\n",
       "\n",
       "In July 2015, Iran, the United States, Russia, China, Britain, France and Germany signed a landmark agreement to satisfy any concerns over the exclusively peaceful nature of our nuclear program while relieving the Iranian people of inhumane and unjust sanctions. As part of the JCPOA, the US and other signatories also jointly co-sponsored UN Security Council Resolution 2231, which embraces the nuclear deal — and to which its full 90 pages are attached, thus enshrining the accord into international law.\n",
       "\n",
       "However, in May of 2018, the US administration declared that it had unilaterally opted for “ceasing participation” in the JCPOA. Since then, Iran and the rest of the international community have been left in the extraordinary position of watching the US become the first government in UN history that not just violates a binding resolution it itself sponsored, but also punish those governments and companies that uphold international law by implementing its provisions.\n",
       "\n",
       "As I warned the Security Council last month, this status quo is neither desirable nor sustainable. We are thus at a crossroads.\n",
       "\n",
       "Also read: The US can’t have it both ways over Iran\n",
       "\n",
       "The ‘might makes right’ standard\n",
       "\n",
       "The US administration’s disinformation campaign — including false and forged claims regarding a regional consensus — about the consequences of the remaining signatories to the JCPOA upholding the deal’s provisions, including normalising Iran’s defence cooperation with the world in October, is a ruse to disguise its real, more malevolent motivations: having failed to collapse Resolution 2231 after over two years of the most brutal “maximum pressure” ever imposed on a nation — including depriving ordinary Iranians of access to medicines and medical equipment amid the deadliest <span style=\"background-color: #ffd1d1\"><b>pandem</b></span>ic the world has seen in many decades — the US now hopes to abuse its mal-interpretation of the provisions of the same resolution it abandoned in 2018 to finally destroy it. This deeply malicious US behaviour is evident throughout the UN, where it seeks to use the UN itself to effectively destroy the world body.\n",
       "\n",
       "We are deeply grateful to our readers &amp; viewers for their time, trust and subscriptions. Quality journalism is expensive and needs readers to pay for it. Your support will define our work and ThePrint’s future. SUBSCRIBE NOW\n",
       "\n",
       "There are several key issues and consequences to consider in this equation.\n",
       "\n",
       "First and foremost, one may wonder why or how the collapse of a single UN Security Council resolution on a niche subject relates to the bigger picture. It does, for most notably it would be a generational setback for the cause of multilateralism should the Security Council be bullied into torpedoing its own resolution. Unless all powers respect the principles which the Council was created to embody, it cannot perform its duties, nor can any nation acknowledge its authority.\n",
       "\n",
       "We should not forget that the same US regime has fatuously also withdrawn from the WHO amid the worst global <span style=\"background-color: #ffd1d1\"><b>pandem</b></span>ic, but now seeks to lead the WHO reform process, to the chagrin of its closest Western allies.\n",
       "\n",
       "If the US is allowed to continue on this path, the world will slide backwards toward a ‘might makes right’ standard. And while this may sound appealing to Cold Warriors looking for new targets, even that standard has its limits. For both superpowers of the past century witnessed the unraveling of their international influence in their military defeat in Afghanistan, a country with a GDP that is 14 times smaller than Apple Inc.’s annual revenue.\n",
       "\n",
       "Also read: Why the US will not be able to win support of allies for another confrontation with Iran\n",
       "\n",
       "Attempts to replace international law with domestic law\n",
       "\n",
       "We have also seen in past years how the US administration has — in parallel with its assault on international institutions and accords — sought to supplant international law with its own domestic laws. In practice, this has meant that it is now the US Treasury and not European national governments which decides with whom European companies can do business — be it under Resolution 2231 or their own North Stream gas lifeline.\n",
       "\n",
       "While it has so far primarily been the US that has sought to expand the jurisdiction of its domestic laws, there is nothing to suggest that it will retain a monopoly on it. With the opening of this Pandora’s box and with complacency on the part of some national governments, it is not difficult to imagine a future where ordinary citizens and private enterprises alike may end up having to contend with the extra-territorial application of multiple and growing series of domestic laws — debilitating international travel, trade and investment in a retrograde step for our globalised world.\n",
       "\n",
       "Thus, the international community in general — and the UN Security Council in particular face an important decision: do we maintain respect for the rule of law, or do we return to the law of the jungle?\n",
       "\n",
       "While Iran has proven its resilience and decisive response to coercive bullying, I am confident that — in the next few critical weeks and months — members of the Security Council will refute the campaign struggle of a beleaguered US administration to turn what was the diplomatic achievement of the 21st Century into an exercise in futility, and in the process annihilate what is left of multilateralism and international law.\n",
       "\n",
       "(Mohammad Javad Zarif is the Iran foreign minister. Views are personal)\n",
       "\n",
       "Also read: ‘He’ll be okay’ — An unsympathetic Trump said about Modi after Iran oil sanctions\n",
       "\n",
       "Subscribe to our channels on YouTube &amp; Telegram\n",
       "\n",
       "News media is in a crisis &amp; only you can fix it You are reading this because you value good, intelligent and objective journalism. We thank you for your time and your trust. You also know that the news media is facing an unprecedented crisis. It is likely that you are also hearing of the brutal layoffs and pay-cuts hitting the industry. There are many reasons why the media’s economics is broken. But a big one is that good people are not yet paying enough for good journalism. We have a newsroom filled with talented young reporters. We also have the country’s most robust editing and fact-checking team, finest news photographers and video professionals. We are building India’s most ambitious and energetic news platform. And we aren’t even three yet. At ThePrint, we invest in quality journalists. We pay them fairly and on time even in this difficult period. As you may have noticed, we do not flinch from spending whatever it takes to make sure our reporters reach where the story is. Our stellar <span style=\"background-color: #ffd1d1\"><b>corona</b></span>virus coverage is a good example. You can check some of it here. This comes with a sizable cost. For us to continue bringing quality journalism, we need readers like you to pay for it. Because the advertising market is broken too. If you think we deserve your support, do join us in this endeavour to strengthen fair, free, courageous, and questioning journalism, please click on the link below. Your support will define our journalism, and ThePrint’s future. It will take just a few seconds of your time. Support Our Journalism\n",
       "\n",
       "Show Full Article"
      ],
      "text/plain": [
       "<IPython.core.display.HTML object>"
      ]
     },
     "metadata": {},
     "output_type": "display_data"
    },
    {
     "data": {
      "text/html": [
       "<br><br>"
      ],
      "text/plain": [
       "<IPython.core.display.HTML object>"
      ]
     },
     "metadata": {},
     "output_type": "display_data"
    },
    {
     "data": {
      "text/html": [
       "From China Media Project:\n",
       "\n",
       "A new local regulation combating official corruption and abuse of duty in Henan’s capital city of Zhengzhou makes specific mention of watchdog journalism, or “supervision by public opinion” (ËàÜËÆ∫ÁõëÁù£), as a key form of monitoring. An article in today’s official People’s Daily notes with a hint of praise that the legislation “especially singles news media out”, saying “news units should carry out supervision by public opinion on national government personnel” [NOTE: While the Chinese specifies “national” government personnel, this can be understood more generally as “government personnel”, applying to those officials within the jurisdiction of Zhengzhou].[Full Text]"
      ],
      "text/plain": [
       "<IPython.core.display.HTML object>"
      ]
     },
     "metadata": {},
     "output_type": "display_data"
    },
    {
     "data": {
      "text/html": [
       "<br><br>"
      ],
      "text/plain": [
       "<IPython.core.display.HTML object>"
      ]
     },
     "metadata": {},
     "output_type": "display_data"
    },
    {
     "data": {
      "text/html": [
       "THE SISTER of slain tech CEO Fahim Saleh has spoken of her family’s “piercing pain” after his gruesome decapitation.\n",
       "\n",
       "Ruby Angela Saleh reveals in a letter that funeral directors had to sew his head and limbs back onto his body for the service.\n",
       "\n",
       "Saleh, the CEO of the Nigerian ride-hailing motorcycle app Gokada, was found dead in his New York City apartment last month after his former assistant, 21-year-old Tyrese Haspil, allegedly decapitated him.\n",
       "\n",
       "9 Fahim Saleh, left, with sisters Ruby and Rif\n",
       "\n",
       "9 Fahim Saleh and members of his family in an undated Facebook photo Credit: Facebook/Jay Ce\n",
       "\n",
       "9 Fahim Saleh, center, with sisters Ruby Saleh, right, and Rif Saleh, second-right Credit: Facebook/Jay Ce\n",
       "\n",
       "Ruby, who organized her brother’s funeral, wrote in the Medium post that the funeral home called three days before his burial to say that his limbs and head would not be able to be reattached.\n",
       "\n",
       "“Upon receiving that news, I closed my eyes and crossed my arms over my chest like a Pharaoh, squeezing my phone against my body. My hands formed fists that I pushed into my heart with all my strength to contain my pain,&quot; she wrote.\n",
       "\n",
       "Ruby said she requested funeral directors arrange his body parts in their proper places within the casket for the viewing.\n",
       "\n",
       "Luckily, the man called back a day before the burial with good news – her brother&#x27;s body had been reassembled.\n",
       "\n",
       "9 Ruby Saleh also uploaded a video and said her family want justice\n",
       "\n",
       "“My family and I looked at our sweet boy’s face in the casket. He seemed to be sleeping peacefully. His body was covered in a white sheet, ice packs placed on his torso, his beautiful eyelashes long and lustrous against his skin,” Ruby wrote.\n",
       "\n",
       "She revealed that she first heard about her brother&#x27;s death when her aunt called at 10:47 p.m. on July 14 while Ruby was in bed with her husband.\n",
       "\n",
       "“My shoulders stiffened while the rest of my body went limp. Maybe one of my parents had <span style=\"background-color: #ffd1d1\"><b>COVID</b></span>?” Saleh recounted.\n",
       "\n",
       "She said that when her aunt gave the horrific news, the “words didn’t make sense.”\n",
       "\n",
       "9 Fahim Saleh was found butchered in his Lower East Side apartment Credit: Instagram\n",
       "\n",
       "9 A view of the outside of Fahim Saleh&#x27;s apartment where he was found brutally murdered Credit: AP:Associated Press\n",
       "\n",
       "“I dropped the phone and crawled onto the wooden floor, touching its cold, hard surface with the palms of my hands,” Ruby said in the tear-jerking letter.\n",
       "\n",
       "She also revealed that her brother&#x27;s dismembered torso had been found by their cousin, named as “A,” after the family hadn’t heard from him in a while.\n",
       "\n",
       "“Someone had cut my brother’s body into pieces and tossed the pieces into a garbage bag, as if his life, his body, his existence had had no meaning or value,” Ruby wrote.\n",
       "\n",
       "The heartbroken sister, who wrote that she “felt more like a mother to Fahim,” added that the family tried to keep as much of the tragic news from her parents as possible including the moments his lifeless body had to be identified with authorities.\n",
       "\n",
       "9 Tyrese Devon Haspil, 21, is accused of beheading Fahim Saleh Credit: Twitter\n",
       "\n",
       "9 Tyrese Haspil, the suspect in the murder of Fahim Saleh, is escorted by police Credit: Reuters\n",
       "\n",
       "The funeral home had called Ruby to tell her that because of the <span style=\"background-color: #ffd1d1\"><b>corona</b></span>virus <span style=\"background-color: #ffd1d1\"><b>pandem</b></span>ic, Fahim’s body would have to be identified by photo.\n",
       "\n",
       "Ruby, her sister and cousin gathered around their computer to open the email attachment.\n",
       "\n",
       "&quot;I felt nauseated,&quot; she wrote.\n",
       "\n",
       "“My father heard our cries and knocked on the door, asking what was going on. We quickly shut the computer, wiped our faces, and told him we were fine.&quot;\n",
       "\n",
       "“We could never tell him what we had seen.”\n",
       "\n",
       "Ruby said that since his death, their father, an immigrant from Bangladesh, spends his days sitting next to Fahim’s dog Laila while watching videos about his son while her mom spends the day crying.\n",
       "\n",
       "In a new video, Ruby cries as she says: &quot;It doesn&#x27;t feel like life can ever be joyful again.&quot;\n",
       "\n",
       "&quot;My last ask is, if you’re someone’s sister, the next time you see your brother please hug him as tightly as you can for as long as you want because that’s all I want to do,&quot; she says in the video.\n",
       "\n",
       "&quot;But I’ll never be able to hug Fahim again.&quot;\n",
       "\n",
       "Ruby said her family will do everything in its power to keep Fahim&#x27;s memory alive &quot;and keep his visions going.&quot;\n",
       "\n",
       "&quot;My family and I are in such shock and debilitating pain.&quot;\n",
       "\n",
       "9 Fahim Saleh with sister Rif Credit: Facebook/Jay Ce\n",
       "\n",
       "“Thanksgiving, our family’s favorite holiday, will be especially difficult this year. Fahim always made the garlic mashed potatoes, while I made the stuffing and my sister made her famous mac and cheese,” she recounted.\n",
       "\n",
       "Ruby wrote that her brother’s brain “was a bottomless magic hat of ideas” that helped ease the family’s financial burden after their father was forced to retire from his job as a computer programmer.\n",
       "\n",
       "“Having come from so little, Fahim had zero interest in being a rich entrepreneur who only hung out with other rich entrepreneurs. His heart was most open to those in need,” she wrote.\n",
       "\n",
       "Most read in News SICK VID Calls for Rick &amp; Morty to be AXED over vid of creator pretending to rape baby doll FACING JUSTICE Husband &#x27;bludgeoned his secret porn-star wife to death with absinthe bottle&#x27; DESPERATE Thousands of cars form line for Dallas food bank amid virus unemployment crisis WILD CLAIMS Trump saw ‘golden showers in sex club’ &amp; ‘cheated in election’, Cohen claims TIKTOK SELL-OFF Trump orders TikTok&#x27;s Chinese owners to sell off US operations in 90 days &#x27;SCARFACE&#x27; Harry &amp; Meg&#x27;s $14m home was owned by Russian tycoon &#x27;who threatened to chop ex&#x27;\n",
       "\n",
       "Haspil has since pleaded not guilty in Fahim&#x27;s murder – even after video emerged showing the personal assistant buying a saw that authorities believed was used to butcher him.\n",
       "\n",
       "His aunt Marjorie Sine described her nephew as &quot;sometimes troublesome&quot; and revealed he had a &quot;difficult childhood&quot;.\n",
       "\n",
       "Court records show that Haspil is being defended by Legal Aid lawyers and is scheduled to appear in court again on Aug. 19."
      ],
      "text/plain": [
       "<IPython.core.display.HTML object>"
      ]
     },
     "metadata": {},
     "output_type": "display_data"
    },
    {
     "data": {
      "text/html": [
       "<br><br>"
      ],
      "text/plain": [
       "<IPython.core.display.HTML object>"
      ]
     },
     "metadata": {},
     "output_type": "display_data"
    },
    {
     "data": {
      "text/html": [
       "His Majesty King Hamad received a cable of thanks from Yemeni Ambassador Dr Ali Hassan Al Ahmadi, in reply to his cable of condolences for deceased Yemeni citizens residing in Bahrain of <span style=\"background-color: #ffd1d1\"><b>corona</b></span>virus. The ambassador expressed his deep appreciation to His Majesty’s good feelings, and the Bahraini government for the care extended to residents in the kingdom ."
      ],
      "text/plain": [
       "<IPython.core.display.HTML object>"
      ]
     },
     "metadata": {},
     "output_type": "display_data"
    },
    {
     "data": {
      "text/html": [
       "<br><br>"
      ],
      "text/plain": [
       "<IPython.core.display.HTML object>"
      ]
     },
     "metadata": {},
     "output_type": "display_data"
    },
    {
     "data": {
      "text/html": [
       "Political traditions\n",
       "\n",
       "It has been a tradition of the French Fifth Republic, whose 42nd government in just 62 years was established in early July, that when things are going badly for a president, the scapegoat is his prime minister. Indeed, there has been such an inevitability to this sequence of events over the years that one begins to wonder why anyone takes the job. To be booted out for your own incompetence is something many officials can just about reconcile themselves to, at least eventually; to be fired on account of somebody else’s, even in the ultra-cynical world of politics, is a bitter business indeed.\n",
       "\n",
       "It takes an arrogant, or supremely self-confident, president to ignore this tradition, and not to use the opportunity presented by a reshuffle to look tough and innovative by putting in a new man or woman as managing director to your own chief executive. Nicolas Sarkozy, inevitably, was one such man. He kept the same prime minister for the whole of his quinquennat, even though he and that man often had a combustible relationship, and the latter now and again threatened to walk out.\n",
       "\n",
       "Also, his prime minister was often more popular than he was, gave the impression of being more competent and even, most of the time, being more honest. Ironically, as many of you will recall, that prime minister was François Fillon, who now awaits the judgment of France’s court of appeal before discovering whether or not he will soon gain first-hand experience of the country’s penal system. However, it is doubtful Sarko would have won had he changed that particular horse in mid-stream: his presidency, not least because of his often emetic character, was flawed beyond rescue by any mere prime minister.\n",
       "\n",
       "François Hollande, however, reinstituted the tradition, getting through three premiers in his five chaotic years in the Elysée Palace; and just over three years into his presidency Emmanuel Macron too has succumbed, replacing Edouard Philippe with Jean Castex. M Philippe returns to Le Havre as mayor, the post he held for seven years before going to Matignon.\n",
       "\n",
       "He did the best possible job he could as prime minister, faced with a president whose idealist approach to politics turned out to be easier to execute in theory than in practice, and who was forced into various compromises, U-turns and even the occasional unwelcome act of coercion, forcing measures through the legislature that it was otherwise determined not to pass.\n",
       "\n",
       "French PM announces new crime-fighting measures\n",
       "\n",
       "An overhaul brewing\n",
       "\n",
       "M Macron’s pop-up party of 2017, La République en Marche, has in recent months haemorrhaged not only notional support in the country, as governments do in mid-term, but has also lost support in the Assemblée Nationale. Even more worrying for M. Macron will have been the suggestion that M. Philippe, a more technocratic figure, with more charm than that label suggests but without a personality cult, was more widely liked by French voters than the president was. In such circumstances but one course of action was feasible: M Philippe had to go. This had been brewing for months; M Philippe signalled his intention to contest the Le Havre mayoralty at the end of January.\n",
       "\n",
       "M Castex is a different proposition. Like his predecessor his roots are on the right, as a former member of Les Républicains, which will only confirm the suspicions many LREM activists harbour that M Macron is determined to move his party in that direction, either pushing Les Républicains so far to the right themselves that they become unelectable, or replacing that party altogether. In French politics, such things are easily possible.\n",
       "\n",
       "M Castex, as his surname might suggest, is a Catalan, and from the opposite end of the Hexagon to M Philippe: for 12 years before his elevation he was Mayor of Prades, just inland from Perpignan, a few miles from the Spanish border; he was born in the deep south, but much further east, at Vic-Fezensac, not far from Pau.\n",
       "\n",
       "M Castex has had a distinguished bureaucratic career that began in the nurseries of Sciences-Po and ENA; he served as a ministerial chief of staff during the Sarkozy years and was called in during April by M Macron to design France’s programme to get out of <span style=\"background-color: #ffd1d1\"><b>lockdown</b></span> after the Covid-19 crisis – a responsibility that, if France endures a second spike of the disease, could yet come back to haunt him.\n",
       "\n",
       "But M Castex landed that job because he was regarded as a safe pair of hands; and for the same reason he became prime minister. Charisma, at least in his interface with the general public, does not appear to be his strong suit. He has a long civil service background – he sat for the years on the Cour des Comptes, or Court of Audit, examining the efficiency of government departments, and even if he is dull he is far from stupid or inexperienced. What he will not do is distract attention, in the run-up to the 2022 election, from a president seeking re-election; but M Macron hope to be able to rely on him to keep matters in government under control while he seeks a second mandate.\n",
       "\n",
       "French politics explained: which party is the &#x27;Opposition&#x27; in current politics?\n",
       "\n",
       "Covid-19-induced economic crisis\n",
       "\n",
       "That, though, is likely to be a tall order. Because of the Covid-19 <span style=\"background-color: #ffd1d1\"><b>pandem</b></span>ic France faces its worst economic crisis since the Fourth Republic, and quite possibly since the Third. Some very hard decisions will have to be taken about public spending that are likely to compound the sense of despair and bewilderment brought on by private sector job losses.\n",
       "\n",
       "It remains to be seen whether an ultra-technocrat such as M Castex has the political skill to present such unpleasant news to the people of France without destabilising M Macron. With Rachida Dati now circling and Marine Le Pen increasingly vocal, the fight in 2022 promises to be less predictable than many have thought. M Castex may find the task ahead beyond even his indubitable level of competence."
      ],
      "text/plain": [
       "<IPython.core.display.HTML object>"
      ]
     },
     "metadata": {},
     "output_type": "display_data"
    },
    {
     "data": {
      "text/html": [
       "<br><br>"
      ],
      "text/plain": [
       "<IPython.core.display.HTML object>"
      ]
     },
     "metadata": {},
     "output_type": "display_data"
    },
    {
     "data": {
      "text/html": [
       "The Socio-Economic Rights Institute (Seri) has argued that poor leadership and weak levels of police accountability persist despite the lessons presented by the Marikana massacre.\n",
       "\n",
       "JOHANNESBURG - With eight years having passed since the Marikana massacre where 34 striking mineworkers were killed by the police, there remain several unimplemented recommendations made by the Farlam Commission.\n",
       "\n",
       "Despite the commission being appointed by then-President Jacob Zuma to investigate matters of public, national and international concern arising out of the massacre, government is yet to effect some of the corrective steps it was advised to implement.\n",
       "\n",
       "The commission chaired by retired Judge Ian Farlam was required to probe the tragic events which took place between 11 and 16 August.\n",
       "\n",
       "It ordered that there be an investigation into what transpired at what is now known as the Second Koppie or Scene Two where 17 mineworkers were killed.\n",
       "\n",
       "The commission expressed an inability to discern what could have taken place, with reports that police shot at the workers at close range, with some arguing that they were surrendering when their colleagues were shot.\n",
       "\n",
       "However, it recommended that a team headed by a senior state advocate should investigate what happened there.\n",
       "\n",
       "Themba Masuku is the program director at the African Policing Civilian Oversight Forum (Apcof).\n",
       "\n",
       "He said that the Independent Police Investigative Directorate (Ipid) has claimed not to have funds to conduct the investigations since the recommendation was made.\n",
       "\n",
       "&quot;It&#x27;s a complete travesty of justice that 34 miners lost their lives and those that were culpable are likely not going to held accountable simply because the investigations were never completed.&quot;\n",
       "\n",
       "The commission also recommended that Lonmin should comply with the housing obligations under the social and labour plans.\n",
       "\n",
       "In its 2018 report, Lonmin said that it had developed modern housing facilities, investing R520 million into the project. It had committed a further R420 million then.\n",
       "\n",
       "However, most of the mineworkers still live in squalor at the nearby Nkaneng informal settlement.\n",
       "\n",
       "JUSTICE FOR MASSACRE VICTIMS\n",
       "\n",
       "The Socio-Economic Rights Institute (Seri) has called for justice for the victims of the Marikana massacre and their families, saying that the state should put more effort into holding those responsible to account.\n",
       "\n",
       "However, this is unlikely to happen anytime soon, with many police investigations, which were meant to be carried out to collect evidence of the murders, stillborn.\n",
       "\n",
       "Seri has argued that poor leadership and weak levels of police accountability persist despite the lessons presented by the Marikana massacre.\n",
       "\n",
       "A total of 44 people died during the unrest at Lonmin’s Marikana mine.\n",
       "\n",
       "Ten died in the preceding week, including two police officers and two security guards, while 34 mineworkers were gunned down by the police during the strike for wage increases.\n",
       "\n",
       "Yet, eight years later, the murders of Mgcineni Noki, Molefi Ntsoele, Fezile Saphendu, Jackson Lehura, Henry Pato and others remain unsolved.\n",
       "\n",
       "Seri’s senior attorney Zamatungwa Khumalo: &quot;While the families of the mineworkers continue to wait for justice, exessive use of force and brutality by the police still persists. Locally, during the <span style=\"background-color: #ffd1d1\"><b>COVID</b></span>-19 national <span style=\"background-color: #ffd1d1\"><b>lockdown</b></span>, SOuth Africa witnessed heavy-handed law enforcement by various law enforcement bodies.&quot;\n",
       "\n",
       "Since 2012, only nine police officers have been prosecuted for the deaths of three striking mineworkers and two police officers.\n",
       "\n",
       "Download the EWN app to your iOS or Android device."
      ],
      "text/plain": [
       "<IPython.core.display.HTML object>"
      ]
     },
     "metadata": {},
     "output_type": "display_data"
    },
    {
     "data": {
      "text/html": [
       "<br><br>"
      ],
      "text/plain": [
       "<IPython.core.display.HTML object>"
      ]
     },
     "metadata": {},
     "output_type": "display_data"
    },
    {
     "data": {
      "text/html": [
       "Wilmington, DE (19810)\n",
       "\n",
       "Today\n",
       "\n",
       "Overcast with rain showers at times. High around 80F. Winds E at 5 to 10 mph. Chance of rain 60%..\n",
       "\n",
       "Tonight\n",
       "\n",
       "A few showers early becoming a steady rain overnight. Low 68F. Winds ENE at 5 to 10 mph. Chance of rain 70%."
      ],
      "text/plain": [
       "<IPython.core.display.HTML object>"
      ]
     },
     "metadata": {},
     "output_type": "display_data"
    },
    {
     "data": {
      "text/html": [
       "<br><br>"
      ],
      "text/plain": [
       "<IPython.core.display.HTML object>"
      ]
     },
     "metadata": {},
     "output_type": "display_data"
    }
   ],
   "source": [
    "for classifier in classifiers:\n",
    "    print(classifier)\n",
    "\n",
    "    predicted = classifier.predict(x_test)\n",
    "    false_positive = (predicted == True) & (labels == False)\n",
    "\n",
    "    for index, row in df_test[false_positive].head(10).iterrows():\n",
    "        display(HTML(markup(html.escape(row['text']))))\n",
    "        display(HTML('<br><br>'))"
   ]
  }
 ],
 "metadata": {
  "kernelspec": {
   "display_name": "Python 3",
   "language": "python",
   "name": "python3"
  },
  "language_info": {
   "codemirror_mode": {
    "name": "ipython",
    "version": 3
   },
   "file_extension": ".py",
   "mimetype": "text/x-python",
   "name": "python",
   "nbconvert_exporter": "python",
   "pygments_lexer": "ipython3",
   "version": "3.7.10"
  }
 },
 "nbformat": 4,
 "nbformat_minor": 4
}
